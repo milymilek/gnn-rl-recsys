{
 "cells": [
  {
   "cell_type": "code",
   "execution_count": 1,
   "id": "3c54b140-d3be-4ec9-b14b-830f4973ee46",
   "metadata": {
    "tags": []
   },
   "outputs": [
    {
     "name": "stdout",
     "output_type": "stream",
     "text": [
      "C:\\Users\\Milosz\\Desktop\\python\\thesis-recsys\n"
     ]
    }
   ],
   "source": [
    "%load_ext autoreload\n",
    "%autoreload 2\n",
    "\n",
    "import os\n",
    "os.chdir(\"../../\")\n",
    "print(os.getcwd())"
   ]
  },
  {
   "cell_type": "code",
   "execution_count": 2,
   "id": "6088f9e4-ec83-4cf4-ae00-daf1ca67ff01",
   "metadata": {
    "tags": []
   },
   "outputs": [],
   "source": [
    "import pandas as pd\n",
    "import numpy as np\n",
    "import functools\n",
    "import operator\n",
    "import json\n",
    "import matplotlib.pyplot as plt\n",
    "from tqdm import tqdm\n",
    "\n",
    "import torch_geometric\n",
    "import torch_geometric.transforms as T\n",
    "from torch_geometric import nn\n",
    "from torch_geometric.sampler import NegativeSampling\n",
    "from torch_geometric.loader import LinkNeighborLoader, NeighborLoader\n",
    "from torch_geometric.data import HeteroData\n",
    "import torch\n",
    "import torch.nn.functional as F\n",
    "from torch.utils.tensorboard import SummaryWriter\n",
    "\n",
    "from sklearn.metrics import roc_auc_score, confusion_matrix, ConfusionMatrixDisplay\n",
    "from sklearn.preprocessing import StandardScaler\n",
    "\n",
    "from src.utils import *\n",
    "\n",
    "torch.set_printoptions(precision=2, sci_mode=False)"
   ]
  },
  {
   "cell_type": "code",
   "execution_count": 3,
   "id": "61b1cb33-ac35-48ba-a79e-a767cc484294",
   "metadata": {
    "tags": []
   },
   "outputs": [
    {
     "name": "stdout",
     "output_type": "stream",
     "text": [
      "cuda\n"
     ]
    }
   ],
   "source": [
    "device = 'cuda' if torch.cuda.is_available() else 'cpu'\n",
    "print(device)"
   ]
  },
  {
   "cell_type": "code",
   "execution_count": 4,
   "id": "f01239d3-c585-4932-b5ca-af44663d2bf3",
   "metadata": {
    "tags": []
   },
   "outputs": [],
   "source": [
    "app_meta = load_data_from_csv(\"data/graph_app_tags_stacked.csv\")"
   ]
  },
  {
   "cell_type": "code",
   "execution_count": 5,
   "id": "bf8f8063-a024-4063-926d-66a4f6fa3296",
   "metadata": {
    "tags": []
   },
   "outputs": [
    {
     "name": "stderr",
     "output_type": "stream",
     "text": [
      "C:\\Users\\Milosz\\AppData\\Local\\Temp\\ipykernel_1532\\612704181.py:3: FutureWarning: iteritems is deprecated and will be removed in a future version. Use .items instead.\n",
      "  for i, (_, x) in enumerate(app_meta['tags_id'].iteritems()):\n"
     ]
    }
   ],
   "source": [
    "app_features = np.zeros((1797, 425), dtype=np.float32)\n",
    "\n",
    "for i, (_, x) in enumerate(app_meta['tags_id'].iteritems()):\n",
    "    x = np.fromstring(x[1:-1], dtype=int, sep=',')\n",
    "    app_features[i, x] = 1"
   ]
  },
  {
   "cell_type": "code",
   "execution_count": null,
   "id": "da4c06c4-65fe-4068-869d-906f41dac1f1",
   "metadata": {},
   "outputs": [],
   "source": [
    "#app_features = load_data_from_csv(\"data/graph_app_features.csv\")"
   ]
  },
  {
   "cell_type": "code",
   "execution_count": null,
   "id": "0dcb4de2-6119-4ca7-9474-45485d969806",
   "metadata": {},
   "outputs": [],
   "source": [
    "# real_cols = ['positive_ratio', 'user_reviews', 'price_final', 'price_original', 'discount']\n",
    "\n",
    "# scaler = StandardScaler()\n",
    "# app_features_norm = scaler.fit_transform(app_features[real_cols].numpy())"
   ]
  },
  {
   "cell_type": "code",
   "execution_count": null,
   "id": "c2c60d2a-7857-40a1-b067-074fbaeb3991",
   "metadata": {},
   "outputs": [],
   "source": []
  },
  {
   "cell_type": "code",
   "execution_count": 6,
   "id": "d193917e-f51a-44d3-b308-3287883a2d37",
   "metadata": {
    "tags": []
   },
   "outputs": [],
   "source": [
    "def load_graph(df: pd.DataFrame, n_users: int, n_items: int) -> HeteroData:\n",
    "    \"\"\"\n",
    "    Loads a graph data structure from a pandas DataFrame.\n",
    "    \n",
    "    Parameters:\n",
    "        - df (pd.DataFrame): The input DataFrame containing the graph data.\n",
    "\n",
    "    Returns:\n",
    "        - HeteroData: A heterogeneous graph data object representing the input graph.\n",
    "\n",
    "    Example:\n",
    "        >>> import pandas as pd\n",
    "        >>> df = pd.DataFrame({'user_id': [1, 2, 3], 'app_id': [4, 5, 6], 'is_recommended': [1, 0 ,1]})\n",
    "        >>> graph = load_graph(df)\n",
    "    \"\"\"\n",
    "    \n",
    "    data = HeteroData()\n",
    "    \n",
    "    data['user'].x = torch.ones(n_users, 1)\n",
    "    #data['app'].x = torch.ones(n_items, 1)\n",
    "    data['app'].x = torch.from_numpy(app_features)\n",
    "    \n",
    "    edge_index = torch.tensor([df['user_id'].values, df['app_id'].values])\n",
    "    edge_label = torch.tensor(df['is_recommended'].values)\n",
    "\n",
    "    data['user', 'recommends', 'app'].edge_index = edge_index\n",
    "    data['user', 'recommends', 'app'].edge_label = edge_label\n",
    "    \n",
    "    return data"
   ]
  },
  {
   "cell_type": "code",
   "execution_count": 7,
   "id": "1ab557b2-f497-4e84-9e43-7c9524094b49",
   "metadata": {
    "tags": []
   },
   "outputs": [],
   "source": [
    "def transform_graph(data: HeteroData) -> HeteroData:\n",
    "    \"\"\"\n",
    "    Applies a transformation to a heterogeneous graph data object.\n",
    "\n",
    "    Parameters:\n",
    "        data: The input graph data object to be transformed.\n",
    "\n",
    "    Returns:\n",
    "        HeteroData: A new heterogeneous graph data object resulting from the transformation.\n",
    "\n",
    "    Example:\n",
    "        >>> transformed_data = transform_graph(data)\n",
    "    \"\"\"\n",
    "    transform = T.Compose([T.ToUndirected()])\n",
    "    return transform(data)"
   ]
  },
  {
   "cell_type": "code",
   "execution_count": 8,
   "id": "f021d96a-e872-40ee-96f8-d0e6fced058f",
   "metadata": {
    "tags": []
   },
   "outputs": [],
   "source": [
    "def init_edge_loader(data: HeteroData, **kwargs) -> NeighborLoader:\n",
    "    \"\"\"\n",
    "    Initializes a neighbor loader for edge-based data in a heterogeneous graph.\n",
    "    Firstly we sample `batch_size` edges and then sample at most `num_neighbors[0]`\n",
    "    neighboring edges at first hop and at most `num_neighbors[1]` at second hop. \n",
    "    Value returned by next(iter(loader)) is a subgraph of `data` graph containing\n",
    "    only sampled edges and congruent nodes.\n",
    "\n",
    "    Args:\n",
    "        data (HeteroData): The input heterogeneous graph data object.\n",
    "        **kwargs: Additional keyword arguments for configuring the loader.\n",
    "\n",
    "    Returns:\n",
    "        NeighborLoader: A neighbor loader for the specified edge-based data.\n",
    "\n",
    "    Example:\n",
    "        >>> loader = init_edge_loader(data, num_neighbors=5, neg_sampl=0.2, bs=32, shuffle=True)\n",
    "    \"\"\"\n",
    "    \n",
    "    eli = (('user', 'recommends', 'app'), data['user', 'recommends', 'app'].edge_index)\n",
    "    el = data['user', 'recommends', 'app'].edge_label\n",
    "    \n",
    "    loader = LinkNeighborLoader(\n",
    "        data=data,\n",
    "        num_neighbors=kwargs['num_neighbors'],\n",
    "        neg_sampling_ratio=kwargs['neg_sampl'],\n",
    "        edge_label_index=eli,\n",
    "        edge_label=el,\n",
    "        batch_size=kwargs['bs'],\n",
    "        shuffle=kwargs['shuffle'],\n",
    "    )\n",
    "    return loader"
   ]
  },
  {
   "cell_type": "code",
   "execution_count": 9,
   "id": "13ad4a4e-0cf3-48e2-8430-a8ab1d1ec82f",
   "metadata": {
    "tags": []
   },
   "outputs": [],
   "source": [
    "train_df = load_data_from_csv(\"data/graph_train.csv\")\n",
    "test_df = load_data_from_csv(\"data/graph_test.csv\")"
   ]
  },
  {
   "cell_type": "code",
   "execution_count": 10,
   "id": "98fa8686-ba39-4d12-ba3a-eea65d568787",
   "metadata": {
    "tags": []
   },
   "outputs": [
    {
     "name": "stderr",
     "output_type": "stream",
     "text": [
      "C:\\Users\\Milosz\\AppData\\Local\\Temp\\ipykernel_1532\\4070841878.py:23: UserWarning: Creating a tensor from a list of numpy.ndarrays is extremely slow. Please consider converting the list to a single numpy.ndarray with numpy.array() before converting to a tensor. (Triggered internally at ..\\torch\\csrc\\utils\\tensor_new.cpp:233.)\n",
      "  edge_index = torch.tensor([df['user_id'].values, df['app_id'].values])\n"
     ]
    }
   ],
   "source": [
    "n_users, n_items = train_df.user_id.nunique(), train_df.app_id.nunique()\n",
    "\n",
    "train_data = load_graph(train_df, n_users, n_items)\n",
    "test_data = load_graph(test_df, n_users, n_items)"
   ]
  },
  {
   "cell_type": "code",
   "execution_count": 11,
   "id": "5139fc1b-1268-435f-a762-99d1b2baac0d",
   "metadata": {
    "tags": []
   },
   "outputs": [],
   "source": [
    "train_data = transform_graph(train_data)\n",
    "test_data = transform_graph(test_data)"
   ]
  },
  {
   "cell_type": "code",
   "execution_count": 12,
   "id": "6a2e25ac-9602-460e-a0ee-6c6bb6e2dcca",
   "metadata": {
    "tags": []
   },
   "outputs": [],
   "source": [
    "train_loader = init_edge_loader(train_data, num_neighbors=[20, 10], neg_sampl=1.0, bs=1024, shuffle=True, drop_last=True)\n",
    "test_loader = init_edge_loader(test_data, num_neighbors=[20, 10], neg_sampl=1.0, bs=256, shuffle=False, drop_last=True)"
   ]
  },
  {
   "cell_type": "code",
   "execution_count": null,
   "id": "d8a5ef34-ea3a-4e1e-b23e-160b41c77b08",
   "metadata": {
    "tags": []
   },
   "outputs": [],
   "source": [
    "# Dataloader:\n",
    "#  - user: x->attributes of sampled nodes, n_id->mapping of sampled nodes to ids from whole graph\n",
    "#  - app: x->attributes of sampled nodes, n_id->mapping of sampled nodes to ids from whole graph\n",
    "#  - (user recommends app): \n",
    "#      edge_index -> sampled edges with batch ids with neighbors\n",
    "#      edge_label -> labels of edges which will be evaluated, size of batch size\n",
    "#      e_id -> mapping of sampled edges to ids from whole graph, refers to ?????\n",
    "#      input_id -> mapping of sampled edges to ids from whole graph, refers to edge_label_index\n",
    "#      edge_label_index -> edge index, ids of nodes in sampled graph which will be evaluated\n",
    "\n",
    "\n",
    "# To validate nodes first get sampled nodes ids from edge_label_index, then map them to whole graph\n",
    "# using n_ids of user and app and then check if such edge exists in dataframe"
   ]
  },
  {
   "cell_type": "code",
   "execution_count": null,
   "id": "82565a81-f756-420f-b2df-c173eeaf9056",
   "metadata": {},
   "outputs": [],
   "source": [
    "def train_fn(train_data: HeteroData, test_data: HeteroData):\n",
    "    pass"
   ]
  },
  {
   "cell_type": "code",
   "execution_count": 62,
   "id": "e776c55a-8ac9-4a99-82d3-efc6511f724f",
   "metadata": {
    "tags": []
   },
   "outputs": [],
   "source": [
    "class GNN(torch.nn.Module):\n",
    "    def __init__(self, hidden_channels, out_channels):\n",
    "        super().__init__()\n",
    "        self.conv1 = nn.SAGEConv((hidden_channels, hidden_channels), hidden_channels, normalize=True)\n",
    "        self.conv2 = nn.SAGEConv((hidden_channels, hidden_channels), out_channels, normalize=False)\n",
    "        \n",
    "    def forward(self, x, edge_index):\n",
    "        x = self.conv1(x, edge_index).relu()\n",
    "        x = self.conv2(x, edge_index)\n",
    "        return x\n",
    "    \n",
    "    \n",
    "class Classifier(torch.nn.Module):\n",
    "    def forward(self, x_user, x_app, edge_label_index):\n",
    "        x_user = x_user[edge_label_index[0]]\n",
    "        x_app = x_app[edge_label_index[1]]\n",
    "        return (x_user * x_app).sum(dim=-1)\n",
    "\n",
    "\n",
    "class Model(torch.nn.Module):\n",
    "    def __init__(self, hidden_channels, out_channels, metadata):\n",
    "        super().__init__()\n",
    "        \n",
    "        self.user_emb = torch.nn.Embedding(n_users, hidden_channels)\n",
    "        self.app_emb = torch.nn.Embedding(n_items, hidden_channels)\n",
    "        self.app_lin = torch.nn.Linear(425, hidden_channels)\n",
    "        \n",
    "        self.gnn = GNN(hidden_channels=hidden_channels, out_channels=out_channels)\n",
    "        self.gnn = nn.to_hetero(self.gnn, metadata=metadata, aggr='sum')\n",
    "        \n",
    "        self.clf = Classifier()\n",
    "        \n",
    "    def forward(self, batch):  \n",
    "        x_dict = {\n",
    "          \"user\": self.user_emb(batch['user'].n_id),\n",
    "          \"app\": self.app_emb(batch['app'].n_id) + self.app_lin(batch['app'].x),\n",
    "        } \n",
    "        \n",
    "        x_dict = self.gnn(x_dict, batch.edge_index_dict)\n",
    "        pred = self.clf(\n",
    "            x_dict[\"user\"],\n",
    "            x_dict[\"app\"],\n",
    "            batch['user', 'recommends', 'app'].edge_label_index,\n",
    "        )\n",
    "        return pred\n",
    "    \n",
    "    def evaluate(self, batch):\n",
    "        x_dict = {\n",
    "          \"user\": self.user_emb(batch['user'].n_id),\n",
    "          \"app\": self.app_emb(batch['app'].n_id) + self.app_lin(batch['app'].x),\n",
    "        } \n",
    "\n",
    "        x_dict = self.gnn(x_dict, batch.edge_index_dict)\n",
    "\n",
    "        return x_dict\n",
    "\n",
    "def xavier_init(m):\n",
    "    if isinstance(m, torch.nn.Linear) or isinstance(m, torch_geometric.nn.dense.linear.Linear):\n",
    "        torch.nn.init.xavier_normal_(m.weight, gain=1.41)\n",
    "        if m.bias is not None:\n",
    "            torch.nn.init.zeros_(m.bias)\n",
    "    \n",
    "model = Model(hidden_channels=32, out_channels=32, metadata=train_data.metadata())\n",
    "model.apply(xavier_init)\n",
    "model = model.to(device)"
   ]
  },
  {
   "cell_type": "code",
   "execution_count": 63,
   "id": "47fbd4af-954d-4dc7-9c6d-9352138dc066",
   "metadata": {
    "tags": []
   },
   "outputs": [
    {
     "name": "stdout",
     "output_type": "stream",
     "text": [
      "+-------------------------------------------------+------------------------------------+----------------+-------------+\n",
      "| Layer                                           | Input Shape                        | Output Shape   | #Param      |\n",
      "|-------------------------------------------------+------------------------------------+----------------+-------------|\n",
      "| Model                                           | [26051, 26051]                     | [2048]         | 165,196,384 |\n",
      "| ├─(user_emb)Embedding                           | [24326]                            | [24326, 32]    | 165,116,928 |\n",
      "| ├─(app_emb)Embedding                            | [1725]                             | [1725, 32]     | 57,504      |\n",
      "| ├─(app_lin)Linear                               | [1725, 425]                        | [1725, 32]     | 13,632      |\n",
      "| ├─(gnn)GraphModule                              |                                    |                | 8,320       |\n",
      "| │    └─(conv1)ModuleDict                        | --                                 | --             | 4,160       |\n",
      "| │    │    └─(user__recommends__app)SAGEConv     | [2, 22614]                         | [1725, 32]     | 2,080       |\n",
      "| │    │    └─(app__rev_recommends__user)SAGEConv | [2, 77233]                         | [24326, 32]    | 2,080       |\n",
      "| │    └─(conv2)ModuleDict                        | --                                 | --             | 4,160       |\n",
      "| │    │    └─(user__recommends__app)SAGEConv     | [2, 22614]                         | [1725, 32]     | 2,080       |\n",
      "| │    │    └─(app__rev_recommends__user)SAGEConv | [2, 77233]                         | [24326, 32]    | 2,080       |\n",
      "| ├─(clf)Classifier                               | [24326, 32], [1725, 32], [2, 2048] | [2048]         | --          |\n",
      "+-------------------------------------------------+------------------------------------+----------------+-------------+\n"
     ]
    }
   ],
   "source": [
    "print(nn.summary(model, next(iter(train_loader)).to(device)))"
   ]
  },
  {
   "cell_type": "code",
   "execution_count": 64,
   "id": "396ceead-7335-4af4-a015-3377d330d299",
   "metadata": {},
   "outputs": [],
   "source": [
    "criterion = torch.nn.BCEWithLogitsLoss()\n",
    "#optimizer = torch.optim.Adam(params=model.parameters(), lr=1e-2)\n",
    "#optimizer = torch.optim.SGD(params=model.parameters(), lr=1e-1, momentum=0.9)\n",
    "optimizer = torch.optim.RMSprop(params=model.parameters(), lr=0.01, momentum=0.9)\n",
    "#writer = SummaryWriter()"
   ]
  },
  {
   "cell_type": "code",
   "execution_count": 65,
   "id": "beb6713e-13af-4409-982a-6c041888c2f3",
   "metadata": {
    "tags": []
   },
   "outputs": [],
   "source": [
    "def train(n_epochs, print_loss=500):\n",
    "    model.train()\n",
    "    \n",
    "    for epoch in range(n_epochs):\n",
    "        running_loss = 0.\n",
    "        for i_batch, batch in enumerate(tqdm(train_loader)):\n",
    "            batch = batch.to(device)\n",
    "            \n",
    "            optimizer.zero_grad()\n",
    "            y_pred = model(batch)\n",
    "            y_true = batch['user', 'recommends', 'app'].edge_label\n",
    "            loss = criterion(y_pred, y_true)\n",
    "            loss.backward()\n",
    "            optimizer.step()\n",
    "            \n",
    "            running_loss += loss.item()\n",
    "            if not ((i_batch+1) % print_loss):\n",
    "                last_loss = running_loss / print_loss\n",
    "                #writer.add_scalar(\"Loss/train\", last_loss, epoch*len(train_loader) + i_batch + 1)\n",
    "                score = roc_auc_score(y_true.detach().cpu().numpy(), y_pred.detach().sigmoid().cpu().numpy())\n",
    "                print(f\"batch <{i_batch}> - loss: {last_loss} - roc_auc score: {score}\")\n",
    "                running_loss = 0.\n",
    "                \n",
    "                #test_loss, test_roc_auc = test()\n",
    "                #print(f\"\\tTest loss: {test_loss} \\t Test ROC AUC: {test_roc_auc}\")\n",
    "            \n",
    "        print(f\"Epoch: {epoch}, Loss: {running_loss / len(train_loader):.4f}\")"
   ]
  },
  {
   "cell_type": "code",
   "execution_count": 66,
   "id": "0d36edf0-0f8b-4eb2-8a84-e467c4c06af9",
   "metadata": {
    "tags": []
   },
   "outputs": [],
   "source": [
    "@torch.no_grad()\n",
    "def test():\n",
    "    model.eval()\n",
    "    running_loss = 0.\n",
    "    preds, ground_truths = [], []\n",
    "\n",
    "    for i_batch, batch in enumerate(test_loader):\n",
    "        batch = batch.to(device)\n",
    "        y_pred = model(batch)\n",
    "        y_true = batch['user', 'recommends', 'app'].edge_label\n",
    "        loss = criterion(y_pred, y_true)\n",
    "        \n",
    "        preds.append(y_pred)\n",
    "        ground_truths.append(y_true)\n",
    "\n",
    "        running_loss += loss.item()\n",
    "        \n",
    "    pred = torch.cat(preds, dim=0).cpu().numpy()\n",
    "    ground_truth = torch.cat(ground_truths, dim=0).cpu().numpy()\n",
    "    \n",
    "    test_loss = running_loss / len(test_loader)\n",
    "    test_score = roc_auc_score(ground_truth, pred)\n",
    "\n",
    "    return test_loss, test_score"
   ]
  },
  {
   "cell_type": "code",
   "execution_count": 67,
   "id": "fb22f31f-8615-4b86-b9ff-048de3a7789e",
   "metadata": {
    "scrolled": true,
    "tags": []
   },
   "outputs": [
    {
     "name": "stderr",
     "output_type": "stream",
     "text": [
      "  1%|▊                                                                            | 100/8867 [01:41<2:34:17,  1.06s/it]"
     ]
    },
    {
     "name": "stdout",
     "output_type": "stream",
     "text": [
      "batch <99> - loss: 0.5344769006869702 - roc_auc score: 0.9383773803710938\n"
     ]
    },
    {
     "name": "stderr",
     "output_type": "stream",
     "text": [
      "  2%|█▋                                                                           | 200/8867 [03:27<2:35:55,  1.08s/it]"
     ]
    },
    {
     "name": "stdout",
     "output_type": "stream",
     "text": [
      "batch <199> - loss: 0.25342477290140153 - roc_auc score: 0.9637250900268555\n"
     ]
    },
    {
     "name": "stderr",
     "output_type": "stream",
     "text": [
      "  3%|██▌                                                                          | 300/8867 [05:10<2:22:15,  1.00it/s]"
     ]
    },
    {
     "name": "stdout",
     "output_type": "stream",
     "text": [
      "batch <299> - loss: 0.1966682895312547 - roc_auc score: 0.9722785949707031\n"
     ]
    },
    {
     "name": "stderr",
     "output_type": "stream",
     "text": [
      "  3%|██▋                                                                          | 304/8867 [05:15<2:28:05,  1.04s/it]\n"
     ]
    },
    {
     "ename": "KeyboardInterrupt",
     "evalue": "",
     "output_type": "error",
     "traceback": [
      "\u001b[1;31m---------------------------------------------------------------------------\u001b[0m",
      "\u001b[1;31mKeyboardInterrupt\u001b[0m                         Traceback (most recent call last)",
      "Cell \u001b[1;32mIn[67], line 1\u001b[0m\n\u001b[1;32m----> 1\u001b[0m \u001b[43mtrain\u001b[49m\u001b[43m(\u001b[49m\u001b[43mn_epochs\u001b[49m\u001b[38;5;241;43m=\u001b[39;49m\u001b[38;5;241;43m5\u001b[39;49m\u001b[43m,\u001b[49m\u001b[43m \u001b[49m\u001b[43mprint_loss\u001b[49m\u001b[38;5;241;43m=\u001b[39;49m\u001b[38;5;241;43m100\u001b[39;49m\u001b[43m)\u001b[49m\n",
      "Cell \u001b[1;32mIn[65], line 16\u001b[0m, in \u001b[0;36mtrain\u001b[1;34m(n_epochs, print_loss)\u001b[0m\n\u001b[0;32m     13\u001b[0m loss\u001b[38;5;241m.\u001b[39mbackward()\n\u001b[0;32m     14\u001b[0m optimizer\u001b[38;5;241m.\u001b[39mstep()\n\u001b[1;32m---> 16\u001b[0m running_loss \u001b[38;5;241m+\u001b[39m\u001b[38;5;241m=\u001b[39m \u001b[43mloss\u001b[49m\u001b[38;5;241;43m.\u001b[39;49m\u001b[43mitem\u001b[49m\u001b[43m(\u001b[49m\u001b[43m)\u001b[49m\n\u001b[0;32m     17\u001b[0m \u001b[38;5;28;01mif\u001b[39;00m \u001b[38;5;129;01mnot\u001b[39;00m ((i_batch\u001b[38;5;241m+\u001b[39m\u001b[38;5;241m1\u001b[39m) \u001b[38;5;241m%\u001b[39m print_loss):\n\u001b[0;32m     18\u001b[0m     last_loss \u001b[38;5;241m=\u001b[39m running_loss \u001b[38;5;241m/\u001b[39m print_loss\n",
      "\u001b[1;31mKeyboardInterrupt\u001b[0m: "
     ]
    }
   ],
   "source": [
    "train(n_epochs=5, print_loss=100)"
   ]
  },
  {
   "cell_type": "code",
   "execution_count": null,
   "id": "ad5449a9-804c-49fc-bb3a-a2eecd7a93a8",
   "metadata": {},
   "outputs": [],
   "source": []
  },
  {
   "cell_type": "code",
   "execution_count": 68,
   "id": "a0bef10c-f051-4a51-8b2c-f2d38c72033e",
   "metadata": {
    "tags": []
   },
   "outputs": [
    {
     "data": {
      "text/plain": [
       "(0.03346268663523113, 0.9986772198768235)"
      ]
     },
     "execution_count": 68,
     "metadata": {},
     "output_type": "execute_result"
    }
   ],
   "source": [
    "test()"
   ]
  },
  {
   "cell_type": "code",
   "execution_count": 69,
   "id": "4ce92402-ec5d-431a-b97c-db6a06c3fcc7",
   "metadata": {
    "tags": []
   },
   "outputs": [],
   "source": [
    "with torch.no_grad():\n",
    "    x_dict = model.evaluate(next(iter(train_loader)).to(device))"
   ]
  },
  {
   "cell_type": "code",
   "execution_count": 70,
   "id": "578f108b-034f-4b49-b983-5882605af6e3",
   "metadata": {
    "tags": []
   },
   "outputs": [
    {
     "data": {
      "text/plain": [
       "tensor([[ 0.1949, -0.3331, -1.5137,  ..., -0.5602,  0.6234,  0.0068],\n",
       "        [ 0.1065, -0.2114, -1.5566,  ..., -0.5864,  0.2601,  0.1677],\n",
       "        [ 0.3996, -0.4992, -1.6006,  ..., -0.1696, -0.1235, -0.1823],\n",
       "        ...,\n",
       "        [-0.7687,  1.6205, -0.4755,  ..., -1.7304, -0.5110,  1.2554],\n",
       "        [-1.4642,  0.1544, -1.1282,  ..., -1.2723, -0.2886,  1.8031],\n",
       "        [-1.9735,  2.0245, -0.4538,  ..., -1.0570, -0.4788,  2.0139]],\n",
       "       device='cuda:0')"
      ]
     },
     "execution_count": 70,
     "metadata": {},
     "output_type": "execute_result"
    }
   ],
   "source": [
    "x_dict['user']"
   ]
  },
  {
   "cell_type": "code",
   "execution_count": 71,
   "id": "c0a83ed4-5ad2-4ce3-b93d-91e0bdb609a9",
   "metadata": {
    "tags": []
   },
   "outputs": [
    {
     "data": {
      "text/plain": [
       "tensor([[ 1.5975, -1.5323, -0.2660,  ...,  0.5331,  0.0781, -0.7691],\n",
       "        [ 0.6528, -0.3377,  1.3905,  ..., -1.0915,  0.9276,  0.4554],\n",
       "        [ 0.4083, -0.5474,  0.4000,  ...,  0.1375,  0.1702, -0.4439],\n",
       "        ...,\n",
       "        [ 0.4501,  0.1943,  1.4548,  ..., -1.4075, -0.4861,  1.3809],\n",
       "        [ 0.5187, -0.2545,  1.4785,  ..., -0.9971,  0.6202,  0.6702],\n",
       "        [ 0.5422, -0.1084,  1.5407,  ..., -1.3979,  0.7177,  0.9116]],\n",
       "       device='cuda:0')"
      ]
     },
     "execution_count": 71,
     "metadata": {},
     "output_type": "execute_result"
    }
   ],
   "source": [
    "x_dict['app']"
   ]
  },
  {
   "cell_type": "code",
   "execution_count": 81,
   "id": "8bef4c2e-9b8a-42c0-be6e-3ef390280ea5",
   "metadata": {
    "tags": []
   },
   "outputs": [],
   "source": [
    "y_matr = (x_dict['user'] @ x_dict['app'].T).sigmoid()"
   ]
  },
  {
   "cell_type": "code",
   "execution_count": 87,
   "id": "64ef2eaa-7140-4589-bd14-cff07ecc4db6",
   "metadata": {
    "tags": []
   },
   "outputs": [],
   "source": [
    "matr, indices = y_matr.sort(descending=True)"
   ]
  },
  {
   "cell_type": "code",
   "execution_count": 91,
   "id": "b13726a1-dedc-4d9d-a937-98070c2d059f",
   "metadata": {
    "tags": []
   },
   "outputs": [
    {
     "data": {
      "text/plain": [
       "tensor([[9.9990e-01, 9.9986e-01, 9.9984e-01,  ..., 2.4688e-03, 1.4171e-03,\n",
       "         1.2307e-03],\n",
       "        [9.9991e-01, 9.9988e-01, 9.9986e-01,  ..., 7.0073e-03, 6.1246e-03,\n",
       "         2.8685e-03],\n",
       "        [9.9992e-01, 9.9984e-01, 9.9972e-01,  ..., 6.3963e-05, 2.2059e-05,\n",
       "         2.7249e-06],\n",
       "        ...,\n",
       "        [2.7322e-01, 1.3983e-01, 6.9592e-02,  ..., 2.9249e-11, 2.4978e-11,\n",
       "         7.0092e-12],\n",
       "        [1.8157e-07, 1.4873e-07, 6.2529e-08,  ..., 2.0400e-30, 1.7575e-30,\n",
       "         2.4759e-33],\n",
       "        [8.6432e-09, 7.7115e-09, 2.9101e-09,  ..., 2.6181e-20, 2.4738e-20,\n",
       "         2.0071e-20]], device='cuda:0')"
      ]
     },
     "execution_count": 91,
     "metadata": {},
     "output_type": "execute_result"
    }
   ],
   "source": [
    "matr"
   ]
  },
  {
   "cell_type": "code",
   "execution_count": 89,
   "id": "ac69f50f-41bf-4cdb-a641-abf2dcf24833",
   "metadata": {
    "tags": []
   },
   "outputs": [
    {
     "data": {
      "text/plain": [
       "tensor([[1263, 1038, 1058,  ...,  831,  593,  677],\n",
       "        [1263, 1038, 1177,  ...,  831,  593,  677],\n",
       "        [ 825,  327,  735,  ..., 1274, 1651, 1137],\n",
       "        ...,\n",
       "        [1263, 1291, 1177,  ...,  293,  962, 1489],\n",
       "        [ 231,  157,   91,  ...,  593,  624, 1137],\n",
       "        [1177, 1263, 1038,  ...,  499,  593,  677]], device='cuda:0')"
      ]
     },
     "execution_count": 89,
     "metadata": {},
     "output_type": "execute_result"
    }
   ],
   "source": [
    "indices"
   ]
  },
  {
   "cell_type": "code",
   "execution_count": null,
   "id": "be26b943-6ca1-421a-9f95-f23c6250ebbd",
   "metadata": {},
   "outputs": [],
   "source": []
  },
  {
   "cell_type": "code",
   "execution_count": 103,
   "id": "cb88e0a4-ecca-4e81-9b7d-97f5762b1e0d",
   "metadata": {
    "tags": []
   },
   "outputs": [],
   "source": [
    "from torchmetrics import retrieval"
   ]
  },
  {
   "cell_type": "code",
   "execution_count": 138,
   "id": "2f5307c5-a382-40ba-a63e-6d759454e5e7",
   "metadata": {
    "tags": []
   },
   "outputs": [],
   "source": [
    "p2 = retrieval.RetrievalPrecision(top_k=3)\n",
    "ndcg = retrieval.RetrievalNormalizedDCG(top_k=3)"
   ]
  },
  {
   "cell_type": "code",
   "execution_count": 124,
   "id": "c5112db0-910d-41ca-a474-9309bbdd820f",
   "metadata": {
    "tags": []
   },
   "outputs": [],
   "source": [
    "preds = torch.tensor([0.7, 0.4, 0.6, 0.9, 0.8])\n",
    "targets = torch.tensor([True, False, True, True, False])\n",
    "indices = torch.tensor([0,0,0,0,0])"
   ]
  },
  {
   "cell_type": "code",
   "execution_count": 129,
   "id": "b080f188-9e2d-4214-9c85-91fb58d920b6",
   "metadata": {
    "tags": []
   },
   "outputs": [],
   "source": [
    "s, i = preds.sort(descending=True)"
   ]
  },
  {
   "cell_type": "code",
   "execution_count": 134,
   "id": "dcbbe3c8-a723-4c8e-bec3-d3429dce585f",
   "metadata": {
    "tags": []
   },
   "outputs": [
    {
     "data": {
      "text/plain": [
       "tensor([0.90, 0.80, 0.70, 0.60, 0.40])"
      ]
     },
     "execution_count": 134,
     "metadata": {},
     "output_type": "execute_result"
    }
   ],
   "source": [
    "preds[i]"
   ]
  },
  {
   "cell_type": "code",
   "execution_count": 133,
   "id": "7af2db52-5292-420f-9668-1db7eaeb1ce6",
   "metadata": {
    "tags": []
   },
   "outputs": [
    {
     "data": {
      "text/plain": [
       "tensor([ True, False,  True,  True, False])"
      ]
     },
     "execution_count": 133,
     "metadata": {},
     "output_type": "execute_result"
    }
   ],
   "source": [
    "targets[i]"
   ]
  },
  {
   "cell_type": "code",
   "execution_count": 125,
   "id": "65dffbad-516c-44c2-b2cf-59c87945d97e",
   "metadata": {
    "tags": []
   },
   "outputs": [
    {
     "data": {
      "text/plain": [
       "tensor(0.67)"
      ]
     },
     "execution_count": 125,
     "metadata": {},
     "output_type": "execute_result"
    }
   ],
   "source": [
    "p2(preds, targets, indexes=indices)"
   ]
  },
  {
   "cell_type": "code",
   "execution_count": 139,
   "id": "7337d182-dfa6-49f9-ab1f-4ca29816908a",
   "metadata": {
    "tags": []
   },
   "outputs": [
    {
     "data": {
      "text/plain": [
       "tensor(0.70)"
      ]
     },
     "execution_count": 139,
     "metadata": {},
     "output_type": "execute_result"
    }
   ],
   "source": [
    "ndcg(preds, targets, indexes=indices)"
   ]
  },
  {
   "cell_type": "code",
   "execution_count": null,
   "id": "5210302d-0aa8-4a66-98c2-6d9a28b9484a",
   "metadata": {},
   "outputs": [],
   "source": [
    "torch.tensor([0.9, 0.7, 0.6])"
   ]
  },
  {
   "cell_type": "code",
   "execution_count": 147,
   "id": "5b88e770-5ae4-42d3-8c02-bed10ddc5dd4",
   "metadata": {
    "tags": []
   },
   "outputs": [
    {
     "data": {
      "text/plain": [
       "tensor(1.07)"
      ]
     },
     "execution_count": 147,
     "metadata": {},
     "output_type": "execute_result"
    }
   ],
   "source": [
    "(preds[i][:3] / torch.log2(torch.arange(3)+2)).sum() / (torch.tensor([0.9, 0.7, 0.6]) / torch.log2(torch.arange(3)+2)).sum()"
   ]
  },
  {
   "cell_type": "code",
   "execution_count": null,
   "id": "f41c4421-a44b-4197-8b7e-eb54db214a64",
   "metadata": {},
   "outputs": [],
   "source": []
  },
  {
   "cell_type": "code",
   "execution_count": 144,
   "id": "c1f1922d-4623-4597-935f-f78c618f64bf",
   "metadata": {
    "tags": []
   },
   "outputs": [
    {
     "data": {
      "text/plain": [
       "tensor([1.00, 1.58, 2.00])"
      ]
     },
     "execution_count": 144,
     "metadata": {},
     "output_type": "execute_result"
    }
   ],
   "source": [
    "torch.log2(torch.arange(3)+2)"
   ]
  },
  {
   "cell_type": "code",
   "execution_count": null,
   "id": "3ba09046-a518-439c-9c99-30a55fd84050",
   "metadata": {},
   "outputs": [],
   "source": []
  },
  {
   "cell_type": "code",
   "execution_count": null,
   "id": "8ceef365-2ccb-41b4-9171-a64418858fa6",
   "metadata": {},
   "outputs": [],
   "source": []
  },
  {
   "cell_type": "code",
   "execution_count": null,
   "id": "1fb76744-39bd-4d1e-bab3-3e882c236d50",
   "metadata": {
    "tags": []
   },
   "outputs": [],
   "source": [
    "with torch.no_grad():\n",
    "    batch = next(iter(test_loader))\n",
    "    batch.to(device)\n",
    "    x_dict = {\n",
    "      \"user\": model.user_emb(batch['user'].n_id),\n",
    "      \"app\": model.app_emb(batch['app'].n_id),\n",
    "    }  \n",
    "\n",
    "    x_dict = model.gnn(x_dict, batch.edge_index_dict)"
   ]
  },
  {
   "cell_type": "code",
   "execution_count": null,
   "id": "71da82d6-3026-4516-af49-fa7301f31f8d",
   "metadata": {
    "tags": []
   },
   "outputs": [],
   "source": [
    "batch.edge_index_dict"
   ]
  },
  {
   "cell_type": "code",
   "execution_count": null,
   "id": "86379c73-6fac-48b5-841f-a2513f92a7a0",
   "metadata": {
    "tags": []
   },
   "outputs": [],
   "source": [
    "x_dict['user']"
   ]
  },
  {
   "cell_type": "code",
   "execution_count": 97,
   "id": "c414c3e4-3b3d-4859-86ac-e6c9c4aec263",
   "metadata": {
    "scrolled": true,
    "tags": []
   },
   "outputs": [
    {
     "name": "stdout",
     "output_type": "stream",
     "text": [
      "tensor([    0.99,     0.98,     0.95,     1.00,     0.90,     0.90,     0.85,\n",
      "            0.96,     0.99,     0.99,     0.87,     0.98,     0.99,     0.99,\n",
      "            0.98,     0.96,     1.00,     0.98,     0.92,     1.00,     0.99,\n",
      "            0.97,     0.96,     1.00,     1.00,     1.00,     0.94,     1.00,\n",
      "            0.84,     1.00,     0.99,     0.99,     1.00,     1.00,     1.00,\n",
      "            0.98,     0.94,     1.00,     0.99,     0.99,     0.99,     0.99,\n",
      "            1.00,     1.00,     0.98,     0.99,     0.99,     0.92,     0.98,\n",
      "            0.99,     0.95,     1.00,     0.99,     0.99,     0.97,     1.00,\n",
      "            0.99,     0.90,     0.91,     1.00,     0.99,     1.00,     1.00,\n",
      "            0.86,     0.71,     0.98,     0.96,     0.89,     1.00,     0.85,\n",
      "            0.96,     0.94,     0.86,     1.00,     0.95,     1.00,     1.00,\n",
      "            1.00,     0.96,     0.97,     0.84,     0.98,     0.98,     1.00,\n",
      "            1.00,     1.00,     0.99,     1.00,     0.97,     0.85,     1.00,\n",
      "            0.99,     1.00,     1.00,     0.99,     0.99,     0.74,     1.00,\n",
      "            0.94,     0.96,     0.79,     0.99,     0.97,     0.99,     0.97,\n",
      "            0.86,     0.99,     1.00,     0.99,     1.00,     0.99,     0.91,\n",
      "            0.99,     0.97,     1.00,     0.99,     1.00,     1.00,     0.73,\n",
      "            0.99,     0.95,     0.97,     1.00,     1.00,     0.97,     0.99,\n",
      "            0.99,     1.00,     0.96,     0.99,     0.99,     1.00,     1.00,\n",
      "            0.95,     0.99,     1.00,     0.99,     0.95,     1.00,     0.95,\n",
      "            0.99,     0.97,     0.99,     0.85,     0.98,     1.00,     0.97,\n",
      "            0.97,     1.00,     0.95,     0.94,     0.93,     0.98,     1.00,\n",
      "            0.99,     0.98,     0.92,     0.99,     0.75,     1.00,     0.97,\n",
      "            1.00,     1.00,     0.97,     0.96,     1.00,     0.99,     1.00,\n",
      "            0.98,     0.99,     0.98,     0.98,     0.98,     0.99,     0.98,\n",
      "            1.00,     0.99,     1.00,     1.00,     0.97,     1.00,     1.00,\n",
      "            0.88,     0.95,     0.99,     0.99,     0.98,     1.00,     1.00,\n",
      "            0.98,     0.89,     1.00,     0.97,     0.87,     0.87,     1.00,\n",
      "            0.90,     0.97,     1.00,     1.00,     1.00,     0.71,     1.00,\n",
      "            0.99,     1.00,     1.00,     0.99,     0.99,     0.99,     0.99,\n",
      "            0.96,     0.97,     0.99,     0.99,     0.98,     0.99,     1.00,\n",
      "            0.96,     0.96,     0.98,     0.98,     0.95,     0.98,     1.00,\n",
      "            1.00,     0.99,     0.95,     1.00,     0.99,     0.81,     0.98,\n",
      "            1.00,     0.96,     0.99,     0.97,     0.99,     0.97,     0.96,\n",
      "            0.96,     0.97,     0.91,     1.00,     1.00,     1.00,     1.00,\n",
      "            1.00,     0.99,     0.85,     0.85,     1.00,     0.98,     0.96,\n",
      "            0.99,     0.99,     0.97,     1.00,     0.00,     0.00,     0.00,\n",
      "            0.00,     0.00,     0.00,     0.00,     0.00,     0.00,     0.00,\n",
      "            0.00,     0.00,     0.00,     0.00,     0.00,     0.00,     0.00,\n",
      "            0.00,     0.00,     0.82,     0.00,     0.00,     0.00,     0.00,\n",
      "            0.00,     0.00,     0.00,     0.00,     0.00,     0.00,     0.00,\n",
      "            0.00,     0.00,     0.00,     0.00,     0.00,     0.00,     0.00,\n",
      "            0.00,     0.00,     0.00,     0.00,     0.00,     0.00,     0.00,\n",
      "            0.00,     0.00,     0.00,     0.00,     0.00,     0.00,     0.00,\n",
      "            0.00,     0.00,     0.00,     0.00,     0.00,     0.00,     0.00,\n",
      "            0.00,     0.00,     0.00,     0.00,     0.02,     0.00,     0.00,\n",
      "            0.00,     0.00,     0.00,     0.00,     0.00,     0.00,     0.00,\n",
      "            0.00,     0.00,     0.00,     0.00,     0.00,     0.00,     0.00,\n",
      "            0.00,     0.00,     0.00,     0.08,     0.00,     0.00,     0.00,\n",
      "            0.00,     0.00,     0.00,     0.00,     0.00,     0.00,     0.00,\n",
      "            0.00,     0.00,     0.00,     0.00,     0.00,     0.00,     0.00,\n",
      "            0.00,     0.00,     0.00,     0.23,     0.00,     0.00,     0.00,\n",
      "            0.00,     0.00,     0.00,     0.00,     0.00,     0.00,     0.00,\n",
      "            0.00,     0.00,     0.00,     0.00,     0.00,     0.03,     0.00,\n",
      "            0.00,     0.00,     0.00,     0.00,     0.00,     0.00,     0.00,\n",
      "            0.00,     0.00,     0.00,     0.00,     0.00,     0.00,     0.00,\n",
      "            0.00,     0.01,     0.00,     0.00,     0.00,     0.00,     0.00,\n",
      "            0.00,     0.00,     0.00,     0.00,     0.00,     0.00,     0.00,\n",
      "            0.00,     0.00,     0.00,     0.00,     0.00,     0.00,     0.00,\n",
      "            0.00,     0.00,     0.00,     0.96,     0.00,     0.00,     0.00,\n",
      "            0.00,     0.00,     0.00,     0.00,     0.00,     0.00,     0.00,\n",
      "            0.00,     0.00,     0.00,     0.00,     0.00,     0.00,     0.00,\n",
      "            0.00,     0.00,     0.94,     0.00,     0.00,     0.00,     0.00,\n",
      "            0.00,     0.00,     0.00,     0.00,     0.00,     0.00,     0.00,\n",
      "            0.00,     0.22,     0.00,     0.00,     0.00,     0.00,     0.00,\n",
      "            0.00,     0.01,     0.00,     0.00,     0.00,     0.00,     0.00,\n",
      "            0.00,     0.00,     0.00,     0.00,     0.00,     0.00,     0.00,\n",
      "            0.00,     0.00,     0.00,     0.00,     0.00,     0.00,     0.00,\n",
      "            0.00,     0.00,     0.00,     0.00,     0.00,     0.00,     0.00,\n",
      "            0.00,     0.00,     0.00,     0.00,     0.00,     0.00,     0.00,\n",
      "            0.00,     0.00,     0.00,     0.00,     0.00,     0.00,     0.00,\n",
      "            0.00,     0.00,     0.00,     0.00,     0.00,     0.00,     0.00,\n",
      "            0.00,     0.00,     0.00,     0.00,     0.00,     0.00,     0.00,\n",
      "            0.00], device='cuda:0') tensor([1., 1., 1., 1., 1., 1., 1., 1., 1., 1., 1., 1., 1., 1., 1., 1., 1., 1.,\n",
      "        1., 1., 1., 1., 1., 1., 1., 1., 1., 1., 1., 1., 1., 1., 1., 1., 1., 1.,\n",
      "        1., 1., 1., 1., 1., 1., 1., 1., 1., 1., 1., 1., 1., 1., 1., 1., 1., 1.,\n",
      "        1., 1., 1., 1., 1., 1., 1., 1., 1., 1., 1., 1., 1., 1., 1., 1., 1., 1.,\n",
      "        1., 1., 1., 1., 1., 1., 1., 1., 1., 1., 1., 1., 1., 1., 1., 1., 1., 1.,\n",
      "        1., 1., 1., 1., 1., 1., 1., 1., 1., 1., 1., 1., 1., 1., 1., 1., 1., 1.,\n",
      "        1., 1., 1., 1., 1., 1., 1., 1., 1., 1., 1., 1., 1., 1., 1., 1., 1., 1.,\n",
      "        1., 1., 1., 1., 1., 1., 1., 1., 1., 1., 1., 1., 1., 1., 1., 1., 1., 1.,\n",
      "        1., 1., 1., 1., 1., 1., 1., 1., 1., 1., 1., 1., 1., 1., 1., 1., 1., 1.,\n",
      "        1., 1., 1., 1., 1., 1., 1., 1., 1., 1., 1., 1., 1., 1., 1., 1., 1., 1.,\n",
      "        1., 1., 1., 1., 1., 1., 1., 1., 1., 1., 1., 1., 1., 1., 1., 1., 1., 1.,\n",
      "        1., 1., 1., 1., 1., 1., 1., 1., 1., 1., 1., 1., 1., 1., 1., 1., 1., 1.,\n",
      "        1., 1., 1., 1., 1., 1., 1., 1., 1., 1., 1., 1., 1., 1., 1., 1., 1., 1.,\n",
      "        1., 1., 1., 1., 1., 1., 1., 1., 1., 1., 1., 1., 1., 1., 1., 1., 1., 1.,\n",
      "        1., 1., 1., 1., 0., 0., 0., 0., 0., 0., 0., 0., 0., 0., 0., 0., 0., 0.,\n",
      "        0., 0., 0., 0., 0., 0., 0., 0., 0., 0., 0., 0., 0., 0., 0., 0., 0., 0.,\n",
      "        0., 0., 0., 0., 0., 0., 0., 0., 0., 0., 0., 0., 0., 0., 0., 0., 0., 0.,\n",
      "        0., 0., 0., 0., 0., 0., 0., 0., 0., 0., 0., 0., 0., 0., 0., 0., 0., 0.,\n",
      "        0., 0., 0., 0., 0., 0., 0., 0., 0., 0., 0., 0., 0., 0., 0., 0., 0., 0.,\n",
      "        0., 0., 0., 0., 0., 0., 0., 0., 0., 0., 0., 0., 0., 0., 0., 0., 0., 0.,\n",
      "        0., 0., 0., 0., 0., 0., 0., 0., 0., 0., 0., 0., 0., 0., 0., 0., 0., 0.,\n",
      "        0., 0., 0., 0., 0., 0., 0., 0., 0., 0., 0., 0., 0., 0., 0., 0., 0., 0.,\n",
      "        0., 0., 0., 0., 0., 0., 0., 0., 0., 0., 0., 0., 0., 0., 0., 0., 0., 0.,\n",
      "        0., 0., 0., 0., 0., 0., 0., 0., 0., 0., 0., 0., 0., 0., 0., 0., 0., 0.,\n",
      "        0., 0., 0., 0., 0., 0., 0., 0., 0., 0., 0., 0., 0., 0., 0., 0., 0., 0.,\n",
      "        0., 0., 0., 0., 0., 0., 0., 0., 0., 0., 0., 0., 0., 0., 0., 0., 0., 0.,\n",
      "        0., 0., 0., 0., 0., 0., 0., 0., 0., 0., 0., 0., 0., 0., 0., 0., 0., 0.,\n",
      "        0., 0., 0., 0., 0., 0., 0., 0., 0., 0., 0., 0., 0., 0., 0., 0., 0., 0.,\n",
      "        0., 0., 0., 0., 0., 0., 0., 0.], device='cuda:0', dtype=torch.float64)\n"
     ]
    }
   ],
   "source": [
    "with torch.no_grad():\n",
    "    d = next(iter(test_loader))\n",
    "    d = d.to(device)\n",
    "    y_pred = model(d).sigmoid()\n",
    "    y_true = d['user', 'recommends', 'app'].edge_label\n",
    "    \n",
    "    print(y_pred, y_true)"
   ]
  },
  {
   "cell_type": "code",
   "execution_count": 100,
   "id": "53a9b09f-e432-43f9-a125-4dd23d99bf15",
   "metadata": {
    "tags": []
   },
   "outputs": [
    {
     "data": {
      "text/plain": [
       "tensor(0.51, device='cuda:0', dtype=torch.float64)"
      ]
     },
     "execution_count": 100,
     "metadata": {},
     "output_type": "execute_result"
    }
   ],
   "source": [
    "criterion(y_pred, y_true)"
   ]
  },
  {
   "cell_type": "code",
   "execution_count": 22,
   "id": "3e038ff8-6486-4469-bc94-7803c0e434d6",
   "metadata": {
    "tags": []
   },
   "outputs": [
    {
     "data": {
      "image/png": "[encoded data removed]",
      "text/plain": [
       "<Figure size 640x480 with 2 Axes>"
      ]
     },
     "metadata": {},
     "output_type": "display_data"
    }
   ],
   "source": [
    "cm = confusion_matrix(y_true.detach().cpu().numpy(), y_pred.detach().cpu().numpy().round())\n",
    "cm_display = ConfusionMatrixDisplay(confusion_matrix=cm, display_labels=[False, True])\n",
    "cm_display.plot()\n",
    "plt.show()"
   ]
  },
  {
   "cell_type": "code",
   "execution_count": 31,
   "id": "a649ad13-b1ce-4dfd-b004-cbacd7489344",
   "metadata": {},
   "outputs": [],
   "source": [
    "def save_model(model, path):\n",
    "    torch.save(model.state_dict(), path)\n",
    "    \n",
    "def load_model(path):\n",
    "    model = Model(hidden_channels=32, out_channels=32, metadata=train_data.metadata())\n",
    "    model.load_state_dict(torch.load(path))\n",
    "    model = model.to(device)\n",
    "    return model"
   ]
  },
  {
   "cell_type": "code",
   "execution_count": null,
   "id": "d1b149d4-46b6-4bc4-8559-130ae2b93545",
   "metadata": {
    "tags": []
   },
   "outputs": [],
   "source": [
    "#save_model(model, \"models/gnn_01.pth\")"
   ]
  },
  {
   "cell_type": "code",
   "execution_count": 34,
   "id": "a12d26e9-9234-474a-8cd4-8ade83aba18b",
   "metadata": {
    "tags": []
   },
   "outputs": [
    {
     "ename": "RuntimeError",
     "evalue": "Error(s) in loading state_dict for Model:\n\tMissing key(s) in state_dict: \"app_lin.weight\", \"app_lin.bias\". \n\tsize mismatch for gnn.conv2.user__recommends__app.lin_l.weight: copying a param with shape torch.Size([16, 32]) from checkpoint, the shape in current model is torch.Size([32, 32]).\n\tsize mismatch for gnn.conv2.user__recommends__app.lin_l.bias: copying a param with shape torch.Size([16]) from checkpoint, the shape in current model is torch.Size([32]).\n\tsize mismatch for gnn.conv2.user__recommends__app.lin_r.weight: copying a param with shape torch.Size([16, 32]) from checkpoint, the shape in current model is torch.Size([32, 32]).\n\tsize mismatch for gnn.conv2.app__rev_recommends__user.lin_l.weight: copying a param with shape torch.Size([16, 32]) from checkpoint, the shape in current model is torch.Size([32, 32]).\n\tsize mismatch for gnn.conv2.app__rev_recommends__user.lin_l.bias: copying a param with shape torch.Size([16]) from checkpoint, the shape in current model is torch.Size([32]).\n\tsize mismatch for gnn.conv2.app__rev_recommends__user.lin_r.weight: copying a param with shape torch.Size([16, 32]) from checkpoint, the shape in current model is torch.Size([32, 32]).",
     "output_type": "error",
     "traceback": [
      "\u001b[1;31m---------------------------------------------------------------------------\u001b[0m",
      "\u001b[1;31mRuntimeError\u001b[0m                              Traceback (most recent call last)",
      "Cell \u001b[1;32mIn[34], line 1\u001b[0m\n\u001b[1;32m----> 1\u001b[0m model \u001b[38;5;241m=\u001b[39m \u001b[43mload_model\u001b[49m\u001b[43m(\u001b[49m\u001b[38;5;124;43m\"\u001b[39;49m\u001b[38;5;124;43mmodels/gnn_01.pth\u001b[39;49m\u001b[38;5;124;43m\"\u001b[39;49m\u001b[43m)\u001b[49m\n",
      "Cell \u001b[1;32mIn[31], line 6\u001b[0m, in \u001b[0;36mload_model\u001b[1;34m(path)\u001b[0m\n\u001b[0;32m      4\u001b[0m \u001b[38;5;28;01mdef\u001b[39;00m \u001b[38;5;21mload_model\u001b[39m(path):\n\u001b[0;32m      5\u001b[0m     model \u001b[38;5;241m=\u001b[39m Model(hidden_channels\u001b[38;5;241m=\u001b[39m\u001b[38;5;241m32\u001b[39m, out_channels\u001b[38;5;241m=\u001b[39m\u001b[38;5;241m32\u001b[39m, metadata\u001b[38;5;241m=\u001b[39mtrain_data\u001b[38;5;241m.\u001b[39mmetadata())\n\u001b[1;32m----> 6\u001b[0m     \u001b[43mmodel\u001b[49m\u001b[38;5;241;43m.\u001b[39;49m\u001b[43mload_state_dict\u001b[49m\u001b[43m(\u001b[49m\u001b[43mtorch\u001b[49m\u001b[38;5;241;43m.\u001b[39;49m\u001b[43mload\u001b[49m\u001b[43m(\u001b[49m\u001b[43mpath\u001b[49m\u001b[43m)\u001b[49m\u001b[43m)\u001b[49m\n\u001b[0;32m      7\u001b[0m     model \u001b[38;5;241m=\u001b[39m model\u001b[38;5;241m.\u001b[39mto(device)\n\u001b[0;32m      8\u001b[0m     \u001b[38;5;28;01mreturn\u001b[39;00m model\n",
      "File \u001b[1;32m~\\miniconda3\\envs\\recsys\\lib\\site-packages\\torch\\nn\\modules\\module.py:1671\u001b[0m, in \u001b[0;36mModule.load_state_dict\u001b[1;34m(self, state_dict, strict)\u001b[0m\n\u001b[0;32m   1666\u001b[0m         error_msgs\u001b[38;5;241m.\u001b[39minsert(\n\u001b[0;32m   1667\u001b[0m             \u001b[38;5;241m0\u001b[39m, \u001b[38;5;124m'\u001b[39m\u001b[38;5;124mMissing key(s) in state_dict: \u001b[39m\u001b[38;5;132;01m{}\u001b[39;00m\u001b[38;5;124m. \u001b[39m\u001b[38;5;124m'\u001b[39m\u001b[38;5;241m.\u001b[39mformat(\n\u001b[0;32m   1668\u001b[0m                 \u001b[38;5;124m'\u001b[39m\u001b[38;5;124m, \u001b[39m\u001b[38;5;124m'\u001b[39m\u001b[38;5;241m.\u001b[39mjoin(\u001b[38;5;124m'\u001b[39m\u001b[38;5;124m\"\u001b[39m\u001b[38;5;132;01m{}\u001b[39;00m\u001b[38;5;124m\"\u001b[39m\u001b[38;5;124m'\u001b[39m\u001b[38;5;241m.\u001b[39mformat(k) \u001b[38;5;28;01mfor\u001b[39;00m k \u001b[38;5;129;01min\u001b[39;00m missing_keys)))\n\u001b[0;32m   1670\u001b[0m \u001b[38;5;28;01mif\u001b[39;00m \u001b[38;5;28mlen\u001b[39m(error_msgs) \u001b[38;5;241m>\u001b[39m \u001b[38;5;241m0\u001b[39m:\n\u001b[1;32m-> 1671\u001b[0m     \u001b[38;5;28;01mraise\u001b[39;00m \u001b[38;5;167;01mRuntimeError\u001b[39;00m(\u001b[38;5;124m'\u001b[39m\u001b[38;5;124mError(s) in loading state_dict for \u001b[39m\u001b[38;5;132;01m{}\u001b[39;00m\u001b[38;5;124m:\u001b[39m\u001b[38;5;130;01m\\n\u001b[39;00m\u001b[38;5;130;01m\\t\u001b[39;00m\u001b[38;5;132;01m{}\u001b[39;00m\u001b[38;5;124m'\u001b[39m\u001b[38;5;241m.\u001b[39mformat(\n\u001b[0;32m   1672\u001b[0m                        \u001b[38;5;28mself\u001b[39m\u001b[38;5;241m.\u001b[39m\u001b[38;5;18m__class__\u001b[39m\u001b[38;5;241m.\u001b[39m\u001b[38;5;18m__name__\u001b[39m, \u001b[38;5;124m\"\u001b[39m\u001b[38;5;130;01m\\n\u001b[39;00m\u001b[38;5;130;01m\\t\u001b[39;00m\u001b[38;5;124m\"\u001b[39m\u001b[38;5;241m.\u001b[39mjoin(error_msgs)))\n\u001b[0;32m   1673\u001b[0m \u001b[38;5;28;01mreturn\u001b[39;00m _IncompatibleKeys(missing_keys, unexpected_keys)\n",
      "\u001b[1;31mRuntimeError\u001b[0m: Error(s) in loading state_dict for Model:\n\tMissing key(s) in state_dict: \"app_lin.weight\", \"app_lin.bias\". \n\tsize mismatch for gnn.conv2.user__recommends__app.lin_l.weight: copying a param with shape torch.Size([16, 32]) from checkpoint, the shape in current model is torch.Size([32, 32]).\n\tsize mismatch for gnn.conv2.user__recommends__app.lin_l.bias: copying a param with shape torch.Size([16]) from checkpoint, the shape in current model is torch.Size([32]).\n\tsize mismatch for gnn.conv2.user__recommends__app.lin_r.weight: copying a param with shape torch.Size([16, 32]) from checkpoint, the shape in current model is torch.Size([32, 32]).\n\tsize mismatch for gnn.conv2.app__rev_recommends__user.lin_l.weight: copying a param with shape torch.Size([16, 32]) from checkpoint, the shape in current model is torch.Size([32, 32]).\n\tsize mismatch for gnn.conv2.app__rev_recommends__user.lin_l.bias: copying a param with shape torch.Size([16]) from checkpoint, the shape in current model is torch.Size([32]).\n\tsize mismatch for gnn.conv2.app__rev_recommends__user.lin_r.weight: copying a param with shape torch.Size([16, 32]) from checkpoint, the shape in current model is torch.Size([32, 32])."
     ]
    }
   ],
   "source": [
    "model = load_model(\"models/gnn_01.pth\")"
   ]
  },
  {
   "cell_type": "code",
   "execution_count": null,
   "id": "11f847e7-0424-471d-b78c-0bdff124cded",
   "metadata": {},
   "outputs": [],
   "source": [
    "model"
   ]
  }
 ],
 "metadata": {
  "kernelspec": {
   "display_name": "Python 3 (ipykernel)",
   "language": "python",
   "name": "python3"
  },
  "language_info": {
   "codemirror_mode": {
    "name": "ipython",
    "version": 3
   },
   "file_extension": ".py",
   "mimetype": "text/x-python",
   "name": "python",
   "nbconvert_exporter": "python",
   "pygments_lexer": "ipython3",
   "version": "3.10.9"
  }
 },
 "nbformat": 4,
 "nbformat_minor": 5
}
