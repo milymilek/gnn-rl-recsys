{
 "cells": [
  {
   "cell_type": "code",
   "execution_count": 1,
   "id": "3c6b16f8-40ff-4ffd-8aa7-d9e722a2cc45",
   "metadata": {},
   "outputs": [
    {
     "name": "stdout",
     "output_type": "stream",
     "text": [
      "C:\\Users\\Milosz\\thesis-recsys\n"
     ]
    }
   ],
   "source": [
    "%load_ext autoreload\n",
    "%autoreload 2\n",
    "\n",
    "import os\n",
    "os.chdir(\"../../\")\n",
    "print(os.getcwd())"
   ]
  },
  {
   "cell_type": "code",
   "execution_count": 2,
   "id": "5e7241f2-6fdf-4ac4-a9ec-2c65278bfb29",
   "metadata": {},
   "outputs": [
    {
     "data": {
      "text/plain": [
       "<torch._C.Generator at 0x2184e9d9a10>"
      ]
     },
     "execution_count": 2,
     "metadata": {},
     "output_type": "execute_result"
    }
   ],
   "source": [
    "import pandas as pd\n",
    "import numpy as np\n",
    "import functools\n",
    "import operator\n",
    "import json\n",
    "import matplotlib.pyplot as plt\n",
    "from tqdm.notebook import tqdm\n",
    "import pickle\n",
    "\n",
    "import torch\n",
    "import torch.nn.functional as F\n",
    "from torch import nn\n",
    "from torch.utils.data import Dataset, DataLoader, IterableDataset\n",
    "from torch.utils.tensorboard import SummaryWriter\n",
    "import torch_geometric\n",
    "import torch_geometric.transforms as T\n",
    "from torch_geometric.sampler import NegativeSampling\n",
    "from torch_geometric.loader import LinkNeighborLoader, NeighborLoader\n",
    "from torch_geometric.data import HeteroData\n",
    "from torch_geometric.utils import to_scipy_sparse_matrix\n",
    "\n",
    "from sklearn.metrics import roc_auc_score, confusion_matrix, ConfusionMatrixDisplay\n",
    "from sklearn.preprocessing import StandardScaler\n",
    "\n",
    "from models.gnn.sage import GraphSAGE\n",
    "from scripts.train_graph import train_epoch, test\n",
    "\n",
    "torch.set_printoptions(precision=2, sci_mode=False)\n",
    "torch.manual_seed(0)"
   ]
  },
  {
   "cell_type": "code",
   "execution_count": 3,
   "id": "6004022e-5b70-42e8-9ee0-e6e4bfffa5a9",
   "metadata": {},
   "outputs": [],
   "source": [
    "from dataset.kg import RippleDataset, collate_fn\n",
    "from utils import load_model\n",
    "from models.kg import RippleNet"
   ]
  },
  {
   "cell_type": "code",
   "execution_count": 4,
   "id": "02723032-1d5e-43ff-b349-1c78b009b73d",
   "metadata": {},
   "outputs": [
    {
     "name": "stdout",
     "output_type": "stream",
     "text": [
      "cuda\n"
     ]
    }
   ],
   "source": [
    "dir_art = 'data/steam'\n",
    "model_path = \"runs/RippleNet/2023-11-22_19-02-09/model.pth\"\n",
    "device = 'cuda' if torch.cuda.is_available() else 'cpu'\n",
    "num_workers = 0\n",
    "print(device)"
   ]
  },
  {
   "cell_type": "code",
   "execution_count": 5,
   "id": "16408704-0c18-492a-a505-cfad80b39901",
   "metadata": {},
   "outputs": [],
   "source": [
    "with open(os.path.join(dir_art, 'knowledge_graph.pkl'), \"rb\") as f:\n",
    "    knowledge_graph = pd.read_pickle(f)\n",
    "with open(os.path.join(dir_art, 'matrix.pkl'), \"rb\") as f:\n",
    "    matrix = pd.read_pickle(f)\n",
    "\n",
    "valid_set = knowledge_graph[\"valid_set\"]\n",
    "ripple_sets_valid = knowledge_graph['ripple_sets_valid']\n",
    "RELATIONS_MAP = knowledge_graph[\"relations_map\"]\n",
    "ENTITY_MAP = knowledge_graph[\"entity_map\"]\n",
    "\n",
    "train_csr = matrix['train_csr']\n",
    "valid_csr = matrix['valid_csr']\n",
    "relevance_mask = np.asarray((valid_csr.sum(axis=1) != 0)).ravel()\n",
    "valid_csr = valid_csr[relevance_mask]\n",
    "\n",
    "users = valid_set['user_id'].unique()\n",
    "items = np.arange(valid_csr.shape[1]) + 1"
   ]
  },
  {
   "cell_type": "code",
   "execution_count": 6,
   "id": "f969937b-810f-4135-a05c-e6f3d2db933d",
   "metadata": {},
   "outputs": [],
   "source": [
    "from torch.nn.utils.rnn import pad_sequence"
   ]
  },
  {
   "cell_type": "code",
   "execution_count": 7,
   "id": "a8e42032-29e3-4800-8af5-ecba95d44c46",
   "metadata": {},
   "outputs": [],
   "source": [
    "from time import time"
   ]
  },
  {
   "cell_type": "code",
   "execution_count": 8,
   "id": "61bcbdbf-8a12-4164-aaab-d99299533f1d",
   "metadata": {},
   "outputs": [],
   "source": [
    "def collate_fn(batch):\n",
    "    ei, rs = zip(*batch)\n",
    "    return torch.cat(ei), rs[0]\n",
    "\n",
    "\n",
    "class IterableRippleDataset(Dataset):\n",
    "    def __init__(self, users, items, ripple_sets, user_batch_size):\n",
    "        super(IterableRippleDataset).__init__()\n",
    "        self.df_ripple_set1 = ripple_sets[0]\n",
    "        self.df_ripple_set2 = ripple_sets[1]\n",
    "\n",
    "        self.users = users\n",
    "        self.items = items\n",
    "        self.n_users = users.shape[0]\n",
    "        self.n_items = items.shape[0]\n",
    "        self.user_batch_size = user_batch_size\n",
    "\n",
    "    def sample_ripple_set(self, ripple_set, batch_users):\n",
    "        sample_fun = lambda x: x.sample(n=min(750, x.shape[0])).values\n",
    "\n",
    "        i = ripple_set.index.isin(batch_users, level='user_id')\n",
    "        ripple_set_samples = ripple_set[i].groupby('user_id')\n",
    "        ripple_set_samples = ripple_set_samples.apply(sample_fun)\n",
    "        ripple_set_samples = np.repeat(ripple_set_samples, 1231).values\n",
    "        ripple_set_samples = pad_sequence([torch.tensor(i) for i in ripple_set_samples], batch_first=True,\n",
    "                                          padding_value=0)\n",
    "\n",
    "        return ripple_set_samples\n",
    "\n",
    "    def get_batch_data(self, batch):\n",
    "        u_start, u_end = batch, min(batch + self.user_batch_size, self.n_users)\n",
    "        batch_users = self.users[u_start:u_end]\n",
    "\n",
    "        u_id = torch.from_numpy(np.repeat(batch_users, self.n_items))\n",
    "        i_id = torch.arange(self.n_items).repeat(u_id.shape[0] // self.n_items, 1).flatten() + 1\n",
    "\n",
    "        ripple_set1 = self.sample_ripple_set(self.df_ripple_set1, batch_users)\n",
    "        ripple_set2 = self.sample_ripple_set(self.df_ripple_set2, batch_users)\n",
    "\n",
    "        return torch.column_stack((u_id, i_id)), [ripple_set1, ripple_set2]\n",
    "\n",
    "    def __len__(self):\n",
    "        return self.n_users // self.user_batch_size + 1\n",
    "\n",
    "    # def __iter__(self):\n",
    "    #     for batch in range(0, self.n_users, self.user_batch_size):\n",
    "    #         yield self.get_batch_data(batch)\n",
    "\n",
    "    def __getitem__(self, idx):\n",
    "        batch = idx * self.user_batch_size\n",
    "        return self.get_batch_data(batch)"
   ]
  },
  {
   "cell_type": "code",
   "execution_count": 16,
   "id": "924ccea5-e612-4b1b-9fca-77d771ee0f40",
   "metadata": {},
   "outputs": [],
   "source": [
    "eval_dataset = IterableRippleDataset(users[:103], items, ripple_sets_valid, int(5)) \n",
    "eval_loader = DataLoader(eval_dataset, batch_size=1, shuffle=False, collate_fn=collate_fn, drop_last=False, num_workers=num_workers)"
   ]
  },
  {
   "cell_type": "code",
   "execution_count": 20,
   "id": "a13d32cc-4d9a-40f8-b556-cd6fd2e4a1f1",
   "metadata": {},
   "outputs": [],
   "source": [
    "@torch.no_grad()\n",
    "def recommend_k_kg(model, dataloader, device, k=10):\n",
    "    model.eval()\n",
    "    preds = []\n",
    "    for edge_index, ripple_sets in tqdm(dataloader):\n",
    "        edge_index = edge_index.to(device)\n",
    "        ripple_sets = [rs.to(device) for rs in ripple_sets]\n",
    "        \n",
    "        y_pred = model(edge_index, ripple_sets)\n",
    "        preds.append(y_pred)\n",
    "    pred = torch.cat(preds, dim=0).sigmoid().cpu()\n",
    "    return pred"
   ]
  },
  {
   "cell_type": "code",
   "execution_count": 21,
   "id": "90ea5e91-1451-4b75-a4a5-fb431ad08cae",
   "metadata": {},
   "outputs": [],
   "source": [
    "model = load_model(\n",
    "    RippleNet, \n",
    "    \"runs/RippleNet/2023-11-22_19-02-09/model.pth\", \n",
    "    model_kwargs={\n",
    "        \"emb_dim\": 16, \n",
    "        \"n_relations\": 4, \n",
    "        \"n_entities\": max(ENTITY_MAP.values())\n",
    "    },\n",
    "    device=device\n",
    ")"
   ]
  },
  {
   "cell_type": "code",
   "execution_count": 22,
   "id": "0fa14b1d-58ae-414a-a519-d2506e030471",
   "metadata": {
    "scrolled": true
   },
   "outputs": [
    {
     "data": {
      "application/vnd.jupyter.widget-view+json": {
       "model_id": "7d6a3e72bd7849f28728455f7744ac11",
       "version_major": 2,
       "version_minor": 0
      },
      "text/plain": [
       "  0%|          | 0/21 [00:00<?, ?it/s]"
      ]
     },
     "metadata": {},
     "output_type": "display_data"
    }
   ],
   "source": [
    "prob = recommend_k_kg(model, eval_loader, device)"
   ]
  },
  {
   "cell_type": "code",
   "execution_count": 24,
   "id": "55110744-c492-4e1f-9389-a390911eacb8",
   "metadata": {},
   "outputs": [
    {
     "data": {
      "text/plain": [
       "torch.Size([126793, 1])"
      ]
     },
     "execution_count": 24,
     "metadata": {},
     "output_type": "execute_result"
    }
   ],
   "source": [
    "prob"
   ]
  },
  {
   "cell_type": "code",
   "execution_count": 25,
   "id": "cee963c4-c230-46b7-87b6-f42be275cc64",
   "metadata": {},
   "outputs": [],
   "source": [
    "prob_full = prob.reshape(-1, 1231)"
   ]
  },
  {
   "cell_type": "code",
   "execution_count": 39,
   "id": "dd5f939d-91d3-4efb-b38a-a2d39eecf112",
   "metadata": {},
   "outputs": [],
   "source": [
    "from scripts.eval import recommend_k, recommendation_relevance\n",
    "from metrics import ndcg_k, recall_k, precision_k"
   ]
  },
  {
   "cell_type": "code",
   "execution_count": 34,
   "id": "2827f2ae-0c2b-48ab-95ff-086c3510bd9c",
   "metadata": {},
   "outputs": [],
   "source": [
    "recommendations = recommend_k(\n",
    "    prob_full=prob_full,\n",
    "    past_interactions=train_csr,\n",
    "    k=100,\n",
    "    user_batch_size=10000\n",
    ")"
   ]
  },
  {
   "cell_type": "code",
   "execution_count": 44,
   "id": "267082db-368c-49b0-8c7c-ead55240e7ef",
   "metadata": {},
   "outputs": [],
   "source": [
    "valid_csr_true = valid_csr\n",
    "valid_csr = valid_csr[:103]"
   ]
  },
  {
   "cell_type": "code",
   "execution_count": 46,
   "id": "8c05f12c-d4d3-4e87-bcd6-ea68fb305aad",
   "metadata": {},
   "outputs": [
    {
     "data": {
      "application/vnd.jupyter.widget-view+json": {
       "model_id": "66d0ca5de51c435dae7227f76124be82",
       "version_major": 2,
       "version_minor": 0
      },
      "text/plain": [
       "  0%|          | 0/7 [00:00<?, ?it/s]"
      ]
     },
     "metadata": {},
     "output_type": "display_data"
    }
   ],
   "source": [
    "output_metrics = {\"precision\": [], \"recall\": [], \"ndcg\": []}\n",
    "for k in tqdm([1, 2, 5, 10, 20, 50, 100]):\n",
    "    reco_k = recommendations[:, :k]\n",
    "    reco_rel, rel_mask = recommendation_relevance(reco_k, valid_csr)\n",
    "    prec_k = precision_k(reco_rel, valid_csr, rel_mask, k)\n",
    "    rec_k = recall_k(reco_rel, valid_csr, rel_mask, k)\n",
    "    n_k = ndcg_k(reco_rel.getA(), valid_csr, rel_mask, k)\n",
    "    output_metrics[\"precision\"].append(prec_k)\n",
    "    output_metrics[\"recall\"].append(rec_k)\n",
    "    output_metrics[\"ndcg\"].append(n_k)"
   ]
  },
  {
   "cell_type": "code",
   "execution_count": null,
   "id": "fbb55ca9-8249-4541-a790-a6514f063f83",
   "metadata": {},
   "outputs": [],
   "source": []
  }
 ],
 "metadata": {
  "kernelspec": {
   "display_name": "Python 3 (ipykernel)",
   "language": "python",
   "name": "python3"
  },
  "language_info": {
   "codemirror_mode": {
    "name": "ipython",
    "version": 3
   },
   "file_extension": ".py",
   "mimetype": "text/x-python",
   "name": "python",
   "nbconvert_exporter": "python",
   "pygments_lexer": "ipython3",
   "version": "3.10.9"
  }
 },
 "nbformat": 4,
 "nbformat_minor": 5
}
