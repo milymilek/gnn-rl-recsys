{
 "cells": [
  {
   "cell_type": "code",
   "execution_count": 1,
   "id": "fb546702-6125-4cef-9446-8622a12fd197",
   "metadata": {},
   "outputs": [
    {
     "name": "stdout",
     "output_type": "stream",
     "text": [
      "C:\\Users\\Milosz\\thesis-recsys\n"
     ]
    }
   ],
   "source": [
    "%load_ext autoreload\n",
    "%autoreload 2\n",
    "\n",
    "import os\n",
    "os.chdir(\"../../\")\n",
    "print(os.getcwd())"
   ]
  },
  {
   "cell_type": "code",
   "execution_count": 2,
   "id": "168231cd-2891-4bad-81fb-6405cb2cf244",
   "metadata": {},
   "outputs": [],
   "source": [
    "import pandas as pd\n",
    "from py2neo import Graph, Node, Relationship\n",
    "\n",
    "from scripts.build_knowledge_graph import read_items_data, create_exploded_df,ENTITY_MAP"
   ]
  },
  {
   "cell_type": "code",
   "execution_count": 3,
   "id": "791d31d9-9584-489f-838d-223982dc93f6",
   "metadata": {},
   "outputs": [],
   "source": [
    "dir_art = 'data/steam'"
   ]
  },
  {
   "cell_type": "code",
   "execution_count": 4,
   "id": "63a2a645-0037-46bc-9a74-bae44c808700",
   "metadata": {},
   "outputs": [],
   "source": [
    "with open(os.path.join(dir_art, 'knowledge_graph.pkl'), \"rb\") as f:\n",
    "    knowledge_graph = pd.read_pickle(f)\n",
    "\n",
    "with open(os.path.join(dir_art, 'data.pkl'), \"rb\") as f:\n",
    "    data = pd.read_pickle(f)"
   ]
  },
  {
   "cell_type": "code",
   "execution_count": 5,
   "id": "1c681da2-f648-4f60-9a27-355437d3f6af",
   "metadata": {},
   "outputs": [],
   "source": [
    "valid_set = knowledge_graph[\"valid_set\"]\n",
    "ripple_sets_valid = knowledge_graph['ripple_sets_valid']\n",
    "RELATIONS_MAP = knowledge_graph[\"relations_map\"]\n",
    "ENTITY_MAP = knowledge_graph[\"entity_map\"]\n",
    "\n",
    "rev_rel_map = {v:k for k,v in RELATIONS_MAP.items()}\n",
    "rev_ent_map = {v:k for k,v in ENTITY_MAP.items()}"
   ]
  },
  {
   "cell_type": "code",
   "execution_count": 6,
   "id": "2cde1048-9589-4c5c-8cc5-2dbea4f1ba31",
   "metadata": {},
   "outputs": [],
   "source": [
    "df = read_items_data(os.path.join(\"./data\", 'items.csv'), os.path.join(\"./data\", 'steam.csv'), data)\n",
    "\n",
    "app_names_map = pd.Series(df['title'])\n",
    "app_names_map.index = df['app_id'] + 1\n",
    "app_names_map = app_names_map.to_dict()"
   ]
  },
  {
   "cell_type": "code",
   "execution_count": null,
   "id": "3e1eff9e-8011-413a-bdd7-55fe1a9a7b05",
   "metadata": {},
   "outputs": [],
   "source": []
  },
  {
   "cell_type": "code",
   "execution_count": 7,
   "id": "6bcb6bc0-9557-4a01-89b7-b3139e1171ab",
   "metadata": {},
   "outputs": [],
   "source": [
    "u_id = 36"
   ]
  },
  {
   "cell_type": "code",
   "execution_count": 8,
   "id": "5d335fbe-b0b5-4e81-a9a8-6ebf025dc82b",
   "metadata": {},
   "outputs": [
    {
     "name": "stdout",
     "output_type": "stream",
     "text": [
      "[(24, 'Fallout: New Vegas'), (24, 'Fallout: New Vegas'), (24, 'Fallout: New Vegas'), (24, 'Fallout: New Vegas'), (24, 'Fallout: New Vegas'), (24, 'Fallout: New Vegas'), (24, 'Fallout: New Vegas'), (24, 'Fallout: New Vegas'), (24, 'Fallout: New Vegas'), (24, 'Fallout: New Vegas'), (29, 'Fallout 3: Game of the Year Edition'), (29, 'Fallout 3: Game of the Year Edition'), (29, 'Fallout 3: Game of the Year Edition'), (29, 'Fallout 3: Game of the Year Edition'), (29, 'Fallout 3: Game of the Year Edition'), (29, 'Fallout 3: Game of the Year Edition'), (29, 'Fallout 3: Game of the Year Edition'), (29, 'Fallout 3: Game of the Year Edition'), (29, 'Fallout 3: Game of the Year Edition'), (29, 'Fallout 3: Game of the Year Edition'), (131, 'Warframe'), (131, 'Warframe'), (131, 'Warframe'), (131, 'Warframe'), (131, 'Warframe'), (131, 'Warframe'), (131, 'Warframe'), (131, 'Warframe'), (131, 'Warframe'), (131, 'Warframe'), (710, 'Deep Rock Galactic'), (710, 'Deep Rock Galactic'), (710, 'Deep Rock Galactic'), (710, 'Deep Rock Galactic'), (710, 'Deep Rock Galactic'), (710, 'Deep Rock Galactic'), (710, 'Deep Rock Galactic'), (710, 'Deep Rock Galactic'), (710, 'Deep Rock Galactic'), (710, 'Deep Rock Galactic')]\n"
     ]
    }
   ],
   "source": [
    "print(list(zip(ripple_sets_valid[0].loc[u_id]['head'].values, ripple_sets_valid[0].loc[u_id]['head'].map(app_names_map).values)))"
   ]
  },
  {
   "cell_type": "code",
   "execution_count": 9,
   "id": "762ee8da-9be2-4f25-b128-89a77823724f",
   "metadata": {},
   "outputs": [
    {
     "name": "stdout",
     "output_type": "stream",
     "text": [
      "[(3, 'tag'), (3, 'tag'), (3, 'tag'), (0, 'developed'), (3, 'tag'), (3, 'tag'), (3, 'tag'), (3, 'tag'), (2, 'system'), (3, 'tag'), (3, 'tag'), (3, 'tag'), (3, 'tag'), (3, 'tag'), (3, 'tag'), (3, 'tag'), (3, 'tag'), (0, 'developed'), (3, 'tag'), (3, 'tag'), (3, 'tag'), (3, 'tag'), (3, 'tag'), (3, 'tag'), (3, 'tag'), (3, 'tag'), (3, 'tag'), (3, 'tag'), (3, 'tag'), (3, 'tag'), (3, 'tag'), (3, 'tag'), (3, 'tag'), (3, 'tag'), (3, 'tag'), (2, 'system'), (3, 'tag'), (3, 'tag'), (3, 'tag'), (3, 'tag')]\n"
     ]
    }
   ],
   "source": [
    "print(list(zip(ripple_sets_valid[0].loc[u_id]['relation'].values, ripple_sets_valid[0].loc[u_id]['relation'].map(rev_rel_map).values)))"
   ]
  },
  {
   "cell_type": "code",
   "execution_count": 10,
   "id": "4b1d1dd6-e163-42b8-8bf8-cca859741805",
   "metadata": {
    "scrolled": true
   },
   "outputs": [
    {
     "name": "stdout",
     "output_type": "stream",
     "text": [
      "[(2156, 'Singleplayer'), (2181, 'Atmospheric'), (2194, 'Open World'), (1248, 'Obsidian Entertainment'), (2195, 'Sandbox'), (2292, 'Western'), (2204, 'Sci-fi'), (2183, 'RPG'), (2146, 'win'), (2172, 'Adventure'), (2164, 'Moddable'), (2187, 'Shooter'), (2216, 'Exploration'), (2181, 'Atmospheric'), (2227, 'Cult Classic'), (2195, 'Sandbox'), (2172, 'Adventure'), (1243, 'Bethesda Game Studios'), (2159, 'Replay Value'), (2183, 'RPG'), (2273, 'Free to Play'), (2170, 'Hack and Slash'), (2204, 'Sci-fi'), (2256, 'Action RPG'), (2156, 'Singleplayer'), (2426, 'Lore-Rich'), (2358, 'Parkour'), (2250, 'Massively Multiplayer'), (2175, 'Third Person'), (2187, 'Shooter'), (2181, 'Atmospheric'), (2307, 'Loot'), (2251, 'Class-Based'), (2193, 'Survival'), (2169, 'Action'), (2146, 'win'), (2383, 'Combat'), (2219, 'Space'), (2216, 'Exploration'), (2287, 'Dark')]\n"
     ]
    }
   ],
   "source": [
    "print(list(zip(ripple_sets_valid[0].loc[u_id]['tail'].values, ripple_sets_valid[0].loc[u_id]['tail'].map(rev_ent_map).values)))"
   ]
  },
  {
   "cell_type": "code",
   "execution_count": 11,
   "id": "f885cada-37db-4a0d-a88b-76b06f03e58c",
   "metadata": {},
   "outputs": [],
   "source": [
    "rel_names = {'developed': \"developed_by\", 'published': \"published_by\", 'system': \"available_on_system\",  \"tag\": \"tagged_as\"}\n",
    "node_names = {'developed': \"Developer\", 'published': \"Publisher\", 'system': \"System\",  \"tag\": \"Tag\"}"
   ]
  },
  {
   "cell_type": "code",
   "execution_count": 12,
   "id": "eb875c5f-bb8b-4294-9911-9f4649888206",
   "metadata": {},
   "outputs": [],
   "source": [
    "all_games = {k: Node(\"Game\", name=i) for k,i in app_names_map.items()}"
   ]
  },
  {
   "cell_type": "code",
   "execution_count": 13,
   "id": "2254ceb6-5351-4f70-ae37-23a0221fa921",
   "metadata": {
    "scrolled": true
   },
   "outputs": [],
   "source": [
    "other_nodes = {}\n",
    "def add_other_nodes(x):\n",
    "    other_nodes[x['relation'].iloc[0]] = x['tail'].unique()\n",
    "ripple_sets_valid[0].reset_index()[['relation', 'tail']].groupby('relation').apply(add_other_nodes)\n",
    "\n",
    "other_nodes_map = {}\n",
    "for k, v in other_nodes.items():\n",
    "    other_nodes_map[node_names[rev_rel_map[k]]] = [rev_ent_map[i] for i in v]\n",
    "all_other_nodes = {ENTITY_MAP[vi]: Node(k, name=vi) for k,v in other_nodes_map.items() for vi in v}"
   ]
  },
  {
   "cell_type": "code",
   "execution_count": 14,
   "id": "05d0921d-de00-438d-8c7d-59b8e5a87423",
   "metadata": {},
   "outputs": [],
   "source": [
    "graph = Graph(\"bolt://localhost:7687\", user=\"neo4j\", password=\"milosz1596\")"
   ]
  },
  {
   "cell_type": "code",
   "execution_count": 15,
   "id": "00090cad-2057-4b0a-9a50-e45255d16239",
   "metadata": {},
   "outputs": [],
   "source": [
    "for n in all_games.values():\n",
    "    graph.create(n)\n",
    "for n in all_other_nodes.values():\n",
    "    graph.create(n)"
   ]
  },
  {
   "cell_type": "code",
   "execution_count": 16,
   "id": "0c6e8384-faff-4994-90e7-679705a88d46",
   "metadata": {},
   "outputs": [],
   "source": [
    "rs0 = ripple_sets_valid[0].loc[u_id]\n",
    "relationships0 = []\n",
    "for _, row in rs0.iterrows():\n",
    "    h = all_games[row['head']]\n",
    "    r = rel_names[rev_rel_map[row['relation']]]\n",
    "    t = all_other_nodes[row['tail']]\n",
    "    relationships0.append(Relationship(h, r, t))"
   ]
  },
  {
   "cell_type": "code",
   "execution_count": 17,
   "id": "d58e508d-4688-423c-82a8-4dbb64352437",
   "metadata": {},
   "outputs": [],
   "source": [
    "rs1 = ripple_sets_valid[1].loc[u_id]\n",
    "relationships1 = []\n",
    "for _, row in rs1.iterrows():\n",
    "    h = all_other_nodes[row['head']]\n",
    "    r = rel_names[rev_rel_map[row['relation']]]\n",
    "    t = all_games[row['tail']]\n",
    "    relationships1.append(Relationship(h, r, t))"
   ]
  },
  {
   "cell_type": "code",
   "execution_count": 18,
   "id": "2c68ea12-ecf1-4dbd-842c-984b3c3aae9e",
   "metadata": {},
   "outputs": [],
   "source": [
    "# RS0 visualisations, stop and check neo4j\n",
    "for r in relationships0:\n",
    "    graph.create(r)"
   ]
  },
  {
   "cell_type": "code",
   "execution_count": 19,
   "id": "1ef8160d-bf9a-426e-8377-c00cffaaf359",
   "metadata": {},
   "outputs": [],
   "source": [
    "# RS0 and RS1 visualisations, stop and check neo4j\n",
    "for r in relationships1:\n",
    "    graph.create(r)"
   ]
  },
  {
   "cell_type": "code",
   "execution_count": null,
   "id": "e0972de1-bded-4e64-9d5d-4f39519b5ed5",
   "metadata": {},
   "outputs": [],
   "source": []
  },
  {
   "cell_type": "code",
   "execution_count": null,
   "id": "6c93ad95-8fdd-44d2-8d48-e23055f253ac",
   "metadata": {},
   "outputs": [],
   "source": [
    "# set UsetItem set as new label\n",
    "\n",
    "# WITH ['Fallout: New Vegas', 'Fallout 3: Game of the Year Edition', 'Warframe', 'Deep Rock Galactic'] as items\n",
    "# UNWIND items as itemName\n",
    "# MATCH (n {name: itemName})\n",
    "# SET n:UserItemSet\n",
    "# RETURN n;"
   ]
  }
 ],
 "metadata": {
  "kernelspec": {
   "display_name": "Python 3 (ipykernel)",
   "language": "python",
   "name": "python3"
  },
  "language_info": {
   "codemirror_mode": {
    "name": "ipython",
    "version": 3
   },
   "file_extension": ".py",
   "mimetype": "text/x-python",
   "name": "python",
   "nbconvert_exporter": "python",
   "pygments_lexer": "ipython3",
   "version": "3.10.9"
  }
 },
 "nbformat": 4,
 "nbformat_minor": 5
}
