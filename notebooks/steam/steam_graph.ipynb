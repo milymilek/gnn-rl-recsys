{
 "cells": [
  {
   "cell_type": "code",
   "execution_count": 1,
   "id": "7ca207e5-8293-4058-9ae7-a83313b833fa",
   "metadata": {
    "tags": []
   },
   "outputs": [
    {
     "name": "stdout",
     "output_type": "stream",
     "text": [
      "C:\\Users\\Milosz\\Desktop\\python\\thesis-recsys\n"
     ]
    }
   ],
   "source": [
    "%load_ext autoreload\n",
    "%autoreload 2\n",
    "\n",
    "import os\n",
    "os.chdir(\"../../\")\n",
    "print(os.getcwd())"
   ]
  },
  {
   "cell_type": "code",
   "execution_count": 2,
   "id": "900c914a-5fee-414c-9a46-6bc33e56b67c",
   "metadata": {
    "tags": []
   },
   "outputs": [],
   "source": [
    "import pandas as pd\n",
    "import numpy as np\n",
    "import functools\n",
    "import operator\n",
    "import json\n",
    "import matplotlib.pyplot as plt\n",
    "from tqdm import tqdm"
   ]
  },
  {
   "cell_type": "code",
   "execution_count": 3,
   "id": "bf620e79-87cd-4dd6-a669-a0fbca14c566",
   "metadata": {
    "tags": []
   },
   "outputs": [],
   "source": [
    "games = pd.read_csv('data/games.csv')\n",
    "rec = pd.read_csv('data/recommendations.csv')\n",
    "users = pd.read_csv('data/users.csv')\n",
    "meta = pd.read_json(\"data/games_metadata.json\", lines=True)"
   ]
  },
  {
   "cell_type": "code",
   "execution_count": 4,
   "id": "7c25981b-a764-416c-ba6b-32fe049a2fcd",
   "metadata": {
    "tags": []
   },
   "outputs": [
    {
     "data": {
      "text/html": [
       "<div>\n",
       "<style scoped>\n",
       "    .dataframe tbody tr th:only-of-type {\n",
       "        vertical-align: middle;\n",
       "    }\n",
       "\n",
       "    .dataframe tbody tr th {\n",
       "        vertical-align: top;\n",
       "    }\n",
       "\n",
       "    .dataframe thead th {\n",
       "        text-align: right;\n",
       "    }\n",
       "</style>\n",
       "<table border=\"1\" class=\"dataframe\">\n",
       "  <thead>\n",
       "    <tr style=\"text-align: right;\">\n",
       "      <th></th>\n",
       "      <th>app_id</th>\n",
       "      <th>description</th>\n",
       "      <th>tags</th>\n",
       "    </tr>\n",
       "  </thead>\n",
       "  <tbody>\n",
       "    <tr>\n",
       "      <th>0</th>\n",
       "      <td>10090</td>\n",
       "      <td>Call of Duty is back, redefining war like you'...</td>\n",
       "      <td>[Zombies, World War II, FPS, Multiplayer, Acti...</td>\n",
       "    </tr>\n",
       "    <tr>\n",
       "      <th>1</th>\n",
       "      <td>13500</td>\n",
       "      <td>Enter the dark underworld of Prince of Persia ...</td>\n",
       "      <td>[Action, Adventure, Parkour, Third Person, Gre...</td>\n",
       "    </tr>\n",
       "    <tr>\n",
       "      <th>2</th>\n",
       "      <td>22364</td>\n",
       "      <td></td>\n",
       "      <td>[Action]</td>\n",
       "    </tr>\n",
       "    <tr>\n",
       "      <th>3</th>\n",
       "      <td>113020</td>\n",
       "      <td>Monaco: What's Yours Is Mine is a single playe...</td>\n",
       "      <td>[Co-op, Stealth, Indie, Heist, Local Co-Op, St...</td>\n",
       "    </tr>\n",
       "    <tr>\n",
       "      <th>4</th>\n",
       "      <td>226560</td>\n",
       "      <td>Escape Dead Island is a Survival-Mystery adven...</td>\n",
       "      <td>[Zombies, Adventure, Survival, Action, Third P...</td>\n",
       "    </tr>\n",
       "    <tr>\n",
       "      <th>...</th>\n",
       "      <td>...</td>\n",
       "      <td>...</td>\n",
       "      <td>...</td>\n",
       "    </tr>\n",
       "    <tr>\n",
       "      <th>48348</th>\n",
       "      <td>248410</td>\n",
       "      <td>The planet of Aethereus is an ancient and myst...</td>\n",
       "      <td>[RPG, Action, Indie, Multiplayer, Co-op, Kicks...</td>\n",
       "    </tr>\n",
       "    <tr>\n",
       "      <th>48349</th>\n",
       "      <td>839680</td>\n",
       "      <td>No, Pay to Win/ Yes, Original Military FPS OBT...</td>\n",
       "      <td>[Free to Play, FPS, PvP, War, Combat, Modern, ...</td>\n",
       "    </tr>\n",
       "    <tr>\n",
       "      <th>48350</th>\n",
       "      <td>758210</td>\n",
       "      <td>Look for hints and disable the bomb. Now!! You...</td>\n",
       "      <td>[Adventure, Early Access, Simulation, VR, Esca...</td>\n",
       "    </tr>\n",
       "    <tr>\n",
       "      <th>48351</th>\n",
       "      <td>1612360</td>\n",
       "      <td>As a new Pvt on camp Greenwood you will be tes...</td>\n",
       "      <td>[Action, Simulation, Racing, Shooter, FPS, VR,...</td>\n",
       "    </tr>\n",
       "    <tr>\n",
       "      <th>48352</th>\n",
       "      <td>331810</td>\n",
       "      <td>Join one of the factions, build your base, exp...</td>\n",
       "      <td>[Loot, Action, Adventure, Massively Multiplaye...</td>\n",
       "    </tr>\n",
       "  </tbody>\n",
       "</table>\n",
       "<p>48353 rows × 3 columns</p>\n",
       "</div>"
      ],
      "text/plain": [
       "        app_id                                        description  \\\n",
       "0        10090  Call of Duty is back, redefining war like you'...   \n",
       "1        13500  Enter the dark underworld of Prince of Persia ...   \n",
       "2        22364                                                      \n",
       "3       113020  Monaco: What's Yours Is Mine is a single playe...   \n",
       "4       226560  Escape Dead Island is a Survival-Mystery adven...   \n",
       "...        ...                                                ...   \n",
       "48348   248410  The planet of Aethereus is an ancient and myst...   \n",
       "48349   839680  No, Pay to Win/ Yes, Original Military FPS OBT...   \n",
       "48350   758210  Look for hints and disable the bomb. Now!! You...   \n",
       "48351  1612360  As a new Pvt on camp Greenwood you will be tes...   \n",
       "48352   331810  Join one of the factions, build your base, exp...   \n",
       "\n",
       "                                                    tags  \n",
       "0      [Zombies, World War II, FPS, Multiplayer, Acti...  \n",
       "1      [Action, Adventure, Parkour, Third Person, Gre...  \n",
       "2                                               [Action]  \n",
       "3      [Co-op, Stealth, Indie, Heist, Local Co-Op, St...  \n",
       "4      [Zombies, Adventure, Survival, Action, Third P...  \n",
       "...                                                  ...  \n",
       "48348  [RPG, Action, Indie, Multiplayer, Co-op, Kicks...  \n",
       "48349  [Free to Play, FPS, PvP, War, Combat, Modern, ...  \n",
       "48350  [Adventure, Early Access, Simulation, VR, Esca...  \n",
       "48351  [Action, Simulation, Racing, Shooter, FPS, VR,...  \n",
       "48352  [Loot, Action, Adventure, Massively Multiplaye...  \n",
       "\n",
       "[48353 rows x 3 columns]"
      ]
     },
     "execution_count": 4,
     "metadata": {},
     "output_type": "execute_result"
    }
   ],
   "source": [
    "meta"
   ]
  },
  {
   "cell_type": "code",
   "execution_count": 5,
   "id": "c730486e-afe7-4f5a-92ba-afa0aa1fcfb2",
   "metadata": {
    "tags": []
   },
   "outputs": [
    {
     "data": {
      "text/html": [
       "<div>\n",
       "<style scoped>\n",
       "    .dataframe tbody tr th:only-of-type {\n",
       "        vertical-align: middle;\n",
       "    }\n",
       "\n",
       "    .dataframe tbody tr th {\n",
       "        vertical-align: top;\n",
       "    }\n",
       "\n",
       "    .dataframe thead th {\n",
       "        text-align: right;\n",
       "    }\n",
       "</style>\n",
       "<table border=\"1\" class=\"dataframe\">\n",
       "  <thead>\n",
       "    <tr style=\"text-align: right;\">\n",
       "      <th></th>\n",
       "      <th>app_id</th>\n",
       "      <th>title</th>\n",
       "      <th>date_release</th>\n",
       "      <th>win</th>\n",
       "      <th>mac</th>\n",
       "      <th>linux</th>\n",
       "      <th>rating</th>\n",
       "      <th>positive_ratio</th>\n",
       "      <th>user_reviews</th>\n",
       "      <th>price_final</th>\n",
       "      <th>price_original</th>\n",
       "      <th>discount</th>\n",
       "      <th>steam_deck</th>\n",
       "    </tr>\n",
       "  </thead>\n",
       "  <tbody>\n",
       "    <tr>\n",
       "      <th>0</th>\n",
       "      <td>10090</td>\n",
       "      <td>Call of Duty: World at War</td>\n",
       "      <td>2008-11-18</td>\n",
       "      <td>True</td>\n",
       "      <td>False</td>\n",
       "      <td>False</td>\n",
       "      <td>Very Positive</td>\n",
       "      <td>92</td>\n",
       "      <td>37039</td>\n",
       "      <td>19.99</td>\n",
       "      <td>19.99</td>\n",
       "      <td>0.0</td>\n",
       "      <td>True</td>\n",
       "    </tr>\n",
       "    <tr>\n",
       "      <th>1</th>\n",
       "      <td>13500</td>\n",
       "      <td>Prince of Persia: Warrior Within™</td>\n",
       "      <td>2008-11-21</td>\n",
       "      <td>True</td>\n",
       "      <td>False</td>\n",
       "      <td>False</td>\n",
       "      <td>Very Positive</td>\n",
       "      <td>84</td>\n",
       "      <td>2199</td>\n",
       "      <td>9.99</td>\n",
       "      <td>9.99</td>\n",
       "      <td>0.0</td>\n",
       "      <td>True</td>\n",
       "    </tr>\n",
       "    <tr>\n",
       "      <th>2</th>\n",
       "      <td>22364</td>\n",
       "      <td>BRINK: Agents of Change</td>\n",
       "      <td>2011-08-03</td>\n",
       "      <td>True</td>\n",
       "      <td>False</td>\n",
       "      <td>False</td>\n",
       "      <td>Positive</td>\n",
       "      <td>85</td>\n",
       "      <td>21</td>\n",
       "      <td>2.99</td>\n",
       "      <td>2.99</td>\n",
       "      <td>0.0</td>\n",
       "      <td>True</td>\n",
       "    </tr>\n",
       "    <tr>\n",
       "      <th>3</th>\n",
       "      <td>113020</td>\n",
       "      <td>Monaco: What's Yours Is Mine</td>\n",
       "      <td>2013-04-24</td>\n",
       "      <td>True</td>\n",
       "      <td>True</td>\n",
       "      <td>True</td>\n",
       "      <td>Very Positive</td>\n",
       "      <td>92</td>\n",
       "      <td>3722</td>\n",
       "      <td>14.99</td>\n",
       "      <td>14.99</td>\n",
       "      <td>0.0</td>\n",
       "      <td>True</td>\n",
       "    </tr>\n",
       "    <tr>\n",
       "      <th>4</th>\n",
       "      <td>226560</td>\n",
       "      <td>Escape Dead Island</td>\n",
       "      <td>2014-11-18</td>\n",
       "      <td>True</td>\n",
       "      <td>False</td>\n",
       "      <td>False</td>\n",
       "      <td>Mixed</td>\n",
       "      <td>61</td>\n",
       "      <td>873</td>\n",
       "      <td>14.99</td>\n",
       "      <td>14.99</td>\n",
       "      <td>0.0</td>\n",
       "      <td>True</td>\n",
       "    </tr>\n",
       "    <tr>\n",
       "      <th>...</th>\n",
       "      <td>...</td>\n",
       "      <td>...</td>\n",
       "      <td>...</td>\n",
       "      <td>...</td>\n",
       "      <td>...</td>\n",
       "      <td>...</td>\n",
       "      <td>...</td>\n",
       "      <td>...</td>\n",
       "      <td>...</td>\n",
       "      <td>...</td>\n",
       "      <td>...</td>\n",
       "      <td>...</td>\n",
       "      <td>...</td>\n",
       "    </tr>\n",
       "    <tr>\n",
       "      <th>48348</th>\n",
       "      <td>248410</td>\n",
       "      <td>Legends of Aethereus</td>\n",
       "      <td>2013-09-27</td>\n",
       "      <td>True</td>\n",
       "      <td>True</td>\n",
       "      <td>True</td>\n",
       "      <td>Mostly Negative</td>\n",
       "      <td>23</td>\n",
       "      <td>142</td>\n",
       "      <td>0.00</td>\n",
       "      <td>0.00</td>\n",
       "      <td>0.0</td>\n",
       "      <td>True</td>\n",
       "    </tr>\n",
       "    <tr>\n",
       "      <th>48349</th>\n",
       "      <td>839680</td>\n",
       "      <td>The Front of Greed</td>\n",
       "      <td>2018-08-01</td>\n",
       "      <td>True</td>\n",
       "      <td>False</td>\n",
       "      <td>False</td>\n",
       "      <td>Mostly Negative</td>\n",
       "      <td>37</td>\n",
       "      <td>27</td>\n",
       "      <td>0.00</td>\n",
       "      <td>0.00</td>\n",
       "      <td>0.0</td>\n",
       "      <td>True</td>\n",
       "    </tr>\n",
       "    <tr>\n",
       "      <th>48350</th>\n",
       "      <td>758210</td>\n",
       "      <td>Escape Room</td>\n",
       "      <td>2017-12-11</td>\n",
       "      <td>True</td>\n",
       "      <td>False</td>\n",
       "      <td>False</td>\n",
       "      <td>Mostly Negative</td>\n",
       "      <td>23</td>\n",
       "      <td>30</td>\n",
       "      <td>0.00</td>\n",
       "      <td>0.00</td>\n",
       "      <td>0.0</td>\n",
       "      <td>True</td>\n",
       "    </tr>\n",
       "    <tr>\n",
       "      <th>48351</th>\n",
       "      <td>1612360</td>\n",
       "      <td>Pistol Master!</td>\n",
       "      <td>2021-05-20</td>\n",
       "      <td>True</td>\n",
       "      <td>False</td>\n",
       "      <td>False</td>\n",
       "      <td>Negative</td>\n",
       "      <td>18</td>\n",
       "      <td>11</td>\n",
       "      <td>0.00</td>\n",
       "      <td>0.00</td>\n",
       "      <td>0.0</td>\n",
       "      <td>True</td>\n",
       "    </tr>\n",
       "    <tr>\n",
       "      <th>48352</th>\n",
       "      <td>331810</td>\n",
       "      <td>Lost Region</td>\n",
       "      <td>2019-07-15</td>\n",
       "      <td>True</td>\n",
       "      <td>False</td>\n",
       "      <td>False</td>\n",
       "      <td>Mostly Negative</td>\n",
       "      <td>27</td>\n",
       "      <td>179</td>\n",
       "      <td>0.00</td>\n",
       "      <td>0.00</td>\n",
       "      <td>0.0</td>\n",
       "      <td>True</td>\n",
       "    </tr>\n",
       "  </tbody>\n",
       "</table>\n",
       "<p>48353 rows × 13 columns</p>\n",
       "</div>"
      ],
      "text/plain": [
       "        app_id                              title date_release   win    mac  \\\n",
       "0        10090         Call of Duty: World at War   2008-11-18  True  False   \n",
       "1        13500  Prince of Persia: Warrior Within™   2008-11-21  True  False   \n",
       "2        22364            BRINK: Agents of Change   2011-08-03  True  False   \n",
       "3       113020       Monaco: What's Yours Is Mine   2013-04-24  True   True   \n",
       "4       226560                 Escape Dead Island   2014-11-18  True  False   \n",
       "...        ...                                ...          ...   ...    ...   \n",
       "48348   248410               Legends of Aethereus   2013-09-27  True   True   \n",
       "48349   839680                 The Front of Greed   2018-08-01  True  False   \n",
       "48350   758210                        Escape Room   2017-12-11  True  False   \n",
       "48351  1612360                     Pistol Master!   2021-05-20  True  False   \n",
       "48352   331810                        Lost Region   2019-07-15  True  False   \n",
       "\n",
       "       linux           rating  positive_ratio  user_reviews  price_final  \\\n",
       "0      False    Very Positive              92         37039        19.99   \n",
       "1      False    Very Positive              84          2199         9.99   \n",
       "2      False         Positive              85            21         2.99   \n",
       "3       True    Very Positive              92          3722        14.99   \n",
       "4      False            Mixed              61           873        14.99   \n",
       "...      ...              ...             ...           ...          ...   \n",
       "48348   True  Mostly Negative              23           142         0.00   \n",
       "48349  False  Mostly Negative              37            27         0.00   \n",
       "48350  False  Mostly Negative              23            30         0.00   \n",
       "48351  False         Negative              18            11         0.00   \n",
       "48352  False  Mostly Negative              27           179         0.00   \n",
       "\n",
       "       price_original  discount  steam_deck  \n",
       "0               19.99       0.0        True  \n",
       "1                9.99       0.0        True  \n",
       "2                2.99       0.0        True  \n",
       "3               14.99       0.0        True  \n",
       "4               14.99       0.0        True  \n",
       "...               ...       ...         ...  \n",
       "48348            0.00       0.0        True  \n",
       "48349            0.00       0.0        True  \n",
       "48350            0.00       0.0        True  \n",
       "48351            0.00       0.0        True  \n",
       "48352            0.00       0.0        True  \n",
       "\n",
       "[48353 rows x 13 columns]"
      ]
     },
     "execution_count": 5,
     "metadata": {},
     "output_type": "execute_result"
    }
   ],
   "source": [
    "games"
   ]
  },
  {
   "cell_type": "code",
   "execution_count": 6,
   "id": "a096dd53-112c-4173-9ea2-9866a3abfd46",
   "metadata": {
    "tags": []
   },
   "outputs": [
    {
     "data": {
      "text/html": [
       "<div>\n",
       "<style scoped>\n",
       "    .dataframe tbody tr th:only-of-type {\n",
       "        vertical-align: middle;\n",
       "    }\n",
       "\n",
       "    .dataframe tbody tr th {\n",
       "        vertical-align: top;\n",
       "    }\n",
       "\n",
       "    .dataframe thead th {\n",
       "        text-align: right;\n",
       "    }\n",
       "</style>\n",
       "<table border=\"1\" class=\"dataframe\">\n",
       "  <thead>\n",
       "    <tr style=\"text-align: right;\">\n",
       "      <th></th>\n",
       "      <th>app_id</th>\n",
       "      <th>helpful</th>\n",
       "      <th>funny</th>\n",
       "      <th>date</th>\n",
       "      <th>is_recommended</th>\n",
       "      <th>hours</th>\n",
       "      <th>user_id</th>\n",
       "      <th>review_id</th>\n",
       "    </tr>\n",
       "  </thead>\n",
       "  <tbody>\n",
       "    <tr>\n",
       "      <th>0</th>\n",
       "      <td>975370</td>\n",
       "      <td>0</td>\n",
       "      <td>0</td>\n",
       "      <td>2022-12-12</td>\n",
       "      <td>True</td>\n",
       "      <td>36.3</td>\n",
       "      <td>21265</td>\n",
       "      <td>0</td>\n",
       "    </tr>\n",
       "    <tr>\n",
       "      <th>1</th>\n",
       "      <td>304390</td>\n",
       "      <td>4</td>\n",
       "      <td>0</td>\n",
       "      <td>2017-02-17</td>\n",
       "      <td>False</td>\n",
       "      <td>11.5</td>\n",
       "      <td>1166</td>\n",
       "      <td>1</td>\n",
       "    </tr>\n",
       "    <tr>\n",
       "      <th>2</th>\n",
       "      <td>1085660</td>\n",
       "      <td>2</td>\n",
       "      <td>0</td>\n",
       "      <td>2019-11-17</td>\n",
       "      <td>True</td>\n",
       "      <td>336.5</td>\n",
       "      <td>97101</td>\n",
       "      <td>2</td>\n",
       "    </tr>\n",
       "    <tr>\n",
       "      <th>3</th>\n",
       "      <td>703080</td>\n",
       "      <td>0</td>\n",
       "      <td>0</td>\n",
       "      <td>2022-09-23</td>\n",
       "      <td>True</td>\n",
       "      <td>27.4</td>\n",
       "      <td>99068</td>\n",
       "      <td>3</td>\n",
       "    </tr>\n",
       "    <tr>\n",
       "      <th>4</th>\n",
       "      <td>526870</td>\n",
       "      <td>0</td>\n",
       "      <td>0</td>\n",
       "      <td>2021-01-10</td>\n",
       "      <td>True</td>\n",
       "      <td>7.9</td>\n",
       "      <td>9721</td>\n",
       "      <td>4</td>\n",
       "    </tr>\n",
       "    <tr>\n",
       "      <th>...</th>\n",
       "      <td>...</td>\n",
       "      <td>...</td>\n",
       "      <td>...</td>\n",
       "      <td>...</td>\n",
       "      <td>...</td>\n",
       "      <td>...</td>\n",
       "      <td>...</td>\n",
       "      <td>...</td>\n",
       "    </tr>\n",
       "    <tr>\n",
       "      <th>11480207</th>\n",
       "      <td>311690</td>\n",
       "      <td>0</td>\n",
       "      <td>0</td>\n",
       "      <td>2020-09-17</td>\n",
       "      <td>True</td>\n",
       "      <td>16.1</td>\n",
       "      <td>3250115</td>\n",
       "      <td>11480207</td>\n",
       "    </tr>\n",
       "    <tr>\n",
       "      <th>11480208</th>\n",
       "      <td>1449850</td>\n",
       "      <td>0</td>\n",
       "      <td>0</td>\n",
       "      <td>2022-02-01</td>\n",
       "      <td>False</td>\n",
       "      <td>0.7</td>\n",
       "      <td>42845</td>\n",
       "      <td>11480208</td>\n",
       "    </tr>\n",
       "    <tr>\n",
       "      <th>11480209</th>\n",
       "      <td>960090</td>\n",
       "      <td>3</td>\n",
       "      <td>0</td>\n",
       "      <td>2020-11-26</td>\n",
       "      <td>True</td>\n",
       "      <td>200.2</td>\n",
       "      <td>190650</td>\n",
       "      <td>11480209</td>\n",
       "    </tr>\n",
       "    <tr>\n",
       "      <th>11480210</th>\n",
       "      <td>311690</td>\n",
       "      <td>0</td>\n",
       "      <td>0</td>\n",
       "      <td>2018-01-07</td>\n",
       "      <td>True</td>\n",
       "      <td>5.7</td>\n",
       "      <td>4429817</td>\n",
       "      <td>11480210</td>\n",
       "    </tr>\n",
       "    <tr>\n",
       "      <th>11480211</th>\n",
       "      <td>1551360</td>\n",
       "      <td>0</td>\n",
       "      <td>0</td>\n",
       "      <td>2022-06-02</td>\n",
       "      <td>True</td>\n",
       "      <td>145.7</td>\n",
       "      <td>5736637</td>\n",
       "      <td>11480211</td>\n",
       "    </tr>\n",
       "  </tbody>\n",
       "</table>\n",
       "<p>11480212 rows × 8 columns</p>\n",
       "</div>"
      ],
      "text/plain": [
       "           app_id  helpful  funny        date  is_recommended  hours  user_id  \\\n",
       "0          975370        0      0  2022-12-12            True   36.3    21265   \n",
       "1          304390        4      0  2017-02-17           False   11.5     1166   \n",
       "2         1085660        2      0  2019-11-17            True  336.5    97101   \n",
       "3          703080        0      0  2022-09-23            True   27.4    99068   \n",
       "4          526870        0      0  2021-01-10            True    7.9     9721   \n",
       "...           ...      ...    ...         ...             ...    ...      ...   \n",
       "11480207   311690        0      0  2020-09-17            True   16.1  3250115   \n",
       "11480208  1449850        0      0  2022-02-01           False    0.7    42845   \n",
       "11480209   960090        3      0  2020-11-26            True  200.2   190650   \n",
       "11480210   311690        0      0  2018-01-07            True    5.7  4429817   \n",
       "11480211  1551360        0      0  2022-06-02            True  145.7  5736637   \n",
       "\n",
       "          review_id  \n",
       "0                 0  \n",
       "1                 1  \n",
       "2                 2  \n",
       "3                 3  \n",
       "4                 4  \n",
       "...             ...  \n",
       "11480207   11480207  \n",
       "11480208   11480208  \n",
       "11480209   11480209  \n",
       "11480210   11480210  \n",
       "11480211   11480211  \n",
       "\n",
       "[11480212 rows x 8 columns]"
      ]
     },
     "execution_count": 6,
     "metadata": {},
     "output_type": "execute_result"
    }
   ],
   "source": [
    "rec"
   ]
  },
  {
   "cell_type": "code",
   "execution_count": 7,
   "id": "938210f3-40c8-4a10-b7e6-b1009d7777dc",
   "metadata": {
    "tags": []
   },
   "outputs": [
    {
     "data": {
      "text/html": [
       "<div>\n",
       "<style scoped>\n",
       "    .dataframe tbody tr th:only-of-type {\n",
       "        vertical-align: middle;\n",
       "    }\n",
       "\n",
       "    .dataframe tbody tr th {\n",
       "        vertical-align: top;\n",
       "    }\n",
       "\n",
       "    .dataframe thead th {\n",
       "        text-align: right;\n",
       "    }\n",
       "</style>\n",
       "<table border=\"1\" class=\"dataframe\">\n",
       "  <thead>\n",
       "    <tr style=\"text-align: right;\">\n",
       "      <th></th>\n",
       "      <th>user_id</th>\n",
       "      <th>products</th>\n",
       "      <th>reviews</th>\n",
       "    </tr>\n",
       "  </thead>\n",
       "  <tbody>\n",
       "    <tr>\n",
       "      <th>0</th>\n",
       "      <td>6104846</td>\n",
       "      <td>156</td>\n",
       "      <td>1</td>\n",
       "    </tr>\n",
       "    <tr>\n",
       "      <th>1</th>\n",
       "      <td>3841247</td>\n",
       "      <td>329</td>\n",
       "      <td>3</td>\n",
       "    </tr>\n",
       "    <tr>\n",
       "      <th>2</th>\n",
       "      <td>2074781</td>\n",
       "      <td>176</td>\n",
       "      <td>2</td>\n",
       "    </tr>\n",
       "    <tr>\n",
       "      <th>3</th>\n",
       "      <td>2236937</td>\n",
       "      <td>98</td>\n",
       "      <td>2</td>\n",
       "    </tr>\n",
       "    <tr>\n",
       "      <th>4</th>\n",
       "      <td>2476707</td>\n",
       "      <td>144</td>\n",
       "      <td>3</td>\n",
       "    </tr>\n",
       "    <tr>\n",
       "      <th>...</th>\n",
       "      <td>...</td>\n",
       "      <td>...</td>\n",
       "      <td>...</td>\n",
       "    </tr>\n",
       "    <tr>\n",
       "      <th>6230639</th>\n",
       "      <td>2137695</td>\n",
       "      <td>3</td>\n",
       "      <td>0</td>\n",
       "    </tr>\n",
       "    <tr>\n",
       "      <th>6230640</th>\n",
       "      <td>2140035</td>\n",
       "      <td>0</td>\n",
       "      <td>0</td>\n",
       "    </tr>\n",
       "    <tr>\n",
       "      <th>6230641</th>\n",
       "      <td>2141140</td>\n",
       "      <td>0</td>\n",
       "      <td>0</td>\n",
       "    </tr>\n",
       "    <tr>\n",
       "      <th>6230642</th>\n",
       "      <td>2141972</td>\n",
       "      <td>0</td>\n",
       "      <td>0</td>\n",
       "    </tr>\n",
       "    <tr>\n",
       "      <th>6230643</th>\n",
       "      <td>2142362</td>\n",
       "      <td>9</td>\n",
       "      <td>0</td>\n",
       "    </tr>\n",
       "  </tbody>\n",
       "</table>\n",
       "<p>6230644 rows × 3 columns</p>\n",
       "</div>"
      ],
      "text/plain": [
       "         user_id  products  reviews\n",
       "0        6104846       156        1\n",
       "1        3841247       329        3\n",
       "2        2074781       176        2\n",
       "3        2236937        98        2\n",
       "4        2476707       144        3\n",
       "...          ...       ...      ...\n",
       "6230639  2137695         3        0\n",
       "6230640  2140035         0        0\n",
       "6230641  2141140         0        0\n",
       "6230642  2141972         0        0\n",
       "6230643  2142362         9        0\n",
       "\n",
       "[6230644 rows x 3 columns]"
      ]
     },
     "execution_count": 7,
     "metadata": {},
     "output_type": "execute_result"
    }
   ],
   "source": [
    "users"
   ]
  },
  {
   "cell_type": "code",
   "execution_count": null,
   "id": "8358f6cd-6572-4cf6-92b6-76ba1bdbb4a0",
   "metadata": {
    "tags": []
   },
   "outputs": [],
   "source": [
    "def plot_monthly_interactions(df: pd.DataFrame, col: str, boundary: str = None):\n",
    "    \"\"\"\n",
    "    Plot interactions from `df[col]` aggregated per month as line chart.\n",
    "    \n",
    "    Args:\n",
    "        df: Dataset containing `col`\n",
    "        col: Name of column with dates \n",
    "        boundary: Date in format `yyyy-mm-dd` representing boundary of split\n",
    "    \"\"\"\n",
    "    \n",
    "    fig, ax = plt.subplots()\n",
    "    \n",
    "    month_ints = pd.to_datetime(df[col]).dt.to_period(\"M\").value_counts().sort_index()\n",
    "    #month_ints = df[col].str.slice(0, 7).value_counts().sort_index()\n",
    "    month_ints.index = month_ints.index.to_timestamp()\n",
    "    \n",
    "    ax.plot(month_ints)\n",
    "    \n",
    "    if boundary:\n",
    "        from datetime import datetime\n",
    "        boundary = datetime.strptime(\"2022-12-01\", \"%Y-%m-%d\")\n",
    "        ax.axvline(boundary, color='red', linestyle='--')\n",
    "        \n",
    "    plt.show()"
   ]
  },
  {
   "cell_type": "code",
   "execution_count": null,
   "id": "d8a67382-813f-4252-ba1c-b2dd5ea89966",
   "metadata": {
    "tags": []
   },
   "outputs": [],
   "source": [
    "plot_monthly_interactions(rec, \"date\", \"2022-12-01\")"
   ]
  },
  {
   "cell_type": "code",
   "execution_count": null,
   "id": "5a39b3a9-3c42-49cc-8312-6d7e80f21f71",
   "metadata": {
    "tags": []
   },
   "outputs": [],
   "source": [
    "rec['is_recommended'] = rec['is_recommended'].astype(float)"
   ]
  },
  {
   "cell_type": "code",
   "execution_count": null,
   "id": "3196a8ee-dfb6-439d-9427-6a1fc9ff9364",
   "metadata": {
    "tags": []
   },
   "outputs": [],
   "source": [
    "rec = rec[rec['is_recommended'] == 1.0]"
   ]
  },
  {
   "cell_type": "code",
   "execution_count": null,
   "id": "5edd2965-4817-4e94-bb3f-6d7b35d5baf1",
   "metadata": {
    "tags": []
   },
   "outputs": [],
   "source": [
    "def split_by_date(df: pd.DataFrame, split_date: str, col: str):\n",
    "    \"\"\"\n",
    "    Sort and split dataframe into train and test sets on given date threshold.\n",
    "    \n",
    "    Args:\n",
    "        df: Dataset containing `col`\n",
    "        split_date: Split date in format `yyyy-mm-dd`\n",
    "        col: Name of column with dates\n",
    "        \n",
    "    Returns:\n",
    "        Tuple of (train_set, test_set) where train contains rows before `date`\n",
    "    \"\"\"\n",
    "    df_sorted = df.sort_values(by=col)\n",
    "    mask = df_sorted[col] <= split_date\n",
    "    df_train = df_sorted[mask]\n",
    "    df_test = df_sorted[~mask]\n",
    "    \n",
    "    return df_train, df_test"
   ]
  },
  {
   "cell_type": "code",
   "execution_count": null,
   "id": "1efe6d58-a4f3-4798-9c6e-fe30aae1fe9c",
   "metadata": {
    "tags": []
   },
   "outputs": [],
   "source": [
    "rec_train, rec_test = split_by_date(rec, \"2022-11-01\", \"date\")"
   ]
  },
  {
   "cell_type": "code",
   "execution_count": null,
   "id": "356f766a-67d0-4102-9bbd-459047a6e090",
   "metadata": {
    "tags": []
   },
   "outputs": [],
   "source": [
    "rec_train"
   ]
  },
  {
   "cell_type": "code",
   "execution_count": null,
   "id": "61718cde-8ba2-476a-8f95-6feec00c1e59",
   "metadata": {
    "tags": []
   },
   "outputs": [],
   "source": [
    "def split_transductive(df_train, df_test, user_col='user_id', item_col='app_id', print_stats=False):\n",
    "    all_users, all_items = df_train[user_col].unique(), df_train[item_col].unique()\n",
    "    \n",
    "    df_test_trans = df_test[(df_test[user_col].isin(all_users)) & \\\n",
    "                            (df_test[item_col].isin(all_items))]\n",
    "    \n",
    "    if print_stats:\n",
    "        u_test, i_test = df_test[user_col].unique().size, df_test[item_col].unique().size\n",
    "        u_test_trans, i_test_trans = df_test_trans[user_col].unique().size, \\\n",
    "                                     df_test_trans[item_col].unique().size\n",
    "        \n",
    "        print(f\"Train User nodes: {all_users.size} \\nTrain Item nodes: {all_items.size} \\n\\n\\\n",
    "Test User nodes w/o intersection: {u_test} \\nTest Item nodes w/o intersection: \\\n",
    "{i_test} \\n\\nTest User nodes: {u_test_trans} \\nTest Item nodes: {i_test_trans}\")\n",
    "        \n",
    "    return df_train, df_test_trans"
   ]
  },
  {
   "cell_type": "code",
   "execution_count": null,
   "id": "d326da7a-3367-4afd-bd09-5e1f2019484c",
   "metadata": {
    "tags": []
   },
   "outputs": [],
   "source": [
    "rec_train, rec_test = split_transductive(rec_train, rec_test, print_stats=True)"
   ]
  },
  {
   "cell_type": "code",
   "execution_count": null,
   "id": "0593d7f1-b5f1-4db6-9557-246ff757fb4c",
   "metadata": {
    "jupyter": {
     "source_hidden": true
    },
    "tags": []
   },
   "outputs": [],
   "source": [
    "# u_train, a_train = rec_train.user_id.unique(), rec_train.app_id.unique()\n",
    "# u_test, a_test = rec_test.user_id.unique(), rec_test.app_id.unique()"
   ]
  },
  {
   "cell_type": "code",
   "execution_count": null,
   "id": "0c4c80e3-6143-4131-b8e1-af77867ddc63",
   "metadata": {
    "jupyter": {
     "source_hidden": true
    },
    "tags": []
   },
   "outputs": [],
   "source": [
    "# u = np.intersect1d(u_train, u_test)\n",
    "# a = np.intersect1d(a_train, a_test)"
   ]
  },
  {
   "cell_type": "code",
   "execution_count": null,
   "id": "731d1668-84de-440c-a7e1-a52711ddb27b",
   "metadata": {
    "jupyter": {
     "source_hidden": true
    },
    "tags": []
   },
   "outputs": [],
   "source": [
    "# u.size, a.size"
   ]
  },
  {
   "cell_type": "code",
   "execution_count": null,
   "id": "8f155501-49ec-4b5e-b547-eeafbd5eb67b",
   "metadata": {
    "jupyter": {
     "source_hidden": true
    },
    "tags": []
   },
   "outputs": [],
   "source": [
    "#u, a = rec_train.user_id.unique(), rec_train.app_id.unique()"
   ]
  },
  {
   "cell_type": "code",
   "execution_count": null,
   "id": "3201ad8f-b098-4fdf-8ede-064bd10acce5",
   "metadata": {
    "jupyter": {
     "source_hidden": true
    },
    "tags": []
   },
   "outputs": [],
   "source": [
    "#print(u.size, a.size)"
   ]
  },
  {
   "cell_type": "code",
   "execution_count": null,
   "id": "1e5aed37-70f6-4b96-88a6-ba232b50aa74",
   "metadata": {
    "jupyter": {
     "source_hidden": true
    },
    "tags": []
   },
   "outputs": [],
   "source": [
    "#print(rec_test.user_id.unique().size, rec_test.app_id.unique().size)"
   ]
  },
  {
   "cell_type": "code",
   "execution_count": null,
   "id": "8075bbee-aec0-4839-be39-9d5c21b730c3",
   "metadata": {
    "jupyter": {
     "source_hidden": true
    },
    "tags": []
   },
   "outputs": [],
   "source": [
    "#rec_test = rec_test[(rec_test.user_id.isin(u)) & (rec_test.app_id.isin(a))]"
   ]
  },
  {
   "cell_type": "code",
   "execution_count": null,
   "id": "9af1d821-2eab-4a65-a164-1434c9afe72f",
   "metadata": {
    "jupyter": {
     "source_hidden": true
    },
    "tags": []
   },
   "outputs": [],
   "source": [
    "#print(rec_test.user_id.unique().size, rec_test.app_id.unique().size)"
   ]
  },
  {
   "cell_type": "code",
   "execution_count": null,
   "id": "a3109384-3f9f-4cd9-b258-d84a81ef6360",
   "metadata": {
    "jupyter": {
     "source_hidden": true
    },
    "tags": []
   },
   "outputs": [],
   "source": [
    "# rec_train = rec_train[(rec_train.user_id.isin(u)) & (rec_train.app_id.isin(a))]\n",
    "# rec_test = rec_test[(rec_test.user_id.isin(u)) & (rec_test.app_id.isin(a))]"
   ]
  },
  {
   "cell_type": "code",
   "execution_count": null,
   "id": "4f7bc354-8173-4e9f-a3ef-eebe3c581b0d",
   "metadata": {
    "jupyter": {
     "source_hidden": true
    },
    "tags": []
   },
   "outputs": [],
   "source": [
    "#rec_train"
   ]
  },
  {
   "cell_type": "code",
   "execution_count": null,
   "id": "9a0f1edb-2cb9-4a55-bea1-13dd1f62bcb0",
   "metadata": {
    "jupyter": {
     "source_hidden": true
    },
    "tags": []
   },
   "outputs": [],
   "source": [
    "#np.setdiff1d(rec_train.user_id.unique(), rec_test.user_id.unique()).shape"
   ]
  },
  {
   "cell_type": "code",
   "execution_count": null,
   "id": "32e991b6-5789-44b4-b536-089fd233705f",
   "metadata": {
    "jupyter": {
     "source_hidden": true
    },
    "tags": []
   },
   "outputs": [],
   "source": [
    "#np.setdiff1d(rec_train.app_id.unique(), rec_test.app_id.unique()).shape"
   ]
  },
  {
   "cell_type": "code",
   "execution_count": null,
   "id": "da472e79-74f4-4d87-aacc-a7c8436e8815",
   "metadata": {
    "jupyter": {
     "source_hidden": true
    },
    "tags": []
   },
   "outputs": [],
   "source": [
    "#np.setdiff1d(rec_test.app_id.unique(), rec_train.app_id.unique())"
   ]
  },
  {
   "cell_type": "code",
   "execution_count": null,
   "id": "1c35de95-0e29-4703-b8f9-e321684447ff",
   "metadata": {
    "jupyter": {
     "source_hidden": true
    },
    "scrolled": true,
    "tags": []
   },
   "outputs": [],
   "source": [
    "for ui in np.intersect1d(u, rec_test.user_id.unique()):\n",
    "    print(\"\\n\\n\", ui)\n",
    "    print(\"TRAIN: \")\n",
    "    display(rec_train[rec_train.user_id == ui])\n",
    "    print(\"TEST: \")\n",
    "    display(rec_test[rec_test.user_id == ui])"
   ]
  },
  {
   "cell_type": "code",
   "execution_count": null,
   "id": "ccca1aba-9504-449d-a5c7-9e6d3768265f",
   "metadata": {
    "tags": []
   },
   "outputs": [],
   "source": [
    "def remap(df, col):\n",
    "    idx = df[col].unique()\n",
    "    new_idx = np.arange(idx.size)\n",
    "    return {i: ni for i, ni in zip(idx, new_idx)}"
   ]
  },
  {
   "cell_type": "code",
   "execution_count": null,
   "id": "237a0de1-9190-4b4c-b522-9e18057915fd",
   "metadata": {
    "tags": []
   },
   "outputs": [],
   "source": [
    "user_dict = remap(rec_train, 'user_id')\n",
    "item_dict = remap(rec_train, 'app_id')"
   ]
  },
  {
   "cell_type": "code",
   "execution_count": null,
   "id": "754fde64-f3c3-47b1-9f2d-bdb2f1028835",
   "metadata": {
    "tags": []
   },
   "outputs": [],
   "source": [
    "rec_train['user_id'] = rec_train['user_id'].map(user_dict)\n",
    "rec_train['app_id'] = rec_train['app_id'].map(item_dict)\n",
    "\n",
    "rec_test['user_id'] = rec_test['user_id'].map(user_dict)\n",
    "rec_test['app_id'] = rec_test['app_id'].map(item_dict)"
   ]
  },
  {
   "cell_type": "code",
   "execution_count": null,
   "id": "25b672d6-4d39-49d8-b57d-b2c06636b6f1",
   "metadata": {
    "tags": []
   },
   "outputs": [],
   "source": [
    "rec_train.groupby('user_id').apply(lambda x: display(x[['user_id', 'app_id', 'date', 'is_recommended']]))"
   ]
  },
  {
   "cell_type": "code",
   "execution_count": null,
   "id": "7418d921-0249-40e8-ba02-30b136c650eb",
   "metadata": {
    "tags": []
   },
   "outputs": [],
   "source": [
    "rec_train"
   ]
  },
  {
   "cell_type": "code",
   "execution_count": null,
   "id": "3274c542-75eb-40a7-9d4b-00e9a188009e",
   "metadata": {
    "tags": []
   },
   "outputs": [],
   "source": [
    "rec_test"
   ]
  },
  {
   "cell_type": "markdown",
   "id": "8723cd1b-04f2-436a-b3a4-8eb4d63f4f1c",
   "metadata": {},
   "source": [
    "#### Save train and test relation graph and objects mappings"
   ]
  },
  {
   "cell_type": "code",
   "execution_count": null,
   "id": "fc6b6844-b49d-4735-8b93-a4b43c75699a",
   "metadata": {
    "tags": []
   },
   "outputs": [],
   "source": [
    "rec_train[['user_id', 'app_id', 'date', 'is_recommended']].to_csv(\"data/graph_train.csv\")\n",
    "rec_test[['user_id', 'app_id', 'date', 'is_recommended']].to_csv(\"data/graph_test.csv\")\n",
    "\n",
    "pd.DataFrame.from_dict(user_dict, orient='index').to_csv(\"data/user_dict.csv\")\n",
    "pd.DataFrame.from_dict(item_dict, orient='index').to_csv(\"data/item_dict.csv\")"
   ]
  },
  {
   "cell_type": "code",
   "execution_count": null,
   "id": "b3de40ee-168f-46d5-8afb-2b3375e9c84d",
   "metadata": {},
   "outputs": [],
   "source": []
  },
  {
   "cell_type": "code",
   "execution_count": null,
   "id": "3edcb562-c664-4e0e-bd2a-7522e3b3da4f",
   "metadata": {},
   "outputs": [],
   "source": []
  },
  {
   "cell_type": "markdown",
   "id": "a88a2204-fa11-49e2-b6e7-71797f9f1114",
   "metadata": {
    "tags": []
   },
   "source": [
    "### Extract `tags` from games included in training graph by one-hot encoding them and saving indices as list"
   ]
  },
  {
   "cell_type": "code",
   "execution_count": null,
   "id": "f45f1d1f-4f8e-465c-8135-35d7b1418d2c",
   "metadata": {
    "tags": []
   },
   "outputs": [],
   "source": [
    "from utils import *"
   ]
  },
  {
   "cell_type": "code",
   "execution_count": null,
   "id": "56537cb5-496f-48a2-b52a-ab2a6ae6e279",
   "metadata": {
    "tags": []
   },
   "outputs": [],
   "source": [
    "train_df = load_data_from_csv(\"data/graph_train.csv\")\n",
    "test_df = load_data_from_csv(\"data/graph_test.csv\")"
   ]
  },
  {
   "cell_type": "code",
   "execution_count": null,
   "id": "78f4238f-2c94-418f-8d4a-2ff93d9e5c70",
   "metadata": {
    "tags": []
   },
   "outputs": [],
   "source": [
    "item_dict = load_data_from_csv(\"data/item_dict.csv\").to_dict()['0']"
   ]
  },
  {
   "cell_type": "code",
   "execution_count": null,
   "id": "ac5d759f-8b69-49b7-8cac-681f12ce9aa9",
   "metadata": {
    "tags": []
   },
   "outputs": [],
   "source": [
    "meta['app_id_map'] = meta['app_id'].map(item_dict)"
   ]
  },
  {
   "cell_type": "code",
   "execution_count": null,
   "id": "715c41d9-0938-42df-9b4f-fb9d84423901",
   "metadata": {
    "tags": []
   },
   "outputs": [],
   "source": [
    "apps_attributes = meta.dropna(subset=['app_id_map'])\n",
    "apps_attributes = apps_attributes[['app_id_map', 'tags']]\n",
    "apps_attributes['app_id_map'] = apps_attributes['app_id_map'].astype(int)\n",
    "apps_attributes = apps_attributes.sort_values(by=['app_id_map'])"
   ]
  },
  {
   "cell_type": "code",
   "execution_count": null,
   "id": "a7bcf7d3-66c2-41d6-969a-919e35ffe0d2",
   "metadata": {
    "tags": []
   },
   "outputs": [],
   "source": [
    "apps_attributes"
   ]
  },
  {
   "cell_type": "code",
   "execution_count": null,
   "id": "feef6d74-6400-4045-8e54-5d1731515424",
   "metadata": {
    "tags": []
   },
   "outputs": [],
   "source": [
    "from sklearn.preprocessing import MultiLabelBinarizer"
   ]
  },
  {
   "cell_type": "code",
   "execution_count": null,
   "id": "9a533fd9-249b-46a4-8627-a1cd009dafb3",
   "metadata": {
    "tags": []
   },
   "outputs": [],
   "source": [
    "mlb = MultiLabelBinarizer()\n",
    "mlb.fit_transform(apps_attributes['tags'])\n",
    "tag_map = {cat: idx for idx, cat in enumerate(mlb.classes_)}"
   ]
  },
  {
   "cell_type": "code",
   "execution_count": null,
   "id": "75d0072c-f8f5-4d04-97a0-47f538592de8",
   "metadata": {
    "tags": []
   },
   "outputs": [],
   "source": [
    "apps_attributes['tags_id'] = apps_attributes['tags'].apply(lambda x: [tag_map[c] for c in x])"
   ]
  },
  {
   "cell_type": "code",
   "execution_count": null,
   "id": "46720ebc-0f5e-46b3-afa3-cca4c4446071",
   "metadata": {
    "tags": []
   },
   "outputs": [],
   "source": [
    "apps_attributes = apps_attributes.explode('tags_id', ignore_index=True)"
   ]
  },
  {
   "cell_type": "code",
   "execution_count": null,
   "id": "e7544034-3568-470e-89f0-63896573f2ea",
   "metadata": {
    "tags": []
   },
   "outputs": [],
   "source": [
    "apps_attributes[['app_id_map', 'tags_id']].to_csv(\"data/graph_app_tags.csv\")"
   ]
  },
  {
   "cell_type": "code",
   "execution_count": null,
   "id": "377c4309-ae60-4fb6-b881-73c8a062a601",
   "metadata": {},
   "outputs": [],
   "source": []
  },
  {
   "cell_type": "code",
   "execution_count": null,
   "id": "7bac0322-d37f-44f9-8e5a-9b35620525a5",
   "metadata": {},
   "outputs": [],
   "source": []
  },
  {
   "cell_type": "code",
   "execution_count": null,
   "id": "c3fd68f5-158d-4192-ace7-a00f49e75056",
   "metadata": {},
   "outputs": [],
   "source": []
  },
  {
   "cell_type": "markdown",
   "id": "503e3785-252d-4aca-9ce5-2b66eafb850c",
   "metadata": {},
   "source": [
    "### One-hot encode app features and take app subset used in training graph"
   ]
  },
  {
   "cell_type": "code",
   "execution_count": null,
   "id": "567e8c91-4d44-4f21-93e9-edc15bc00ff5",
   "metadata": {
    "tags": []
   },
   "outputs": [],
   "source": [
    "games['app_id_map'] = games['app_id'].map(item_dict)\n",
    "apps_attributes2 = games.dropna(subset=['app_id_map'])\n",
    "apps_attributes2['app_id_map'] = apps_attributes2['app_id_map'].astype(int)\n",
    "apps_attributes2 = apps_attributes2.sort_values(by=['app_id_map'])\n",
    "apps_attributes2 = apps_attributes2[['app_id_map', 'win', 'mac', 'linux', 'rating', 'positive_ratio', 'user_reviews', 'price_original', 'price_final', 'discount', 'steam_deck']]"
   ]
  },
  {
   "cell_type": "code",
   "execution_count": null,
   "id": "2596c1a3-516f-40d4-b31a-fd29fb305918",
   "metadata": {
    "tags": []
   },
   "outputs": [],
   "source": [
    "def featurize_apps(df):\n",
    "    for c in ['win', 'mac', 'linux', 'steam_deck']:\n",
    "        df[c] = df[c].astype(int)\n",
    "\n",
    "    rating = pd.get_dummies(df['rating'])\n",
    "    df = pd.concat([df, rating], axis=1)\n",
    "   \n",
    "    cols = ['app_id_map', 'win', 'mac', 'linux', 'steam_deck', 'price_original', 'price_final', 'discount', 'user_reviews', 'positive_ratio'] + \\\n",
    "    list(rating.columns)\n",
    "\n",
    "    return df[cols]"
   ]
  },
  {
   "cell_type": "code",
   "execution_count": null,
   "id": "47abeb46-05df-44d2-a48e-532861c49a86",
   "metadata": {
    "tags": []
   },
   "outputs": [],
   "source": [
    "apps_attributes2 = featurize_apps(apps_attributes2)"
   ]
  },
  {
   "cell_type": "code",
   "execution_count": null,
   "id": "499c44cb-977a-456c-9de8-b3aef4c3f780",
   "metadata": {
    "tags": []
   },
   "outputs": [],
   "source": [
    "apps_attributes2.to_csv(\"data/graph_app_features.csv\")"
   ]
  },
  {
   "cell_type": "code",
   "execution_count": null,
   "id": "1520ae37-f1f5-4828-a3be-6935bc3f86f0",
   "metadata": {},
   "outputs": [],
   "source": []
  }
 ],
 "metadata": {
  "kernelspec": {
   "display_name": "Python 3 (ipykernel)",
   "language": "python",
   "name": "python3"
  },
  "language_info": {
   "codemirror_mode": {
    "name": "ipython",
    "version": 3
   },
   "file_extension": ".py",
   "mimetype": "text/x-python",
   "name": "python",
   "nbconvert_exporter": "python",
   "pygments_lexer": "ipython3",
   "version": "3.10.9"
  }
 },
 "nbformat": 4,
 "nbformat_minor": 5
}
