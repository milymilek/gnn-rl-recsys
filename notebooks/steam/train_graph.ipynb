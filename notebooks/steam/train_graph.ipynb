{
 "cells": [
  {
   "cell_type": "code",
   "execution_count": null,
   "id": "3c54b140-d3be-4ec9-b14b-830f4973ee46",
   "metadata": {
    "tags": []
   },
   "outputs": [],
   "source": [
    "%load_ext autoreload\n",
    "%autoreload 2\n",
    "\n",
    "import os\n",
    "os.chdir(\"../../\")\n",
    "print(os.getcwd())"
   ]
  },
  {
   "cell_type": "code",
   "execution_count": null,
   "id": "6088f9e4-ec83-4cf4-ae00-daf1ca67ff01",
   "metadata": {
    "tags": []
   },
   "outputs": [],
   "source": [
    "import pandas as pd\n",
    "import numpy as np\n",
    "import functools\n",
    "import operator\n",
    "import json\n",
    "import matplotlib.pyplot as plt\n",
    "from tqdm import tqdm\n",
    "import pickle\n",
    "\n",
    "import torch\n",
    "import torch.nn.functional as F\n",
    "from torch import nn\n",
    "from torch.utils.tensorboard import SummaryWriter\n",
    "import torch_geometric\n",
    "import torch_geometric.transforms as T\n",
    "from torch_geometric.sampler import NegativeSampling\n",
    "from torch_geometric.loader import LinkNeighborLoader, NeighborLoader\n",
    "from torch_geometric.data import HeteroData\n",
    "from torch_geometric.utils import to_scipy_sparse_matrix\n",
    "\n",
    "from sklearn.metrics import roc_auc_score, confusion_matrix, ConfusionMatrixDisplay\n",
    "from sklearn.preprocessing import StandardScaler\n",
    "\n",
    "from models.gnn.sage import GraphSAGE\n",
    "from scripts.train_graph import train_epoch, test\n",
    "\n",
    "torch.set_printoptions(precision=2, sci_mode=False)\n",
    "torch.manual_seed(0)"
   ]
  },
  {
   "cell_type": "code",
   "execution_count": null,
   "id": "61b1cb33-ac35-48ba-a79e-a767cc484294",
   "metadata": {
    "tags": []
   },
   "outputs": [],
   "source": [
    "device = 'cuda' if torch.cuda.is_available() else 'cpu'\n",
    "print(device)"
   ]
  },
  {
   "cell_type": "code",
   "execution_count": null,
   "id": "09ea2e92-6db9-470e-b8e2-95812455cd66",
   "metadata": {
    "tags": []
   },
   "outputs": [],
   "source": [
    "with open(os.path.join(\"data/steam\", 'graph.pkl'), \"rb\") as f:\n",
    "    graph = pd.read_pickle(f)\n",
    "\n",
    "train_data = graph['train_data']\n",
    "valid_data = graph['valid_data']\n",
    "\n",
    "user_shape = train_data['user'].x.shape\n",
    "app_shape = train_data['app'].x.shape"
   ]
  },
  {
   "cell_type": "code",
   "execution_count": null,
   "id": "f4752f81-c611-4122-8d20-7cf32599f649",
   "metadata": {
    "jupyter": {
     "source_hidden": true
    },
    "tags": []
   },
   "outputs": [],
   "source": [
    "next(iter(train_loader))[('user', 'recommends', 'app')]['edge_label'].to(torch.float).mean()"
   ]
  },
  {
   "cell_type": "code",
   "execution_count": null,
   "id": "45258622-1bc7-40aa-9885-ba42db99776b",
   "metadata": {
    "jupyter": {
     "source_hidden": true
    },
    "tags": []
   },
   "outputs": [],
   "source": [
    "arr = mp_matrix.sum(axis=1).getA()\n",
    "unique_values, counts = np.unique(arr, return_counts=True)\n",
    "normalized_counts = counts / len(arr)\n",
    "\n",
    "# Create a dictionary with normalized value counts\n",
    "value_counts_normalized = {value: count for value, count in zip(unique_values, normalized_counts)}\n",
    "\n",
    "# Print the result\n",
    "print(value_counts_normalized)"
   ]
  },
  {
   "cell_type": "code",
   "execution_count": null,
   "id": "0dcb4de2-6119-4ca7-9474-45485d969806",
   "metadata": {
    "jupyter": {
     "source_hidden": true
    },
    "tags": []
   },
   "outputs": [],
   "source": [
    "# real_cols = ['positive_ratio', 'user_reviews', 'price_final', 'price_original', 'discount']\n",
    "\n",
    "# scaler = StandardScaler()\n",
    "# app_features_norm = scaler.fit_transform(app_features[real_cols].numpy())"
   ]
  },
  {
   "cell_type": "code",
   "execution_count": null,
   "id": "d8a5ef34-ea3a-4e1e-b23e-160b41c77b08",
   "metadata": {
    "jupyter": {
     "source_hidden": true
    },
    "tags": []
   },
   "outputs": [],
   "source": [
    "# Dataloader:\n",
    "#  - user: x->attributes of sampled nodes, n_id->mapping of sampled nodes to ids from whole graph\n",
    "#  - app: x->attributes of sampled nodes, n_id->mapping of sampled nodes to ids from whole graph\n",
    "#  - (user recommends app): \n",
    "#      edge_index -> sampled edges with batch ids with neighbors\n",
    "#      edge_label -> labels of edges which will be evaluated, size of batch size\n",
    "#      e_id -> mapping of sampled edges to ids from whole graph, refers to ?????\n",
    "#      input_id -> mapping of sampled edges to ids from whole graph, refers to edge_label_index\n",
    "#      edge_label_index -> edge index, ids of nodes in sampled graph which will be evaluated\n",
    "\n",
    "\n",
    "# To validate nodes first get sampled nodes ids from edge_label_index, then map them to whole graph\n",
    "# using n_ids of user and app and then check if such edge exists in dataframe"
   ]
  },
  {
   "cell_type": "code",
   "execution_count": null,
   "id": "e776c55a-8ac9-4a99-82d3-efc6511f724f",
   "metadata": {
    "jupyter": {
     "source_hidden": true
    },
    "tags": []
   },
   "outputs": [],
   "source": [
    "class GNN(torch.nn.Module):\n",
    "    def __init__(self, hidden_channels, out_channels):\n",
    "        super().__init__()\n",
    "        self.conv1 = nn.SAGEConv((hidden_channels, hidden_channels), hidden_channels, normalize=True)\n",
    "        self.conv2 = nn.SAGEConv((hidden_channels, hidden_channels), out_channels, normalize=False)\n",
    "        \n",
    "    def forward(self, x, edge_index):\n",
    "        x = self.conv1(x, edge_index).relu()\n",
    "        x = self.conv2(x, edge_index)\n",
    "        return x\n",
    "    \n",
    "    \n",
    "class Classifier(torch.nn.Module):\n",
    "    def forward(self, x_user, x_app, edge_label_index):\n",
    "        x_user = x_user[edge_label_index[0]]\n",
    "        x_app = x_app[edge_label_index[1]]\n",
    "        return (x_user * x_app).sum(dim=-1)\n",
    "\n",
    "\n",
    "class Model(torch.nn.Module):\n",
    "    def __init__(self, entities, hidden_channels, out_channels, metadata):\n",
    "        super().__init__()\n",
    "        \n",
    "        self.user_emb = torch.nn.Embedding(entities[0].x.shape[0], hidden_channels)\n",
    "        self.app_emb = torch.nn.Embedding(entities[1].x.shape[0], hidden_channels)\n",
    "        self.app_lin = torch.nn.Linear(entities[1].x.shape[1], hidden_channels)\n",
    "        \n",
    "        self.gnn = GNN(hidden_channels=hidden_channels, out_channels=out_channels)\n",
    "        self.gnn = nn.to_hetero(self.gnn, metadata=metadata, aggr='sum')\n",
    "        \n",
    "        self.clf = Classifier()\n",
    "        \n",
    "    def forward(self, batch):  \n",
    "        x_dict = {\n",
    "          \"user\": self.user_emb(batch['user'].n_id),\n",
    "          \"app\": self.app_emb(batch['app'].n_id) + self.app_lin(batch['app'].x),\n",
    "        } \n",
    "        \n",
    "        x_dict = self.gnn(x_dict, batch.edge_index_dict)\n",
    "        pred = self.clf(\n",
    "            x_dict[\"user\"],\n",
    "            x_dict[\"app\"],\n",
    "            batch['user', 'recommends', 'app'].edge_label_index,\n",
    "        )\n",
    "        return pred\n",
    "    \n",
    "    def evaluate(self, batch):\n",
    "        x_dict = {\n",
    "          \"user\": self.user_emb(batch['user'].n_id),\n",
    "          \"app\": self.app_emb(batch['app'].n_id) + self.app_lin(batch['app'].x),\n",
    "        } \n",
    "\n",
    "        x_dict = self.gnn(x_dict, batch.edge_index_dict)\n",
    "\n",
    "        return x_dict\n",
    "\n",
    "def xavier_init(m):\n",
    "    if isinstance(m, torch.nn.Linear) or isinstance(m, torch_geometric.nn.dense.linear.Linear):\n",
    "        torch.nn.init.xavier_normal_(m.weight, gain=1.41)\n",
    "        if m.bias is not None:\n",
    "            torch.nn.init.zeros_(m.bias)\n",
    "    \n",
    "model = Model(entities=(train_data['user'], train_data['app']), \n",
    "              hidden_channels=32, out_channels=32, metadata=train_data.metadata())\n",
    "model.apply(xavier_init)\n",
    "model = model.to(device)"
   ]
  },
  {
   "cell_type": "code",
   "execution_count": null,
   "id": "69193a7f-5f93-40af-ac0a-821b5e80fcc5",
   "metadata": {},
   "outputs": [],
   "source": [
    "train_loader = LinkNeighborLoader(\n",
    "    data=train_data,\n",
    "    num_neighbors=[20, 15],\n",
    "    neg_sampling_ratio=5.0,\n",
    "    edge_label_index=(('user', 'recommends', 'app'), train_data['user', 'recommends', 'app'].edge_label_index),\n",
    "    edge_label=train_data['user', 'recommends', 'app'].edge_label,\n",
    "    batch_size=1024,\n",
    "    shuffle=True,\n",
    "    drop_last=True\n",
    ")\n",
    "valid_loader = LinkNeighborLoader(\n",
    "    data=valid_data,\n",
    "    num_neighbors=[20, 15],\n",
    "    neg_sampling_ratio=5.0,\n",
    "    edge_label_index=(('user', 'recommends', 'app'), valid_data['user', 'recommends', 'app'].edge_label_index),\n",
    "    edge_label=valid_data['user', 'recommends', 'app'].edge_label,\n",
    "    batch_size=1024,\n",
    "    shuffle=True,\n",
    "    drop_last=True\n",
    ")"
   ]
  },
  {
   "cell_type": "code",
   "execution_count": null,
   "id": "396ceead-7335-4af4-a015-3377d330d299",
   "metadata": {},
   "outputs": [],
   "source": [
    "model = GraphSAGE(\n",
    "    entities_shapes={\"user\": user_shape, \"app\": app_shape},\n",
    "    hidden_channels=32,\n",
    "    out_channels=32,\n",
    "    metadata=train_data.metadata()\n",
    ").to(device)\n",
    "criterion = nn.BCEWithLogitsLoss()\n",
    "optimizer = torch.optim.RMSprop(params=model.parameters(), lr=1e-4, momentum=0.9)"
   ]
  },
  {
   "cell_type": "code",
   "execution_count": null,
   "id": "5e7492e4-d0c9-40e8-9735-489f79379b70",
   "metadata": {},
   "outputs": [],
   "source": []
  },
  {
   "cell_type": "code",
   "execution_count": null,
   "id": "45233a47-2303-4372-b7e4-993be1909f96",
   "metadata": {
    "scrolled": true
   },
   "outputs": [],
   "source": [
    "n_epochs = 10\n",
    "for epoch in tqdm(range(n_epochs)):\n",
    "    train_loss, train_roc_auc = train_epoch(\n",
    "        model=model,\n",
    "        criterion=criterion,\n",
    "        optimizer=optimizer,\n",
    "        train_loader=train_loader,\n",
    "        val_loader=valid_loader,\n",
    "        device=deviced\n",
    "    )\n",
    "    test_loss, test_roc_auc = test(\n",
    "        model=model,\n",
    "        criterion=criterion,\n",
    "        val_loader=valid_loader,\n",
    "        device=device\n",
    "    )\n",
    "    print(f\"\"\"Epoch <{epoch}>\\ntrain_loss: {train_loss} - train_roc_auc: {train_roc_auc}\n",
    "test_loss: {test_loss} - test_roc_auc: {test_roc_auc}\\n\"\"\")"
   ]
  },
  {
   "cell_type": "code",
   "execution_count": null,
   "id": "95b803c9-7939-42a8-abde-5ed021fb76ba",
   "metadata": {
    "jupyter": {
     "source_hidden": true
    }
   },
   "outputs": [],
   "source": [
    "# from datetime import datetime\n",
    "# torch.save(model.state_dict(), f\"models/{model.__class__.__name__}/{datetime.now().strftime('%Y%m%d%H%M%S')}.pth\")"
   ]
  },
  {
   "cell_type": "code",
   "execution_count": null,
   "id": "2f5307c5-a382-40ba-a63e-6d759454e5e7",
   "metadata": {
    "tags": []
   },
   "outputs": [],
   "source": [
    "p2 = retrieval.RetrievalPrecision(top_k=5)\n",
    "r2 = retrieval.RetrievalRecall(top_k=2)\n",
    "ndcg = retrieval.RetrievalNormalizedDCG(top_k=7)"
   ]
  },
  {
   "cell_type": "code",
   "execution_count": null,
   "id": "dc1b076e-2231-433b-8cc1-b16baceb8dd4",
   "metadata": {
    "tags": []
   },
   "outputs": [],
   "source": [
    "preds = torch.tensor([0.7, 0.8, 0.1, 0.2, 0.4, 0.6, 0.5, 0.9, 0.3, 0.15])\n",
    "targets = torch.tensor([True, True, False, False, False, False, False, False, False, False])\n",
    "indices = torch.tensor([0,0,0,0,0,0,0,0,0,0])\n",
    "\n",
    "mask = torch.ones(preds.shape, dtype=torch.bool)\n",
    "mask[[4, 5, 7]] = False\n",
    "print(preds[mask])\n",
    "print(targets[mask])"
   ]
  },
  {
   "cell_type": "code",
   "execution_count": null,
   "id": "c5112db0-910d-41ca-a474-9309bbdd820f",
   "metadata": {
    "tags": []
   },
   "outputs": [],
   "source": [
    "preds = torch.tensor([1.0, 0.85, 0.8, 0.7, 0.65])\n",
    "targets = torch.tensor([False, False, False, False, False])\n",
    "indices = torch.tensor([0,0,0,0,0])"
   ]
  },
  {
   "cell_type": "code",
   "execution_count": null,
   "id": "65dffbad-516c-44c2-b2cf-59c87945d97e",
   "metadata": {
    "tags": []
   },
   "outputs": [],
   "source": [
    "p2(preds, targets, indexes=indices)"
   ]
  },
  {
   "cell_type": "code",
   "execution_count": null,
   "id": "ef36301e-fd1c-4736-85ba-c21c0f9768bb",
   "metadata": {
    "tags": []
   },
   "outputs": [],
   "source": [
    "r2(preds, targets, indexes=indices)"
   ]
  },
  {
   "cell_type": "code",
   "execution_count": null,
   "id": "7337d182-dfa6-49f9-ab1f-4ca29816908a",
   "metadata": {
    "tags": []
   },
   "outputs": [],
   "source": [
    "ndcg(preds, targets, indexes=indices)"
   ]
  },
  {
   "cell_type": "code",
   "execution_count": null,
   "id": "264ad60d-43c0-4464-a4f5-33fdbdec5023",
   "metadata": {
    "tags": []
   },
   "outputs": [],
   "source": [
    "def dcg(rel):\n",
    "    g = 0.\n",
    "    for i in range(1,6):\n",
    "        g+= (2**rel[i-1] - 1)/np.log2(i+1)\n",
    "    return g"
   ]
  },
  {
   "cell_type": "code",
   "execution_count": null,
   "id": "fdcd36c4-f19c-42d9-9a30-ce5a18d6a117",
   "metadata": {
    "tags": []
   },
   "outputs": [],
   "source": [
    "rel = [1,0,1,0,1]\n",
    "rel_idcg = [1,1,1,0,0]\n",
    "print(dcg(rel))\n",
    "print(dcg(rel_idcg))\n",
    "print(dcg(rel)/dcg(rel_idcg))"
   ]
  },
  {
   "cell_type": "code",
   "execution_count": null,
   "id": "5210302d-0aa8-4a66-98c2-6d9a28b9484a",
   "metadata": {},
   "outputs": [],
   "source": [
    "torch.tensor([0.9, 0.7, 0.6])"
   ]
  },
  {
   "cell_type": "code",
   "execution_count": null,
   "id": "5b88e770-5ae4-42d3-8c02-bed10ddc5dd4",
   "metadata": {
    "tags": []
   },
   "outputs": [],
   "source": [
    "(preds[i][:3] / torch.log2(torch.arange(3)+2)).sum() / (torch.tensor([0.9, 0.7, 0.6]) / torch.log2(torch.arange(3)+2)).sum()"
   ]
  },
  {
   "cell_type": "code",
   "execution_count": null,
   "id": "f41c4421-a44b-4197-8b7e-eb54db214a64",
   "metadata": {},
   "outputs": [],
   "source": []
  },
  {
   "cell_type": "code",
   "execution_count": null,
   "id": "c1f1922d-4623-4597-935f-f78c618f64bf",
   "metadata": {
    "tags": []
   },
   "outputs": [],
   "source": [
    "torch.log2(torch.arange(3)+2)"
   ]
  },
  {
   "cell_type": "code",
   "execution_count": null,
   "id": "3ba09046-a518-439c-9c99-30a55fd84050",
   "metadata": {},
   "outputs": [],
   "source": []
  },
  {
   "cell_type": "code",
   "execution_count": null,
   "id": "8ceef365-2ccb-41b4-9171-a64418858fa6",
   "metadata": {},
   "outputs": [],
   "source": []
  },
  {
   "cell_type": "code",
   "execution_count": null,
   "id": "3e038ff8-6486-4469-bc94-7803c0e434d6",
   "metadata": {
    "tags": []
   },
   "outputs": [],
   "source": [
    "cm = confusion_matrix(y_true.detach().cpu().numpy(), y_pred.detach().cpu().numpy().round())\n",
    "cm_display = ConfusionMatrixDisplay(confusion_matrix=cm, display_labels=[False, True])\n",
    "cm_display.plot()\n",
    "plt.show()"
   ]
  },
  {
   "cell_type": "code",
   "execution_count": null,
   "id": "a649ad13-b1ce-4dfd-b004-cbacd7489344",
   "metadata": {},
   "outputs": [],
   "source": [
    "def save_model(model, path):\n",
    "    torch.save(model.state_dict(), path)\n",
    "    \n",
    "def load_model(path):\n",
    "    model = Model(hidden_channels=32, out_channels=32, metadata=train_data.metadata())\n",
    "    model.load_state_dict(torch.load(path))\n",
    "    model = model.to(device)\n",
    "    return model"
   ]
  },
  {
   "cell_type": "code",
   "execution_count": null,
   "id": "d1b149d4-46b6-4bc4-8559-130ae2b93545",
   "metadata": {
    "tags": []
   },
   "outputs": [],
   "source": [
    "#save_model(model, \"models/gnn_03.pth\")"
   ]
  },
  {
   "cell_type": "code",
   "execution_count": null,
   "id": "a12d26e9-9234-474a-8cd4-8ade83aba18b",
   "metadata": {
    "tags": []
   },
   "outputs": [],
   "source": [
    "model = load_model(\"models/gnn_03.pth\")"
   ]
  },
  {
   "cell_type": "code",
   "execution_count": null,
   "id": "47fbd4af-954d-4dc7-9c6d-9352138dc066",
   "metadata": {
    "tags": []
   },
   "outputs": [],
   "source": [
    "print(nn.summary(model, next(iter(train_loader)).to(device)))"
   ]
  },
  {
   "cell_type": "code",
   "execution_count": null,
   "id": "11f847e7-0424-471d-b78c-0bdff124cded",
   "metadata": {},
   "outputs": [],
   "source": [
    "model"
   ]
  },
  {
   "cell_type": "code",
   "execution_count": null,
   "id": "1c3fcdc9-222c-4488-9b23-43057a14361f",
   "metadata": {},
   "outputs": [],
   "source": []
  }
 ],
 "metadata": {
  "kernelspec": {
   "display_name": "Python 3 (ipykernel)",
   "language": "python",
   "name": "python3"
  },
  "language_info": {
   "codemirror_mode": {
    "name": "ipython",
    "version": 3
   },
   "file_extension": ".py",
   "mimetype": "text/x-python",
   "name": "python",
   "nbconvert_exporter": "python",
   "pygments_lexer": "ipython3",
   "version": "3.10.9"
  }
 },
 "nbformat": 4,
 "nbformat_minor": 5
}
