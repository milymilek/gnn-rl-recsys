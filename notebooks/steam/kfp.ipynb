{
 "cells": [
  {
   "cell_type": "code",
   "execution_count": null,
   "id": "3c54b140-d3be-4ec9-b14b-830f4973ee46",
   "metadata": {
    "tags": []
   },
   "outputs": [],
   "source": [
    "%load_ext autoreload\n",
    "%autoreload 2\n",
    "\n",
    "import os\n",
    "os.chdir(\"../\")\n",
    "print(os.getcwd())"
   ]
  },
  {
   "cell_type": "code",
   "execution_count": null,
   "id": "6088f9e4-ec83-4cf4-ae00-daf1ca67ff01",
   "metadata": {
    "tags": []
   },
   "outputs": [],
   "source": [
    "import pandas as pd\n",
    "import numpy as np\n",
    "import functools\n",
    "import operator\n",
    "import json\n",
    "import matplotlib.pyplot as plt\n",
    "from tqdm import tqdm\n",
    "\n",
    "import torch_geometric as tg\n",
    "import torch_geometric.transforms as T\n",
    "from torch_geometric.loader import LinkNeighborLoader, NeighborLoader\n",
    "from torch_geometric.data import HeteroData\n",
    "import torch\n",
    "import torch.nn.functional as F\n",
    "from torch.utils.tensorboard import SummaryWriter"
   ]
  },
  {
   "cell_type": "code",
   "execution_count": null,
   "id": "61b1cb33-ac35-48ba-a79e-a767cc484294",
   "metadata": {
    "tags": []
   },
   "outputs": [],
   "source": [
    "device = 'cuda' if torch.cuda.is_available() else 'cpu'\n",
    "print(device)"
   ]
  },
  {
   "cell_type": "code",
   "execution_count": null,
   "id": "456cbeab-2eb3-4f74-8f1b-6e6149c4121b",
   "metadata": {},
   "outputs": [],
   "source": []
  },
  {
   "cell_type": "code",
   "execution_count": null,
   "id": "bfb52631-20c9-439e-809b-6c35cc371d03",
   "metadata": {
    "tags": []
   },
   "outputs": [],
   "source": [
    "from kfp import dsl"
   ]
  },
  {
   "cell_type": "code",
   "execution_count": null,
   "id": "fc9cf56d-f114-4946-8c6c-8718727cfe38",
   "metadata": {
    "tags": []
   },
   "outputs": [],
   "source": [
    "@dsl.component\n",
    "def say_hello(name: str) -> str:\n",
    "    hello_text = f'Hello, {name}!'\n",
    "    print(hello_text)\n",
    "    return hello_text\n",
    "\n",
    "@dsl.pipeline(name=\"HelloWorldPipeline\")\n",
    "def hello_pipeline(recipient: str) -> str:\n",
    "    hello_task = say_hello(name=recipient)\n",
    "    return hello_task.output"
   ]
  },
  {
   "cell_type": "code",
   "execution_count": null,
   "id": "fe777de2-1e8e-46ee-a3cc-6fe92a039c70",
   "metadata": {
    "tags": []
   },
   "outputs": [],
   "source": [
    "from kfp import compiler\n",
    "\n",
    "compiler.Compiler().compile(hello_pipeline, 'pipeline.yaml')"
   ]
  },
  {
   "cell_type": "code",
   "execution_count": null,
   "id": "fedd51c2-0efd-48ed-8870-98b82835c419",
   "metadata": {
    "tags": []
   },
   "outputs": [],
   "source": [
    "from kfp.client import Client\n",
    "\n",
    "client = Client(host='http://localhost:8080')\n",
    "client.set_user_namespace('kubeflow')\n",
    "run = client.create_run_from_pipeline_package(\n",
    "    'pipeline.yaml',\n",
    "    arguments={\n",
    "        'recipient': 'World',\n",
    "    },\n",
    ")"
   ]
  },
  {
   "cell_type": "code",
   "execution_count": null,
   "id": "376cbc2b-6723-4ba3-a4cc-90b160d96eca",
   "metadata": {
    "jupyter": {
     "source_hidden": true
    },
    "tags": []
   },
   "outputs": [],
   "source": [
    "# def load_node_csv(path, index_col, encoders=None, **kwargs):\n",
    "#     df = pd.read_csv(path, index_col=index_col, **kwargs)\n",
    "#     mapping = {index: i for i, index in enumerate(df.index.unique())}\n",
    "\n",
    "#     x = None\n",
    "#     if encoders is not None:\n",
    "#         xs = [encoder(df[col]) for col, encoder in encoders.items()]\n",
    "#         x = torch.cat(xs, dim=-1)\n",
    "\n",
    "#     return x, mapping"
   ]
  },
  {
   "cell_type": "code",
   "execution_count": null,
   "id": "ac913255-c78b-4e44-a699-ea72f6bd6f99",
   "metadata": {
    "tags": []
   },
   "outputs": [],
   "source": [
    "def load_data_from_csv(path: str) -> pd.DataFrame:\n",
    "    \"\"\"\n",
    "    Loads data from a CSV file into a Pandas DataFrame.\n",
    "    Csv file requirements:\n",
    "        - `user_id` - int\n",
    "        - `app_id` - int\n",
    "        - `is_recommended` - int [0/1]\n",
    "\n",
    "    Parameters:\n",
    "    - path (str): The file path of the CSV file to load.\n",
    "\n",
    "    Returns:\n",
    "    - df (pd.DataFrame): The loaded data as a Pandas DataFrame.\n",
    "    \"\"\"\n",
    "    df = pd.read_csv(path, index_col=[0])\n",
    "    return df"
   ]
  },
  {
   "cell_type": "code",
   "execution_count": null,
   "id": "d193917e-f51a-44d3-b308-3287883a2d37",
   "metadata": {
    "tags": []
   },
   "outputs": [],
   "source": [
    "def load_graph(df: pd.DataFrame) -> HeteroData:\n",
    "    \"\"\"\n",
    "    Loads a graph data structure from a pandas DataFrame.\n",
    "    \n",
    "    Parameters:\n",
    "        - df (pd.DataFrame): The input DataFrame containing the graph data.\n",
    "\n",
    "    Returns:\n",
    "        - HeteroData: A heterogeneous graph data object representing the input graph.\n",
    "\n",
    "    Example:\n",
    "        >>> import pandas as pd\n",
    "        >>> df = pd.DataFrame({'user_id': [1, 2, 3], 'app_id': [4, 5, 6], 'is_recommended': [1, 0 ,1]})\n",
    "        >>> graph = load_graph(df)\n",
    "    \"\"\"\n",
    "    \n",
    "    data = HeteroData()\n",
    "    \n",
    "    data['user'].x = torch.zeros(df['user_id'].nunique(), 1)\n",
    "    data['app'].x = torch.zeros(df['app_id'].nunique(), 1)\n",
    "    \n",
    "    edge_index = torch.tensor([df['user_id'].values, df['app_id'].values])\n",
    "    edge_label = torch.tensor(df['is_recommended'].values)\n",
    "\n",
    "    data['user', 'recommends', 'app'].edge_index = edge_index\n",
    "    data['user', 'recommends', 'app'].edge_label = edge_label\n",
    "    \n",
    "    return data"
   ]
  },
  {
   "cell_type": "code",
   "execution_count": null,
   "id": "1ab557b2-f497-4e84-9e43-7c9524094b49",
   "metadata": {
    "tags": []
   },
   "outputs": [],
   "source": [
    "def transform_graph(data: HeteroData) -> HeteroData:\n",
    "    \"\"\"\n",
    "    Applies a transformation to a heterogeneous graph data object.\n",
    "\n",
    "    Parameters:\n",
    "        data (HeteroData): The input graph data object to be transformed.\n",
    "\n",
    "    Returns:\n",
    "        HeteroData: A new heterogeneous graph data object resulting from the transformation.\n",
    "\n",
    "    Example:\n",
    "        >>> transformed_data = transform_graph(data)\n",
    "    \"\"\"\n",
    "    transform = T.Compose([T.ToUndirected()])\n",
    "    return transform(data)"
   ]
  },
  {
   "cell_type": "code",
   "execution_count": null,
   "id": "f021d96a-e872-40ee-96f8-d0e6fced058f",
   "metadata": {
    "tags": []
   },
   "outputs": [],
   "source": [
    "def init_edge_loader(data: HeteroData, **kwargs) -> NeighborLoader:\n",
    "    \"\"\"\n",
    "    Initializes a neighbor loader for edge-based data in a heterogeneous graph.\n",
    "    Firstly we sample `batch_size` edges and then sample at most `num_neighbors[0]`\n",
    "    neighboring edges at first hop and at most `num_neighbors[1]` at second hop. \n",
    "    Value returned by next(iter(loader)) is a subgraph of `data` graph containing\n",
    "    only sampled edges and congruent nodes.\n",
    "\n",
    "    Args:\n",
    "        data (HeteroData): The input heterogeneous graph data object.\n",
    "        **kwargs: Additional keyword arguments for configuring the loader.\n",
    "\n",
    "    Returns:\n",
    "        NeighborLoader: A neighbor loader for the specified edge-based data.\n",
    "\n",
    "    Example:\n",
    "        >>> loader = init_edge_loader(data, num_neighbors=5, neg_sampl=0.2, bs=32, shuffle=True)\n",
    "    \"\"\"\n",
    "    \n",
    "    eli = (('user', 'recommends', 'app'), data['user', 'recommends', 'app'].edge_index)\n",
    "    el = data['user', 'recommends', 'app'].edge_label\n",
    "    \n",
    "    loader = LinkNeighborLoader(\n",
    "        data=data,\n",
    "        num_neighbors=kwargs['num_neighbors'],\n",
    "        neg_sampling_ratio=kwargs['neg_sampl'],\n",
    "        edge_label_index=eli,\n",
    "        edge_label=el,\n",
    "        batch_size=kwargs['bs'],\n",
    "        shuffle=kwargs['shuffle'],\n",
    "    )\n",
    "    return loader"
   ]
  },
  {
   "cell_type": "code",
   "execution_count": null,
   "id": "13ad4a4e-0cf3-48e2-8430-a8ab1d1ec82f",
   "metadata": {
    "tags": []
   },
   "outputs": [],
   "source": [
    "train_df = load_data_from_csv(\"data/graph_train.csv\")\n",
    "test_df = load_data_from_csv(\"data/graph_test.csv\")"
   ]
  },
  {
   "cell_type": "code",
   "execution_count": null,
   "id": "98fa8686-ba39-4d12-ba3a-eea65d568787",
   "metadata": {
    "tags": []
   },
   "outputs": [],
   "source": [
    "train_data = load_graph(train_df)\n",
    "test_data = load_graph(test_df)"
   ]
  },
  {
   "cell_type": "code",
   "execution_count": null,
   "id": "1d9668e9-91b3-4b83-91a5-b66cd274fa86",
   "metadata": {
    "tags": []
   },
   "outputs": [],
   "source": [
    "train_data"
   ]
  },
  {
   "cell_type": "code",
   "execution_count": null,
   "id": "10734aaa-2544-41cd-83d7-ad24d5d1d556",
   "metadata": {
    "tags": []
   },
   "outputs": [],
   "source": [
    "test_data"
   ]
  },
  {
   "cell_type": "code",
   "execution_count": null,
   "id": "5139fc1b-1268-435f-a762-99d1b2baac0d",
   "metadata": {
    "tags": []
   },
   "outputs": [],
   "source": [
    "train_data = transform_graph(train_data)\n",
    "test_data = transform_graph(test_data)"
   ]
  },
  {
   "cell_type": "code",
   "execution_count": null,
   "id": "76311b80-aa02-4bc2-8486-c80bfc510401",
   "metadata": {
    "tags": []
   },
   "outputs": [],
   "source": [
    "test_data = init_edge_loader(test_data, num_neighbors=[20, 10], neg_sampl=0., bs=128, shuffle=False)"
   ]
  },
  {
   "cell_type": "code",
   "execution_count": null,
   "id": "6a2e25ac-9602-460e-a0ee-6c6bb6e2dcca",
   "metadata": {
    "tags": []
   },
   "outputs": [],
   "source": [
    "train_loader = init_edge_loader(train_data, num_neighbors=[20, 10], neg_sampl=0., bs=256, shuffle=True)\n",
    "test_loader = init_edge_loader(test_data, num_neighbors=[20, 10], neg_sampl=0., bs=256, shuffle=False)"
   ]
  },
  {
   "cell_type": "markdown",
   "id": "a95c5ff9-45b1-4471-a547-5f77cd06afc8",
   "metadata": {
    "tags": []
   },
   "source": [
    "# TODO: \n",
    "    - edge level train mask\n",
    "    - glue datasets and create separate file with train mask indices"
   ]
  },
  {
   "cell_type": "code",
   "execution_count": null,
   "id": "47d490f2-969b-4e6c-be5c-a8a70234c1ab",
   "metadata": {},
   "outputs": [],
   "source": []
  },
  {
   "cell_type": "code",
   "execution_count": null,
   "id": "a4b110e0-79dc-40ef-b34b-403299daaf21",
   "metadata": {},
   "outputs": [],
   "source": []
  },
  {
   "cell_type": "code",
   "execution_count": null,
   "id": "2e629021-0908-4dda-bd09-0439c3a78112",
   "metadata": {},
   "outputs": [],
   "source": []
  },
  {
   "cell_type": "code",
   "execution_count": null,
   "id": "82565a81-f756-420f-b2df-c173eeaf9056",
   "metadata": {},
   "outputs": [],
   "source": [
    "def train_fn(train_data: HeteroData, test_data: HeteroData):\n",
    "\n",
    "    \n",
    "    "
   ]
  },
  {
   "cell_type": "code",
   "execution_count": null,
   "id": "e776c55a-8ac9-4a99-82d3-efc6511f724f",
   "metadata": {
    "tags": []
   },
   "outputs": [],
   "source": [
    "class GNN(torch.nn.Module):\n",
    "    def __init__(self, hidden_channels, out_channels):\n",
    "        super().__init__()\n",
    "        self.conv1 = tg.nn.SAGEConv((-1, -1), hidden_channels)\n",
    "        self.conv2 = tg.nn.SAGEConv((-1, -1), out_channels)\n",
    "        \n",
    "\n",
    "    def forward(self, x, edge_index):\n",
    "        x = self.conv1(x, edge_index).relu()\n",
    "        x = self.conv2(x, edge_index)\n",
    "        return x\n",
    "    \n",
    "    \n",
    "class Classifier(torch.nn.Module):\n",
    "    def forward(self, x_user, x_app, edge_label_index):\n",
    "        x_user = x_user[edge_label_index[0]]\n",
    "        x_app = x_app[edge_label_index[1]]\n",
    "        return (x_user * x_app).sum(dim=-1)\n",
    "\n",
    "\n",
    "class Model(torch.nn.Module):\n",
    "    def __init__(self, hidden_channels, out_channels):\n",
    "        super().__init__()\n",
    "        # self.user_emb = torch.nn.Embedding(n_users, hidden_channels)\n",
    "        # self.app_emb = torch.nn.Embedding(n_apps, hidden_channels)\n",
    "        \n",
    "        self.user_emb_z = torch.zeros(n_users, hidden_channels)\n",
    "        self.app_emb_z = torch.zeros(n_apps, hidden_channels)\n",
    "        \n",
    "        self.gnn = GNN(hidden_channels=64, out_channels=32)\n",
    "        self.gnn = tg.nn.to_hetero(self.gnn, data.metadata(), aggr='sum')\n",
    "        \n",
    "        self.clf = Classifier()\n",
    "        \n",
    "    def forward(self, data):\n",
    "        # x_dict = {\n",
    "        #   \"user\": self.user_emb.weight,\n",
    "        #   \"app\": self.app_emb.weight,\n",
    "        # } \n",
    "        \n",
    "        x_dict = {\n",
    "          \"user\": self.user_emb_z,\n",
    "          \"app\": self.app_emb_z,\n",
    "        } \n",
    "        \n",
    "        # `x_dict` holds feature matrices of all node types\n",
    "        # `edge_index_dict` holds all edge indices of all edge types\n",
    "        x_dict = self.gnn(x_dict, data.edge_index_dict)\n",
    "        pred = self.clf(\n",
    "            x_dict[\"user\"],\n",
    "            x_dict[\"app\"],\n",
    "            data['user', 'recommends', 'app'].edge_label_index,\n",
    "        )\n",
    "        return pred\n",
    "    \n",
    "model = Model(hidden_channels=64, out_channels=32)\n",
    "model = model.to(device)"
   ]
  },
  {
   "cell_type": "code",
   "execution_count": null,
   "id": "396ceead-7335-4af4-a015-3377d330d299",
   "metadata": {},
   "outputs": [],
   "source": [
    "#criterion = torch.nn.NLLLoss()\n",
    "criterion = F.binary_cross_entropy_with_logits\n",
    "optimizer = torch.optim.Adam(model.parameters(), lr=1e-3)\n",
    "writer = SummaryWriter()"
   ]
  },
  {
   "cell_type": "code",
   "execution_count": null,
   "id": "fea926d5-89e9-4206-a352-ca185e6cc67d",
   "metadata": {
    "tags": []
   },
   "outputs": [],
   "source": [
    "def train_batch(batch):\n",
    "    optimizer.zero_grad()\n",
    "    y_pred = model(batch)\n",
    "    y_true = batch['user', 'recommends', 'app'].edge_label\n",
    "    \n",
    "    loss = criterion(y_pred, y_true.float())\n",
    "    loss.backward()\n",
    "    \n",
    "    optimizer.step()\n",
    "    \n",
    "    return loss, y_pred.numel()"
   ]
  },
  {
   "cell_type": "code",
   "execution_count": null,
   "id": "beb6713e-13af-4409-982a-6c041888c2f3",
   "metadata": {
    "tags": []
   },
   "outputs": [],
   "source": [
    "def train(n_epochs, print_loss=500):\n",
    "    for epoch in range(n_epochs):\n",
    "        running_loss = 0.\n",
    "        for i_batch, batch in enumerate(tqdm(train_loader)):\n",
    "            batch = batch.to(device)\n",
    "            loss, num = train_batch(batch)\n",
    "            running_loss += loss.item()\n",
    "\n",
    "            if not (i_batch+1 % print_loss):\n",
    "                last_loss = running_loss / print_loss\n",
    "                writer.add_scalar(\"Loss/train\", last_loss, epoch*len(train_loader) + i_batch + 1)\n",
    "                print(f\"batch <{i_batch}> - loss: {last_loss}\")\n",
    "                running_loss = 0.\n",
    "            \n",
    "        #print(f\"Epoch: {epoch:03d}, Loss: {running_loss / len(train_loader):.4f}\")"
   ]
  },
  {
   "cell_type": "code",
   "execution_count": null,
   "id": "fb22f31f-8615-4b86-b9ff-048de3a7789e",
   "metadata": {
    "tags": []
   },
   "outputs": [],
   "source": [
    "train(n_epochs=5)"
   ]
  },
  {
   "cell_type": "code",
   "execution_count": null,
   "id": "9e000248-eec9-45b2-9d74-d5f5da90ff36",
   "metadata": {},
   "outputs": [],
   "source": []
  }
 ],
 "metadata": {
  "kernelspec": {
   "display_name": "Python 3 (ipykernel)",
   "language": "python",
   "name": "python3"
  },
  "language_info": {
   "codemirror_mode": {
    "name": "ipython",
    "version": 3
   },
   "file_extension": ".py",
   "mimetype": "text/x-python",
   "name": "python",
   "nbconvert_exporter": "python",
   "pygments_lexer": "ipython3",
   "version": "3.10.9"
  }
 },
 "nbformat": 4,
 "nbformat_minor": 5
}
