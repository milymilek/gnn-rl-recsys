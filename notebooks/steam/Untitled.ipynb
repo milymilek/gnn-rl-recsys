{
 "cells": [
  {
   "cell_type": "code",
   "execution_count": 1,
   "id": "7ca207e5-8293-4058-9ae7-a83313b833fa",
   "metadata": {
    "tags": []
   },
   "outputs": [
    {
     "name": "stdout",
     "output_type": "stream",
     "text": [
      "C:\\Users\\Milosz\\Desktop\\python\\thesis-recsys\n"
     ]
    }
   ],
   "source": [
    "import os\n",
    "os.chdir(\"../\")\n",
    "print(os.getcwd())"
   ]
  },
  {
   "cell_type": "code",
   "execution_count": 2,
   "id": "95d562d7-19b3-41e4-a018-25ee2c2f77a5",
   "metadata": {
    "tags": []
   },
   "outputs": [],
   "source": [
    "%load_ext autoreload\n",
    "%autoreload 2"
   ]
  },
  {
   "cell_type": "code",
   "execution_count": 3,
   "id": "900c914a-5fee-414c-9a46-6bc33e56b67c",
   "metadata": {
    "tags": []
   },
   "outputs": [
    {
     "name": "stderr",
     "output_type": "stream",
     "text": [
      "C:\\Users\\Milosz\\miniconda3\\envs\\recsys\\lib\\site-packages\\tqdm\\auto.py:22: TqdmWarning: IProgress not found. Please update jupyter and ipywidgets. See https://ipywidgets.readthedocs.io/en/stable/user_install.html\n",
      "  from .autonotebook import tqdm as notebook_tqdm\n"
     ]
    }
   ],
   "source": [
    "import pandas as pd\n",
    "import numpy as np\n",
    "import functools\n",
    "import operator\n",
    "import gzip\n",
    "import json\n",
    "import matplotlib.pyplot as plt\n",
    "import torch\n",
    "from torch import nn\n",
    "from torch.utils.data import Dataset, DataLoader\n",
    "from tqdm import tqdm"
   ]
  },
  {
   "cell_type": "code",
   "execution_count": null,
   "id": "bf620e79-87cd-4dd6-a669-a0fbca14c566",
   "metadata": {
    "tags": []
   },
   "outputs": [],
   "source": [
    "games = pd.read_csv('data/games.csv')\n",
    "rec = pd.read_csv('data/recommendations.csv')\n",
    "users = pd.read_csv('data/users.csv')\n",
    "meta = pd.read_json(\"data/games_metadata.json\", lines=True)"
   ]
  },
  {
   "cell_type": "code",
   "execution_count": null,
   "id": "8358f6cd-6572-4cf6-92b6-76ba1bdbb4a0",
   "metadata": {
    "tags": []
   },
   "outputs": [],
   "source": [
    "dt = rec.date.value_counts(sort=False).sort_index()\n",
    "dt_months = {}\n",
    "for i, v in dt.iteritems():\n",
    "    dt_months[i[:7]] = dt_months.get(i[:7], 0) + v\n",
    "\n",
    "plt.plot(list(dt_months.keys()), list(dt_months.values()))"
   ]
  },
  {
   "cell_type": "code",
   "execution_count": null,
   "id": "32be3090-99b9-48d0-8e0b-fdb1c47522bb",
   "metadata": {
    "tags": []
   },
   "outputs": [],
   "source": [
    "rec['date'] = pd.to_datetime(rec['date'])\n",
    "rec['is_recommended'] = rec['is_recommended'].astype(int) "
   ]
  },
  {
   "cell_type": "code",
   "execution_count": null,
   "id": "82f8e6bc-be92-498d-a1d6-70a54edd490b",
   "metadata": {
    "tags": []
   },
   "outputs": [],
   "source": [
    "rec = rec.sort_values(by='date')"
   ]
  },
  {
   "cell_type": "code",
   "execution_count": null,
   "id": "24fe2abf-d3a7-4cda-97b9-2a2bef1f0d9a",
   "metadata": {
    "tags": []
   },
   "outputs": [],
   "source": [
    "split_bound = \"2022-12-01\"\n",
    "rec_train = rec[rec['date'] <= split_bound]\n",
    "rec_test = rec[rec['date'] > split_bound]"
   ]
  },
  {
   "cell_type": "code",
   "execution_count": null,
   "id": "0593d7f1-b5f1-4db6-9557-246ff757fb4c",
   "metadata": {
    "tags": []
   },
   "outputs": [],
   "source": [
    "u_train, a_train = rec_train.user_id.unique(), rec_train.app_id.unique()\n",
    "u_test, a_test = rec_test.user_id.unique(), rec_test.app_id.unique()"
   ]
  },
  {
   "cell_type": "code",
   "execution_count": null,
   "id": "0c4c80e3-6143-4131-b8e1-af77867ddc63",
   "metadata": {
    "tags": []
   },
   "outputs": [],
   "source": [
    "u = np.intersect1d(u_train, u_test)\n",
    "a = np.intersect1d(a_train, a_test)"
   ]
  },
  {
   "cell_type": "code",
   "execution_count": null,
   "id": "731d1668-84de-440c-a7e1-a52711ddb27b",
   "metadata": {
    "tags": []
   },
   "outputs": [],
   "source": [
    "u.size, a.size"
   ]
  },
  {
   "cell_type": "code",
   "execution_count": null,
   "id": "a3109384-3f9f-4cd9-b258-d84a81ef6360",
   "metadata": {
    "tags": []
   },
   "outputs": [],
   "source": [
    "rec_train = rec_train[(rec_train.user_id.isin(u)) & (rec_train.app_id.isin(a))]\n",
    "rec_test = rec_test[(rec_test.user_id.isin(u)) & (rec_test.app_id.isin(a))]"
   ]
  },
  {
   "cell_type": "code",
   "execution_count": null,
   "id": "1c35de95-0e29-4703-b8f9-e321684447ff",
   "metadata": {
    "scrolled": true,
    "tags": []
   },
   "outputs": [],
   "source": [
    "for ui in u:\n",
    "    print(ui)\n",
    "    display(rec_train[rec_train.user_id == ui])\n",
    "    display(rec_test[rec_test.user_id == ui])"
   ]
  },
  {
   "cell_type": "code",
   "execution_count": null,
   "id": "2596c1a3-516f-40d4-b31a-fd29fb305918",
   "metadata": {
    "tags": []
   },
   "outputs": [],
   "source": [
    "def featurize_games(games):\n",
    "    games_features = games.copy(deep=True)\n",
    "\n",
    "    for c in ['win', 'mac', 'linux', 'steam_deck']:\n",
    "        games_features[c] = games_features[c].astype(int)\n",
    "\n",
    "    rating = pd.get_dummies(games['rating'])\n",
    "    games_features = pd.concat([games_features, rating], axis=1)\n",
    "   \n",
    "    cols = ['app_id', 'win', 'mac', 'linux', 'steam_deck', 'price_original', 'price_final', 'discount', 'user_reviews', 'positive_ratio'] + \\\n",
    "    list(rating.columns)\n",
    "\n",
    "    return games_features[cols], cols"
   ]
  },
  {
   "cell_type": "code",
   "execution_count": null,
   "id": "458ba9af-3d7e-48f3-860b-d568607e14ae",
   "metadata": {
    "tags": []
   },
   "outputs": [],
   "source": [
    "meta"
   ]
  },
  {
   "cell_type": "code",
   "execution_count": null,
   "id": "47abeb46-05df-44d2-a48e-532861c49a86",
   "metadata": {
    "tags": []
   },
   "outputs": [],
   "source": [
    "games_features, games_cols = featurize_games(games)"
   ]
  },
  {
   "cell_type": "code",
   "execution_count": null,
   "id": "1beff39e-e1d1-4ac1-a26f-f09eaaed5da2",
   "metadata": {
    "tags": []
   },
   "outputs": [],
   "source": [
    "games_features"
   ]
  },
  {
   "cell_type": "code",
   "execution_count": null,
   "id": "0ba6355b-1941-46f7-93fd-f8130afaa855",
   "metadata": {
    "tags": []
   },
   "outputs": [],
   "source": [
    "rec_train"
   ]
  },
  {
   "cell_type": "code",
   "execution_count": null,
   "id": "ccca1aba-9504-449d-a5c7-9e6d3768265f",
   "metadata": {
    "tags": []
   },
   "outputs": [],
   "source": [
    "def remap(df, col):\n",
    "    idx = df[col].unique()\n",
    "    new_idx = np.arange(idx.size)\n",
    "    return {i: ni for i, ni in zip(idx, new_idx)}"
   ]
  },
  {
   "cell_type": "code",
   "execution_count": null,
   "id": "237a0de1-9190-4b4c-b522-9e18057915fd",
   "metadata": {
    "tags": []
   },
   "outputs": [],
   "source": [
    "user_dict = remap(rec_train, 'user_id')\n",
    "item_dict = remap(rec_train, 'app_id')"
   ]
  },
  {
   "cell_type": "code",
   "execution_count": null,
   "id": "031f4d0a-a642-48a5-8232-740c2ca61512",
   "metadata": {
    "tags": []
   },
   "outputs": [],
   "source": [
    "rec_train['user_id'] = rec_train['user_id'].map(user_dict)\n",
    "rec_train['app_id'] = rec_train['app_id'].map(item_dict)"
   ]
  },
  {
   "cell_type": "code",
   "execution_count": null,
   "id": "25b672d6-4d39-49d8-b57d-b2c06636b6f1",
   "metadata": {
    "tags": []
   },
   "outputs": [],
   "source": [
    "rec_train"
   ]
  },
  {
   "cell_type": "code",
   "execution_count": null,
   "id": "af58a6cd-f061-4684-8b50-d91a7764b15b",
   "metadata": {
    "tags": []
   },
   "outputs": [],
   "source": [
    "class MFDataset(Dataset):\n",
    "    def __init__(self, data):\n",
    "        self.data = data\n",
    "    \n",
    "    def __len__(self):\n",
    "        return len(self.data)\n",
    "    \n",
    "    def __getitem__(self, idx):\n",
    "        row = self.data.iloc[idx]\n",
    "\n",
    "        user_id = torch.tensor([row['user_id']], dtype=torch.int)\n",
    "        item_id = torch.tensor([row['app_id']],  dtype=torch.int)\n",
    "        rating = torch.Tensor([row['is_recommended']])\n",
    "        \n",
    "        return user_id, item_id, rating"
   ]
  },
  {
   "cell_type": "code",
   "execution_count": null,
   "id": "9e89788e-35b0-4b42-b95a-e95d7156c7c8",
   "metadata": {
    "tags": []
   },
   "outputs": [],
   "source": [
    "class MF(nn.Module):\n",
    "    def __init__(self, n_users, n_items,emb_size):\n",
    "        super().__init__()\n",
    "        self.n_users = n_users\n",
    "        self.n_items = n_items\n",
    "        self.u = nn.Embedding(n_users, emb_size)\n",
    "        self.i = nn.Embedding(n_items, emb_size)\n",
    "        \n",
    "        self.u_rnn = nn.GRU(input_size=18, hidden_size=16)\n",
    "        self.i_rnn = nn.GRU(input_size=18, hidden_size=16)\n",
    "        \n",
    "    def forward(self, ux, ix):\n",
    "        return torch.sigmoid(torch.sum(self.u(ux) * self.i(ix), dim=2))"
   ]
  },
  {
   "cell_type": "code",
   "execution_count": null,
   "id": "1d8d8d8c-9497-4114-be44-dd32bf945e29",
   "metadata": {
    "tags": []
   },
   "outputs": [],
   "source": [
    "def train_model(train_data, num_epochs, batch_size, lr, embedding_size):\n",
    "    num_users = train_data['user_id'].nunique()\n",
    "    num_items = train_data['app_id'].nunique()\n",
    "    \n",
    "    dataset = MFDataset(train_data)\n",
    "    dataloader = DataLoader(dataset, batch_size=batch_size, shuffle=False)\n",
    "    \n",
    "    device = torch.device(\"cuda\" if torch.cuda.is_available() else \"cpu\")\n",
    "    \n",
    "    model = MF(num_users, num_items, embedding_size)\n",
    "    model = model.to(device)\n",
    "    criterion = nn.BCELoss()\n",
    "    optimizer = torch.optim.Adam(model.parameters(), lr=lr)\n",
    "    \n",
    "    for epoch in range(num_epochs):\n",
    "        epoch_loss = 0\n",
    "        for user_idx, item_idx, rating in tqdm(dataloader):\n",
    "            user_idx, item_idx, rating = user_idx.to(device), item_idx.to(device), rating.to(device)\n",
    "            optimizer.zero_grad()\n",
    "            prediction = model(user_idx, item_idx)\n",
    "            loss = criterion(prediction.squeeze(), rating.squeeze())\n",
    "            loss.backward()\n",
    "            optimizer.step()\n",
    "            epoch_loss += loss.item()\n",
    "        print(f'Epoch {epoch+1}, loss: {epoch_loss/len(dataloader)}')\n",
    "    \n",
    "    return model"
   ]
  },
  {
   "cell_type": "code",
   "execution_count": null,
   "id": "a2f3c283-8dc0-4ea2-bc2f-6cc6ee1e9116",
   "metadata": {
    "tags": []
   },
   "outputs": [],
   "source": [
    "train_model(rec_train, 10, 1024, 1e-3, 32)"
   ]
  },
  {
   "cell_type": "code",
   "execution_count": null,
   "id": "f7372b8f-3328-4d4f-a27d-bee6c00f76cf",
   "metadata": {},
   "outputs": [],
   "source": []
  },
  {
   "cell_type": "code",
   "execution_count": 9,
   "id": "ede86748-35de-4d84-a8ba-f85d868184ec",
   "metadata": {},
   "outputs": [
    {
     "ename": "ImportError",
     "evalue": "attempted relative import with no known parent package",
     "output_type": "error",
     "traceback": [
      "\u001b[1;31m---------------------------------------------------------------------------\u001b[0m",
      "\u001b[1;31mImportError\u001b[0m                               Traceback (most recent call last)",
      "Cell \u001b[1;32mIn[9], line 2\u001b[0m\n\u001b[0;32m      1\u001b[0m \u001b[38;5;28;01mfrom\u001b[39;00m \u001b[38;5;21;01mreco_env\u001b[39;00m \u001b[38;5;28;01mimport\u001b[39;00m RecoEnv\n\u001b[1;32m----> 2\u001b[0m \u001b[38;5;28;01mfrom\u001b[39;00m \u001b[38;5;21;01mutils\u001b[39;00m \u001b[38;5;28;01mimport\u001b[39;00m import_data_for_env\n\u001b[0;32m      3\u001b[0m \u001b[38;5;28;01mimport\u001b[39;00m \u001b[38;5;21;01mgym\u001b[39;00m\n",
      "File \u001b[1;32m~\\Desktop\\python\\thesis-recsys\\utils.py:10\u001b[0m\n\u001b[0;32m      7\u001b[0m \u001b[38;5;28;01mimport\u001b[39;00m \u001b[38;5;21;01mrequests\u001b[39;00m\n\u001b[0;32m      8\u001b[0m \u001b[38;5;66;03m#from stable_baselines.common.base_class import ActorCriticRLModel\u001b[39;00m\n\u001b[1;32m---> 10\u001b[0m \u001b[38;5;28;01mfrom\u001b[39;00m \u001b[38;5;21;01m.\u001b[39;00m \u001b[38;5;28;01mimport\u001b[39;00m RecoEnv\n\u001b[0;32m     12\u001b[0m DATA_HEADER \u001b[38;5;241m=\u001b[39m \u001b[38;5;124m\"\u001b[39m\u001b[38;5;124muser id | item id | rating | timestamp\u001b[39m\u001b[38;5;124m\"\u001b[39m\n\u001b[0;32m     13\u001b[0m ITEM_HEADER \u001b[38;5;241m=\u001b[39m \u001b[38;5;124m\"\u001b[39m\u001b[38;5;124mmovie id | movie title | release date | video release date | IMDb URL | \u001b[39m\u001b[38;5;124m\"\u001b[39m \\\n\u001b[0;32m     14\u001b[0m               \u001b[38;5;124m\"\u001b[39m\u001b[38;5;124munknown | Action | Adventure | Animation | Children\u001b[39m\u001b[38;5;124m'\u001b[39m\u001b[38;5;124ms | Comedy | Crime | \u001b[39m\u001b[38;5;124m\"\u001b[39m \\\n\u001b[0;32m     15\u001b[0m               \u001b[38;5;124m\"\u001b[39m\u001b[38;5;124mDocumentary | Drama | Fantasy | Film-Noir | Horror | Musical | Mystery | \u001b[39m\u001b[38;5;124m\"\u001b[39m \\\n\u001b[0;32m     16\u001b[0m               \u001b[38;5;124m\"\u001b[39m\u001b[38;5;124mRomance | Sci-Fi | Thriller | War | Western\u001b[39m\u001b[38;5;124m\"\u001b[39m\n",
      "\u001b[1;31mImportError\u001b[0m: attempted relative import with no known parent package"
     ]
    }
   ],
   "source": [
    "from reco_env import RecoEnv\n",
    "from utils import import_data_for_env\n",
    "import gym"
   ]
  },
  {
   "cell_type": "code",
   "execution_count": null,
   "id": "05327d09-72eb-49c7-b89a-855d078c9bd4",
   "metadata": {
    "tags": []
   },
   "outputs": [],
   "source": [
    "env = gym.make(RecoEnv.id, **import_data_for_env())"
   ]
  },
  {
   "cell_type": "code",
   "execution_count": null,
   "id": "84e172d7-f8dc-47c9-afd4-7e41ffac982f",
   "metadata": {},
   "outputs": [],
   "source": []
  },
  {
   "cell_type": "code",
   "execution_count": null,
   "id": "af5d11e8-775d-4c6b-aa99-898b13d1c969",
   "metadata": {
    "tags": []
   },
   "outputs": [],
   "source": [
    "vc = rec.user_id.value_counts()"
   ]
  },
  {
   "cell_type": "code",
   "execution_count": null,
   "id": "83ceea8a-8ecd-45db-b28f-162cfcfe12f5",
   "metadata": {
    "tags": []
   },
   "outputs": [],
   "source": [
    "vc"
   ]
  },
  {
   "cell_type": "code",
   "execution_count": null,
   "id": "c005e4e0-c465-40ee-b22e-a4e54b14173b",
   "metadata": {
    "tags": []
   },
   "outputs": [],
   "source": [
    "vc[vc >= 3]"
   ]
  },
  {
   "cell_type": "code",
   "execution_count": null,
   "id": "945d749a-43b7-4454-bd1e-b3e543020504",
   "metadata": {
    "tags": []
   },
   "outputs": [],
   "source": [
    "plt.plot(vc)"
   ]
  },
  {
   "cell_type": "code",
   "execution_count": null,
   "id": "c10cb107-3281-40c0-9037-fed34a026384",
   "metadata": {},
   "outputs": [],
   "source": []
  }
 ],
 "metadata": {
  "kernelspec": {
   "display_name": "Python 3 (ipykernel)",
   "language": "python",
   "name": "python3"
  },
  "language_info": {
   "codemirror_mode": {
    "name": "ipython",
    "version": 3
   },
   "file_extension": ".py",
   "mimetype": "text/x-python",
   "name": "python",
   "nbconvert_exporter": "python",
   "pygments_lexer": "ipython3",
   "version": "3.10.9"
  }
 },
 "nbformat": 4,
 "nbformat_minor": 5
}
