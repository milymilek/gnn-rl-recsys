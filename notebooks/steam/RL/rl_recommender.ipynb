{
 "cells": [
  {
   "cell_type": "code",
   "execution_count": 1,
   "id": "47179eb5-ae5f-4b7a-9929-8db796421a71",
   "metadata": {},
   "outputs": [
    {
     "name": "stdout",
     "output_type": "stream",
     "text": [
      "C:\\Users\\Milosz\\thesis-recsys\n"
     ]
    }
   ],
   "source": [
    "%load_ext autoreload\n",
    "%autoreload 2\n",
    "\n",
    "import os\n",
    "os.chdir(\"../../../\")\n",
    "print(os.getcwd())"
   ]
  },
  {
   "cell_type": "code",
   "execution_count": 8,
   "id": "7c475a37-daf8-4dca-b73f-8e50e3a54a47",
   "metadata": {
    "scrolled": true
   },
   "outputs": [
    {
     "data": {
      "text/plain": [
       "<torch._C.Generator at 0x2acb2359fd0>"
      ]
     },
     "execution_count": 8,
     "metadata": {},
     "output_type": "execute_result"
    }
   ],
   "source": [
    "import torch\n",
    "import torch.nn as nn\n",
    "import torch.optim as optim\n",
    "import torch.nn.functional as F\n",
    "from torch.utils.data.dataset import IterableDataset\n",
    "from collections import deque, namedtuple\n",
    "import numpy as np\n",
    "import pandas as pd\n",
    "from tqdm.notebook import tqdm as tqdm\n",
    "\n",
    "torch.set_printoptions(precision=2, sci_mode=False)\n",
    "torch.manual_seed(0)"
   ]
  },
  {
   "cell_type": "code",
   "execution_count": 9,
   "id": "ed759b37-c5b2-4ca1-917e-56ba50347b95",
   "metadata": {},
   "outputs": [],
   "source": [
    "class SequentialStateRepresentation(nn.Module):\n",
    "    def __init__(self, input_size, hidden_size, num_layers=1, batch_first=True):\n",
    "        super(SequentialStateRepresentation, self).__init__()\n",
    "\n",
    "        self.gru = nn.GRU(input_size=input_size, \n",
    "                          hidden_size=hidden_size, \n",
    "                          num_layers=num_layers, \n",
    "                          batch_first=batch_first)\n",
    "\n",
    "    def forward(self, items):\n",
    "        # items: (batch_size, n_items, item_features)\n",
    "        _, last_hidden = self.gru(items)\n",
    "        return last_hidden.squeeze(0)\n",
    "\n",
    "class Actor(nn.Module):\n",
    "    def __init__(self, in_dim, hidden_dim, out_dim):\n",
    "        super(Actor, self).__init__()\n",
    "        self.in_dim = in_dim\n",
    "        self.hidden_dim = hidden_dim\n",
    "        self.out_dim = out_dim\n",
    "\n",
    "        self.linear1 = nn.Linear(self.in_dim, self.hidden_dim)\n",
    "        self.linear2 = nn.Linear(self.hidden_dim, self.hidden_dim)\n",
    "        self.linear3 = nn.Linear(self.hidden_dim, self.out_dim)\n",
    "\n",
    "    def forward(self, state):\n",
    "        output = F.relu(self.linear1(state))\n",
    "        output = F.relu(self.linear2(output))\n",
    "        output = F.tanh(self.linear3(output))\n",
    "        return output\n",
    "\n",
    "class Critic(nn.Module):\n",
    "    def __init__(self, action_dim, state_dim, projected_state_dim, hidden_dim):\n",
    "        super(Critic, self).__init__()\n",
    "        self.action_dim = action_dim\n",
    "        self.state_dim = state_dim\n",
    "        self.projected_state_dim = projected_state_dim\n",
    "        self.state_action_dim = action_dim + projected_state_dim\n",
    "        self.hidden_dim = hidden_dim\n",
    "\n",
    "        self.linear1 = nn.Linear(self.state_dim, self.projected_state_dim)\n",
    "        self.linear2 = nn.Linear(self.state_action_dim, self.hidden_dim)\n",
    "        self.linear3 = nn.Linear(self.hidden_dim, 1)\n",
    "\n",
    "    def forward(self, state, action):\n",
    "        output = F.relu(self.linear1(state))\n",
    "        output = torch.cat((action, output), dim=1)\n",
    "        output = F.relu(self.linear2(output))\n",
    "        output = F.relu(self.linear3(output))\n",
    "        return output"
   ]
  },
  {
   "cell_type": "code",
   "execution_count": 10,
   "id": "8dd46545-7f09-4c05-b3bd-7d33d08d64b8",
   "metadata": {},
   "outputs": [],
   "source": [
    "Transition = namedtuple(\n",
    "    'Transition', \n",
    "    field_names=[\n",
    "        'state', \n",
    "        'action', \n",
    "        'reward',\n",
    "        'done', \n",
    "        'next_state'\n",
    "    ]\n",
    ")\n",
    "\n",
    "class ReplayBuffer:\n",
    "    def __init__(self, capacity: int):\n",
    "        self.buffer = deque(maxlen=capacity)\n",
    "    \n",
    "    def append(self, transition: Transition):\n",
    "        self.buffer.append(transition)\n",
    "    \n",
    "    def sample(self, size: int):\n",
    "        indices = np.random.choice(\n",
    "            len(self.buffer), \n",
    "            size, \n",
    "            replace=size > len(self.buffer)\n",
    "        )\n",
    "        states, actions, rewards, dones, next_states = \\\n",
    "            zip(*[self.buffer[idx] for idx in indices])\n",
    "        #print(f'{states=}, {actions=}, {rewards=}, {dones=}, {next_states=}')\n",
    "        states, actions, rewards, dones, next_states = (\n",
    "            torch.cat(states), \n",
    "            torch.cat(actions), \n",
    "            torch.tensor(rewards).view(-1, 1),\n",
    "            torch.tensor(dones), \n",
    "            torch.cat(next_states)\n",
    "        )\n",
    "        return states, actions, rewards, dones, next_states\n",
    "    \n",
    "    def __len__(self):\n",
    "        return len(self.buffer)\n",
    "        \n",
    "\n",
    "# class ReplayDataset(IterableDataset):\n",
    "#     def __init__(self, buffer: ReplayBuffer, epoch_size: int = int(1e3)):\n",
    "#         self.buffer = buffer\n",
    "#         self.epoch_size = epoch_size\n",
    "\n",
    "#     def __iter__(self):\n",
    "#         states, actions, rewards, dones, next_states = self.buffer.sample(self.epoch_size)\n",
    "#         for i in range(len(dones)):\n",
    "#             yield states[i], actions[i], rewards[i], dones[i], next_states[i]\n",
    "    \n",
    "#     def __len__(self):\n",
    "#         return self.epoch_size"
   ]
  },
  {
   "cell_type": "code",
   "execution_count": 11,
   "id": "fda63977-0dfe-48fa-9347-80d835276d59",
   "metadata": {},
   "outputs": [],
   "source": [
    "loss_fn = nn.MSELoss()"
   ]
  },
  {
   "cell_type": "code",
   "execution_count": 97,
   "id": "43cfc9a9-5000-4b30-b060-5babe5e4dc69",
   "metadata": {},
   "outputs": [],
   "source": [
    "class DRRAgent:\n",
    "    def __init__(self, env, users_items, items_attr, emb_dim, action_dim, batch_size, eps, gamma, tau):\n",
    "        self.users_items = users_items\n",
    "        self.items_attr = items_attr\n",
    "        self.n_users = self.users_items.shape[0]\n",
    "        self.n_item_features, self.n_items = self.items_attr.shape\n",
    "        self.emb_dim = emb_dim\n",
    "        self.action_dim = emb_dim\n",
    "        self.batch_size = batch_size\n",
    "        self.eps = eps\n",
    "        self.gamma = gamma\n",
    "        self.tau = tau\n",
    "        self.warmup_steps = 1000\n",
    "        \n",
    "        self.env = env\n",
    "        self.buffer = ReplayBuffer(capacity=int(1e6))\n",
    "        \n",
    "        # Neural nets\n",
    "        self.item_emb = nn.Embedding(n_items, emb_dim)\n",
    "        self.state_repr = SequentialStateRepresentation(input_size=self.emb_dim, hidden_size=self.emb_dim)\n",
    "        self.actor = Actor(in_dim=self.emb_dim, hidden_dim=24, out_dim=self.emb_dim)\n",
    "        self.target_actor = Actor(in_dim=self.emb_dim, hidden_dim=24, out_dim=self.emb_dim)\n",
    "        self.critic = Critic(action_dim=self.action_dim, state_dim=self.action_dim, projected_state_dim=self.action_dim//2, hidden_dim=24)\n",
    "        self.target_critic = Critic(action_dim=self.action_dim, state_dim=self.action_dim, projected_state_dim=self.action_dim//2, hidden_dim=24)\n",
    "\n",
    "        # Initialize weights\n",
    "        self.item_emb.apply(DRRAgent.init_weights)\n",
    "        DRRAgent.init_weights_sequential(self.state_repr)\n",
    "        self.actor.apply(DRRAgent.init_weights)\n",
    "        self.critic.apply(DRRAgent.init_weights)\n",
    "\n",
    "        # Copy weights target networks\n",
    "        self.target_actor.load_state_dict(self.actor.state_dict())\n",
    "        self.target_critic.load_state_dict(self.critic.state_dict())\n",
    "        print(\"Model weights initialized, copied to target\")\n",
    "\n",
    "        # Init optimizers\n",
    "        optim_kwargs = {\"lr\": 1e-4, \"betas\": (0.9, 0.999), \"eps\": 1e-08, \"weight_decay\": 0.01, \"amsgrad\": False}\n",
    "        self.state_repr_optimizer = self.init_optimizer(self.state_repr, **optim_kwargs)\n",
    "        self.actor_optimizer = self.init_optimizer(self.actor, **optim_kwargs)\n",
    "        self.critic_optimizer = self.init_optimizer(self.critic, **optim_kwargs)\n",
    "        print(\"Optimizers initialized\")\n",
    "\n",
    "        \n",
    "\n",
    "    def train(self, epochs):\n",
    "        \"\"\"\n",
    "        T: Maximal number of episodes\n",
    "        \"\"\"\n",
    "        actor_losses = []\n",
    "        critic_losses = []\n",
    "        \n",
    "        for idx, sess in tqdm(enumerate(range(epochs))):\n",
    "            episode_reward = 0\n",
    "            correct_count = 0\n",
    "            steps = 0\n",
    "            q_loss = 0\n",
    "            mean_action = 0\n",
    "            done_i = 0\n",
    "            \n",
    "            user_id, items_ids, done = self.env.reset()\n",
    "            while not done:\n",
    "                with torch.no_grad():\n",
    "                    items_emb = self.item_emb(torch.tensor(items_ids).unsqueeze(0)).detach()\n",
    "                    state = self.state_repr(items_emb).detach()\n",
    "\n",
    "                    if np.random.uniform() < self.eps:\n",
    "                        action = torch.from_numpy(0.1 * np.random.rand(self.action_dim)).unsqueeze(0).float()\n",
    "                    else:\n",
    "                        action = self.actor(state)\n",
    "\n",
    "                    recommended_item = self.recommend_item(action)\n",
    "\n",
    "                    next_items_ids, reward, done, _ = self.env.step(recommended_item)\n",
    "                    next_items_emb = self.item_emb(torch.tensor(next_items_ids).unsqueeze(0)).detach()\n",
    "                    next_state = self.state_repr(next_items_emb).detach()\n",
    "\n",
    "                self.buffer.append(Transition(state, action, reward, done, next_state))\n",
    "\n",
    "                #if len(self.buffer) > self.batch_size:\n",
    "                if len(self.buffer) > self.warmup_steps:\n",
    "                    critic_loss, actor_loss, critic_params_norm = self.training_step()\n",
    "\n",
    "                    actor_losses.append(actor_loss)\n",
    "                    critic_losses.append(critic_loss)\n",
    "\n",
    "                    #print(f\"Episode: {sess} | Timestep: {done_i} | Actor Loss: {actor_loss} | Critic Loss: {critic_loss}\")\n",
    "\n",
    "                done_i += 1\n",
    "\n",
    "        return {\"actor_losses\": actor_losses, \"critic_losses\": critic_losses}\n",
    "\n",
    "\n",
    "    def training_step(self):\n",
    "        sample = self.buffer.sample(self.batch_size)\n",
    "        batch_states, batch_actions, batch_rewards, batch_dones, batch_next_states = sample\n",
    "\n",
    "        # ---------------------------- Update Critic Network ---------------------------- #\n",
    "\n",
    "        # Calculate Critic loss\n",
    "        critic_loss = self.compute_dqn_loss(batch_states,\n",
    "                                            batch_actions,\n",
    "                                            batch_rewards,\n",
    "                                            batch_next_states)\n",
    "        # Minimize loss, update parameters, update priorities\n",
    "        self.critic_optimizer.zero_grad()\n",
    "        critic_loss.backward()\n",
    "        critic_param_norm = torch.nn.utils.clip_grad_norm_(self.critic.parameters(), 1.0)\n",
    "        self.critic_optimizer.step()\n",
    "\n",
    "\n",
    "        # ----------------------------- Update Actor Network ---------------------------- #\n",
    "\n",
    "        self.actor_optimizer.zero_grad()\n",
    "        self.state_repr_optimizer.zero_grad()\n",
    "\n",
    "        # Compute actor loss\n",
    "        actions_pred = self.actor(batch_states)\n",
    "        actor_loss = -self.critic(batch_states, actions_pred).mean()\n",
    "\n",
    "        # Minimize the loss\n",
    "        actor_loss.backward(retain_graph=True)\n",
    "        self.actor_optimizer.step()\n",
    "        self.state_repr_optimizer.step()\n",
    "\n",
    "\n",
    "        # ----------------------- Soft update the target networks ----------------------- #\n",
    "        self.soft_update(self.critic, self.target_critic, self.tau)\n",
    "        self.soft_update(self.actor, self.target_actor, self.tau)\n",
    "\n",
    "\n",
    "        return critic_loss.item(), actor_loss.item(), critic_param_norm\n",
    "\n",
    "\n",
    "    def init_weights(m):\n",
    "        if hasattr(m, 'weight'):\n",
    "            nn.init.orthogonal_(m.weight.data)\n",
    "        if hasattr(m, 'bias'):\n",
    "            nn.init.constant_(m.bias.data, 0)\n",
    "\n",
    "    def init_weights_sequential(m):\n",
    "        for name, param in m.named_parameters():\n",
    "            if \"weight\" in name:\n",
    "                nn.init.xavier_uniform_(param)\n",
    "            if \"bias\" in name:\n",
    "                nn.init.uniform_(param)\n",
    "\n",
    "    def init_optimizer(self, net, **kwargs):\n",
    "        return torch.optim.Adam(net.parameters(), **kwargs)\n",
    "\n",
    "    @torch.no_grad()\n",
    "    def recommend_item(self, action):\n",
    "        recommended_items = list(self.env.recommended_items)\n",
    "        items_to_recommend_ids = np.setdiff1d(np.arange(n_items), recommended_items)\n",
    "        items_to_recommend_ids_tensor = torch.from_numpy(items_to_recommend_ids).unsqueeze(0)\n",
    "        items_to_recommend_emb = self.item_emb(items_to_recommend_ids_tensor).squeeze(0).view(self.emb_dim, -1)\n",
    "\n",
    "        recommendation_idx = (action @ items_to_recommend_emb).argmax().item()\n",
    "        return items_to_recommend_ids[recommendation_idx]\n",
    "\n",
    "    def compute_dqn_loss(self,\n",
    "                         state_batch,\n",
    "                         action_batch,\n",
    "                         reward_batch,\n",
    "                         next_state_batch):\n",
    "        '''\n",
    "        :param state_batch: (torch tensor) shape = (batch_size x state_dims),\n",
    "                The batched tensor of states collected during\n",
    "                training (i.e. s)\n",
    "        :param action_batch: (torch LongTensor) shape = (batch_size,)\n",
    "                The actions that you actually took at each step (i.e. a)\n",
    "        :param reward_batch: (torch tensor) shape = (batch_size,)\n",
    "                The rewards that you actually got at each step (i.e. r)\n",
    "        :param next_state_batch: (torch tensor) shape = (batch_size x state_dims),\n",
    "                The batched tensor of next states collected during\n",
    "                training (i.e. s')\n",
    "        :param weights: (torch tensor) shape = (batch_size,)\n",
    "                Weights for each batch item w.r.t. prioritized experience replay buffer\n",
    "        :return: loss: (torch tensor) shape = (1),\n",
    "                 new_priorities: (numpy array) shape = (batch_size,)\n",
    "        '''\n",
    "\n",
    "        # Extract target network Q values\n",
    "        with torch.no_grad():\n",
    "            next_action = self.target_actor(next_state_batch)\n",
    "            Q_target = self.target_critic(next_state_batch, next_action)\n",
    "      \n",
    "        y = reward_batch + self.gamma * Q_target\n",
    "        Q = self.critic(state_batch, action_batch)\n",
    "\n",
    "        # with torch.no_grad():\n",
    "        #     print(f'{Q_target=}')\n",
    "        #     print(f'{reward_batch=}')\n",
    "        #     print(f'{y=}')\n",
    "        #     print(f'{Q=}')\n",
    "        #     print(f'{(y-Q).flatten().pow(2).shape}')\n",
    "        #     print(f'{loss_fn(Q, y.detach())=} \\n{((y.detach() - Q).flatten().pow(2).mean())=}')\n",
    "\n",
    "        # Calculate loss\n",
    "        loss = (y.detach() - Q).flatten().pow(2).mean()\n",
    "\n",
    "        return loss\n",
    "\n",
    "    def soft_update(self, local_model, target_model, tau):\n",
    "        \"\"\"Soft update model parameters.\n",
    "        θ_target = τ*θ_local + (1 - τ)*θ_target\n",
    "        Params\n",
    "        ======\n",
    "            local_model: PyTorch model (weights will be copied from)\n",
    "            target_model: PyTorch model (weights will be copied to)\n",
    "            tau (float): interpolation parameter\n",
    "        \"\"\"\n",
    "        for target_param, local_param in zip(target_model.parameters(), local_model.parameters()):\n",
    "            target_param.data.copy_(tau * local_param.data + (1.0 - tau) * target_param.data)\n",
    "\n",
    "\n",
    "    def evaluate(self, epochs):\n",
    "        recommendation_dict = {}\n",
    "        for idx, sess in tqdm(enumerate(range(epochs))):     \n",
    "            user_id, items_ids, done = self.env.reset()\n",
    "            user_rec_items = []\n",
    "            while not done:\n",
    "                with torch.no_grad():\n",
    "                    items_emb = self.item_emb(torch.tensor(items_ids).unsqueeze(0)).detach()\n",
    "                    state = self.state_repr(items_emb).detach()\n",
    "\n",
    "                    if np.random.uniform() < self.eps:\n",
    "                        action = torch.from_numpy(0.1 * np.random.rand(self.action_dim)).unsqueeze(0).float()\n",
    "                    else:\n",
    "                        action = self.actor(state)\n",
    "\n",
    "                    recommended_item = self.recommend_item(action)\n",
    "\n",
    "\n",
    "                    next_items_ids, reward, done, _ = self.env.step(recommended_item)\n",
    "                    next_items_emb = self.item_emb(torch.tensor(next_items_ids).unsqueeze(0)).detach()\n",
    "                    next_state = self.state_repr(next_items_emb).detach()\n",
    "\n",
    "                    user_rec_items.append(recommended_item)\n",
    "\n",
    "            recommendation_dict[user_id] = user_rec_items\n",
    "        return recommendation_dict"
   ]
  },
  {
   "cell_type": "code",
   "execution_count": 77,
   "id": "826d4625-a04a-49f8-9960-1ffdb405a53a",
   "metadata": {},
   "outputs": [],
   "source": [
    "class OfflineEnv:\n",
    "    def __init__(self, user_items: pd.DataFrame, min_state_size: int, max_recommendation_trials: int):\n",
    "        self.min_state_size = min_state_size\n",
    "        self.max_recommendation_trials = max_recommendation_trials\n",
    "        \n",
    "        self.user_items = user_items\n",
    "        self.user_items_len = self._get_state_len()\n",
    "        self.user_items_filtered = self._filter_noninformative_users()\n",
    "        self.user_index_gen = self._user_gen()\n",
    "        \n",
    "    def _filter_noninformative_users(self):\n",
    "        return self.user_items[self.user_items_len >= self.min_state_size]\n",
    "\n",
    "    def _get_state_len(self):\n",
    "        return self.user_items.apply(len)\n",
    "\n",
    "    def _user_gen(self):\n",
    "        random_user_idx = np.array(self.user_items_filtered.index)\n",
    "        np.random.shuffle(random_user_idx)\n",
    "        for u in random_user_idx:\n",
    "            yield u\n",
    "\n",
    "    def reset(self):\n",
    "        self.u = next(self.user_index_gen)\n",
    "        self.u_items = self.user_items.loc[self.u]\n",
    "        self.items = self.u_items[:self.min_state_size]\n",
    "        self.done = False\n",
    "        self.recommended_items = set(self.items)\n",
    "        return self.u, self.items, self.done\n",
    "\n",
    "    def step(self, action):\n",
    "        if action in self.u_items and action not in self.recommended_items:\n",
    "            reward = 1\n",
    "            self.items = self.items[1:] + [action] # preserve `state_size` length of items list\n",
    "        else:\n",
    "            reward = 0\n",
    "        \n",
    "        self.recommended_items.add(action)\n",
    "\n",
    "        if len(self.recommended_items) > self.max_recommendation_trials or len(self.recommended_items) >= self.user_items_len.loc[self.u]:\n",
    "            self.done = True\n",
    "\n",
    "        return self.items, reward, self.done, self.recommended_items"
   ]
  },
  {
   "cell_type": "code",
   "execution_count": 16,
   "id": "d11fc9d3-5ac6-42b5-874d-28e1eb6b4978",
   "metadata": {},
   "outputs": [],
   "source": [
    "data = pd.read_pickle(\"data/steam/data.pkl\")\n",
    "edge_index_train = pd.concat((data['relations_datastore'].dataframe.train, data['relations_datastore'].dataframe.supervision))\n",
    "edge_index_valid = data['relations_datastore'].dataframe.valid\n",
    "users_items_train = edge_index_train.groupby(\"user_id\")['app_id'].apply(list)\n",
    "users_items_valid = edge_index_valid.groupby(\"user_id\")['app_id'].apply(list)\n",
    "items_attr = data['items_datastore'].dataframe.df\n",
    "n_items = items_attr.shape[0]"
   ]
  },
  {
   "cell_type": "code",
   "execution_count": 18,
   "id": "e11498da-7305-4712-a179-84c919a47c83",
   "metadata": {},
   "outputs": [
    {
     "name": "stdout",
     "output_type": "stream",
     "text": [
      "Model weights initialized, copied to target\n",
      "Optimizers initialized\n"
     ]
    }
   ],
   "source": [
    "offline_env = OfflineEnv(\n",
    "    user_items=users_items_train,\n",
    "    min_state_size=8,\n",
    "    max_recommendation_trials=n_items//10\n",
    ")\n",
    "agent = DRRAgent(\n",
    "    env=offline_env,\n",
    "    users_items=users_items_train,\n",
    "    items_attr=items_attr,\n",
    "    emb_dim=16,\n",
    "    action_dim=16,\n",
    "    batch_size=64, \n",
    "    eps=0.1,\n",
    "    gamma=0.9,\n",
    "    tau=0.01,\n",
    ")"
   ]
  },
  {
   "cell_type": "code",
   "execution_count": 19,
   "id": "4ff18b76-44c9-4f1d-9bc2-8f8edec90323",
   "metadata": {
    "scrolled": true
   },
   "outputs": [
    {
     "data": {
      "application/vnd.jupyter.widget-view+json": {
       "model_id": "e687ac79b6444f279c9ba83ef8c7b0fd",
       "version_major": 2,
       "version_minor": 0
      },
      "text/plain": [
       "0it [00:00, ?it/s]"
      ]
     },
     "metadata": {},
     "output_type": "display_data"
    }
   ],
   "source": [
    "history = agent.train(epochs=offline_env.user_items_filtered.shape[0]-10)"
   ]
  },
  {
   "cell_type": "code",
   "execution_count": 23,
   "id": "b9295235-cf00-4a98-bc63-941241af4094",
   "metadata": {},
   "outputs": [],
   "source": [
    "agent_backup = agent"
   ]
  },
  {
   "cell_type": "code",
   "execution_count": 83,
   "id": "08fbb857-3ca0-4644-966f-99148bf8b4d1",
   "metadata": {},
   "outputs": [],
   "source": [
    "lens = users_items_train[(users_items_train.index.isin(users_items_valid.index))].apply(len)\n",
    "users_eval = users_items_train[users_items_train.index.isin(users_items_valid.index)][lens > 8].apply(lambda x: x[len(x)-9:])\n",
    "users_items_valid = users_items_valid[users_eval.index]"
   ]
  },
  {
   "cell_type": "code",
   "execution_count": 135,
   "id": "dc4285d3-0c0d-4f1e-893f-edd89d1dc9d3",
   "metadata": {},
   "outputs": [
    {
     "data": {
      "text/plain": [
       "user_id\n",
       "21                 [19, 32, 98, 108, 191, 527, 1004, 4, 707]\n",
       "24               [6, 32, 82, 161, 507, 546, 555, 1072, 1116]\n",
       "32             [145, 157, 165, 243, 287, 306, 745, 881, 938]\n",
       "37                    [21, 29, 30, 35, 47, 73, 93, 106, 157]\n",
       "74           [427, 431, 435, 572, 637, 671, 1230, 533, 1141]\n",
       "                                 ...                        \n",
       "3062395    [868, 927, 934, 999, 1007, 1082, 1092, 1093, 1...\n",
       "3063118    [1004, 174, 368, 841, 886, 1008, 1058, 1206, 1...\n",
       "3063420     [101, 124, 368, 452, 492, 841, 1004, 1206, 1222]\n",
       "3063726          [106, 4, 23, 95, 190, 366, 451, 1004, 1082]\n",
       "3065483        [398, 399, 409, 498, 533, 580, 638, 728, 871]\n",
       "Name: app_id, Length: 18866, dtype: object"
      ]
     },
     "execution_count": 135,
     "metadata": {},
     "output_type": "execute_result"
    }
   ],
   "source": [
    "users_eval"
   ]
  },
  {
   "cell_type": "code",
   "execution_count": 139,
   "id": "47d830e9-3229-4b3d-a6f6-4eb573d5cbfe",
   "metadata": {},
   "outputs": [
    {
     "data": {
      "text/plain": [
       "user_id\n",
       "21         [19, 32, 98, 108, 191, 527, 1004, 4, 707, 179,...\n",
       "24         [6, 32, 82, 161, 507, 546, 555, 1072, 1116, 1176]\n",
       "32         [145, 157, 165, 243, 287, 306, 745, 881, 938, ...\n",
       "37               [21, 29, 30, 35, 47, 73, 93, 106, 157, 458]\n",
       "74         [427, 431, 435, 572, 637, 671, 1230, 533, 1141...\n",
       "                                 ...                        \n",
       "3062395    [868, 927, 934, 999, 1007, 1082, 1092, 1093, 1...\n",
       "3063118    [1004, 174, 368, 841, 886, 1008, 1058, 1206, 1...\n",
       "3063420    [101, 124, 368, 452, 492, 841, 1004, 1206, 122...\n",
       "3063726     [106, 4, 23, 95, 190, 366, 451, 1004, 1082, 179]\n",
       "3065483    [398, 399, 409, 498, 533, 580, 638, 728, 871, ...\n",
       "Name: app_id, Length: 18866, dtype: object"
      ]
     },
     "execution_count": 139,
     "metadata": {},
     "output_type": "execute_result"
    }
   ],
   "source": [
    "users_eval.combine(users_items_valid, lambda x, y: x + y)"
   ]
  },
  {
   "cell_type": "code",
   "execution_count": 136,
   "id": "226ccad7-9fbc-4b0e-87d3-e41c94126f4e",
   "metadata": {},
   "outputs": [
    {
     "data": {
      "text/plain": [
       "user_id\n",
       "21                                                [179, 857]\n",
       "24                                                    [1176]\n",
       "32         [289, 320, 350, 352, 368, 461, 504, 511, 513, ...\n",
       "37                                                     [458]\n",
       "74                                          [481, 491, 1136]\n",
       "                                 ...                        \n",
       "3062395                 [14, 15, 19, 25, 124, 330, 502, 971]\n",
       "3063118                                                [467]\n",
       "3063420                                                [394]\n",
       "3063726                                                [179]\n",
       "3065483                                           [394, 990]\n",
       "Name: app_id, Length: 18866, dtype: object"
      ]
     },
     "execution_count": 136,
     "metadata": {},
     "output_type": "execute_result"
    }
   ],
   "source": [
    "users_items_valid"
   ]
  },
  {
   "cell_type": "code",
   "execution_count": 140,
   "id": "dd66d360-445e-4cc2-a3bf-2cfad0e6f11c",
   "metadata": {},
   "outputs": [],
   "source": [
    "offline_env_eval = OfflineEnv(\n",
    "    user_items=users_eval.combine(users_items_valid, lambda x, y: x + y),\n",
    "    min_state_size=9,\n",
    "    max_recommendation_trials=n_items//10\n",
    ")"
   ]
  },
  {
   "cell_type": "code",
   "execution_count": 141,
   "id": "3f6bed2f-00f6-45f0-9514-0859fb33e115",
   "metadata": {},
   "outputs": [],
   "source": [
    "def evaluate(epochs, agent):\n",
    "    recommendation_dict = {}\n",
    "    for idx, sess in tqdm(enumerate(range(epochs))):     \n",
    "        user_id, items_ids, done = agent.env.reset()\n",
    "        user_rec_items = []\n",
    "        while not done:\n",
    "            with torch.no_grad():\n",
    "                items_emb = agent.item_emb(torch.tensor(items_ids).unsqueeze(0)).detach()\n",
    "                state = agent.state_repr(items_emb).detach()\n",
    "\n",
    "                if np.random.uniform() < agent.eps:\n",
    "                    action = torch.from_numpy(0.1 * np.random.rand(agent.action_dim)).unsqueeze(0).float()\n",
    "                else:\n",
    "                    action = agent.actor(state)\n",
    "\n",
    "                recommended_item = agent.recommend_item(action)\n",
    "\n",
    "                next_items_ids, reward, done, _ = agent.env.step(recommended_item)\n",
    "                next_items_emb = agent.item_emb(torch.tensor(next_items_ids).unsqueeze(0)).detach()\n",
    "                next_state = agent.state_repr(next_items_emb).detach()\n",
    "\n",
    "                user_rec_items.append(recommended_item)\n",
    "\n",
    "        recommendation_dict[user_id] = user_rec_items\n",
    "    return recommendation_dict"
   ]
  },
  {
   "cell_type": "code",
   "execution_count": 142,
   "id": "1d866d0b-ca39-4186-b792-c0fc2916ecce",
   "metadata": {},
   "outputs": [],
   "source": [
    "agent.env = offline_env_eval"
   ]
  },
  {
   "cell_type": "code",
   "execution_count": 143,
   "id": "78aa3775-c15e-4d10-8308-91c495ea7cad",
   "metadata": {},
   "outputs": [
    {
     "data": {
      "application/vnd.jupyter.widget-view+json": {
       "model_id": "1f54811667b14932bc1d8700ced0b66d",
       "version_major": 2,
       "version_minor": 0
      },
      "text/plain": [
       "0it [00:00, ?it/s]"
      ]
     },
     "metadata": {},
     "output_type": "display_data"
    }
   ],
   "source": [
    "evaluate_dict = evaluate(users_eval.shape[0]-1000, agent)"
   ]
  },
  {
   "cell_type": "code",
   "execution_count": 157,
   "id": "08b28712-4c95-4820-81fe-aad189618595",
   "metadata": {
    "scrolled": true
   },
   "outputs": [
    {
     "name": "stdout",
     "output_type": "stream",
     "text": [
      "Precision = 0.0019008465867466175\n"
     ]
    }
   ],
   "source": [
    "prec = 0.0\n",
    "for key, y_pred in evaluate_dict.items():\n",
    "    y_true = users_items_valid.loc[key]\n",
    "    relevant = np.intersect1d(y_pred, y_true)\n",
    "    #print(f'{y_true=} {y_pred=} {relevant=}')\n",
    "    #print((relevant.shape[0] / len(y_true)))\n",
    "    prec += (relevant.shape[0] / len(y_true))\n",
    "    \n",
    "prec /= len(evaluate_dict)\n",
    "print(f'Precision = {prec}')"
   ]
  },
  {
   "cell_type": "code",
   "execution_count": 134,
   "id": "12115f08-ca28-43ab-8137-3874560df829",
   "metadata": {},
   "outputs": [
    {
     "data": {
      "text/plain": [
       "[9, 293]"
      ]
     },
     "execution_count": 134,
     "metadata": {},
     "output_type": "execute_result"
    }
   ],
   "source": [
    "users_items_valid.loc[93598]"
   ]
  },
  {
   "cell_type": "code",
   "execution_count": 21,
   "id": "e86aa0de-50e3-41b5-90d3-1ca8f00df150",
   "metadata": {},
   "outputs": [],
   "source": [
    "import matplotlib.pyplot as plt\n",
    "\n",
    "def plot_losses(actor_losses, critic_losses):\n",
    "    fig, axs = plt.subplots(2, 1, figsize=(10, 8))\n",
    "    \n",
    "    axs[0].plot(actor_losses, label='Actor Loss', color='blue')\n",
    "    axs[0].set_title('Actor Losses')\n",
    "    axs[0].set_xlabel('Epoch')\n",
    "    axs[0].set_ylabel('Loss')\n",
    "    axs[0].legend()\n",
    "\n",
    "    axs[1].plot(critic_losses, label='Critic Loss', color='red')\n",
    "    axs[1].set_title('Critic Losses')\n",
    "    axs[1].set_xlabel('Epoch')\n",
    "    axs[1].set_ylabel('Loss')\n",
    "    axs[1].legend()\n",
    "    \n",
    "    plt.tight_layout()\n",
    "    plt.show()"
   ]
  },
  {
   "cell_type": "code",
   "execution_count": 22,
   "id": "524b085c-a1ac-4f32-a00e-c202e055959c",
   "metadata": {},
   "outputs": [
    {
     "data": {
      "image/png": "[encoded data removed]",
      "text/plain": [
       "<Figure size 1000x800 with 2 Axes>"
      ]
     },
     "metadata": {},
     "output_type": "display_data"
    }
   ],
   "source": [
    "plot_losses(history['actor_losses'], history['critic_losses'])"
   ]
  },
  {
   "cell_type": "code",
   "execution_count": null,
   "id": "f8064676-8343-40ef-b713-ce2a866013a8",
   "metadata": {},
   "outputs": [],
   "source": [
    "offline_env.user_items_filtered"
   ]
  },
  {
   "cell_type": "code",
   "execution_count": null,
   "id": "7bf57706-3e2e-45dc-88c1-c2f04a9a9f5b",
   "metadata": {},
   "outputs": [],
   "source": [
    "idx = np.array(offline_env.user_items_filtered.index)\n",
    "np.random.shuffle(idx)"
   ]
  },
  {
   "cell_type": "code",
   "execution_count": null,
   "id": "f131300b-d8b7-4cf9-a95b-c812c166db52",
   "metadata": {},
   "outputs": [],
   "source": [
    "idx"
   ]
  },
  {
   "cell_type": "code",
   "execution_count": null,
   "id": "5e23c8cb-24bf-4d66-a2e4-a5778d7ef666",
   "metadata": {},
   "outputs": [],
   "source": [
    "offline_env.user_items_filtered.index"
   ]
  },
  {
   "cell_type": "code",
   "execution_count": null,
   "id": "2876f3f5-7cdd-40d1-bfad-e7475df83cca",
   "metadata": {},
   "outputs": [],
   "source": []
  },
  {
   "cell_type": "code",
   "execution_count": null,
   "id": "62552e5b-06df-431e-a850-fc283d1dd560",
   "metadata": {},
   "outputs": [],
   "source": [
    "items_emb = agent.item_emb(torch.tensor(offline_env.items).unsqueeze(0))\n",
    "state = agent.state_repr(items_emb)"
   ]
  },
  {
   "cell_type": "code",
   "execution_count": null,
   "id": "889d7815-8aa8-432a-9360-5dffc9e0e65a",
   "metadata": {},
   "outputs": [],
   "source": []
  },
  {
   "cell_type": "code",
   "execution_count": null,
   "id": "f8d2e985-6543-4d51-8d24-bb68b847cbf2",
   "metadata": {},
   "outputs": [],
   "source": [
    "agent.item_emb(torch.from_numpy(np.setdiff1d(np.arange(n_items), list(offline_env.recommended_items))).unsqueeze(0)).view(1, 16, -1)"
   ]
  },
  {
   "cell_type": "code",
   "execution_count": null,
   "id": "76c9d601-b472-4351-a002-db32df359786",
   "metadata": {},
   "outputs": [],
   "source": [
    "(state.squeeze(0) @ agent.item_emb(torch.from_numpy(np.setdiff1d(np.arange(n_items), list(offline_env.recommended_items))).unsqueeze(0)).squeeze(0).view(16, -1)).argmax().item()"
   ]
  },
  {
   "cell_type": "code",
   "execution_count": null,
   "id": "3f66735e-5887-4a5e-8fce-50b4e1cf0c01",
   "metadata": {},
   "outputs": [],
   "source": [
    "np.setdiff1d(np.arange(n_items), list(offline_env.recommended_items))"
   ]
  },
  {
   "cell_type": "code",
   "execution_count": null,
   "id": "51062604-d934-4a2e-ab93-6eb662c19815",
   "metadata": {},
   "outputs": [],
   "source": [
    "n_items=1231\n",
    "env = OfflineEnv(user_items=users_items_train, min_state_size=10, max_recommendation_trials=n_items//10)"
   ]
  },
  {
   "cell_type": "code",
   "execution_count": null,
   "id": "87bf63ea-cc67-40be-b933-53d3061a2733",
   "metadata": {
    "jupyter": {
     "source_hidden": true
    }
   },
   "outputs": [],
   "source": [
    "# class QNetwork(nn.Module):\n",
    "#     def __init__(self, state_size, action_size):\n",
    "#         super(QNetwork, self).__init__()\n",
    "#         self.fc1 = nn.Linear(state_size, 128)\n",
    "#         self.fc2 = nn.Linear(128, 64)\n",
    "#         self.fc3 = nn.Linear(64, action_size)\n",
    "\n",
    "#     def forward(self, state):\n",
    "#         x = torch.relu(self.fc1(state))\n",
    "#         x = torch.relu(self.fc2(x))\n",
    "#         x = self.fc3(x)\n",
    "#         return x"
   ]
  },
  {
   "cell_type": "code",
   "execution_count": null,
   "id": "a1b1930a-e79b-45fb-85bc-220996ea84d9",
   "metadata": {},
   "outputs": [],
   "source": [
    "# class ReplayBuffer:\n",
    "#     def __init__(self, capacity):\n",
    "#         self.capacity = capacity\n",
    "#         self.buffer = []\n",
    "#         self.position = 0\n",
    "\n",
    "#     def push(self, state, action, reward, next_state, done):\n",
    "#         if len(self.buffer) < self.capacity:\n",
    "#             self.buffer.append(None)\n",
    "#         self.buffer[self.position] = (state, action, reward, next_state, done)\n",
    "#         self.position = (self.position + 1) % self.capacity\n",
    "\n",
    "#     def sample(self, batch_size):\n",
    "#         batch = np.random.choice(self.buffer, batch_size, replace=False)\n",
    "#         state, action, reward, next_state, done = map(np.stack, zip(*batch))\n",
    "#         return state, action, reward, next_state, done"
   ]
  },
  {
   "cell_type": "code",
   "execution_count": null,
   "id": "62e3eb22-203b-49ea-9341-6c5512b422b4",
   "metadata": {},
   "outputs": [],
   "source": [
    "# class DQNAgent:\n",
    "#     def __init__(self, state_size, action_size, learning_rate=0.001, gamma=0.99, epsilon_start=1.0, epsilon_end=0.01, epsilon_decay=0.995):\n",
    "#         self.q_network = QNetwork(state_size, action_size)\n",
    "#         self.target_q_network = QNetwork(state_size, action_size)\n",
    "#         self.target_q_network.load_state_dict(self.q_network.state_dict())\n",
    "#         self.optimizer = optim.Adam(self.q_network.parameters(), lr=learning_rate)\n",
    "#         self.gamma = gamma\n",
    "#         self.epsilon = epsilon_start\n",
    "#         self.epsilon_end = epsilon_end\n",
    "#         self.epsilon_decay = epsilon_decay\n",
    "#         self.action_size = action_size\n",
    "\n",
    "#     def select_action(self, state):\n",
    "#         if np.random.rand() < self.epsilon:\n",
    "#             return np.random.choice(self.action_size)\n",
    "#         state = torch.FloatTensor(state).unsqueeze(0)\n",
    "#         q_values = self.q_network(state)\n",
    "#         return torch.argmax(q_values).item()\n",
    "\n",
    "#     def update_q_network(self, state, action, reward, next_state, done):\n",
    "#         state = torch.FloatTensor(state).unsqueeze(0)\n",
    "#         next_state = torch.FloatTensor(next_state).unsqueeze(0)\n",
    "#         action = torch.tensor([action])\n",
    "#         reward = torch.tensor([reward], dtype=torch.float32)\n",
    "#         done = torch.tensor([done], dtype=torch.float32)\n",
    "\n",
    "#         q_value = self.q_network(state).gather(1, action.unsqueeze(1))\n",
    "\n",
    "#         next_q_value = self.target_q_network(next_state).max(1)[0].detach()\n",
    "#         target_q_value = reward + (1 - done) * self.gamma * next_q_value\n",
    "\n",
    "#         loss = nn.MSELoss()(q_value, target_q_value.unsqueeze(1))\n",
    "\n",
    "#         self.optimizer.zero_grad()\n",
    "#         loss.backward()\n",
    "#         self.optimizer.step()\n",
    "\n",
    "#         # Update target Q-network\n",
    "#         self.soft_update_target_network()\n",
    "\n",
    "#         # Decay epsilon\n",
    "#         self.epsilon = max(self.epsilon_end, self.epsilon * self.epsilon_decay)\n",
    "\n",
    "#     def soft_update_target_network(self, tau=0.01):\n",
    "#         for target_param, param in zip(self.target_q_network.parameters(), self.q_network.parameters()):\n",
    "#             target_param.data.copy_((1.0 - tau) * target_param.data + tau * param.data)"
   ]
  },
  {
   "cell_type": "code",
   "execution_count": null,
   "id": "a2209c5d-9e36-4499-8f4c-311d7411ab8d",
   "metadata": {},
   "outputs": [],
   "source": [
    "# class RecommenderSystemEnv:\n",
    "#     def __init__(self, edge_index, user_attributes, item_attributes):\n",
    "#         self.edge_index = edge_index\n",
    "#         self.user_attributes = user_attributes\n",
    "#         self.item_attributes = item_attributes\n",
    "#         self.state_size = user_attributes.shape[1] + item_attributes.shape[1]\n",
    "#         self.action_size = item_attributes.shape[0]\n",
    "\n",
    "#     def reset(self):\n",
    "#         # Implement reset logic if needed\n",
    "#         pass\n",
    "\n",
    "#     def step(self, action):\n",
    "#         # Implement the interaction logic between the agent and the environment\n",
    "#         # Update the state, reward, and done flag based on the chosen action\n",
    "#         pass"
   ]
  },
  {
   "cell_type": "code",
   "execution_count": null,
   "id": "6e531d84-ed2b-4319-b279-3940b44e54a3",
   "metadata": {},
   "outputs": [],
   "source": [
    "# def train_recommender_system():\n",
    "#     # Initialize environment, agent, and replay buffer\n",
    "#     edge_index =  # Your edge index data\n",
    "#     user_attributes =  # Your user attributes data\n",
    "#     item_attributes =  # Your item attributes data\n",
    "#     env = RecommenderSystemEnv(edge_index, user_attributes, item_attributes)\n",
    "\n",
    "#     state_size = env.state_size\n",
    "#     action_size = env.action_size\n",
    "#     agent = DQNAgent(state_size, action_size)\n",
    "\n",
    "#     replay_buffer = ReplayBuffer(capacity=1000)\n",
    "\n",
    "#     num_episodes = 1000\n",
    "#     batch_size = 32\n",
    "\n",
    "#     for episode in range(num_episodes):\n",
    "#         state = env.reset()\n",
    "#         total_reward = 0\n",
    "\n",
    "#         while True:\n",
    "#             action = agent.select_action(state)\n",
    "#             next_state, reward, done = env.step(action)\n",
    "#             replay_buffer.push(state, action, reward, next_state, done)\n",
    "\n",
    "#             if len(replay_buffer.buffer) > batch_size:\n",
    "#                 batch_state, batch_action, batch_reward, batch_next_state, batch_done = replay_buffer.sample(batch_size)\n",
    "#                 for i in range(batch_size):\n",
    "#                     agent.update_q_network(batch_state[i], batch_action[i], batch_reward[i], batch_next_state[i], batch_done[i])\n",
    "\n",
    "#             state = next_state\n",
    "#             total_reward += reward\n",
    "\n",
    "#             if done:\n",
    "#                 break\n",
    "\n",
    "#         print(f\"Episode: {episode + 1}, Total Reward: {total_reward}\")"
   ]
  },
  {
   "cell_type": "code",
   "execution_count": null,
   "id": "5333c240-249a-4211-a932-61a35d34a4be",
   "metadata": {},
   "outputs": [],
   "source": []
  },
  {
   "cell_type": "code",
   "execution_count": null,
   "id": "3eb3314f-cec8-42cf-a676-456de21df6a2",
   "metadata": {},
   "outputs": [],
   "source": []
  },
  {
   "cell_type": "code",
   "execution_count": null,
   "id": "86b3046f-a6d6-4036-869a-8f136c59fb68",
   "metadata": {},
   "outputs": [],
   "source": []
  },
  {
   "cell_type": "code",
   "execution_count": null,
   "id": "123de4f3-bb27-4e49-8236-5580d06a53d1",
   "metadata": {},
   "outputs": [],
   "source": []
  }
 ],
 "metadata": {
  "kernelspec": {
   "display_name": "Python 3 (ipykernel)",
   "language": "python",
   "name": "python3"
  },
  "language_info": {
   "codemirror_mode": {
    "name": "ipython",
    "version": 3
   },
   "file_extension": ".py",
   "mimetype": "text/x-python",
   "name": "python",
   "nbconvert_exporter": "python",
   "pygments_lexer": "ipython3",
   "version": "3.10.9"
  }
 },
 "nbformat": 4,
 "nbformat_minor": 5
}
