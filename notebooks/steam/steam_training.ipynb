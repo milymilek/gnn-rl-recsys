{
 "cells": [
  {
   "cell_type": "code",
   "execution_count": 1,
   "id": "3c54b140-d3be-4ec9-b14b-830f4973ee46",
   "metadata": {
    "tags": []
   },
   "outputs": [
    {
     "name": "stdout",
     "output_type": "stream",
     "text": [
      "C:\\Users\\Milosz\\Desktop\\python\\thesis-recsys\n"
     ]
    }
   ],
   "source": [
    "%load_ext autoreload\n",
    "%autoreload 2\n",
    "\n",
    "import os\n",
    "os.chdir(\"../../\")\n",
    "print(os.getcwd())"
   ]
  },
  {
   "cell_type": "code",
   "execution_count": 2,
   "id": "6088f9e4-ec83-4cf4-ae00-daf1ca67ff01",
   "metadata": {
    "tags": []
   },
   "outputs": [
    {
     "data": {
      "text/plain": [
       "<torch._C.Generator at 0x28352e415b0>"
      ]
     },
     "execution_count": 2,
     "metadata": {},
     "output_type": "execute_result"
    }
   ],
   "source": [
    "import pandas as pd\n",
    "import numpy as np\n",
    "import functools\n",
    "import operator\n",
    "import json\n",
    "import matplotlib.pyplot as plt\n",
    "from tqdm import tqdm\n",
    "\n",
    "import torch_geometric\n",
    "import torch_geometric.transforms as T\n",
    "from torch_geometric import nn\n",
    "from torch_geometric.sampler import NegativeSampling\n",
    "from torch_geometric.loader import LinkNeighborLoader, NeighborLoader\n",
    "from torch_geometric.data import HeteroData\n",
    "from torch_geometric.utils import to_scipy_sparse_matrix\n",
    "\n",
    "import torch\n",
    "import torch.nn.functional as F\n",
    "from torch.utils.tensorboard import SummaryWriter\n",
    "\n",
    "from sklearn.metrics import roc_auc_score, confusion_matrix, ConfusionMatrixDisplay\n",
    "from sklearn.preprocessing import StandardScaler\n",
    "\n",
    "from src.utils import *\n",
    "\n",
    "torch.set_printoptions(precision=2, sci_mode=False)\n",
    "torch.manual_seed(715037601397000) # used to train gnn_02.pth"
   ]
  },
  {
   "cell_type": "code",
   "execution_count": 3,
   "id": "61b1cb33-ac35-48ba-a79e-a767cc484294",
   "metadata": {
    "tags": []
   },
   "outputs": [
    {
     "name": "stdout",
     "output_type": "stream",
     "text": [
      "cuda\n"
     ]
    }
   ],
   "source": [
    "device = 'cuda' if torch.cuda.is_available() else 'cpu'\n",
    "print(device)"
   ]
  },
  {
   "cell_type": "code",
   "execution_count": 4,
   "id": "f01239d3-c585-4932-b5ca-af44663d2bf3",
   "metadata": {
    "tags": []
   },
   "outputs": [],
   "source": [
    "app_meta = load_data_from_csv(\"data/graph_app_tags_stacked.csv\")"
   ]
  },
  {
   "cell_type": "code",
   "execution_count": 5,
   "id": "bf8f8063-a024-4063-926d-66a4f6fa3296",
   "metadata": {
    "tags": []
   },
   "outputs": [
    {
     "name": "stderr",
     "output_type": "stream",
     "text": [
      "C:\\Users\\Milosz\\AppData\\Local\\Temp\\ipykernel_18732\\612704181.py:3: FutureWarning: iteritems is deprecated and will be removed in a future version. Use .items instead.\n",
      "  for i, (_, x) in enumerate(app_meta['tags_id'].iteritems()):\n"
     ]
    }
   ],
   "source": [
    "app_features = np.zeros((1797, 425), dtype=np.float32)\n",
    "\n",
    "for i, (_, x) in enumerate(app_meta['tags_id'].iteritems()):\n",
    "    x = np.fromstring(x[1:-1], dtype=int, sep=',')\n",
    "    app_features[i, x] = 1"
   ]
  },
  {
   "cell_type": "code",
   "execution_count": 6,
   "id": "da4c06c4-65fe-4068-869d-906f41dac1f1",
   "metadata": {},
   "outputs": [],
   "source": [
    "#app_features = load_data_from_csv(\"data/graph_app_features.csv\")"
   ]
  },
  {
   "cell_type": "code",
   "execution_count": 7,
   "id": "0dcb4de2-6119-4ca7-9474-45485d969806",
   "metadata": {},
   "outputs": [],
   "source": [
    "# real_cols = ['positive_ratio', 'user_reviews', 'price_final', 'price_original', 'discount']\n",
    "\n",
    "# scaler = StandardScaler()\n",
    "# app_features_norm = scaler.fit_transform(app_features[real_cols].numpy())"
   ]
  },
  {
   "cell_type": "code",
   "execution_count": 8,
   "id": "d193917e-f51a-44d3-b308-3287883a2d37",
   "metadata": {
    "tags": []
   },
   "outputs": [],
   "source": [
    "def load_graph(df: pd.DataFrame, n_users: int, n_items: int) -> HeteroData:\n",
    "    \"\"\"\n",
    "    Loads a graph data structure from a pandas DataFrame.\n",
    "    \n",
    "    Parameters:\n",
    "        - df (pd.DataFrame): The input DataFrame containing the graph data.\n",
    "\n",
    "    Returns:\n",
    "        - HeteroData: A heterogeneous graph data object representing the input graph.\n",
    "\n",
    "    Example:\n",
    "        >>> import pandas as pd\n",
    "        >>> df = pd.DataFrame({'user_id': [1, 2, 3], 'app_id': [4, 5, 6], 'is_recommended': [1, 0 ,1]})\n",
    "        >>> graph = load_graph(df)\n",
    "    \"\"\"\n",
    "    \n",
    "    data = HeteroData()\n",
    "    \n",
    "    data['user'].x = torch.ones(n_users, 1)\n",
    "    data['user'].n_id = torch.arange(n_users)\n",
    "    \n",
    "    data['app'].x = torch.from_numpy(app_features)\n",
    "    data['app'].n_id = torch.arange(n_items)\n",
    "    \n",
    "    edge_index = torch.tensor([df['user_id'].values, df['app_id'].values])\n",
    "    edge_label = torch.tensor(df['is_recommended'].values, dtype=torch.long)\n",
    "\n",
    "    data['user', 'recommends', 'app'].edge_index = edge_index\n",
    "    data['user', 'recommends', 'app'].edge_label = edge_label\n",
    "    \n",
    "    return data"
   ]
  },
  {
   "cell_type": "code",
   "execution_count": 9,
   "id": "1ab557b2-f497-4e84-9e43-7c9524094b49",
   "metadata": {
    "tags": []
   },
   "outputs": [],
   "source": [
    "def transform_graph(data: HeteroData) -> HeteroData:\n",
    "    \"\"\"\n",
    "    Applies a transformation to a heterogeneous graph data object.\n",
    "\n",
    "    Parameters:\n",
    "        data: The input graph data object to be transformed.\n",
    "\n",
    "    Returns:\n",
    "        HeteroData: A new heterogeneous graph data object resulting from the transformation.\n",
    "\n",
    "    Example:\n",
    "        >>> transformed_data = transform_graph(data)\n",
    "    \"\"\"\n",
    "    transform = T.Compose([T.ToUndirected()])\n",
    "    return transform(data)"
   ]
  },
  {
   "cell_type": "code",
   "execution_count": 10,
   "id": "f021d96a-e872-40ee-96f8-d0e6fced058f",
   "metadata": {
    "tags": []
   },
   "outputs": [],
   "source": [
    "def init_edge_loader(data: HeteroData, **kwargs) -> NeighborLoader:\n",
    "    \"\"\"\n",
    "    Initializes a neighbor loader for edge-based data in a heterogeneous graph.\n",
    "    Firstly we sample `batch_size` edges and then sample at most `num_neighbors[0]`\n",
    "    neighboring edges at first hop and at most `num_neighbors[1]` at second hop. \n",
    "    Value returned by next(iter(loader)) is a subgraph of `data` graph containing\n",
    "    only sampled edges and congruent nodes.\n",
    "\n",
    "    Args:\n",
    "        data (HeteroData): The input heterogeneous graph data object.\n",
    "        **kwargs: Additional keyword arguments for configuring the loader.\n",
    "\n",
    "    Returns:\n",
    "        NeighborLoader: A neighbor loader for the specified edge-based data.\n",
    "\n",
    "    Example:\n",
    "        >>> loader = init_edge_loader(data, num_neighbors=5, neg_sampl=0.2, bs=32, shuffle=True)\n",
    "    \"\"\"\n",
    "    \n",
    "    eli = data['user', 'recommends', 'app'].edge_label_index\n",
    "    el = data['user', 'recommends', 'app'].edge_label\n",
    "    \n",
    "    loader = LinkNeighborLoader(\n",
    "        data=data,\n",
    "        num_neighbors=kwargs['num_neighbors'],\n",
    "        neg_sampling_ratio=kwargs['neg_sampl'],\n",
    "        edge_label_index=(('user', 'recommends', 'app'), eli),\n",
    "        edge_label=el,\n",
    "        batch_size=kwargs['bs'],\n",
    "        shuffle=kwargs['shuffle'],\n",
    "    )\n",
    "    return loader"
   ]
  },
  {
   "cell_type": "code",
   "execution_count": 11,
   "id": "714891fd-6841-44c2-8867-d1e98b0996c2",
   "metadata": {
    "tags": []
   },
   "outputs": [],
   "source": [
    "def get_sparse_adj_matr(data):\n",
    "    # Extract sparse adjacency matrix with message passing edges\n",
    "    mp_edges = data['user', 'recommends', 'app']['edge_index']\n",
    "    mp_matrix = to_scipy_sparse_matrix(mp_edges, num_nodes=n_users).tocsr()\n",
    "\n",
    "    # Extract sparse adjacency matrix with validation edges\n",
    "    true_mask = data['user', 'recommends', 'app']['edge_label'].nonzero().flatten()\n",
    "    val_edges = data['user', 'recommends', 'app']['edge_label_index'][:, true_mask]\n",
    "    val_matrix = to_scipy_sparse_matrix(val_edges, num_nodes=n_users).tocsr()\n",
    "    \n",
    "    return mp_matrix, val_matrix"
   ]
  },
  {
   "cell_type": "code",
   "execution_count": 12,
   "id": "13ad4a4e-0cf3-48e2-8430-a8ab1d1ec82f",
   "metadata": {
    "tags": []
   },
   "outputs": [],
   "source": [
    "train_df = load_data_from_csv(\"data/graph_train.csv\")\n",
    "test_df = load_data_from_csv(\"data/graph_test.csv\")"
   ]
  },
  {
   "cell_type": "code",
   "execution_count": 13,
   "id": "7e093f51-7ca7-4c08-af18-29d552935ef1",
   "metadata": {
    "tags": []
   },
   "outputs": [
    {
     "name": "stderr",
     "output_type": "stream",
     "text": [
      "C:\\Users\\Milosz\\AppData\\Local\\Temp\\ipykernel_18732\\1547020800.py:25: UserWarning: Creating a tensor from a list of numpy.ndarrays is extremely slow. Please consider converting the list to a single numpy.ndarray with numpy.array() before converting to a tensor. (Triggered internally at ..\\torch\\csrc\\utils\\tensor_new.cpp:233.)\n",
      "  edge_index = torch.tensor([df['user_id'].values, df['app_id'].values])\n"
     ]
    }
   ],
   "source": [
    "df = pd.concat([train_df, test_df])\n",
    "n_users, n_items = df.user_id.nunique(), df.app_id.nunique()\n",
    "data = load_graph(df, n_users, n_items)\n",
    "data = transform_graph(data)"
   ]
  },
  {
   "cell_type": "code",
   "execution_count": 14,
   "id": "a5ced80e-25d6-4f26-841d-bfe970579aa5",
   "metadata": {
    "tags": []
   },
   "outputs": [],
   "source": [
    "random_split = T.RandomLinkSplit(\n",
    "    num_val=0.3,\n",
    "    num_test=0.0,\n",
    "    add_negative_train_samples=False,\n",
    "    neg_sampling_ratio=2.0,\n",
    "    disjoint_train_ratio=0.3,\n",
    "    edge_types=('user', 'recommends', 'app'),\n",
    "    rev_edge_types=('app', 'rev_recommends', 'user')\n",
    ")\n",
    "train_data, val_data, _ = random_split(data)"
   ]
  },
  {
   "cell_type": "code",
   "execution_count": 15,
   "id": "d5d20f4e-9943-47ba-a47e-59841f66a969",
   "metadata": {
    "tags": []
   },
   "outputs": [],
   "source": [
    "train_loader = init_edge_loader(train_data, num_neighbors=[20, 10], neg_sampl=2.0, bs=1024, shuffle=True, drop_last=True)\n",
    "val_loader = init_edge_loader(val_data, num_neighbors=[20, 10], neg_sampl=2.0, bs=256, shuffle=False, drop_last=True)"
   ]
  },
  {
   "cell_type": "code",
   "execution_count": 16,
   "id": "80d1350a-0053-4c22-a559-4e311a555ffe",
   "metadata": {
    "tags": []
   },
   "outputs": [],
   "source": [
    "mp_matrix, val_matrix = get_sparse_adj_matr(val_data)"
   ]
  },
  {
   "cell_type": "code",
   "execution_count": 17,
   "id": "d8a5ef34-ea3a-4e1e-b23e-160b41c77b08",
   "metadata": {
    "jupyter": {
     "source_hidden": true
    },
    "tags": []
   },
   "outputs": [],
   "source": [
    "# Dataloader:\n",
    "#  - user: x->attributes of sampled nodes, n_id->mapping of sampled nodes to ids from whole graph\n",
    "#  - app: x->attributes of sampled nodes, n_id->mapping of sampled nodes to ids from whole graph\n",
    "#  - (user recommends app): \n",
    "#      edge_index -> sampled edges with batch ids with neighbors\n",
    "#      edge_label -> labels of edges which will be evaluated, size of batch size\n",
    "#      e_id -> mapping of sampled edges to ids from whole graph, refers to ?????\n",
    "#      input_id -> mapping of sampled edges to ids from whole graph, refers to edge_label_index\n",
    "#      edge_label_index -> edge index, ids of nodes in sampled graph which will be evaluated\n",
    "\n",
    "\n",
    "# To validate nodes first get sampled nodes ids from edge_label_index, then map them to whole graph\n",
    "# using n_ids of user and app and then check if such edge exists in dataframe"
   ]
  },
  {
   "cell_type": "code",
   "execution_count": 18,
   "id": "82565a81-f756-420f-b2df-c173eeaf9056",
   "metadata": {
    "jupyter": {
     "source_hidden": true
    },
    "tags": []
   },
   "outputs": [],
   "source": [
    "def train_fn(train_data: HeteroData, test_data: HeteroData):\n",
    "    pass"
   ]
  },
  {
   "cell_type": "code",
   "execution_count": 19,
   "id": "e776c55a-8ac9-4a99-82d3-efc6511f724f",
   "metadata": {
    "tags": []
   },
   "outputs": [],
   "source": [
    "class GNN(torch.nn.Module):\n",
    "    def __init__(self, hidden_channels, out_channels):\n",
    "        super().__init__()\n",
    "        self.conv1 = nn.SAGEConv((hidden_channels, hidden_channels), hidden_channels, normalize=True)\n",
    "        self.conv2 = nn.SAGEConv((hidden_channels, hidden_channels), out_channels, normalize=False)\n",
    "        \n",
    "    def forward(self, x, edge_index):\n",
    "        x = self.conv1(x, edge_index).relu()\n",
    "        x = self.conv2(x, edge_index)\n",
    "        return x\n",
    "    \n",
    "    \n",
    "class Classifier(torch.nn.Module):\n",
    "    def forward(self, x_user, x_app, edge_label_index):\n",
    "        x_user = x_user[edge_label_index[0]]\n",
    "        x_app = x_app[edge_label_index[1]]\n",
    "        return (x_user * x_app).sum(dim=-1)\n",
    "\n",
    "\n",
    "class Model(torch.nn.Module):\n",
    "    def __init__(self, hidden_channels, out_channels, metadata):\n",
    "        super().__init__()\n",
    "        \n",
    "        self.user_emb = torch.nn.Embedding(n_users, hidden_channels)\n",
    "        self.app_emb = torch.nn.Embedding(n_items, hidden_channels)\n",
    "        self.app_lin = torch.nn.Linear(425, hidden_channels)\n",
    "        \n",
    "        self.gnn = GNN(hidden_channels=hidden_channels, out_channels=out_channels)\n",
    "        self.gnn = nn.to_hetero(self.gnn, metadata=metadata, aggr='sum')\n",
    "        \n",
    "        self.clf = Classifier()\n",
    "        \n",
    "    def forward(self, batch):  \n",
    "        x_dict = {\n",
    "          \"user\": self.user_emb(batch['user'].n_id),\n",
    "          \"app\": self.app_emb(batch['app'].n_id) + self.app_lin(batch['app'].x),\n",
    "        } \n",
    "        \n",
    "        x_dict = self.gnn(x_dict, batch.edge_index_dict)\n",
    "        pred = self.clf(\n",
    "            x_dict[\"user\"],\n",
    "            x_dict[\"app\"],\n",
    "            batch['user', 'recommends', 'app'].edge_label_index,\n",
    "        )\n",
    "        return pred\n",
    "    \n",
    "    def evaluate(self, batch):\n",
    "        x_dict = {\n",
    "          \"user\": self.user_emb(batch['user'].n_id),\n",
    "          \"app\": self.app_emb(batch['app'].n_id) + self.app_lin(batch['app'].x),\n",
    "        } \n",
    "\n",
    "        x_dict = self.gnn(x_dict, batch.edge_index_dict)\n",
    "\n",
    "        return x_dict\n",
    "\n",
    "def xavier_init(m):\n",
    "    if isinstance(m, torch.nn.Linear) or isinstance(m, torch_geometric.nn.dense.linear.Linear):\n",
    "        torch.nn.init.xavier_normal_(m.weight, gain=1.41)\n",
    "        if m.bias is not None:\n",
    "            torch.nn.init.zeros_(m.bias)\n",
    "    \n",
    "model = Model(hidden_channels=32, out_channels=32, metadata=train_data.metadata())\n",
    "model.apply(xavier_init)\n",
    "model = model.to(device)"
   ]
  },
  {
   "cell_type": "code",
   "execution_count": 20,
   "id": "396ceead-7335-4af4-a015-3377d330d299",
   "metadata": {},
   "outputs": [],
   "source": [
    "criterion = torch.nn.BCEWithLogitsLoss()\n",
    "#optimizer = torch.optim.Adam(params=model.parameters(), lr=1e-2)\n",
    "#optimizer = torch.optim.SGD(params=model.parameters(), lr=1e-1, momentum=0.9)\n",
    "optimizer = torch.optim.RMSprop(params=model.parameters(), lr=0.001, momentum=0.9)\n",
    "#writer = SummaryWriter()"
   ]
  },
  {
   "cell_type": "code",
   "execution_count": 21,
   "id": "beb6713e-13af-4409-982a-6c041888c2f3",
   "metadata": {
    "tags": []
   },
   "outputs": [],
   "source": [
    "def train(n_epochs, print_loss=500):\n",
    "    model.train()\n",
    "    \n",
    "    for epoch in range(n_epochs):\n",
    "        running_loss = 0.\n",
    "        for i_batch, batch in enumerate(tqdm(train_loader)):\n",
    "            batch = batch.to(device)\n",
    "            \n",
    "            y_pred = model(batch)\n",
    "            y_true = batch['user', 'recommends', 'app'].edge_label\n",
    "            loss = criterion(y_pred, y_true.float())\n",
    "            optimizer.zero_grad()\n",
    "            loss.backward()\n",
    "            optimizer.step()\n",
    "            \n",
    "            running_loss += loss.item()\n",
    "            if not ((i_batch+1) % print_loss):\n",
    "                last_loss = running_loss / print_loss\n",
    "                #writer.add_scalar(\"Loss/train\", last_loss, epoch*len(train_loader) + i_batch + 1)\n",
    "                score = roc_auc_score(y_true.detach().cpu().numpy(), y_pred.detach().sigmoid().cpu().numpy())\n",
    "                print(f\"batch <{i_batch}> - loss: {last_loss} - roc_auc score: {score}\")\n",
    "                running_loss = 0.\n",
    "                \n",
    "                #test_loss, test_roc_auc = test()\n",
    "                #print(f\"\\tTest loss: {test_loss} \\t Test ROC AUC: {test_roc_auc}\")\n",
    "                \n",
    "                print(f\"Metrics: {evaluate_nn(model, mp_matrix, val_matrix, k=10)}\")\n",
    "            \n",
    "        print(f\"Epoch: {epoch}, Loss: {running_loss / len(train_loader):.4f}\")"
   ]
  },
  {
   "cell_type": "code",
   "execution_count": 22,
   "id": "0d36edf0-0f8b-4eb2-8a84-e467c4c06af9",
   "metadata": {
    "tags": []
   },
   "outputs": [],
   "source": [
    "def precision_k(reco_relevance, k=10):\n",
    "    # k = reco_relevance.shape[1]\n",
    "    # return (reco_relevance.sum(axis=1) / k).mean()\n",
    "    return reco_relevance.mean()\n",
    "\n",
    "def mean_average_prec(reco_relevance):\n",
    "    K = reco_relevance.shape[1]\n",
    "    \n",
    "    mean_ap = 0.0\n",
    "    for k in range(1, K+1):\n",
    "        mean_ap += prec_k(reco_relevance[:, :k]) # DODAC MNOŻNIK 1/0 GDY ITEM JEST RELEWANTNY!!!\n",
    "    return mean_ap / K\n",
    "\n",
    "def recall_k(reco_relevance, relevance, k=10):\n",
    "    sum_relevant = relevance.sum(axis=1)\n",
    "    return (reco_relevance.sum(axis=1) / sum_relevant).mean()\n",
    "\n",
    "@torch.no_grad()\n",
    "def generate_embeddings(model, data):\n",
    "    model.eval()\n",
    "    data = data.to(device)\n",
    "    x_dict = model.evaluate(data)\n",
    "    return x_dict\n",
    "\n",
    "@torch.no_grad()\n",
    "def recommend_k(user_emb, item_emb, past_interactions=None, k=10, user_batch_size=1000):\n",
    "    def remove_past_interactions(prob, user_batch):\n",
    "        id_x = np.repeat(np.arange(user_batch.shape[0]), np.diff(past_interactions[user_batch].indptr))\n",
    "        id_y = past_interactions[user_batch].indices\n",
    "        prob[id_x, id_y] = -torch.inf\n",
    "        return prob\n",
    "    \n",
    "    recommended_batches = []\n",
    "    user_batches = torch.arange(user_emb.shape[0]).split(user_batch_size)\n",
    "    for user_batch in user_batches:\n",
    "        prob = (user_emb[user_batch] @ item_emb.T).sigmoid()\n",
    "        prob = remove_past_interactions(prob, user_batch)\n",
    "        recommended_batches.append(prob.topk(k, 1)[1])\n",
    "    \n",
    "    recommendations = torch.cat(recommended_batches, 0)\n",
    "    return recommendations\n",
    "\n",
    "def recommendation_relevance(recommendations, ground_truth):\n",
    "    \"\"\"\n",
    "    Computes the relevance matrix of recommended items based on ground truth data.\n",
    "\n",
    "    This function takes a matrix of recommended items and a ground truth sparse matrix, and calculates\n",
    "    binary relevance of recommended items for each user. The relevance is determined by\n",
    "    comparing the recommended items with the actual items in the ground truth.\n",
    "\n",
    "    Args:\n",
    "        recommendations (numpy.ndarray): A 2D matrix of shape (n_users, k) where k is the number of \n",
    "            recommended items per user. Each row contains indices representing the recommended \n",
    "            items for a user.\n",
    "        ground_truth (scipy.csr_matrix): A sparse matrix of shape (n_users, n_items). The matrix \n",
    "            contains binary values indicating whether an item is relevant (1) or not (0) for each user.\n",
    "\n",
    "    Returns:\n",
    "        numpy.matrix: A 2D matrix of shape (n_users, k) containing the relevance scores of the\n",
    "        recommended items for each user.\n",
    "        \n",
    "    Raises:\n",
    "        ValueError: If the dimensions of 'recommendations' and 'ground_truth' do not match or\n",
    "            are incompatible for matrix operations.\n",
    "    \"\"\"\n",
    "    n_users, n_items = ground_truth.shape\n",
    "    k = recommendations.shape[1]\n",
    "    \n",
    "    if recommendations.shape[0] != n_users:\n",
    "        raise ValueError(\"Number of users in 'recommendations' should match 'ground_truth'.\")\n",
    "    \n",
    "    user_idx = np.repeat(np.arange(n_users), k)\n",
    "    item_idx = recommendations.flatten()\n",
    "    relevance = ground_truth[user_idx, item_idx].reshape((n_users, k))  # get values under arrays of indices \n",
    "                                                                        # (user_idx and item_idx) from ground truth\n",
    "    relevance_mask = np.asarray((ground_truth.sum(axis=1) != 0)).ravel()\n",
    "    \n",
    "    return relevance, relevance_mask\n",
    "\n",
    "def evaluate_nn(model, mp_matrix, val_matrix, k):\n",
    "    x_emb = generate_embeddings(model, val_data)\n",
    "    recommendations = recommend_k(x_emb['user'], x_emb['app'], past_interactions=mp_matrix, \n",
    "                                  k=10, user_batch_size=10000).cpu().numpy()\n",
    "    reco_relevance, relevance_mask = recommendation_relevance(recommendations, val_matrix)\n",
    "    \n",
    "    prec_k = precision_k(reco_relevance[relevance_mask], k)\n",
    "    return {f\"precision@{k}\": prec_k}"
   ]
  },
  {
   "cell_type": "code",
   "execution_count": 23,
   "id": "95e0484a-ca88-43a0-b8ba-5f72241be99f",
   "metadata": {
    "tags": []
   },
   "outputs": [],
   "source": [
    "@torch.no_grad()\n",
    "def test():\n",
    "    model.eval()\n",
    "    running_loss = 0.\n",
    "    preds, ground_truths = [], []\n",
    "\n",
    "    for i_batch, batch in enumerate(val_loader):\n",
    "        batch = batch.to(device)\n",
    "        y_pred = model(batch)\n",
    "        y_true = batch['user', 'recommends', 'app'].edge_label\n",
    "        loss = criterion(y_pred, y_true.float())\n",
    "        \n",
    "        preds.append(y_pred)\n",
    "        ground_truths.append(y_true)\n",
    "\n",
    "        running_loss += loss.item()\n",
    "        \n",
    "    pred = torch.cat(preds, dim=0).cpu().numpy()\n",
    "    ground_truth = torch.cat(ground_truths, dim=0).cpu().numpy()\n",
    "    \n",
    "    test_loss = running_loss / len(test_loader)\n",
    "    test_score = roc_auc_score(ground_truth, pred)\n",
    "\n",
    "    return test_loss, test_score"
   ]
  },
  {
   "cell_type": "code",
   "execution_count": 24,
   "id": "fb22f31f-8615-4b86-b9ff-048de3a7789e",
   "metadata": {
    "scrolled": true,
    "tags": []
   },
   "outputs": [
    {
     "name": "stderr",
     "output_type": "stream",
     "text": [
      "  5%|████▍                                                                                  | 99/1924 [01:05<18:29,  1.65it/s]"
     ]
    },
    {
     "name": "stdout",
     "output_type": "stream",
     "text": [
      "batch <99> - loss: 0.4053977537155151 - roc_auc score: 0.907811164855957\n"
     ]
    },
    {
     "name": "stderr",
     "output_type": "stream",
     "text": [
      "  5%|████▎                                                                               | 100/1924 [01:44<6:07:54, 12.10s/it]"
     ]
    },
    {
     "name": "stdout",
     "output_type": "stream",
     "text": [
      "Metrics: {'precision@10': 0.016886577}\n"
     ]
    },
    {
     "name": "stderr",
     "output_type": "stream",
     "text": [
      " 10%|████████▉                                                                             | 199/1924 [02:52<19:40,  1.46it/s]"
     ]
    },
    {
     "name": "stdout",
     "output_type": "stream",
     "text": [
      "batch <199> - loss: 0.3609964242577553 - roc_auc score: 0.9138555526733398\n"
     ]
    },
    {
     "name": "stderr",
     "output_type": "stream",
     "text": [
      " 10%|████████▋                                                                           | 200/1924 [03:34<6:12:31, 12.97s/it]"
     ]
    },
    {
     "name": "stdout",
     "output_type": "stream",
     "text": [
      "Metrics: {'precision@10': 0.018438745}\n"
     ]
    },
    {
     "name": "stderr",
     "output_type": "stream",
     "text": [
      " 16%|█████████████▎                                                                        | 299/1924 [04:43<18:24,  1.47it/s]"
     ]
    },
    {
     "name": "stdout",
     "output_type": "stream",
     "text": [
      "batch <299> - loss: 0.35242858618497847 - roc_auc score: 0.9105024337768555\n"
     ]
    },
    {
     "name": "stderr",
     "output_type": "stream",
     "text": [
      " 16%|█████████████                                                                       | 300/1924 [05:23<5:36:19, 12.43s/it]"
     ]
    },
    {
     "name": "stdout",
     "output_type": "stream",
     "text": [
      "Metrics: {'precision@10': 0.019079002}\n"
     ]
    },
    {
     "name": "stderr",
     "output_type": "stream",
     "text": [
      " 21%|█████████████████▊                                                                    | 399/1924 [06:28<16:19,  1.56it/s]"
     ]
    },
    {
     "name": "stdout",
     "output_type": "stream",
     "text": [
      "batch <399> - loss: 0.3458378195762634 - roc_auc score: 0.9144563674926758\n"
     ]
    },
    {
     "name": "stderr",
     "output_type": "stream",
     "text": [
      " 21%|█████████████████▍                                                                  | 400/1924 [07:06<4:58:50, 11.77s/it]"
     ]
    },
    {
     "name": "stdout",
     "output_type": "stream",
     "text": [
      "Metrics: {'precision@10': 0.019382125}\n"
     ]
    },
    {
     "name": "stderr",
     "output_type": "stream",
     "text": [
      " 26%|██████████████████████▎                                                               | 499/1924 [08:11<15:47,  1.50it/s]"
     ]
    },
    {
     "name": "stdout",
     "output_type": "stream",
     "text": [
      "batch <499> - loss: 0.345595056116581 - roc_auc score: 0.9209170341491699\n"
     ]
    },
    {
     "name": "stderr",
     "output_type": "stream",
     "text": [
      " 26%|█████████████████████▊                                                              | 500/1924 [08:50<4:43:04, 11.93s/it]"
     ]
    },
    {
     "name": "stdout",
     "output_type": "stream",
     "text": [
      "Metrics: {'precision@10': 0.019986866}\n"
     ]
    },
    {
     "name": "stderr",
     "output_type": "stream",
     "text": [
      " 31%|██████████████████████████▊                                                           | 599/1924 [09:56<14:26,  1.53it/s]"
     ]
    },
    {
     "name": "stdout",
     "output_type": "stream",
     "text": [
      "batch <599> - loss: 0.343881219625473 - roc_auc score: 0.9126307964324951\n"
     ]
    },
    {
     "name": "stderr",
     "output_type": "stream",
     "text": [
      " 31%|██████████████████████████▏                                                         | 600/1924 [10:34<4:22:01, 11.87s/it]"
     ]
    },
    {
     "name": "stdout",
     "output_type": "stream",
     "text": [
      "Metrics: {'precision@10': 0.020101314}\n"
     ]
    },
    {
     "name": "stderr",
     "output_type": "stream",
     "text": [
      " 36%|███████████████████████████████▏                                                      | 699/1924 [11:43<15:00,  1.36it/s]"
     ]
    },
    {
     "name": "stdout",
     "output_type": "stream",
     "text": [
      "batch <699> - loss: 0.34166058629751206 - roc_auc score: 0.9093236923217773\n"
     ]
    },
    {
     "name": "stderr",
     "output_type": "stream",
     "text": [
      " 36%|██████████████████████████████▌                                                     | 700/1924 [12:21<3:59:01, 11.72s/it]"
     ]
    },
    {
     "name": "stdout",
     "output_type": "stream",
     "text": [
      "Metrics: {'precision@10': 0.020660615}\n"
     ]
    },
    {
     "name": "stderr",
     "output_type": "stream",
     "text": [
      " 42%|███████████████████████████████████▋                                                  | 799/1924 [13:43<15:28,  1.21it/s]"
     ]
    },
    {
     "name": "stdout",
     "output_type": "stream",
     "text": [
      "batch <799> - loss: 0.3389466980099678 - roc_auc score: 0.9246869087219238\n"
     ]
    },
    {
     "name": "stderr",
     "output_type": "stream",
     "text": [
      " 42%|██████████████████████████████████▉                                                 | 800/1924 [14:14<3:02:54,  9.76s/it]"
     ]
    },
    {
     "name": "stdout",
     "output_type": "stream",
     "text": [
      "Metrics: {'precision@10': 0.020751778}\n"
     ]
    },
    {
     "name": "stderr",
     "output_type": "stream",
     "text": [
      " 47%|████████████████████████████████████████▏                                             | 899/1924 [15:37<14:20,  1.19it/s]"
     ]
    },
    {
     "name": "stdout",
     "output_type": "stream",
     "text": [
      "batch <899> - loss: 0.33873935252428056 - roc_auc score: 0.9161767959594727\n"
     ]
    },
    {
     "name": "stderr",
     "output_type": "stream",
     "text": [
      " 47%|███████████████████████████████████████▎                                            | 900/1924 [16:08<2:46:42,  9.77s/it]"
     ]
    },
    {
     "name": "stdout",
     "output_type": "stream",
     "text": [
      "Metrics: {'precision@10': 0.02085442}\n"
     ]
    },
    {
     "name": "stderr",
     "output_type": "stream",
     "text": [
      " 52%|████████████████████████████████████████████▋                                         | 999/1924 [17:33<13:36,  1.13it/s]"
     ]
    },
    {
     "name": "stdout",
     "output_type": "stream",
     "text": [
      "batch <999> - loss: 0.33743521839380264 - roc_auc score: 0.9171428680419922\n"
     ]
    },
    {
     "name": "stderr",
     "output_type": "stream",
     "text": [
      " 52%|███████████████████████████████████████████▏                                       | 1000/1924 [18:03<2:29:03,  9.68s/it]"
     ]
    },
    {
     "name": "stdout",
     "output_type": "stream",
     "text": [
      "Metrics: {'precision@10': 0.021156507}\n"
     ]
    },
    {
     "name": "stderr",
     "output_type": "stream",
     "text": [
      " 57%|████████████████████████████████████████████████▌                                    | 1099/1924 [19:30<12:02,  1.14it/s]"
     ]
    },
    {
     "name": "stdout",
     "output_type": "stream",
     "text": [
      "batch <1099> - loss: 0.33563955187797545 - roc_auc score: 0.920313835144043\n"
     ]
    },
    {
     "name": "stderr",
     "output_type": "stream",
     "text": [
      " 57%|███████████████████████████████████████████████▍                                   | 1100/1924 [20:01<2:13:39,  9.73s/it]"
     ]
    },
    {
     "name": "stdout",
     "output_type": "stream",
     "text": [
      "Metrics: {'precision@10': 0.021271143}\n"
     ]
    },
    {
     "name": "stderr",
     "output_type": "stream",
     "text": [
      " 62%|████████████████████████████████████████████████████▉                                | 1199/1924 [21:28<10:50,  1.11it/s]"
     ]
    },
    {
     "name": "stdout",
     "output_type": "stream",
     "text": [
      "batch <1199> - loss: 0.3348745614290237 - roc_auc score: 0.9276609420776367\n"
     ]
    },
    {
     "name": "stderr",
     "output_type": "stream",
     "text": [
      " 62%|███████████████████████████████████████████████████▊                               | 1200/1924 [21:58<1:53:28,  9.40s/it]"
     ]
    },
    {
     "name": "stdout",
     "output_type": "stream",
     "text": [
      "Metrics: {'precision@10': 0.02116742}\n"
     ]
    },
    {
     "name": "stderr",
     "output_type": "stream",
     "text": [
      " 68%|█████████████████████████████████████████████████████████▍                           | 1299/1924 [23:25<08:44,  1.19it/s]"
     ]
    },
    {
     "name": "stdout",
     "output_type": "stream",
     "text": [
      "batch <1299> - loss: 0.33492648005485537 - roc_auc score: 0.9166660308837891\n"
     ]
    },
    {
     "name": "stderr",
     "output_type": "stream",
     "text": [
      " 68%|████████████████████████████████████████████████████████                           | 1300/1924 [23:51<1:25:35,  8.23s/it]"
     ]
    },
    {
     "name": "stdout",
     "output_type": "stream",
     "text": [
      "Metrics: {'precision@10': 0.021495335}\n"
     ]
    },
    {
     "name": "stderr",
     "output_type": "stream",
     "text": [
      " 73%|█████████████████████████████████████████████████████████████▊                       | 1399/1924 [25:15<07:21,  1.19it/s]"
     ]
    },
    {
     "name": "stdout",
     "output_type": "stream",
     "text": [
      "batch <1399> - loss: 0.33591071784496307 - roc_auc score: 0.9225974082946777\n"
     ]
    },
    {
     "name": "stderr",
     "output_type": "stream",
     "text": [
      " 73%|████████████████████████████████████████████████████████████▍                      | 1400/1924 [25:40<1:11:25,  8.18s/it]"
     ]
    },
    {
     "name": "stdout",
     "output_type": "stream",
     "text": [
      "Metrics: {'precision@10': 0.021725923}\n"
     ]
    },
    {
     "name": "stderr",
     "output_type": "stream",
     "text": [
      " 78%|██████████████████████████████████████████████████████████████████▏                  | 1499/1924 [27:05<06:11,  1.14it/s]"
     ]
    },
    {
     "name": "stdout",
     "output_type": "stream",
     "text": [
      "batch <1499> - loss: 0.33532076865434646 - roc_auc score: 0.9238901138305664\n"
     ]
    },
    {
     "name": "stderr",
     "output_type": "stream",
     "text": [
      " 78%|████████████████████████████████████████████████████████████████▋                  | 1500/1924 [27:33<1:04:58,  9.19s/it]"
     ]
    },
    {
     "name": "stdout",
     "output_type": "stream",
     "text": [
      "Metrics: {'precision@10': 0.021575866}\n"
     ]
    },
    {
     "name": "stderr",
     "output_type": "stream",
     "text": [
      " 83%|██████████████████████████████████████████████████████████████████████▋              | 1599/1924 [28:59<04:35,  1.18it/s]"
     ]
    },
    {
     "name": "stdout",
     "output_type": "stream",
     "text": [
      "batch <1599> - loss: 0.33261684387922286 - roc_auc score: 0.9171504974365234\n"
     ]
    },
    {
     "name": "stderr",
     "output_type": "stream",
     "text": [
      " 83%|██████████████████████████████████████████████████████████████████████▋              | 1600/1924 [29:24<44:37,  8.26s/it]"
     ]
    },
    {
     "name": "stdout",
     "output_type": "stream",
     "text": [
      "Metrics: {'precision@10': 0.021920102}\n"
     ]
    },
    {
     "name": "stderr",
     "output_type": "stream",
     "text": [
      " 88%|███████████████████████████████████████████████████████████████████████████          | 1699/1924 [30:48<03:08,  1.19it/s]"
     ]
    },
    {
     "name": "stdout",
     "output_type": "stream",
     "text": [
      "batch <1699> - loss: 0.33181318432092666 - roc_auc score: 0.9228205680847168\n"
     ]
    },
    {
     "name": "stderr",
     "output_type": "stream",
     "text": [
      " 88%|███████████████████████████████████████████████████████████████████████████          | 1700/1924 [31:14<30:45,  8.24s/it]"
     ]
    },
    {
     "name": "stdout",
     "output_type": "stream",
     "text": [
      "Metrics: {'precision@10': 0.022020202}\n"
     ]
    },
    {
     "name": "stderr",
     "output_type": "stream",
     "text": [
      " 94%|███████████████████████████████████████████████████████████████████████████████▍     | 1799/1924 [32:37<01:43,  1.20it/s]"
     ]
    },
    {
     "name": "stdout",
     "output_type": "stream",
     "text": [
      "batch <1799> - loss: 0.3338363364338875 - roc_auc score: 0.9318656921386719\n"
     ]
    },
    {
     "name": "stderr",
     "output_type": "stream",
     "text": [
      " 94%|███████████████████████████████████████████████████████████████████████████████▌     | 1800/1924 [33:02<16:56,  8.20s/it]"
     ]
    },
    {
     "name": "stdout",
     "output_type": "stream",
     "text": [
      "Metrics: {'precision@10': 0.022008725}\n"
     ]
    },
    {
     "name": "stderr",
     "output_type": "stream",
     "text": [
      " 99%|███████████████████████████████████████████████████████████████████████████████████▉ | 1899/1924 [34:26<00:20,  1.19it/s]"
     ]
    },
    {
     "name": "stdout",
     "output_type": "stream",
     "text": [
      "batch <1899> - loss: 0.3326935201883316 - roc_auc score: 0.9257903099060059\n"
     ]
    },
    {
     "name": "stderr",
     "output_type": "stream",
     "text": [
      " 99%|███████████████████████████████████████████████████████████████████████████████████▉ | 1900/1924 [34:51<03:16,  8.18s/it]"
     ]
    },
    {
     "name": "stdout",
     "output_type": "stream",
     "text": [
      "Metrics: {'precision@10': 0.022259917}\n"
     ]
    },
    {
     "name": "stderr",
     "output_type": "stream",
     "text": [
      "100%|█████████████████████████████████████████████████████████████████████████████████████| 1924/1924 [35:11<00:00,  1.10s/it]\n"
     ]
    },
    {
     "name": "stdout",
     "output_type": "stream",
     "text": [
      "Epoch: 0, Loss: 0.0041\n"
     ]
    },
    {
     "name": "stderr",
     "output_type": "stream",
     "text": [
      "  5%|████▍                                                                                  | 99/1924 [01:23<25:37,  1.19it/s]"
     ]
    },
    {
     "name": "stdout",
     "output_type": "stream",
     "text": [
      "batch <99> - loss: 0.3286576551198959 - roc_auc score: 0.9202175140380859\n"
     ]
    },
    {
     "name": "stderr",
     "output_type": "stream",
     "text": [
      "  5%|████▎                                                                               | 100/1924 [01:48<4:08:47,  8.18s/it]"
     ]
    },
    {
     "name": "stdout",
     "output_type": "stream",
     "text": [
      "Metrics: {'precision@10': 0.022317259}\n"
     ]
    },
    {
     "name": "stderr",
     "output_type": "stream",
     "text": [
      " 10%|████████▉                                                                             | 199/1924 [03:11<24:05,  1.19it/s]"
     ]
    },
    {
     "name": "stdout",
     "output_type": "stream",
     "text": [
      "batch <199> - loss: 0.3280209505558014 - roc_auc score: 0.9214122295379639\n"
     ]
    },
    {
     "name": "stderr",
     "output_type": "stream",
     "text": [
      " 10%|████████▋                                                                           | 200/1924 [03:37<3:55:22,  8.19s/it]"
     ]
    },
    {
     "name": "stdout",
     "output_type": "stream",
     "text": [
      "Metrics: {'precision@10': 0.02237667}\n"
     ]
    },
    {
     "name": "stderr",
     "output_type": "stream",
     "text": [
      " 16%|█████████████▎                                                                        | 299/1924 [05:00<22:38,  1.20it/s]"
     ]
    },
    {
     "name": "stdout",
     "output_type": "stream",
     "text": [
      "batch <299> - loss: 0.32712480902671814 - roc_auc score: 0.9224553108215332\n"
     ]
    },
    {
     "name": "stderr",
     "output_type": "stream",
     "text": [
      " 16%|█████████████                                                                       | 300/1924 [05:25<3:41:21,  8.18s/it]"
     ]
    },
    {
     "name": "stdout",
     "output_type": "stream",
     "text": [
      "Metrics: {'precision@10': 0.022254743}\n"
     ]
    },
    {
     "name": "stderr",
     "output_type": "stream",
     "text": [
      " 21%|█████████████████▊                                                                    | 399/1924 [06:49<21:15,  1.20it/s]"
     ]
    },
    {
     "name": "stdout",
     "output_type": "stream",
     "text": [
      "batch <399> - loss: 0.32873392313718797 - roc_auc score: 0.9269752502441406\n"
     ]
    },
    {
     "name": "stderr",
     "output_type": "stream",
     "text": [
      " 21%|█████████████████▍                                                                  | 400/1924 [07:14<3:27:46,  8.18s/it]"
     ]
    },
    {
     "name": "stdout",
     "output_type": "stream",
     "text": [
      "Metrics: {'precision@10': 0.022002092}\n"
     ]
    },
    {
     "name": "stderr",
     "output_type": "stream",
     "text": [
      " 26%|██████████████████████▎                                                               | 499/1924 [08:37<20:07,  1.18it/s]"
     ]
    },
    {
     "name": "stdout",
     "output_type": "stream",
     "text": [
      "batch <499> - loss: 0.3272774884104729 - roc_auc score: 0.9214272499084473\n"
     ]
    },
    {
     "name": "stderr",
     "output_type": "stream",
     "text": [
      " 26%|█████████████████████▊                                                              | 500/1924 [09:03<3:14:32,  8.20s/it]"
     ]
    },
    {
     "name": "stdout",
     "output_type": "stream",
     "text": [
      "Metrics: {'precision@10': 0.022270642}\n"
     ]
    },
    {
     "name": "stderr",
     "output_type": "stream",
     "text": [
      " 31%|██████████████████████████▊                                                           | 599/1924 [10:26<18:44,  1.18it/s]"
     ]
    },
    {
     "name": "stdout",
     "output_type": "stream",
     "text": [
      "batch <599> - loss: 0.3250985437631607 - roc_auc score: 0.9296121597290039\n"
     ]
    },
    {
     "name": "stderr",
     "output_type": "stream",
     "text": [
      " 31%|██████████████████████████▏                                                         | 600/1924 [10:51<3:00:37,  8.19s/it]"
     ]
    },
    {
     "name": "stdout",
     "output_type": "stream",
     "text": [
      "Metrics: {'precision@10': 0.022442149}\n"
     ]
    },
    {
     "name": "stderr",
     "output_type": "stream",
     "text": [
      " 36%|███████████████████████████████▏                                                      | 699/1924 [12:14<17:10,  1.19it/s]"
     ]
    },
    {
     "name": "stdout",
     "output_type": "stream",
     "text": [
      "batch <699> - loss: 0.3264514690637588 - roc_auc score: 0.9313673973083496\n"
     ]
    },
    {
     "name": "stderr",
     "output_type": "stream",
     "text": [
      " 36%|██████████████████████████████▌                                                     | 700/1924 [12:40<2:46:45,  8.17s/it]"
     ]
    },
    {
     "name": "stdout",
     "output_type": "stream",
     "text": [
      "Metrics: {'precision@10': 0.02213846}\n"
     ]
    },
    {
     "name": "stderr",
     "output_type": "stream",
     "text": [
      " 42%|███████████████████████████████████▋                                                  | 799/1924 [14:03<15:43,  1.19it/s]"
     ]
    },
    {
     "name": "stdout",
     "output_type": "stream",
     "text": [
      "batch <799> - loss: 0.325390442609787 - roc_auc score: 0.9230737686157227\n"
     ]
    },
    {
     "name": "stderr",
     "output_type": "stream",
     "text": [
      " 42%|██████████████████████████████████▉                                                 | 800/1924 [14:28<2:33:14,  8.18s/it]"
     ]
    },
    {
     "name": "stdout",
     "output_type": "stream",
     "text": [
      "Metrics: {'precision@10': 0.022027822}\n"
     ]
    },
    {
     "name": "stderr",
     "output_type": "stream",
     "text": [
      " 47%|████████████████████████████████████████▏                                             | 899/1924 [15:52<14:25,  1.18it/s]"
     ]
    },
    {
     "name": "stdout",
     "output_type": "stream",
     "text": [
      "batch <899> - loss: 0.3273549848794937 - roc_auc score: 0.9266066551208496\n"
     ]
    },
    {
     "name": "stderr",
     "output_type": "stream",
     "text": [
      " 47%|███████████████████████████████████████▎                                            | 900/1924 [16:17<2:19:33,  8.18s/it]"
     ]
    },
    {
     "name": "stdout",
     "output_type": "stream",
     "text": [
      "Metrics: {'precision@10': 0.02238951}\n"
     ]
    },
    {
     "name": "stderr",
     "output_type": "stream",
     "text": [
      " 52%|████████████████████████████████████████████▋                                         | 999/1924 [17:40<13:31,  1.14it/s]"
     ]
    },
    {
     "name": "stdout",
     "output_type": "stream",
     "text": [
      "batch <999> - loss: 0.3259343746304512 - roc_auc score: 0.9218869209289551\n"
     ]
    },
    {
     "name": "stderr",
     "output_type": "stream",
     "text": [
      " 52%|███████████████████████████████████████████▏                                       | 1000/1924 [18:06<2:06:38,  8.22s/it]"
     ]
    },
    {
     "name": "stdout",
     "output_type": "stream",
     "text": [
      "Metrics: {'precision@10': 0.022336168}\n"
     ]
    },
    {
     "name": "stderr",
     "output_type": "stream",
     "text": [
      " 57%|████████████████████████████████████████████████▌                                    | 1099/1924 [19:29<11:37,  1.18it/s]"
     ]
    },
    {
     "name": "stdout",
     "output_type": "stream",
     "text": [
      "batch <1099> - loss: 0.3241207236051559 - roc_auc score: 0.9324145317077637\n"
     ]
    },
    {
     "name": "stderr",
     "output_type": "stream",
     "text": [
      " 57%|███████████████████████████████████████████████▍                                   | 1100/1924 [19:55<1:52:46,  8.21s/it]"
     ]
    },
    {
     "name": "stdout",
     "output_type": "stream",
     "text": [
      "Metrics: {'precision@10': 0.022401929}\n"
     ]
    },
    {
     "name": "stderr",
     "output_type": "stream",
     "text": [
      " 62%|████████████████████████████████████████████████████▉                                | 1199/1924 [21:18<10:07,  1.19it/s]"
     ]
    },
    {
     "name": "stdout",
     "output_type": "stream",
     "text": [
      "batch <1199> - loss: 0.3263606008887291 - roc_auc score: 0.9295954704284668\n"
     ]
    },
    {
     "name": "stderr",
     "output_type": "stream",
     "text": [
      " 62%|███████████████████████████████████████████████████▊                               | 1200/1924 [21:43<1:38:44,  8.18s/it]"
     ]
    },
    {
     "name": "stdout",
     "output_type": "stream",
     "text": [
      "Metrics: {'precision@10': 0.022313448}\n"
     ]
    },
    {
     "name": "stderr",
     "output_type": "stream",
     "text": [
      " 68%|█████████████████████████████████████████████████████████▍                           | 1299/1924 [23:07<08:42,  1.20it/s]"
     ]
    },
    {
     "name": "stdout",
     "output_type": "stream",
     "text": [
      "batch <1299> - loss: 0.32499513030052185 - roc_auc score: 0.9223456382751465\n"
     ]
    },
    {
     "name": "stderr",
     "output_type": "stream",
     "text": [
      " 68%|████████████████████████████████████████████████████████                           | 1300/1924 [23:32<1:25:10,  8.19s/it]"
     ]
    },
    {
     "name": "stdout",
     "output_type": "stream",
     "text": [
      "Metrics: {'precision@10': 0.022547705}\n"
     ]
    },
    {
     "name": "stderr",
     "output_type": "stream",
     "text": [
      " 73%|█████████████████████████████████████████████████████████████▊                       | 1399/1924 [24:55<07:24,  1.18it/s]"
     ]
    },
    {
     "name": "stdout",
     "output_type": "stream",
     "text": [
      "batch <1399> - loss: 0.3247631439566612 - roc_auc score: 0.928473949432373\n"
     ]
    },
    {
     "name": "stderr",
     "output_type": "stream",
     "text": [
      " 73%|████████████████████████████████████████████████████████████▍                      | 1400/1924 [25:21<1:11:34,  8.20s/it]"
     ]
    },
    {
     "name": "stdout",
     "output_type": "stream",
     "text": [
      "Metrics: {'precision@10': 0.022622922}\n"
     ]
    },
    {
     "name": "stderr",
     "output_type": "stream",
     "text": [
      " 78%|██████████████████████████████████████████████████████████████████▏                  | 1499/1924 [26:44<05:57,  1.19it/s]"
     ]
    },
    {
     "name": "stdout",
     "output_type": "stream",
     "text": [
      "batch <1499> - loss: 0.324041993021965 - roc_auc score: 0.9295649528503418\n"
     ]
    },
    {
     "name": "stderr",
     "output_type": "stream",
     "text": [
      " 78%|██████████████████████████████████████████████████████████████████▎                  | 1500/1924 [27:09<58:00,  8.21s/it]"
     ]
    },
    {
     "name": "stdout",
     "output_type": "stream",
     "text": [
      "Metrics: {'precision@10': 0.022637598}\n"
     ]
    },
    {
     "name": "stderr",
     "output_type": "stream",
     "text": [
      " 83%|██████████████████████████████████████████████████████████████████████▋              | 1599/1924 [28:32<04:33,  1.19it/s]"
     ]
    },
    {
     "name": "stdout",
     "output_type": "stream",
     "text": [
      "batch <1599> - loss: 0.32462930262088774 - roc_auc score: 0.9328832626342773\n"
     ]
    },
    {
     "name": "stderr",
     "output_type": "stream",
     "text": [
      " 83%|██████████████████████████████████████████████████████████████████████▋              | 1600/1924 [28:58<44:32,  8.25s/it]"
     ]
    },
    {
     "name": "stdout",
     "output_type": "stream",
     "text": [
      "Metrics: {'precision@10': 0.022452073}\n"
     ]
    },
    {
     "name": "stderr",
     "output_type": "stream",
     "text": [
      " 88%|███████████████████████████████████████████████████████████████████████████          | 1699/1924 [30:22<03:09,  1.19it/s]"
     ]
    },
    {
     "name": "stdout",
     "output_type": "stream",
     "text": [
      "batch <1699> - loss: 0.3235175430774689 - roc_auc score: 0.9284591674804688\n"
     ]
    },
    {
     "name": "stderr",
     "output_type": "stream",
     "text": [
      " 88%|███████████████████████████████████████████████████████████████████████████          | 1700/1924 [30:47<30:51,  8.26s/it]"
     ]
    },
    {
     "name": "stdout",
     "output_type": "stream",
     "text": [
      "Metrics: {'precision@10': 0.022608528}\n"
     ]
    },
    {
     "name": "stderr",
     "output_type": "stream",
     "text": [
      " 94%|███████████████████████████████████████████████████████████████████████████████▍     | 1799/1924 [32:10<01:45,  1.18it/s]"
     ]
    },
    {
     "name": "stdout",
     "output_type": "stream",
     "text": [
      "batch <1799> - loss: 0.32516882836818695 - roc_auc score: 0.9260659217834473\n"
     ]
    },
    {
     "name": "stderr",
     "output_type": "stream",
     "text": [
      " 94%|███████████████████████████████████████████████████████████████████████████████▌     | 1800/1924 [32:36<16:58,  8.21s/it]"
     ]
    },
    {
     "name": "stdout",
     "output_type": "stream",
     "text": [
      "Metrics: {'precision@10': 0.022714084}\n"
     ]
    },
    {
     "name": "stderr",
     "output_type": "stream",
     "text": [
      " 99%|███████████████████████████████████████████████████████████████████████████████████▉ | 1899/1924 [33:59<00:21,  1.19it/s]"
     ]
    },
    {
     "name": "stdout",
     "output_type": "stream",
     "text": [
      "batch <1899> - loss: 0.3226244565844536 - roc_auc score: 0.9291925430297852\n"
     ]
    },
    {
     "name": "stderr",
     "output_type": "stream",
     "text": [
      " 99%|███████████████████████████████████████████████████████████████████████████████████▉ | 1900/1924 [34:25<03:16,  8.19s/it]"
     ]
    },
    {
     "name": "stdout",
     "output_type": "stream",
     "text": [
      "Metrics: {'precision@10': 0.022515576}\n"
     ]
    },
    {
     "name": "stderr",
     "output_type": "stream",
     "text": [
      "100%|█████████████████████████████████████████████████████████████████████████████████████| 1924/1924 [34:45<00:00,  1.08s/it]\n"
     ]
    },
    {
     "name": "stdout",
     "output_type": "stream",
     "text": [
      "Epoch: 1, Loss: 0.0040\n"
     ]
    },
    {
     "name": "stderr",
     "output_type": "stream",
     "text": [
      "  5%|████▍                                                                                  | 99/1924 [01:23<25:38,  1.19it/s]"
     ]
    },
    {
     "name": "stdout",
     "output_type": "stream",
     "text": [
      "batch <99> - loss: 0.31041175991296766 - roc_auc score: 0.9366397857666016\n"
     ]
    },
    {
     "name": "stderr",
     "output_type": "stream",
     "text": [
      "  5%|████▎                                                                               | 100/1924 [01:48<4:09:14,  8.20s/it]"
     ]
    },
    {
     "name": "stdout",
     "output_type": "stream",
     "text": [
      "Metrics: {'precision@10': 0.022234187}\n"
     ]
    },
    {
     "name": "stderr",
     "output_type": "stream",
     "text": [
      " 10%|████████▉                                                                             | 199/1924 [03:11<24:04,  1.19it/s]"
     ]
    },
    {
     "name": "stdout",
     "output_type": "stream",
     "text": [
      "batch <199> - loss: 0.3075334995985031 - roc_auc score: 0.9304866790771484\n"
     ]
    },
    {
     "name": "stderr",
     "output_type": "stream",
     "text": [
      " 10%|████████▋                                                                           | 200/1924 [03:37<3:54:39,  8.17s/it]"
     ]
    },
    {
     "name": "stdout",
     "output_type": "stream",
     "text": [
      "Metrics: {'precision@10': 0.022221956}\n"
     ]
    },
    {
     "name": "stderr",
     "output_type": "stream",
     "text": [
      " 16%|█████████████▎                                                                        | 299/1924 [05:00<23:01,  1.18it/s]"
     ]
    },
    {
     "name": "stdout",
     "output_type": "stream",
     "text": [
      "batch <299> - loss: 0.30692731380462646 - roc_auc score: 0.9361896514892578\n"
     ]
    },
    {
     "name": "stderr",
     "output_type": "stream",
     "text": [
      " 16%|█████████████                                                                       | 300/1924 [05:25<3:41:26,  8.18s/it]"
     ]
    },
    {
     "name": "stdout",
     "output_type": "stream",
     "text": [
      "Metrics: {'precision@10': 0.022142693}\n"
     ]
    },
    {
     "name": "stderr",
     "output_type": "stream",
     "text": [
      " 21%|█████████████████▊                                                                    | 399/1924 [06:49<21:20,  1.19it/s]"
     ]
    },
    {
     "name": "stdout",
     "output_type": "stream",
     "text": [
      "batch <399> - loss: 0.30679073989391326 - roc_auc score: 0.938570499420166\n"
     ]
    },
    {
     "name": "stderr",
     "output_type": "stream",
     "text": [
      " 21%|█████████████████▍                                                                  | 400/1924 [07:14<3:27:49,  8.18s/it]"
     ]
    },
    {
     "name": "stdout",
     "output_type": "stream",
     "text": [
      "Metrics: {'precision@10': 0.022052942}\n"
     ]
    },
    {
     "name": "stderr",
     "output_type": "stream",
     "text": [
      " 26%|██████████████████████▎                                                               | 499/1924 [08:37<19:53,  1.19it/s]"
     ]
    },
    {
     "name": "stdout",
     "output_type": "stream",
     "text": [
      "batch <499> - loss: 0.30636575520038606 - roc_auc score: 0.9361019134521484\n"
     ]
    },
    {
     "name": "stderr",
     "output_type": "stream",
     "text": [
      " 26%|█████████████████████▊                                                              | 500/1924 [09:03<3:14:28,  8.19s/it]"
     ]
    },
    {
     "name": "stdout",
     "output_type": "stream",
     "text": [
      "Metrics: {'precision@10': 0.021748407}\n"
     ]
    },
    {
     "name": "stderr",
     "output_type": "stream",
     "text": [
      " 31%|██████████████████████████▊                                                           | 599/1924 [10:26<18:39,  1.18it/s]"
     ]
    },
    {
     "name": "stdout",
     "output_type": "stream",
     "text": [
      "batch <599> - loss: 0.30605661392211914 - roc_auc score: 0.9325647354125977\n"
     ]
    },
    {
     "name": "stderr",
     "output_type": "stream",
     "text": [
      " 31%|██████████████████████████▏                                                         | 600/1924 [10:51<3:00:36,  8.18s/it]"
     ]
    },
    {
     "name": "stdout",
     "output_type": "stream",
     "text": [
      "Metrics: {'precision@10': 0.021737024}\n"
     ]
    },
    {
     "name": "stderr",
     "output_type": "stream",
     "text": [
      " 36%|███████████████████████████████▏                                                      | 699/1924 [12:15<17:20,  1.18it/s]"
     ]
    },
    {
     "name": "stdout",
     "output_type": "stream",
     "text": [
      "batch <699> - loss: 0.3054946780204773 - roc_auc score: 0.9304752349853516\n"
     ]
    },
    {
     "name": "stderr",
     "output_type": "stream",
     "text": [
      " 36%|██████████████████████████████▌                                                     | 700/1924 [12:40<2:47:04,  8.19s/it]"
     ]
    },
    {
     "name": "stdout",
     "output_type": "stream",
     "text": [
      "Metrics: {'precision@10': 0.021757392}\n"
     ]
    },
    {
     "name": "stderr",
     "output_type": "stream",
     "text": [
      " 42%|███████████████████████████████████▋                                                  | 799/1924 [14:03<15:42,  1.19it/s]"
     ]
    },
    {
     "name": "stdout",
     "output_type": "stream",
     "text": [
      "batch <799> - loss: 0.30625747978687284 - roc_auc score: 0.9361236095428467\n"
     ]
    },
    {
     "name": "stderr",
     "output_type": "stream",
     "text": [
      " 42%|██████████████████████████████████▉                                                 | 800/1924 [14:29<2:33:32,  8.20s/it]"
     ]
    },
    {
     "name": "stdout",
     "output_type": "stream",
     "text": [
      "Metrics: {'precision@10': 0.021736506}\n"
     ]
    },
    {
     "name": "stderr",
     "output_type": "stream",
     "text": [
      " 47%|████████████████████████████████████████▏                                             | 899/1924 [15:52<14:21,  1.19it/s]"
     ]
    },
    {
     "name": "stdout",
     "output_type": "stream",
     "text": [
      "batch <899> - loss: 0.3068440079689026 - roc_auc score: 0.9332118034362793\n"
     ]
    },
    {
     "name": "stderr",
     "output_type": "stream",
     "text": [
      " 47%|███████████████████████████████████████▎                                            | 900/1924 [16:17<2:19:49,  8.19s/it]"
     ]
    },
    {
     "name": "stdout",
     "output_type": "stream",
     "text": [
      "Metrics: {'precision@10': 0.021758098}\n"
     ]
    },
    {
     "name": "stderr",
     "output_type": "stream",
     "text": [
      " 52%|████████████████████████████████████████████▋                                         | 999/1924 [17:41<12:53,  1.20it/s]"
     ]
    },
    {
     "name": "stdout",
     "output_type": "stream",
     "text": [
      "batch <999> - loss: 0.30572642594575883 - roc_auc score: 0.9331150054931641\n"
     ]
    },
    {
     "name": "stderr",
     "output_type": "stream",
     "text": [
      " 52%|███████████████████████████████████████████▏                                       | 1000/1924 [18:06<2:06:25,  8.21s/it]"
     ]
    },
    {
     "name": "stdout",
     "output_type": "stream",
     "text": [
      "Metrics: {'precision@10': 0.021797752}\n"
     ]
    },
    {
     "name": "stderr",
     "output_type": "stream",
     "text": [
      " 57%|████████████████████████████████████████████████▌                                    | 1099/1924 [19:30<11:37,  1.18it/s]"
     ]
    },
    {
     "name": "stdout",
     "output_type": "stream",
     "text": [
      "batch <1099> - loss: 0.30513442724943163 - roc_auc score: 0.9436101913452148\n"
     ]
    },
    {
     "name": "stderr",
     "output_type": "stream",
     "text": [
      " 57%|███████████████████████████████████████████████▍                                   | 1100/1924 [19:55<1:52:23,  8.18s/it]"
     ]
    },
    {
     "name": "stdout",
     "output_type": "stream",
     "text": [
      "Metrics: {'precision@10': 0.021682363}\n"
     ]
    },
    {
     "name": "stderr",
     "output_type": "stream",
     "text": [
      " 62%|████████████████████████████████████████████████████▉                                | 1199/1924 [21:18<10:09,  1.19it/s]"
     ]
    },
    {
     "name": "stdout",
     "output_type": "stream",
     "text": [
      "batch <1199> - loss: 0.3062672904133797 - roc_auc score: 0.9349403381347656\n"
     ]
    },
    {
     "name": "stderr",
     "output_type": "stream",
     "text": [
      " 62%|███████████████████████████████████████████████████▊                               | 1200/1924 [21:44<1:38:42,  8.18s/it]"
     ]
    },
    {
     "name": "stdout",
     "output_type": "stream",
     "text": [
      "Metrics: {'precision@10': 0.021424634}\n"
     ]
    },
    {
     "name": "stderr",
     "output_type": "stream",
     "text": [
      " 68%|█████████████████████████████████████████████████████████▍                           | 1299/1924 [23:07<08:44,  1.19it/s]"
     ]
    },
    {
     "name": "stdout",
     "output_type": "stream",
     "text": [
      "batch <1299> - loss: 0.3074741348624229 - roc_auc score: 0.9356951713562012\n"
     ]
    },
    {
     "name": "stderr",
     "output_type": "stream",
     "text": [
      " 68%|████████████████████████████████████████████████████████                           | 1300/1924 [23:32<1:25:12,  8.19s/it]"
     ]
    },
    {
     "name": "stdout",
     "output_type": "stream",
     "text": [
      "Metrics: {'precision@10': 0.02165447}\n"
     ]
    },
    {
     "name": "stderr",
     "output_type": "stream",
     "text": [
      " 73%|█████████████████████████████████████████████████████████████▊                       | 1399/1924 [24:55<07:23,  1.18it/s]"
     ]
    },
    {
     "name": "stdout",
     "output_type": "stream",
     "text": [
      "batch <1399> - loss: 0.305008085668087 - roc_auc score: 0.9361724853515625\n"
     ]
    },
    {
     "name": "stderr",
     "output_type": "stream",
     "text": [
      " 73%|████████████████████████████████████████████████████████████▍                      | 1400/1924 [25:21<1:11:30,  8.19s/it]"
     ]
    },
    {
     "name": "stdout",
     "output_type": "stream",
     "text": [
      "Metrics: {'precision@10': 0.021712188}\n"
     ]
    },
    {
     "name": "stderr",
     "output_type": "stream",
     "text": [
      " 78%|██████████████████████████████████████████████████████████████████▏                  | 1499/1924 [26:44<05:55,  1.20it/s]"
     ]
    },
    {
     "name": "stdout",
     "output_type": "stream",
     "text": [
      "batch <1499> - loss: 0.30601498574018476 - roc_auc score: 0.9257516860961914\n"
     ]
    },
    {
     "name": "stderr",
     "output_type": "stream",
     "text": [
      " 78%|██████████████████████████████████████████████████████████████████▎                  | 1500/1924 [27:09<57:50,  8.19s/it]"
     ]
    },
    {
     "name": "stdout",
     "output_type": "stream",
     "text": [
      "Metrics: {'precision@10': 0.021816708}\n"
     ]
    },
    {
     "name": "stderr",
     "output_type": "stream",
     "text": [
      " 83%|██████████████████████████████████████████████████████████████████████▋              | 1599/1924 [28:33<04:34,  1.19it/s]"
     ]
    },
    {
     "name": "stdout",
     "output_type": "stream",
     "text": [
      "batch <1599> - loss: 0.3053678160905838 - roc_auc score: 0.9318370819091797\n"
     ]
    },
    {
     "name": "stderr",
     "output_type": "stream",
     "text": [
      " 83%|██████████████████████████████████████████████████████████████████████▋              | 1600/1924 [28:58<44:25,  8.23s/it]"
     ]
    },
    {
     "name": "stdout",
     "output_type": "stream",
     "text": [
      "Metrics: {'precision@10': 0.021619424}\n"
     ]
    },
    {
     "name": "stderr",
     "output_type": "stream",
     "text": [
      " 88%|███████████████████████████████████████████████████████████████████████████          | 1699/1924 [30:21<03:09,  1.19it/s]"
     ]
    },
    {
     "name": "stdout",
     "output_type": "stream",
     "text": [
      "batch <1699> - loss: 0.30694333881139757 - roc_auc score: 0.9368181228637695\n"
     ]
    },
    {
     "name": "stderr",
     "output_type": "stream",
     "text": [
      " 88%|███████████████████████████████████████████████████████████████████████████          | 1700/1924 [30:47<30:35,  8.19s/it]"
     ]
    },
    {
     "name": "stdout",
     "output_type": "stream",
     "text": [
      "Metrics: {'precision@10': 0.021694407}\n"
     ]
    },
    {
     "name": "stderr",
     "output_type": "stream",
     "text": [
      " 94%|███████████████████████████████████████████████████████████████████████████████▍     | 1799/1924 [32:10<01:45,  1.19it/s]"
     ]
    },
    {
     "name": "stdout",
     "output_type": "stream",
     "text": [
      "batch <1799> - loss: 0.30645301401615144 - roc_auc score: 0.9364809989929199\n"
     ]
    },
    {
     "name": "stderr",
     "output_type": "stream",
     "text": [
      " 94%|███████████████████████████████████████████████████████████████████████████████▌     | 1800/1924 [32:35<16:55,  8.19s/it]"
     ]
    },
    {
     "name": "stdout",
     "output_type": "stream",
     "text": [
      "Metrics: {'precision@10': 0.021682693}\n"
     ]
    },
    {
     "name": "stderr",
     "output_type": "stream",
     "text": [
      " 99%|███████████████████████████████████████████████████████████████████████████████████▉ | 1899/1924 [33:59<00:20,  1.20it/s]"
     ]
    },
    {
     "name": "stdout",
     "output_type": "stream",
     "text": [
      "batch <1899> - loss: 0.3056786611676216 - roc_auc score: 0.9347314834594727\n"
     ]
    },
    {
     "name": "stderr",
     "output_type": "stream",
     "text": [
      " 99%|███████████████████████████████████████████████████████████████████████████████████▉ | 1900/1924 [34:24<03:16,  8.20s/it]"
     ]
    },
    {
     "name": "stdout",
     "output_type": "stream",
     "text": [
      "Metrics: {'precision@10': 0.021768164}\n"
     ]
    },
    {
     "name": "stderr",
     "output_type": "stream",
     "text": [
      "100%|█████████████████████████████████████████████████████████████████████████████████████| 1924/1924 [34:44<00:00,  1.08s/it]\n"
     ]
    },
    {
     "name": "stdout",
     "output_type": "stream",
     "text": [
      "Epoch: 2, Loss: 0.0039\n"
     ]
    },
    {
     "name": "stderr",
     "output_type": "stream",
     "text": [
      "  5%|████▍                                                                                  | 99/1924 [01:23<25:39,  1.19it/s]"
     ]
    },
    {
     "name": "stdout",
     "output_type": "stream",
     "text": [
      "batch <99> - loss: 0.2757242733240128 - roc_auc score: 0.9447751045227051\n"
     ]
    },
    {
     "name": "stderr",
     "output_type": "stream",
     "text": [
      "  5%|████▎                                                                               | 100/1924 [01:48<4:08:58,  8.19s/it]"
     ]
    },
    {
     "name": "stdout",
     "output_type": "stream",
     "text": [
      "Metrics: {'precision@10': 0.021054385}\n"
     ]
    },
    {
     "name": "stderr",
     "output_type": "stream",
     "text": [
      " 10%|████████▉                                                                             | 199/1924 [03:11<24:06,  1.19it/s]"
     ]
    },
    {
     "name": "stdout",
     "output_type": "stream",
     "text": [
      "batch <199> - loss: 0.2742547954618931 - roc_auc score: 0.9421992301940918\n"
     ]
    },
    {
     "name": "stderr",
     "output_type": "stream",
     "text": [
      " 10%|████████▋                                                                           | 200/1924 [03:37<3:55:09,  8.18s/it]"
     ]
    },
    {
     "name": "stdout",
     "output_type": "stream",
     "text": [
      "Metrics: {'precision@10': 0.020210586}\n"
     ]
    },
    {
     "name": "stderr",
     "output_type": "stream",
     "text": [
      " 16%|█████████████▎                                                                        | 299/1924 [05:00<22:55,  1.18it/s]"
     ]
    },
    {
     "name": "stdout",
     "output_type": "stream",
     "text": [
      "batch <299> - loss: 0.2730060437321663 - roc_auc score: 0.9449090957641602\n"
     ]
    },
    {
     "name": "stderr",
     "output_type": "stream",
     "text": [
      " 16%|█████████████                                                                       | 300/1924 [05:25<3:41:33,  8.19s/it]"
     ]
    },
    {
     "name": "stdout",
     "output_type": "stream",
     "text": [
      "Metrics: {'precision@10': 0.020206729}\n"
     ]
    },
    {
     "name": "stderr",
     "output_type": "stream",
     "text": [
      " 21%|█████████████████▊                                                                    | 399/1924 [06:49<21:18,  1.19it/s]"
     ]
    },
    {
     "name": "stdout",
     "output_type": "stream",
     "text": [
      "batch <399> - loss: 0.2734584724903107 - roc_auc score: 0.948028564453125\n"
     ]
    },
    {
     "name": "stderr",
     "output_type": "stream",
     "text": [
      " 21%|█████████████████▍                                                                  | 400/1924 [07:14<3:28:00,  8.19s/it]"
     ]
    },
    {
     "name": "stdout",
     "output_type": "stream",
     "text": [
      "Metrics: {'precision@10': 0.020201461}\n"
     ]
    },
    {
     "name": "stderr",
     "output_type": "stream",
     "text": [
      " 26%|██████████████████████▎                                                               | 499/1924 [08:37<19:57,  1.19it/s]"
     ]
    },
    {
     "name": "stdout",
     "output_type": "stream",
     "text": [
      "batch <499> - loss: 0.27447231650352477 - roc_auc score: 0.9447212219238281\n"
     ]
    },
    {
     "name": "stderr",
     "output_type": "stream",
     "text": [
      " 26%|█████████████████████▊                                                              | 500/1924 [09:03<3:14:40,  8.20s/it]"
     ]
    },
    {
     "name": "stdout",
     "output_type": "stream",
     "text": [
      "Metrics: {'precision@10': 0.01977373}\n"
     ]
    },
    {
     "name": "stderr",
     "output_type": "stream",
     "text": [
      " 31%|██████████████████████████▊                                                           | 599/1924 [10:26<18:31,  1.19it/s]"
     ]
    },
    {
     "name": "stdout",
     "output_type": "stream",
     "text": [
      "batch <599> - loss: 0.2749359369277954 - roc_auc score: 0.9417791366577148\n"
     ]
    },
    {
     "name": "stderr",
     "output_type": "stream",
     "text": [
      " 31%|██████████████████████████▏                                                         | 600/1924 [10:51<3:00:16,  8.17s/it]"
     ]
    },
    {
     "name": "stdout",
     "output_type": "stream",
     "text": [
      "Metrics: {'precision@10': 0.02007963}\n"
     ]
    },
    {
     "name": "stderr",
     "output_type": "stream",
     "text": [
      " 36%|███████████████████████████████▏                                                      | 699/1924 [12:15<17:22,  1.18it/s]"
     ]
    },
    {
     "name": "stdout",
     "output_type": "stream",
     "text": [
      "batch <699> - loss: 0.2743777219951153 - roc_auc score: 0.953704833984375\n"
     ]
    },
    {
     "name": "stderr",
     "output_type": "stream",
     "text": [
      " 36%|██████████████████████████████▌                                                     | 700/1924 [12:40<2:46:52,  8.18s/it]"
     ]
    },
    {
     "name": "stdout",
     "output_type": "stream",
     "text": [
      "Metrics: {'precision@10': 0.0198727}\n"
     ]
    },
    {
     "name": "stderr",
     "output_type": "stream",
     "text": [
      " 42%|███████████████████████████████████▋                                                  | 799/1924 [14:03<15:50,  1.18it/s]"
     ]
    },
    {
     "name": "stdout",
     "output_type": "stream",
     "text": [
      "batch <799> - loss: 0.2737113097310066 - roc_auc score: 0.9498081207275391\n"
     ]
    },
    {
     "name": "stderr",
     "output_type": "stream",
     "text": [
      " 42%|██████████████████████████████████▉                                                 | 800/1924 [14:29<2:33:14,  8.18s/it]"
     ]
    },
    {
     "name": "stdout",
     "output_type": "stream",
     "text": [
      "Metrics: {'precision@10': 0.019967675}\n"
     ]
    },
    {
     "name": "stderr",
     "output_type": "stream",
     "text": [
      " 47%|████████████████████████████████████████▏                                             | 899/1924 [15:52<14:18,  1.19it/s]"
     ]
    },
    {
     "name": "stdout",
     "output_type": "stream",
     "text": [
      "batch <899> - loss: 0.276831730902195 - roc_auc score: 0.9504861831665039\n"
     ]
    },
    {
     "name": "stderr",
     "output_type": "stream",
     "text": [
      " 47%|███████████████████████████████████████▎                                            | 900/1924 [16:17<2:19:34,  8.18s/it]"
     ]
    },
    {
     "name": "stdout",
     "output_type": "stream",
     "text": [
      "Metrics: {'precision@10': 0.019958878}\n"
     ]
    },
    {
     "name": "stderr",
     "output_type": "stream",
     "text": [
      " 52%|████████████████████████████████████████████▋                                         | 999/1924 [17:41<12:59,  1.19it/s]"
     ]
    },
    {
     "name": "stdout",
     "output_type": "stream",
     "text": [
      "batch <999> - loss: 0.27489261656999586 - roc_auc score: 0.9494762420654297\n"
     ]
    },
    {
     "name": "stderr",
     "output_type": "stream",
     "text": [
      " 52%|███████████████████████████████████████████▏                                       | 1000/1924 [18:06<2:06:15,  8.20s/it]"
     ]
    },
    {
     "name": "stdout",
     "output_type": "stream",
     "text": [
      "Metrics: {'precision@10': 0.019893821}\n"
     ]
    },
    {
     "name": "stderr",
     "output_type": "stream",
     "text": [
      " 57%|████████████████████████████████████████████████▌                                    | 1099/1924 [19:29<12:00,  1.14it/s]"
     ]
    },
    {
     "name": "stdout",
     "output_type": "stream",
     "text": [
      "batch <1099> - loss: 0.2744735115766525 - roc_auc score: 0.950343132019043\n"
     ]
    },
    {
     "name": "stderr",
     "output_type": "stream",
     "text": [
      " 57%|███████████████████████████████████████████████▍                                   | 1100/1924 [19:55<1:55:06,  8.38s/it]"
     ]
    },
    {
     "name": "stdout",
     "output_type": "stream",
     "text": [
      "Metrics: {'precision@10': 0.019861694}\n"
     ]
    },
    {
     "name": "stderr",
     "output_type": "stream",
     "text": [
      " 62%|████████████████████████████████████████████████████▉                                | 1199/1924 [21:18<10:08,  1.19it/s]"
     ]
    },
    {
     "name": "stdout",
     "output_type": "stream",
     "text": [
      "batch <1199> - loss: 0.27575318902730944 - roc_auc score: 0.9501352310180664\n"
     ]
    },
    {
     "name": "stderr",
     "output_type": "stream",
     "text": [
      " 62%|███████████████████████████████████████████████████▊                               | 1200/1924 [21:44<1:38:50,  8.19s/it]"
     ]
    },
    {
     "name": "stdout",
     "output_type": "stream",
     "text": [
      "Metrics: {'precision@10': 0.019877123}\n"
     ]
    },
    {
     "name": "stderr",
     "output_type": "stream",
     "text": [
      " 68%|█████████████████████████████████████████████████████████▍                           | 1299/1924 [23:07<08:47,  1.18it/s]"
     ]
    },
    {
     "name": "stdout",
     "output_type": "stream",
     "text": [
      "batch <1299> - loss: 0.27525952965021133 - roc_auc score: 0.9499516487121582\n"
     ]
    },
    {
     "name": "stderr",
     "output_type": "stream",
     "text": [
      " 68%|████████████████████████████████████████████████████████                           | 1300/1924 [23:32<1:25:07,  8.19s/it]"
     ]
    },
    {
     "name": "stdout",
     "output_type": "stream",
     "text": [
      "Metrics: {'precision@10': 0.019867338}\n"
     ]
    },
    {
     "name": "stderr",
     "output_type": "stream",
     "text": [
      " 73%|█████████████████████████████████████████████████████████████▊                       | 1399/1924 [24:55<07:22,  1.19it/s]"
     ]
    },
    {
     "name": "stdout",
     "output_type": "stream",
     "text": [
      "batch <1399> - loss: 0.2771095106005669 - roc_auc score: 0.9516983032226562\n"
     ]
    },
    {
     "name": "stderr",
     "output_type": "stream",
     "text": [
      " 73%|████████████████████████████████████████████████████████████▍                      | 1400/1924 [25:21<1:13:03,  8.37s/it]"
     ]
    },
    {
     "name": "stdout",
     "output_type": "stream",
     "text": [
      "Metrics: {'precision@10': 0.019670289}\n"
     ]
    },
    {
     "name": "stderr",
     "output_type": "stream",
     "text": [
      " 78%|██████████████████████████████████████████████████████████████████▏                  | 1499/1924 [26:44<05:57,  1.19it/s]"
     ]
    },
    {
     "name": "stdout",
     "output_type": "stream",
     "text": [
      "batch <1499> - loss: 0.2775083470344544 - roc_auc score: 0.9487404823303223\n"
     ]
    },
    {
     "name": "stderr",
     "output_type": "stream",
     "text": [
      " 78%|██████████████████████████████████████████████████████████████████▎                  | 1500/1924 [27:10<57:56,  8.20s/it]"
     ]
    },
    {
     "name": "stdout",
     "output_type": "stream",
     "text": [
      "Metrics: {'precision@10': 0.019686565}\n"
     ]
    },
    {
     "name": "stderr",
     "output_type": "stream",
     "text": [
      " 83%|██████████████████████████████████████████████████████████████████████▋              | 1599/1924 [28:33<04:34,  1.19it/s]"
     ]
    },
    {
     "name": "stdout",
     "output_type": "stream",
     "text": [
      "batch <1599> - loss: 0.2771294766664505 - roc_auc score: 0.9471845626831055\n"
     ]
    },
    {
     "name": "stderr",
     "output_type": "stream",
     "text": [
      " 83%|██████████████████████████████████████████████████████████████████████▋              | 1600/1924 [28:58<44:10,  8.18s/it]"
     ]
    },
    {
     "name": "stdout",
     "output_type": "stream",
     "text": [
      "Metrics: {'precision@10': 0.019784503}\n"
     ]
    },
    {
     "name": "stderr",
     "output_type": "stream",
     "text": [
      " 88%|███████████████████████████████████████████████████████████████████████████          | 1699/1924 [30:22<03:09,  1.19it/s]"
     ]
    },
    {
     "name": "stdout",
     "output_type": "stream",
     "text": [
      "batch <1699> - loss: 0.27724218636751174 - roc_auc score: 0.9469184875488281\n"
     ]
    },
    {
     "name": "stderr",
     "output_type": "stream",
     "text": [
      " 88%|███████████████████████████████████████████████████████████████████████████          | 1700/1924 [30:47<30:29,  8.17s/it]"
     ]
    },
    {
     "name": "stdout",
     "output_type": "stream",
     "text": [
      "Metrics: {'precision@10': 0.019693527}\n"
     ]
    },
    {
     "name": "stderr",
     "output_type": "stream",
     "text": [
      " 94%|███████████████████████████████████████████████████████████████████████████████▍     | 1799/1924 [32:10<01:45,  1.19it/s]"
     ]
    },
    {
     "name": "stdout",
     "output_type": "stream",
     "text": [
      "batch <1799> - loss: 0.27736544132232666 - roc_auc score: 0.9450736045837402\n"
     ]
    },
    {
     "name": "stderr",
     "output_type": "stream",
     "text": [
      " 94%|███████████████████████████████████████████████████████████████████████████████▌     | 1800/1924 [32:35<16:55,  8.19s/it]"
     ]
    },
    {
     "name": "stdout",
     "output_type": "stream",
     "text": [
      "Metrics: {'precision@10': 0.020046795}\n"
     ]
    },
    {
     "name": "stderr",
     "output_type": "stream",
     "text": [
      " 99%|███████████████████████████████████████████████████████████████████████████████████▉ | 1899/1924 [33:59<00:21,  1.19it/s]"
     ]
    },
    {
     "name": "stdout",
     "output_type": "stream",
     "text": [
      "batch <1899> - loss: 0.2774539875984192 - roc_auc score: 0.9469079971313477\n"
     ]
    },
    {
     "name": "stderr",
     "output_type": "stream",
     "text": [
      " 99%|███████████████████████████████████████████████████████████████████████████████████▉ | 1900/1924 [34:24<03:16,  8.17s/it]"
     ]
    },
    {
     "name": "stdout",
     "output_type": "stream",
     "text": [
      "Metrics: {'precision@10': 0.019782856}\n"
     ]
    },
    {
     "name": "stderr",
     "output_type": "stream",
     "text": [
      "100%|█████████████████████████████████████████████████████████████████████████████████████| 1924/1924 [34:44<00:00,  1.08s/it]\n"
     ]
    },
    {
     "name": "stdout",
     "output_type": "stream",
     "text": [
      "Epoch: 3, Loss: 0.0034\n"
     ]
    },
    {
     "name": "stderr",
     "output_type": "stream",
     "text": [
      "  5%|████▍                                                                                  | 99/1924 [01:23<25:34,  1.19it/s]"
     ]
    },
    {
     "name": "stdout",
     "output_type": "stream",
     "text": [
      "batch <99> - loss: 0.23860626950860023 - roc_auc score: 0.9631361961364746\n"
     ]
    },
    {
     "name": "stderr",
     "output_type": "stream",
     "text": [
      "  5%|████▎                                                                               | 100/1924 [01:48<4:08:42,  8.18s/it]"
     ]
    },
    {
     "name": "stdout",
     "output_type": "stream",
     "text": [
      "Metrics: {'precision@10': 0.018279891}\n"
     ]
    },
    {
     "name": "stderr",
     "output_type": "stream",
     "text": [
      " 10%|████████▉                                                                             | 199/1924 [03:11<24:09,  1.19it/s]"
     ]
    },
    {
     "name": "stdout",
     "output_type": "stream",
     "text": [
      "batch <199> - loss: 0.23737020969390868 - roc_auc score: 0.9656662940979004\n"
     ]
    },
    {
     "name": "stderr",
     "output_type": "stream",
     "text": [
      " 10%|████████▋                                                                           | 200/1924 [03:37<3:55:24,  8.19s/it]"
     ]
    },
    {
     "name": "stdout",
     "output_type": "stream",
     "text": [
      "Metrics: {'precision@10': 0.017663814}\n"
     ]
    },
    {
     "name": "stderr",
     "output_type": "stream",
     "text": [
      " 16%|█████████████▎                                                                        | 299/1924 [05:00<22:46,  1.19it/s]"
     ]
    },
    {
     "name": "stdout",
     "output_type": "stream",
     "text": [
      "batch <299> - loss: 0.2378930266201496 - roc_auc score: 0.9631562232971191\n"
     ]
    },
    {
     "name": "stderr",
     "output_type": "stream",
     "text": [
      " 16%|█████████████                                                                       | 300/1924 [05:25<3:41:29,  8.18s/it]"
     ]
    },
    {
     "name": "stdout",
     "output_type": "stream",
     "text": [
      "Metrics: {'precision@10': 0.01805095}\n"
     ]
    },
    {
     "name": "stderr",
     "output_type": "stream",
     "text": [
      " 21%|█████████████████▊                                                                    | 399/1924 [06:48<21:27,  1.18it/s]"
     ]
    },
    {
     "name": "stdout",
     "output_type": "stream",
     "text": [
      "batch <399> - loss: 0.23922433614730834 - roc_auc score: 0.959355354309082\n"
     ]
    },
    {
     "name": "stderr",
     "output_type": "stream",
     "text": [
      " 21%|█████████████████▍                                                                  | 400/1924 [07:14<3:28:11,  8.20s/it]"
     ]
    },
    {
     "name": "stdout",
     "output_type": "stream",
     "text": [
      "Metrics: {'precision@10': 0.018091591}\n"
     ]
    },
    {
     "name": "stderr",
     "output_type": "stream",
     "text": [
      " 26%|██████████████████████▎                                                               | 499/1924 [08:37<19:52,  1.19it/s]"
     ]
    },
    {
     "name": "stdout",
     "output_type": "stream",
     "text": [
      "batch <499> - loss: 0.2389494889974594 - roc_auc score: 0.9662919044494629\n"
     ]
    },
    {
     "name": "stderr",
     "output_type": "stream",
     "text": [
      " 26%|█████████████████████▊                                                              | 500/1924 [09:02<3:14:17,  8.19s/it]"
     ]
    },
    {
     "name": "stdout",
     "output_type": "stream",
     "text": [
      "Metrics: {'precision@10': 0.018026395}\n"
     ]
    },
    {
     "name": "stderr",
     "output_type": "stream",
     "text": [
      " 31%|██████████████████████████▊                                                           | 599/1924 [10:26<18:26,  1.20it/s]"
     ]
    },
    {
     "name": "stdout",
     "output_type": "stream",
     "text": [
      "batch <599> - loss: 0.24185117214918136 - roc_auc score: 0.9594416618347168\n"
     ]
    },
    {
     "name": "stderr",
     "output_type": "stream",
     "text": [
      " 31%|██████████████████████████▏                                                         | 600/1924 [10:51<3:00:18,  8.17s/it]"
     ]
    },
    {
     "name": "stdout",
     "output_type": "stream",
     "text": [
      "Metrics: {'precision@10': 0.017955882}\n"
     ]
    },
    {
     "name": "stderr",
     "output_type": "stream",
     "text": [
      " 36%|███████████████████████████████▏                                                      | 699/1924 [12:14<17:08,  1.19it/s]"
     ]
    },
    {
     "name": "stdout",
     "output_type": "stream",
     "text": [
      "batch <699> - loss: 0.24073730915784836 - roc_auc score: 0.9562058448791504\n"
     ]
    },
    {
     "name": "stderr",
     "output_type": "stream",
     "text": [
      " 36%|██████████████████████████████▌                                                     | 700/1924 [12:39<2:46:53,  8.18s/it]"
     ]
    },
    {
     "name": "stdout",
     "output_type": "stream",
     "text": [
      "Metrics: {'precision@10': 0.017986082}\n"
     ]
    },
    {
     "name": "stderr",
     "output_type": "stream",
     "text": [
      " 42%|███████████████████████████████████▋                                                  | 799/1924 [14:02<15:58,  1.17it/s]"
     ]
    },
    {
     "name": "stdout",
     "output_type": "stream",
     "text": [
      "batch <799> - loss: 0.24010149165987968 - roc_auc score: 0.9582414627075195\n"
     ]
    },
    {
     "name": "stderr",
     "output_type": "stream",
     "text": [
      " 42%|██████████████████████████████████▉                                                 | 800/1924 [14:28<2:33:49,  8.21s/it]"
     ]
    },
    {
     "name": "stdout",
     "output_type": "stream",
     "text": [
      "Metrics: {'precision@10': 0.018027946}\n"
     ]
    },
    {
     "name": "stderr",
     "output_type": "stream",
     "text": [
      " 47%|████████████████████████████████████████▏                                             | 899/1924 [15:51<14:25,  1.18it/s]"
     ]
    },
    {
     "name": "stdout",
     "output_type": "stream",
     "text": [
      "batch <899> - loss: 0.24280113965272904 - roc_auc score: 0.9608922004699707\n"
     ]
    },
    {
     "name": "stderr",
     "output_type": "stream",
     "text": [
      " 47%|███████████████████████████████████████▎                                            | 900/1924 [16:16<2:19:38,  8.18s/it]"
     ]
    },
    {
     "name": "stdout",
     "output_type": "stream",
     "text": [
      "Metrics: {'precision@10': 0.017976392}\n"
     ]
    },
    {
     "name": "stderr",
     "output_type": "stream",
     "text": [
      " 52%|████████████████████████████████████████████▋                                         | 999/1924 [17:40<13:06,  1.18it/s]"
     ]
    },
    {
     "name": "stdout",
     "output_type": "stream",
     "text": [
      "batch <999> - loss: 0.24361703917384148 - roc_auc score: 0.9600071907043457\n"
     ]
    },
    {
     "name": "stderr",
     "output_type": "stream",
     "text": [
      " 52%|███████████████████████████████████████████▏                                       | 1000/1924 [18:05<2:05:55,  8.18s/it]"
     ]
    },
    {
     "name": "stdout",
     "output_type": "stream",
     "text": [
      "Metrics: {'precision@10': 0.017870741}\n"
     ]
    },
    {
     "name": "stderr",
     "output_type": "stream",
     "text": [
      " 57%|████████████████████████████████████████████████▌                                    | 1099/1924 [19:29<11:47,  1.17it/s]"
     ]
    },
    {
     "name": "stdout",
     "output_type": "stream",
     "text": [
      "batch <1099> - loss: 0.24217766240239144 - roc_auc score: 0.9645195007324219\n"
     ]
    },
    {
     "name": "stderr",
     "output_type": "stream",
     "text": [
      " 57%|████████████████████████████████████████████████▌                                    | 1099/1924 [19:49<14:52,  1.08s/it]\n"
     ]
    },
    {
     "ename": "KeyboardInterrupt",
     "evalue": "",
     "output_type": "error",
     "traceback": [
      "\u001b[1;31m---------------------------------------------------------------------------\u001b[0m",
      "\u001b[1;31mKeyboardInterrupt\u001b[0m                         Traceback (most recent call last)",
      "Cell \u001b[1;32mIn[24], line 1\u001b[0m\n\u001b[1;32m----> 1\u001b[0m \u001b[43mtrain\u001b[49m\u001b[43m(\u001b[49m\u001b[43mn_epochs\u001b[49m\u001b[38;5;241;43m=\u001b[39;49m\u001b[38;5;241;43m5\u001b[39;49m\u001b[43m,\u001b[49m\u001b[43m \u001b[49m\u001b[43mprint_loss\u001b[49m\u001b[38;5;241;43m=\u001b[39;49m\u001b[38;5;241;43m100\u001b[39;49m\u001b[43m)\u001b[49m\n",
      "Cell \u001b[1;32mIn[21], line 27\u001b[0m, in \u001b[0;36mtrain\u001b[1;34m(n_epochs, print_loss)\u001b[0m\n\u001b[0;32m     22\u001b[0m         running_loss \u001b[38;5;241m=\u001b[39m \u001b[38;5;241m0.\u001b[39m\n\u001b[0;32m     24\u001b[0m         \u001b[38;5;66;03m#test_loss, test_roc_auc = test()\u001b[39;00m\n\u001b[0;32m     25\u001b[0m         \u001b[38;5;66;03m#print(f\"\\tTest loss: {test_loss} \\t Test ROC AUC: {test_roc_auc}\")\u001b[39;00m\n\u001b[1;32m---> 27\u001b[0m         \u001b[38;5;28mprint\u001b[39m(\u001b[38;5;124mf\u001b[39m\u001b[38;5;124m\"\u001b[39m\u001b[38;5;124mMetrics: \u001b[39m\u001b[38;5;132;01m{\u001b[39;00m\u001b[43mevaluate_nn\u001b[49m\u001b[43m(\u001b[49m\u001b[43mmodel\u001b[49m\u001b[43m,\u001b[49m\u001b[38;5;250;43m \u001b[39;49m\u001b[43mmp_matrix\u001b[49m\u001b[43m,\u001b[49m\u001b[38;5;250;43m \u001b[39;49m\u001b[43mval_matrix\u001b[49m\u001b[43m,\u001b[49m\u001b[38;5;250;43m \u001b[39;49m\u001b[43mk\u001b[49m\u001b[38;5;241;43m=\u001b[39;49m\u001b[38;5;241;43m10\u001b[39;49m\u001b[43m)\u001b[49m\u001b[38;5;132;01m}\u001b[39;00m\u001b[38;5;124m\"\u001b[39m)\n\u001b[0;32m     29\u001b[0m \u001b[38;5;28mprint\u001b[39m(\u001b[38;5;124mf\u001b[39m\u001b[38;5;124m\"\u001b[39m\u001b[38;5;124mEpoch: \u001b[39m\u001b[38;5;132;01m{\u001b[39;00mepoch\u001b[38;5;132;01m}\u001b[39;00m\u001b[38;5;124m, Loss: \u001b[39m\u001b[38;5;132;01m{\u001b[39;00mrunning_loss\u001b[38;5;250m \u001b[39m\u001b[38;5;241m/\u001b[39m\u001b[38;5;250m \u001b[39m\u001b[38;5;28mlen\u001b[39m(train_loader)\u001b[38;5;132;01m:\u001b[39;00m\u001b[38;5;124m.4f\u001b[39m\u001b[38;5;132;01m}\u001b[39;00m\u001b[38;5;124m\"\u001b[39m)\n",
      "Cell \u001b[1;32mIn[22], line 82\u001b[0m, in \u001b[0;36mevaluate_nn\u001b[1;34m(model, mp_matrix, val_matrix, k)\u001b[0m\n\u001b[0;32m     80\u001b[0m \u001b[38;5;28;01mdef\u001b[39;00m \u001b[38;5;21mevaluate_nn\u001b[39m(model, mp_matrix, val_matrix, k):\n\u001b[0;32m     81\u001b[0m     x_emb \u001b[38;5;241m=\u001b[39m generate_embeddings(model, val_data)\n\u001b[1;32m---> 82\u001b[0m     recommendations \u001b[38;5;241m=\u001b[39m \u001b[43mrecommend_k\u001b[49m\u001b[43m(\u001b[49m\u001b[43mx_emb\u001b[49m\u001b[43m[\u001b[49m\u001b[38;5;124;43m'\u001b[39;49m\u001b[38;5;124;43muser\u001b[39;49m\u001b[38;5;124;43m'\u001b[39;49m\u001b[43m]\u001b[49m\u001b[43m,\u001b[49m\u001b[43m \u001b[49m\u001b[43mx_emb\u001b[49m\u001b[43m[\u001b[49m\u001b[38;5;124;43m'\u001b[39;49m\u001b[38;5;124;43mapp\u001b[39;49m\u001b[38;5;124;43m'\u001b[39;49m\u001b[43m]\u001b[49m\u001b[43m,\u001b[49m\u001b[43m \u001b[49m\u001b[43mpast_interactions\u001b[49m\u001b[38;5;241;43m=\u001b[39;49m\u001b[43mmp_matrix\u001b[49m\u001b[43m,\u001b[49m\u001b[43m \u001b[49m\n\u001b[0;32m     83\u001b[0m \u001b[43m                                  \u001b[49m\u001b[43mk\u001b[49m\u001b[38;5;241;43m=\u001b[39;49m\u001b[38;5;241;43m10\u001b[39;49m\u001b[43m,\u001b[49m\u001b[43m \u001b[49m\u001b[43muser_batch_size\u001b[49m\u001b[38;5;241;43m=\u001b[39;49m\u001b[38;5;241;43m10000\u001b[39;49m\u001b[43m)\u001b[49m\u001b[38;5;241m.\u001b[39mcpu()\u001b[38;5;241m.\u001b[39mnumpy()\n\u001b[0;32m     84\u001b[0m     reco_relevance, relevance_mask \u001b[38;5;241m=\u001b[39m recommendation_relevance(recommendations, val_matrix)\n\u001b[0;32m     86\u001b[0m     prec_k \u001b[38;5;241m=\u001b[39m precision_k(reco_relevance[relevance_mask], k)\n",
      "File \u001b[1;32m~\\miniconda3\\envs\\recsys\\lib\\site-packages\\torch\\autograd\\grad_mode.py:27\u001b[0m, in \u001b[0;36m_DecoratorContextManager.__call__.<locals>.decorate_context\u001b[1;34m(*args, **kwargs)\u001b[0m\n\u001b[0;32m     24\u001b[0m \u001b[38;5;129m@functools\u001b[39m\u001b[38;5;241m.\u001b[39mwraps(func)\n\u001b[0;32m     25\u001b[0m \u001b[38;5;28;01mdef\u001b[39;00m \u001b[38;5;21mdecorate_context\u001b[39m(\u001b[38;5;241m*\u001b[39margs, \u001b[38;5;241m*\u001b[39m\u001b[38;5;241m*\u001b[39mkwargs):\n\u001b[0;32m     26\u001b[0m     \u001b[38;5;28;01mwith\u001b[39;00m \u001b[38;5;28mself\u001b[39m\u001b[38;5;241m.\u001b[39mclone():\n\u001b[1;32m---> 27\u001b[0m         \u001b[38;5;28;01mreturn\u001b[39;00m func(\u001b[38;5;241m*\u001b[39margs, \u001b[38;5;241m*\u001b[39m\u001b[38;5;241m*\u001b[39mkwargs)\n",
      "Cell \u001b[1;32mIn[22], line 37\u001b[0m, in \u001b[0;36mrecommend_k\u001b[1;34m(user_emb, item_emb, past_interactions, k, user_batch_size)\u001b[0m\n\u001b[0;32m     35\u001b[0m \u001b[38;5;28;01mfor\u001b[39;00m user_batch \u001b[38;5;129;01min\u001b[39;00m user_batches:\n\u001b[0;32m     36\u001b[0m     prob \u001b[38;5;241m=\u001b[39m (user_emb[user_batch] \u001b[38;5;241m@\u001b[39m item_emb\u001b[38;5;241m.\u001b[39mT)\u001b[38;5;241m.\u001b[39msigmoid()\n\u001b[1;32m---> 37\u001b[0m     prob \u001b[38;5;241m=\u001b[39m \u001b[43mremove_past_interactions\u001b[49m\u001b[43m(\u001b[49m\u001b[43mprob\u001b[49m\u001b[43m,\u001b[49m\u001b[43m \u001b[49m\u001b[43muser_batch\u001b[49m\u001b[43m)\u001b[49m\n\u001b[0;32m     38\u001b[0m     recommended_batches\u001b[38;5;241m.\u001b[39mappend(prob\u001b[38;5;241m.\u001b[39mtopk(k, \u001b[38;5;241m1\u001b[39m)[\u001b[38;5;241m1\u001b[39m])\n\u001b[0;32m     40\u001b[0m recommendations \u001b[38;5;241m=\u001b[39m torch\u001b[38;5;241m.\u001b[39mcat(recommended_batches, \u001b[38;5;241m0\u001b[39m)\n",
      "\u001b[1;31mKeyboardInterrupt\u001b[0m: "
     ]
    }
   ],
   "source": [
    "train(n_epochs=5, print_loss=100)"
   ]
  },
  {
   "cell_type": "code",
   "execution_count": null,
   "id": "e1eba4fa-0aad-42d6-bcd1-9f1b15867fe0",
   "metadata": {},
   "outputs": [],
   "source": []
  },
  {
   "cell_type": "code",
   "execution_count": null,
   "id": "4564b6a9-5c89-4b59-a4aa-5ab8de121892",
   "metadata": {},
   "outputs": [],
   "source": []
  },
  {
   "cell_type": "code",
   "execution_count": null,
   "id": "826718c7-ae04-4c3a-b095-f00c0a2cf5eb",
   "metadata": {},
   "outputs": [],
   "source": []
  },
  {
   "cell_type": "code",
   "execution_count": null,
   "id": "0fb4cf6b-2b2c-405a-9911-a96f8549676c",
   "metadata": {},
   "outputs": [],
   "source": []
  },
  {
   "cell_type": "code",
   "execution_count": null,
   "id": "1a436630-fff3-40a5-af0b-250a54030e1a",
   "metadata": {
    "tags": []
   },
   "outputs": [],
   "source": []
  },
  {
   "cell_type": "code",
   "execution_count": null,
   "id": "560ad1dd-88ba-419b-8806-f2ddd52983ca",
   "metadata": {},
   "outputs": [],
   "source": []
  },
  {
   "cell_type": "code",
   "execution_count": null,
   "id": "2f5307c5-a382-40ba-a63e-6d759454e5e7",
   "metadata": {
    "tags": []
   },
   "outputs": [],
   "source": [
    "p2 = retrieval.RetrievalPrecision(top_k=5)\n",
    "r2 = retrieval.RetrievalRecall(top_k=2)\n",
    "ndcg = retrieval.RetrievalNormalizedDCG(top_k=7)"
   ]
  },
  {
   "cell_type": "code",
   "execution_count": null,
   "id": "dc1b076e-2231-433b-8cc1-b16baceb8dd4",
   "metadata": {
    "tags": []
   },
   "outputs": [],
   "source": [
    "preds = torch.tensor([0.7, 0.8, 0.1, 0.2, 0.4, 0.6, 0.5, 0.9, 0.3, 0.15])\n",
    "targets = torch.tensor([True, True, False, False, False, False, False, False, False, False])\n",
    "indices = torch.tensor([0,0,0,0,0,0,0,0,0,0])\n",
    "\n",
    "mask = torch.ones(preds.shape, dtype=torch.bool)\n",
    "mask[[4, 5, 7]] = False\n",
    "print(preds[mask])\n",
    "print(targets[mask])"
   ]
  },
  {
   "cell_type": "code",
   "execution_count": null,
   "id": "c5112db0-910d-41ca-a474-9309bbdd820f",
   "metadata": {
    "tags": []
   },
   "outputs": [],
   "source": [
    "preds = torch.tensor([1.0, 0.85, 0.8, 0.7, 0.65])\n",
    "targets = torch.tensor([False, False, False, False, False])\n",
    "indices = torch.tensor([0,0,0,0,0])"
   ]
  },
  {
   "cell_type": "code",
   "execution_count": null,
   "id": "65dffbad-516c-44c2-b2cf-59c87945d97e",
   "metadata": {
    "tags": []
   },
   "outputs": [],
   "source": [
    "p2(preds, targets, indexes=indices)"
   ]
  },
  {
   "cell_type": "code",
   "execution_count": null,
   "id": "ef36301e-fd1c-4736-85ba-c21c0f9768bb",
   "metadata": {
    "tags": []
   },
   "outputs": [],
   "source": [
    "r2(preds, targets, indexes=indices)"
   ]
  },
  {
   "cell_type": "code",
   "execution_count": null,
   "id": "7337d182-dfa6-49f9-ab1f-4ca29816908a",
   "metadata": {
    "tags": []
   },
   "outputs": [],
   "source": [
    "ndcg(preds, targets, indexes=indices)"
   ]
  },
  {
   "cell_type": "code",
   "execution_count": null,
   "id": "264ad60d-43c0-4464-a4f5-33fdbdec5023",
   "metadata": {
    "tags": []
   },
   "outputs": [],
   "source": [
    "def dcg(rel):\n",
    "    g = 0.\n",
    "    for i in range(1,6):\n",
    "        g+= (2**rel[i-1] - 1)/np.log2(i+1)\n",
    "    return g"
   ]
  },
  {
   "cell_type": "code",
   "execution_count": null,
   "id": "fdcd36c4-f19c-42d9-9a30-ce5a18d6a117",
   "metadata": {
    "tags": []
   },
   "outputs": [],
   "source": [
    "rel = [1,0,1,0,1]\n",
    "rel_idcg = [1,1,1,0,0]\n",
    "print(dcg(rel))\n",
    "print(dcg(rel_idcg))\n",
    "print(dcg(rel)/dcg(rel_idcg))"
   ]
  },
  {
   "cell_type": "code",
   "execution_count": null,
   "id": "5210302d-0aa8-4a66-98c2-6d9a28b9484a",
   "metadata": {},
   "outputs": [],
   "source": [
    "torch.tensor([0.9, 0.7, 0.6])"
   ]
  },
  {
   "cell_type": "code",
   "execution_count": null,
   "id": "5b88e770-5ae4-42d3-8c02-bed10ddc5dd4",
   "metadata": {
    "tags": []
   },
   "outputs": [],
   "source": [
    "(preds[i][:3] / torch.log2(torch.arange(3)+2)).sum() / (torch.tensor([0.9, 0.7, 0.6]) / torch.log2(torch.arange(3)+2)).sum()"
   ]
  },
  {
   "cell_type": "code",
   "execution_count": null,
   "id": "f41c4421-a44b-4197-8b7e-eb54db214a64",
   "metadata": {},
   "outputs": [],
   "source": []
  },
  {
   "cell_type": "code",
   "execution_count": null,
   "id": "c1f1922d-4623-4597-935f-f78c618f64bf",
   "metadata": {
    "tags": []
   },
   "outputs": [],
   "source": [
    "torch.log2(torch.arange(3)+2)"
   ]
  },
  {
   "cell_type": "code",
   "execution_count": null,
   "id": "3ba09046-a518-439c-9c99-30a55fd84050",
   "metadata": {},
   "outputs": [],
   "source": []
  },
  {
   "cell_type": "code",
   "execution_count": null,
   "id": "8ceef365-2ccb-41b4-9171-a64418858fa6",
   "metadata": {},
   "outputs": [],
   "source": []
  },
  {
   "cell_type": "code",
   "execution_count": null,
   "id": "3e038ff8-6486-4469-bc94-7803c0e434d6",
   "metadata": {
    "tags": []
   },
   "outputs": [],
   "source": [
    "cm = confusion_matrix(y_true.detach().cpu().numpy(), y_pred.detach().cpu().numpy().round())\n",
    "cm_display = ConfusionMatrixDisplay(confusion_matrix=cm, display_labels=[False, True])\n",
    "cm_display.plot()\n",
    "plt.show()"
   ]
  },
  {
   "cell_type": "code",
   "execution_count": 25,
   "id": "a649ad13-b1ce-4dfd-b004-cbacd7489344",
   "metadata": {},
   "outputs": [],
   "source": [
    "def save_model(model, path):\n",
    "    torch.save(model.state_dict(), path)\n",
    "    \n",
    "def load_model(path):\n",
    "    model = Model(hidden_channels=32, out_channels=32, metadata=train_data.metadata())\n",
    "    model.load_state_dict(torch.load(path))\n",
    "    model = model.to(device)\n",
    "    return model"
   ]
  },
  {
   "cell_type": "code",
   "execution_count": 26,
   "id": "d1b149d4-46b6-4bc4-8559-130ae2b93545",
   "metadata": {
    "tags": []
   },
   "outputs": [],
   "source": [
    "save_model(model, \"models/gnn_03.pth\")"
   ]
  },
  {
   "cell_type": "code",
   "execution_count": null,
   "id": "a12d26e9-9234-474a-8cd4-8ade83aba18b",
   "metadata": {
    "tags": []
   },
   "outputs": [],
   "source": [
    "model = load_model(\"models/gnn_02.pth\")"
   ]
  },
  {
   "cell_type": "code",
   "execution_count": null,
   "id": "47fbd4af-954d-4dc7-9c6d-9352138dc066",
   "metadata": {
    "tags": []
   },
   "outputs": [],
   "source": [
    "print(nn.summary(model, next(iter(train_loader)).to(device)))"
   ]
  },
  {
   "cell_type": "code",
   "execution_count": null,
   "id": "11f847e7-0424-471d-b78c-0bdff124cded",
   "metadata": {},
   "outputs": [],
   "source": [
    "model"
   ]
  },
  {
   "cell_type": "code",
   "execution_count": null,
   "id": "1c3fcdc9-222c-4488-9b23-43057a14361f",
   "metadata": {},
   "outputs": [],
   "source": []
  }
 ],
 "metadata": {
  "kernelspec": {
   "display_name": "Python 3 (ipykernel)",
   "language": "python",
   "name": "python3"
  },
  "language_info": {
   "codemirror_mode": {
    "name": "ipython",
    "version": 3
   },
   "file_extension": ".py",
   "mimetype": "text/x-python",
   "name": "python",
   "nbconvert_exporter": "python",
   "pygments_lexer": "ipython3",
   "version": "3.10.9"
  }
 },
 "nbformat": 4,
 "nbformat_minor": 5
}
