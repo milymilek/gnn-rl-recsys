{
 "cells": [
  {
   "cell_type": "code",
   "execution_count": 1,
   "id": "e5534dcf-18e5-48e2-a549-a8763b9dfaab",
   "metadata": {},
   "outputs": [
    {
     "name": "stdout",
     "output_type": "stream",
     "text": [
      "C:\\Users\\Milosz\\thesis-recsys\n"
     ]
    }
   ],
   "source": [
    "%load_ext autoreload\n",
    "%autoreload 2\n",
    "\n",
    "import os\n",
    "os.chdir(\"../../\")\n",
    "print(os.getcwd())"
   ]
  },
  {
   "cell_type": "code",
   "execution_count": 2,
   "id": "b5577c3e-71c7-4f11-b306-b03e2a595a3c",
   "metadata": {},
   "outputs": [],
   "source": [
    "import pandas as pd"
   ]
  },
  {
   "cell_type": "code",
   "execution_count": 3,
   "id": "0febf381-229a-4630-a9dd-69cbb3e56c43",
   "metadata": {},
   "outputs": [],
   "source": [
    "edge_index = pd.read_csv('./data/recommendations.csv')\n",
    "users = pd.read_csv(\"./data/users.csv\")\n",
    "items = pd.read_csv(\"./data/items.csv\")"
   ]
  },
  {
   "cell_type": "code",
   "execution_count": 4,
   "id": "ee3eed1b-9f05-46cd-ac07-6185b8206fb8",
   "metadata": {},
   "outputs": [
    {
     "data": {
      "text/plain": [
       "11480212"
      ]
     },
     "execution_count": 4,
     "metadata": {},
     "output_type": "execute_result"
    }
   ],
   "source": [
    "edge_index.shape[0]"
   ]
  },
  {
   "cell_type": "code",
   "execution_count": 5,
   "id": "ea3bb8cc-7e1e-4389-994b-8cbc0ef86577",
   "metadata": {},
   "outputs": [
    {
     "data": {
      "text/plain": [
       "6053352"
      ]
     },
     "execution_count": 5,
     "metadata": {},
     "output_type": "execute_result"
    }
   ],
   "source": [
    "edge_index['user_id'].nunique()"
   ]
  },
  {
   "cell_type": "code",
   "execution_count": 6,
   "id": "b0973114-2ef2-4d05-bbc8-e989b6e37391",
   "metadata": {},
   "outputs": [
    {
     "data": {
      "text/plain": [
       "1874"
      ]
     },
     "execution_count": 6,
     "metadata": {},
     "output_type": "execute_result"
    }
   ],
   "source": [
    "edge_index['app_id'].nunique()"
   ]
  },
  {
   "cell_type": "code",
   "execution_count": null,
   "id": "dc27d88f-60c7-49e6-8a83-e07b4b2e7cfe",
   "metadata": {},
   "outputs": [],
   "source": []
  },
  {
   "cell_type": "code",
   "execution_count": 7,
   "id": "b4260319-d404-4a6d-9a0a-6cd822b0a403",
   "metadata": {},
   "outputs": [],
   "source": [
    "edge_index_sorted = edge_index.sort_values(by='date')"
   ]
  },
  {
   "cell_type": "code",
   "execution_count": 8,
   "id": "83ea9faa-f187-4eed-b990-675cec558fe2",
   "metadata": {},
   "outputs": [],
   "source": [
    "supervision_ratio = 0.2\n",
    "validation_ratio = 0.3\n",
    "\n",
    "\n",
    "split_training = 1.0 - supervision_ratio - validation_ratio\n",
    "training_split_point = int(edge_index_sorted.shape[0] * split_training)\n",
    "supervision_split_point = int(edge_index_sorted.shape[0] * (split_training + supervision_ratio))\n",
    "\n",
    "df_train = edge_index_sorted[:training_split_point]\n",
    "df_supervision = edge_index_sorted[training_split_point:supervision_split_point]\n",
    "df_valid = edge_index_sorted[supervision_split_point:]"
   ]
  },
  {
   "cell_type": "code",
   "execution_count": 12,
   "id": "11cb43da-f557-4b82-837f-43f03d9866ad",
   "metadata": {},
   "outputs": [
    {
     "data": {
      "text/html": [
       "<div>\n",
       "<style scoped>\n",
       "    .dataframe tbody tr th:only-of-type {\n",
       "        vertical-align: middle;\n",
       "    }\n",
       "\n",
       "    .dataframe tbody tr th {\n",
       "        vertical-align: top;\n",
       "    }\n",
       "\n",
       "    .dataframe thead th {\n",
       "        text-align: right;\n",
       "    }\n",
       "</style>\n",
       "<table border=\"1\" class=\"dataframe\">\n",
       "  <thead>\n",
       "    <tr style=\"text-align: right;\">\n",
       "      <th></th>\n",
       "      <th>app_id</th>\n",
       "      <th>helpful</th>\n",
       "      <th>funny</th>\n",
       "      <th>date</th>\n",
       "      <th>is_recommended</th>\n",
       "      <th>hours</th>\n",
       "      <th>user_id</th>\n",
       "      <th>review_id</th>\n",
       "    </tr>\n",
       "  </thead>\n",
       "  <tbody>\n",
       "    <tr>\n",
       "      <th>10362775</th>\n",
       "      <td>31170</td>\n",
       "      <td>2</td>\n",
       "      <td>0</td>\n",
       "      <td>2010-10-15</td>\n",
       "      <td>True</td>\n",
       "      <td>0.6</td>\n",
       "      <td>3007737</td>\n",
       "      <td>10362775</td>\n",
       "    </tr>\n",
       "    <tr>\n",
       "      <th>10780073</th>\n",
       "      <td>60</td>\n",
       "      <td>0</td>\n",
       "      <td>0</td>\n",
       "      <td>2010-10-15</td>\n",
       "      <td>True</td>\n",
       "      <td>0.6</td>\n",
       "      <td>4261301</td>\n",
       "      <td>10780073</td>\n",
       "    </tr>\n",
       "    <tr>\n",
       "      <th>10982229</th>\n",
       "      <td>35130</td>\n",
       "      <td>0</td>\n",
       "      <td>0</td>\n",
       "      <td>2010-10-15</td>\n",
       "      <td>True</td>\n",
       "      <td>12.9</td>\n",
       "      <td>3248397</td>\n",
       "      <td>10982229</td>\n",
       "    </tr>\n",
       "    <tr>\n",
       "      <th>9007734</th>\n",
       "      <td>220</td>\n",
       "      <td>7</td>\n",
       "      <td>2</td>\n",
       "      <td>2010-10-15</td>\n",
       "      <td>True</td>\n",
       "      <td>57.5</td>\n",
       "      <td>4877354</td>\n",
       "      <td>9007734</td>\n",
       "    </tr>\n",
       "    <tr>\n",
       "      <th>5973921</th>\n",
       "      <td>550</td>\n",
       "      <td>8</td>\n",
       "      <td>0</td>\n",
       "      <td>2010-10-15</td>\n",
       "      <td>True</td>\n",
       "      <td>128.0</td>\n",
       "      <td>3217208</td>\n",
       "      <td>5973921</td>\n",
       "    </tr>\n",
       "    <tr>\n",
       "      <th>...</th>\n",
       "      <td>...</td>\n",
       "      <td>...</td>\n",
       "      <td>...</td>\n",
       "      <td>...</td>\n",
       "      <td>...</td>\n",
       "      <td>...</td>\n",
       "      <td>...</td>\n",
       "      <td>...</td>\n",
       "    </tr>\n",
       "    <tr>\n",
       "      <th>2997434</th>\n",
       "      <td>242760</td>\n",
       "      <td>2</td>\n",
       "      <td>0</td>\n",
       "      <td>2022-12-31</td>\n",
       "      <td>True</td>\n",
       "      <td>19.0</td>\n",
       "      <td>528388</td>\n",
       "      <td>2997434</td>\n",
       "    </tr>\n",
       "    <tr>\n",
       "      <th>3650085</th>\n",
       "      <td>582660</td>\n",
       "      <td>0</td>\n",
       "      <td>0</td>\n",
       "      <td>2022-12-31</td>\n",
       "      <td>True</td>\n",
       "      <td>509.1</td>\n",
       "      <td>4251706</td>\n",
       "      <td>3650085</td>\n",
       "    </tr>\n",
       "    <tr>\n",
       "      <th>11175487</th>\n",
       "      <td>646910</td>\n",
       "      <td>2</td>\n",
       "      <td>0</td>\n",
       "      <td>2022-12-31</td>\n",
       "      <td>True</td>\n",
       "      <td>409.2</td>\n",
       "      <td>3065107</td>\n",
       "      <td>11175487</td>\n",
       "    </tr>\n",
       "    <tr>\n",
       "      <th>2399038</th>\n",
       "      <td>1203220</td>\n",
       "      <td>0</td>\n",
       "      <td>0</td>\n",
       "      <td>2022-12-31</td>\n",
       "      <td>True</td>\n",
       "      <td>13.3</td>\n",
       "      <td>2967549</td>\n",
       "      <td>2399038</td>\n",
       "    </tr>\n",
       "    <tr>\n",
       "      <th>96840</th>\n",
       "      <td>1987080</td>\n",
       "      <td>2</td>\n",
       "      <td>0</td>\n",
       "      <td>2022-12-31</td>\n",
       "      <td>False</td>\n",
       "      <td>1.1</td>\n",
       "      <td>1044060</td>\n",
       "      <td>96840</td>\n",
       "    </tr>\n",
       "  </tbody>\n",
       "</table>\n",
       "<p>11480212 rows × 8 columns</p>\n",
       "</div>"
      ],
      "text/plain": [
       "           app_id  helpful  funny        date  is_recommended  hours  user_id  \\\n",
       "10362775    31170        2      0  2010-10-15            True    0.6  3007737   \n",
       "10780073       60        0      0  2010-10-15            True    0.6  4261301   \n",
       "10982229    35130        0      0  2010-10-15            True   12.9  3248397   \n",
       "9007734       220        7      2  2010-10-15            True   57.5  4877354   \n",
       "5973921       550        8      0  2010-10-15            True  128.0  3217208   \n",
       "...           ...      ...    ...         ...             ...    ...      ...   \n",
       "2997434    242760        2      0  2022-12-31            True   19.0   528388   \n",
       "3650085    582660        0      0  2022-12-31            True  509.1  4251706   \n",
       "11175487   646910        2      0  2022-12-31            True  409.2  3065107   \n",
       "2399038   1203220        0      0  2022-12-31            True   13.3  2967549   \n",
       "96840     1987080        2      0  2022-12-31           False    1.1  1044060   \n",
       "\n",
       "          review_id  \n",
       "10362775   10362775  \n",
       "10780073   10780073  \n",
       "10982229   10982229  \n",
       "9007734     9007734  \n",
       "5973921     5973921  \n",
       "...             ...  \n",
       "2997434     2997434  \n",
       "3650085     3650085  \n",
       "11175487   11175487  \n",
       "2399038     2399038  \n",
       "96840         96840  \n",
       "\n",
       "[11480212 rows x 8 columns]"
      ]
     },
     "execution_count": 12,
     "metadata": {},
     "output_type": "execute_result"
    }
   ],
   "source": [
    "edge_index_sorted"
   ]
  },
  {
   "cell_type": "code",
   "execution_count": 9,
   "id": "ba483c9c-8df5-4256-86c2-0d519db5935f",
   "metadata": {
    "scrolled": true
   },
   "outputs": [
    {
     "data": {
      "text/plain": [
       "(5740106, 2296042, 3444064)"
      ]
     },
     "execution_count": 9,
     "metadata": {},
     "output_type": "execute_result"
    }
   ],
   "source": [
    "df_train.shape[0], df_supervision.shape[0], df_valid.shape[0]"
   ]
  },
  {
   "cell_type": "code",
   "execution_count": 10,
   "id": "62767e41-8a52-4344-8d95-86868056c856",
   "metadata": {},
   "outputs": [
    {
     "data": {
      "text/plain": [
       "(3409266, 1688724, 2389891)"
      ]
     },
     "execution_count": 10,
     "metadata": {},
     "output_type": "execute_result"
    }
   ],
   "source": [
    "df_train['user_id'].nunique(), df_supervision['user_id'].nunique(), df_valid['user_id'].nunique()"
   ]
  },
  {
   "cell_type": "code",
   "execution_count": 11,
   "id": "09bd32ec-6cf8-414f-ad2d-93a06cf6ce24",
   "metadata": {},
   "outputs": [
    {
     "data": {
      "text/plain": [
       "(1232, 1486, 1868)"
      ]
     },
     "execution_count": 11,
     "metadata": {},
     "output_type": "execute_result"
    }
   ],
   "source": [
    "df_train['app_id'].nunique(), df_supervision['app_id'].nunique(), df_valid['app_id'].nunique()"
   ]
  },
  {
   "cell_type": "code",
   "execution_count": null,
   "id": "75773cb9-8340-4505-b9b2-2af2155ad557",
   "metadata": {},
   "outputs": [],
   "source": []
  },
  {
   "cell_type": "code",
   "execution_count": null,
   "id": "7af03985-869f-4a55-9461-92bee4d3a182",
   "metadata": {},
   "outputs": [],
   "source": []
  },
  {
   "cell_type": "code",
   "execution_count": 13,
   "id": "8149e373-3104-4da3-aed4-d2f58bdb596f",
   "metadata": {},
   "outputs": [],
   "source": [
    "data = pd.read_pickle(\"./data/steam/data.pkl\")"
   ]
  },
  {
   "cell_type": "code",
   "execution_count": 19,
   "id": "43fd630c-22b7-42ef-833b-9454f40996c8",
   "metadata": {},
   "outputs": [
    {
     "data": {
      "text/plain": [
       "(4887629, 550450, 432251)"
      ]
     },
     "execution_count": 19,
     "metadata": {},
     "output_type": "execute_result"
    }
   ],
   "source": [
    "data['relations_datastore'].dataframe.train.shape[0], \\\n",
    "data['relations_datastore'].dataframe.supervision.shape[0], \\\n",
    "data['relations_datastore'].dataframe.valid.shape[0]"
   ]
  },
  {
   "cell_type": "code",
   "execution_count": 20,
   "id": "a621a5e6-8d50-417d-96be-ad742e31f8e3",
   "metadata": {},
   "outputs": [
    {
     "data": {
      "text/html": [
       "<div>\n",
       "<style scoped>\n",
       "    .dataframe tbody tr th:only-of-type {\n",
       "        vertical-align: middle;\n",
       "    }\n",
       "\n",
       "    .dataframe tbody tr th {\n",
       "        vertical-align: top;\n",
       "    }\n",
       "\n",
       "    .dataframe thead th {\n",
       "        text-align: right;\n",
       "    }\n",
       "</style>\n",
       "<table border=\"1\" class=\"dataframe\">\n",
       "  <thead>\n",
       "    <tr style=\"text-align: right;\">\n",
       "      <th></th>\n",
       "      <th>products</th>\n",
       "      <th>reviews</th>\n",
       "    </tr>\n",
       "  </thead>\n",
       "  <tbody>\n",
       "    <tr>\n",
       "      <th>count</th>\n",
       "      <td>3.066721e+06</td>\n",
       "      <td>3.066721e+06</td>\n",
       "    </tr>\n",
       "    <tr>\n",
       "      <th>mean</th>\n",
       "      <td>1.824968e+02</td>\n",
       "      <td>2.373826e+00</td>\n",
       "    </tr>\n",
       "    <tr>\n",
       "      <th>std</th>\n",
       "      <td>3.266556e+02</td>\n",
       "      <td>3.087150e+00</td>\n",
       "    </tr>\n",
       "    <tr>\n",
       "      <th>min</th>\n",
       "      <td>0.000000e+00</td>\n",
       "      <td>1.000000e+00</td>\n",
       "    </tr>\n",
       "    <tr>\n",
       "      <th>25%</th>\n",
       "      <td>4.200000e+01</td>\n",
       "      <td>1.000000e+00</td>\n",
       "    </tr>\n",
       "    <tr>\n",
       "      <th>50%</th>\n",
       "      <td>1.000000e+02</td>\n",
       "      <td>1.000000e+00</td>\n",
       "    </tr>\n",
       "    <tr>\n",
       "      <th>75%</th>\n",
       "      <td>2.110000e+02</td>\n",
       "      <td>3.000000e+00</td>\n",
       "    </tr>\n",
       "    <tr>\n",
       "      <th>max</th>\n",
       "      <td>2.930800e+04</td>\n",
       "      <td>2.780000e+02</td>\n",
       "    </tr>\n",
       "  </tbody>\n",
       "</table>\n",
       "</div>"
      ],
      "text/plain": [
       "           products       reviews\n",
       "count  3.066721e+06  3.066721e+06\n",
       "mean   1.824968e+02  2.373826e+00\n",
       "std    3.266556e+02  3.087150e+00\n",
       "min    0.000000e+00  1.000000e+00\n",
       "25%    4.200000e+01  1.000000e+00\n",
       "50%    1.000000e+02  1.000000e+00\n",
       "75%    2.110000e+02  3.000000e+00\n",
       "max    2.930800e+04  2.780000e+02"
      ]
     },
     "execution_count": 20,
     "metadata": {},
     "output_type": "execute_result"
    }
   ],
   "source": [
    "data['users_datastore'].dataframe.df.describe()"
   ]
  },
  {
   "cell_type": "code",
   "execution_count": 29,
   "id": "98e74355-03da-4792-99cd-e5d9de817c24",
   "metadata": {},
   "outputs": [
    {
     "data": {
      "text/plain": [
       "(3066721, 364678, 289163)"
      ]
     },
     "execution_count": 29,
     "metadata": {},
     "output_type": "execute_result"
    }
   ],
   "source": [
    "data['relations_datastore'].dataframe.train['user_id'].nunique(), \\\n",
    "data['relations_datastore'].dataframe.supervision['user_id'].nunique(), \\\n",
    "data['relations_datastore'].dataframe.valid['user_id'].nunique()"
   ]
  },
  {
   "cell_type": "code",
   "execution_count": 30,
   "id": "43740d1d-619a-43c5-9a32-c11fc73ca427",
   "metadata": {
    "scrolled": true
   },
   "outputs": [
    {
     "data": {
      "text/plain": [
       "(1231, 1218, 1214)"
      ]
     },
     "execution_count": 30,
     "metadata": {},
     "output_type": "execute_result"
    }
   ],
   "source": [
    "data['relations_datastore'].dataframe.train['app_id'].nunique(), \\\n",
    "data['relations_datastore'].dataframe.supervision['app_id'].nunique(), \\\n",
    "data['relations_datastore'].dataframe.valid['app_id'].nunique()"
   ]
  },
  {
   "cell_type": "code",
   "execution_count": null,
   "id": "e82d2633-6690-4c4b-8232-c7130eebf0f0",
   "metadata": {},
   "outputs": [],
   "source": []
  },
  {
   "cell_type": "code",
   "execution_count": 33,
   "id": "7c931555-76bb-48f7-bd0f-7a135444f6fe",
   "metadata": {},
   "outputs": [
    {
     "data": {
      "text/plain": [
       "[SparseFeat(name='user_id', map=None, num_emb=3066721, index=None, pad_index=None),\n",
       " SparseFeat(name='app_id', map=None, num_emb=1231, index=None, pad_index=None)]"
      ]
     },
     "execution_count": 33,
     "metadata": {},
     "output_type": "execute_result"
    }
   ],
   "source": [
    "data['relations_datastore'].scheme.features"
   ]
  },
  {
   "cell_type": "code",
   "execution_count": null,
   "id": "41b51473-b19f-447e-8c97-dbf5a77412d6",
   "metadata": {},
   "outputs": [],
   "source": []
  }
 ],
 "metadata": {
  "kernelspec": {
   "display_name": "Python 3 (ipykernel)",
   "language": "python",
   "name": "python3"
  },
  "language_info": {
   "codemirror_mode": {
    "name": "ipython",
    "version": 3
   },
   "file_extension": ".py",
   "mimetype": "text/x-python",
   "name": "python",
   "nbconvert_exporter": "python",
   "pygments_lexer": "ipython3",
   "version": "3.10.9"
  }
 },
 "nbformat": 4,
 "nbformat_minor": 5
}
