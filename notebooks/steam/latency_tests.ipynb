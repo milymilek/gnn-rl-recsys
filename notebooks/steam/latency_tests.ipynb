{
 "cells": [
  {
   "cell_type": "code",
   "execution_count": 1,
   "id": "597d4daa-a60c-46d6-a625-5b7ecafe3bab",
   "metadata": {},
   "outputs": [
    {
     "name": "stdout",
     "output_type": "stream",
     "text": [
      "C:\\Users\\Milosz\\Projects\\thesis-recsys\n"
     ]
    }
   ],
   "source": [
    "%load_ext autoreload\n",
    "%autoreload 2\n",
    "\n",
    "import os\n",
    "os.chdir(\"../../\")\n",
    "print(os.getcwd())"
   ]
  },
  {
   "cell_type": "code",
   "execution_count": 2,
   "id": "fbab2034-ef3c-439f-ac49-d9f1f018e6b6",
   "metadata": {},
   "outputs": [],
   "source": [
    "import pandas as pd\n",
    "import numpy as np\n",
    "import matplotlib.pyplot as plt\n",
    "from tqdm import tqdm\n",
    "import pickle\n",
    "\n",
    "import torch\n",
    "from torch.utils.data import DataLoader\n",
    "\n",
    "from features.store import FeatureStore\n",
    "from scripts.eval import collate_fn, IterableDatasetTest, FeaturelessIterableDatasetTest\n",
    "from scripts.eval_knowledge_graph import IterableRippleDataset\n",
    "from scripts.eval_knowledge_graph import collate_fn as collate_fn_kg\n",
    "from models import DeepFM, NCF, MF\n",
    "from models.gnn import GraphSAGE, GATConv, GNN\n",
    "from models.kg import RippleNet\n",
    "from utils import load_model"
   ]
  },
  {
   "cell_type": "code",
   "execution_count": 121,
   "id": "13dabbbb-931b-476f-abe6-e746d262a775",
   "metadata": {},
   "outputs": [],
   "source": [
    "dir_art = \"data/steam\"\n",
    "device = 'cuda' if (torch.cuda.is_available()) else 'cpu'\n",
    "\n",
    "with open(os.path.join(dir_art, 'data.pkl'), \"rb\") as f:\n",
    "    data = pd.read_pickle(f)\n",
    "with open(os.path.join(dir_art, 'graph.pkl'), \"rb\") as f:\n",
    "    graph = pd.read_pickle(f)\n",
    "with open(os.path.join(dir_art, 'knowledge_graph.pkl'), \"rb\") as f:\n",
    "    knowledge_graph = pd.read_pickle(f)\n",
    "\n",
    "item_attr = data['items_datastore'].dataframe.df\n",
    "user_attr = data['users_datastore'].dataframe.df\n",
    "scheme_relations = data['relations_datastore'].scheme\n",
    "scheme_items = data['items_datastore'].scheme\n",
    "scheme_users = data['users_datastore'].scheme\n",
    "\n",
    "train_data = graph['train_data']\n",
    "valid_data = graph['valid_data']\n",
    "\n",
    "user_shape = train_data['user'].x.shape\n",
    "app_shape = train_data['app'].x.shape\n",
    "\n",
    "valid_set = knowledge_graph[\"valid_set\"]\n",
    "ripple_sets_valid = knowledge_graph['ripple_sets_valid']\n",
    "RELATIONS_MAP = knowledge_graph[\"relations_map\"]\n",
    "ENTITY_MAP = knowledge_graph[\"entity_map\"]"
   ]
  },
  {
   "cell_type": "code",
   "execution_count": 122,
   "id": "5afdf23c-4ab3-456b-94a2-4d775a54613c",
   "metadata": {},
   "outputs": [],
   "source": [
    "sigmoid = lambda x: 1 / (1 + np.exp(-x))"
   ]
  },
  {
   "cell_type": "code",
   "execution_count": null,
   "id": "8dbdda32-de27-4ffb-b3c6-6e4196ced082",
   "metadata": {},
   "outputs": [],
   "source": []
  },
  {
   "cell_type": "code",
   "execution_count": 123,
   "id": "85dbdf37-31d8-43f5-aca8-8f7af35c38ea",
   "metadata": {},
   "outputs": [],
   "source": [
    "# DeepFM (complex)\n",
    "\n",
    "model_path = \"runs/DeepFM/2024-01-11_20-07-25/model.pth\"\n",
    "log_dir = os.path.dirname(model_path)\n",
    "model_name = os.path.basename(os.path.dirname(log_dir))\n",
    "\n",
    "feature_store = FeatureStore(scheme_relations, scheme_items, scheme_users,\n",
    "                                     emb_dims={\"sparse\": 16, \"varlen\": 16})\n",
    "model_cls = DeepFM\n",
    "model_kwargs = {\n",
    "    \"feature_store\": feature_store,\n",
    "    \"hidden_dim\": [128, 64],\n",
    "    \"device\": device\n",
    "}\n",
    "eval_dataset = IterableDatasetTest(feature_store, user_attr, item_attr, user_batch_size=int(1))\n",
    "eval_loader = DataLoader(eval_dataset, shuffle=False, batch_size=1, collate_fn=collate_fn, drop_last=False)\n",
    "model = load_model(\n",
    "    cls=model_cls,\n",
    "    model_path=model_path,\n",
    "    model_kwargs=model_kwargs,\n",
    "    device=device\n",
    ")\n",
    "model.eval()\n",
    "\n",
    "batch_user = next(iter(eval_loader)).to(device)"
   ]
  },
  {
   "cell_type": "code",
   "execution_count": 124,
   "id": "f089cb33-c090-4ead-8db5-81d479ef797f",
   "metadata": {},
   "outputs": [
    {
     "name": "stdout",
     "output_type": "stream",
     "text": [
      "2.92 ms ± 1.07 ms per loop (mean ± std. dev. of 7 runs, 20 loops each)\n"
     ]
    }
   ],
   "source": [
    "%%timeit -n 20 -r 7\n",
    "with torch.no_grad():\n",
    "    output = model(batch_user).sigmoid()"
   ]
  },
  {
   "cell_type": "code",
   "execution_count": null,
   "id": "e908250a-a78a-4212-bef9-24651eea88d3",
   "metadata": {},
   "outputs": [],
   "source": []
  },
  {
   "cell_type": "code",
   "execution_count": null,
   "id": "98b791f9-e3d3-49a4-b1c8-2cd585fb64e9",
   "metadata": {},
   "outputs": [],
   "source": []
  },
  {
   "cell_type": "code",
   "execution_count": 11,
   "id": "4aab8bde-4ce2-499d-8419-15c56f2ea6fc",
   "metadata": {},
   "outputs": [],
   "source": [
    "# DeepFM\n",
    "\n",
    "model_path = \"runs/DeepFM/2024-01-11_20-32-34/model.pth\"\n",
    "log_dir = os.path.dirname(model_path)\n",
    "model_name = os.path.basename(os.path.dirname(log_dir))\n",
    "\n",
    "feature_store = FeatureStore(scheme_relations, scheme_items, scheme_users,\n",
    "                                     emb_dims={\"sparse\": 4, \"varlen\": 4})\n",
    "model_cls = DeepFM\n",
    "model_kwargs = {\n",
    "    \"feature_store\": feature_store,\n",
    "    \"hidden_dim\": [64, 16],\n",
    "    \"device\": device\n",
    "}\n",
    "eval_dataset = IterableDatasetTest(feature_store, user_attr, item_attr, user_batch_size=int(1))\n",
    "eval_loader = DataLoader(eval_dataset, shuffle=False, batch_size=1, collate_fn=collate_fn, drop_last=False)\n",
    "model = load_model(\n",
    "    cls=model_cls,\n",
    "    model_path=model_path,\n",
    "    model_kwargs=model_kwargs,\n",
    "    device=device\n",
    ")\n",
    "model.eval()\n",
    "\n",
    "batch_user = next(iter(eval_loader)).to(device)"
   ]
  },
  {
   "cell_type": "code",
   "execution_count": 126,
   "id": "558df52a-98e5-4def-9475-e21fdfbb2922",
   "metadata": {},
   "outputs": [
    {
     "name": "stdout",
     "output_type": "stream",
     "text": [
      "1.8 ms ± 40.8 µs per loop (mean ± std. dev. of 7 runs, 20 loops each)\n"
     ]
    }
   ],
   "source": [
    "%%timeit -n 20 -r 7\n",
    "with torch.no_grad():\n",
    "    output = model(batch_user).sigmoid()"
   ]
  },
  {
   "cell_type": "code",
   "execution_count": null,
   "id": "0fde3841-8aaf-4036-9251-7b49e106f087",
   "metadata": {},
   "outputs": [],
   "source": []
  },
  {
   "cell_type": "code",
   "execution_count": 127,
   "id": "8a5468d3-495a-4aac-bc11-3baa14825a17",
   "metadata": {},
   "outputs": [],
   "source": [
    "# MF\n",
    "\n",
    "model_path = \"runs/MF/2024-01-07_22-57-42/model.pth\"\n",
    "log_dir = os.path.dirname(model_path)\n",
    "model_name = os.path.basename(os.path.dirname(log_dir))\n",
    "\n",
    "scheme_items.features, scheme_users.features = [], []\n",
    "feature_store = FeatureStore(scheme_relations, scheme_items, scheme_users,\n",
    "                             emb_dims={\"sparse\": 16, \"varlen\": 16})\n",
    "model_cls = MF\n",
    "model_kwargs = {\n",
    "    \"feature_store\": feature_store,\n",
    "    \"device\": device\n",
    "}\n",
    "eval_dataset = FeaturelessIterableDatasetTest(user_attr.shape[0], item_attr.shape[0], user_batch_size=int(1))\n",
    "eval_loader = DataLoader(eval_dataset, shuffle=False, batch_size=1, collate_fn=collate_fn, drop_last=False)\n",
    "model = load_model(\n",
    "    cls=model_cls,\n",
    "    model_path=model_path,\n",
    "    model_kwargs=model_kwargs,\n",
    "    device=device\n",
    ")\n",
    "model.eval()\n",
    "\n",
    "batch_user = next(iter(eval_loader)).to(device)"
   ]
  },
  {
   "cell_type": "code",
   "execution_count": 128,
   "id": "181e8952-44c0-4610-a3cb-8141cf4889ad",
   "metadata": {},
   "outputs": [
    {
     "name": "stdout",
     "output_type": "stream",
     "text": [
      "306 µs ± 7.89 µs per loop (mean ± std. dev. of 7 runs, 20 loops each)\n"
     ]
    }
   ],
   "source": [
    "%%timeit -n 20 -r 7\n",
    "with torch.no_grad():\n",
    "    output = model(batch_user).sigmoid()"
   ]
  },
  {
   "cell_type": "code",
   "execution_count": null,
   "id": "d0848bb1-3a16-4e42-9ee4-18ea5f62b035",
   "metadata": {},
   "outputs": [],
   "source": []
  },
  {
   "cell_type": "code",
   "execution_count": 24,
   "id": "d20aea8c-dab6-4ca0-a990-b93e8f5222c4",
   "metadata": {},
   "outputs": [],
   "source": [
    "# GraphSAGE\n",
    "\n",
    "model_path = \"runs/GraphSAGE/2024-01-11_20-48-39/model.pth\"\n",
    "gnn_model = GraphSAGE(hidden_channels=32, out_channels=32)\n",
    "model = load_model(\n",
    "    cls=GNN,\n",
    "    model_path=model_path,\n",
    "    model_kwargs={\n",
    "        \"gnn_model\": gnn_model,\n",
    "        \"entities_shapes\": {\"user\": user_shape, \"app\": app_shape},\n",
    "        \"hidden_channels\": 32,\n",
    "        \"metadata\": train_data.metadata()\n",
    "    },\n",
    "    device=device\n",
    ")\n",
    "model_emb_matrix = model.evaluate(valid_data.to(device))\n",
    "\n",
    "user_emb = model_emb_matrix['user'][0].cpu().numpy()\n",
    "items_emb = model_emb_matrix['app'].transpose(0, 1).cpu().numpy()"
   ]
  },
  {
   "cell_type": "code",
   "execution_count": 96,
   "id": "bcd9753e-f3b8-4728-a4d4-67c21e49e193",
   "metadata": {},
   "outputs": [
    {
     "name": "stdout",
     "output_type": "stream",
     "text": [
      "139 µs ± 32.6 µs per loop (mean ± std. dev. of 7 runs, 20 loops each)\n"
     ]
    }
   ],
   "source": [
    "%%timeit -n 20 -r 7\n",
    "with torch.no_grad():\n",
    "    output = sigmoid(np.dot(user_emb, items_emb))"
   ]
  },
  {
   "cell_type": "code",
   "execution_count": null,
   "id": "a1dac794-7225-4ec3-b141-f7d8214156dd",
   "metadata": {},
   "outputs": [],
   "source": []
  },
  {
   "cell_type": "code",
   "execution_count": 27,
   "id": "d1585749-56ee-4038-8e64-6155acb89bab",
   "metadata": {},
   "outputs": [],
   "source": [
    "# GATConv\n",
    "\n",
    "model_path = \"runs/GATConv/2024-01-11_21-05-06/model.pth\"\n",
    "gnn_model = GATConv(hidden_channels=32, out_channels=32)\n",
    "model = load_model(\n",
    "    cls=GNN,\n",
    "    model_path=model_path,\n",
    "    model_kwargs={\n",
    "        \"gnn_model\": gnn_model,\n",
    "        \"entities_shapes\": {\"user\": user_shape, \"app\": app_shape},\n",
    "        \"hidden_channels\": 32,\n",
    "        \"metadata\": train_data.metadata()\n",
    "    },\n",
    "    device=device\n",
    ")\n",
    "model_emb_matrix = model.evaluate(valid_data.to(device))\n",
    "\n",
    "user_emb = model_emb_matrix['user'][0].cpu().numpy()\n",
    "items_emb = model_emb_matrix['app'].transpose(0, 1).cpu().numpy()"
   ]
  },
  {
   "cell_type": "code",
   "execution_count": 119,
   "id": "3e5ff9b4-8139-4c17-9a36-536c1391f171",
   "metadata": {},
   "outputs": [
    {
     "name": "stdout",
     "output_type": "stream",
     "text": [
      "140 µs ± 39 µs per loop (mean ± std. dev. of 7 runs, 20 loops each)\n"
     ]
    }
   ],
   "source": [
    "%%timeit -n 20 -r 7\n",
    "with torch.no_grad():\n",
    "    output = sigmoid(np.dot(user_emb, items_emb))"
   ]
  },
  {
   "cell_type": "code",
   "execution_count": null,
   "id": "8c8f30c0-c0cf-4ca9-9615-289b89b49a6f",
   "metadata": {},
   "outputs": [],
   "source": []
  },
  {
   "cell_type": "code",
   "execution_count": 34,
   "id": "4bda4dd3-a06d-489f-beec-a25c2a81fddb",
   "metadata": {},
   "outputs": [],
   "source": [
    "# RippleNet\n",
    "model_path = \"runs/RippleNet/2024-01-11_21-44-36/model.pth\"\n",
    "model_cls = RippleNet\n",
    "model_kwargs = {\n",
    "    \"emb_dim\": 16,\n",
    "    \"n_relations\": 4,\n",
    "    \"n_entities\": max(ENTITY_MAP.values())\n",
    "}\n",
    "users = valid_set['user_id'].unique()\n",
    "items = np.arange(1231) + 1\n",
    "eval_dataset = IterableRippleDataset(users, items, ripple_sets_valid, int(1))\n",
    "eval_loader = DataLoader(eval_dataset, batch_size=1, shuffle=False, collate_fn=collate_fn_kg, drop_last=False, num_workers=1)\n",
    "model = load_model(\n",
    "    cls=model_cls,\n",
    "    model_path=model_path,\n",
    "    model_kwargs=model_kwargs,\n",
    "    device=device\n",
    ")\n",
    "\n",
    "edge_index, ripple_sets = next(iter(eval_loader))\n",
    "edge_index = edge_index.to(device)\n",
    "ripple_sets = [rs.to(device) for rs in ripple_sets]"
   ]
  },
  {
   "cell_type": "code",
   "execution_count": 94,
   "id": "383f60b8-4e4a-4a6e-9031-2477ac6d632f",
   "metadata": {},
   "outputs": [
    {
     "name": "stdout",
     "output_type": "stream",
     "text": [
      "The slowest run took 6.18 times longer than the fastest. This could mean that an intermediate result is being cached.\n",
      "3.62 ms ± 1.83 ms per loop (mean ± std. dev. of 7 runs, 20 loops each)\n"
     ]
    }
   ],
   "source": [
    "%%timeit -n 20 -r 7\n",
    "with torch.no_grad():\n",
    "    output = model(edge_index, ripple_sets).sigmoid()"
   ]
  },
  {
   "cell_type": "code",
   "execution_count": null,
   "id": "1e246c4a-3c6f-4b73-ad28-6fd108017f38",
   "metadata": {},
   "outputs": [],
   "source": []
  },
  {
   "cell_type": "code",
   "execution_count": null,
   "id": "4b8fdcc8-e65c-4bd2-8498-5ac02fbcb620",
   "metadata": {},
   "outputs": [],
   "source": [
    "  "
   ]
  }
 ],
 "metadata": {
  "kernelspec": {
   "display_name": "Python 3 (ipykernel)",
   "language": "python",
   "name": "python3"
  },
  "language_info": {
   "codemirror_mode": {
    "name": "ipython",
    "version": 3
   },
   "file_extension": ".py",
   "mimetype": "text/x-python",
   "name": "python",
   "nbconvert_exporter": "python",
   "pygments_lexer": "ipython3",
   "version": "3.10.4"
  }
 },
 "nbformat": 4,
 "nbformat_minor": 5
}
