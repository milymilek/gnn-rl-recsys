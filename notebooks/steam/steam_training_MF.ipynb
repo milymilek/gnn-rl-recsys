{
 "cells": [
  {
   "cell_type": "code",
   "execution_count": 1,
   "id": "77a88688-5214-4ead-a060-4df9633efd89",
   "metadata": {
    "tags": []
   },
   "outputs": [
    {
     "name": "stdout",
     "output_type": "stream",
     "text": [
      "C:\\Users\\Milosz\\Desktop\\python\\thesis-recsys\n"
     ]
    }
   ],
   "source": [
    "%load_ext autoreload\n",
    "%autoreload 2\n",
    "\n",
    "import os\n",
    "os.chdir(\"../../\")\n",
    "print(os.getcwd())"
   ]
  },
  {
   "cell_type": "code",
   "execution_count": 24,
   "id": "b41f0f27-4278-4c12-845c-2655b9edcad1",
   "metadata": {
    "tags": []
   },
   "outputs": [
    {
     "data": {
      "text/plain": [
       "<torch._C.Generator at 0x262a98d9490>"
      ]
     },
     "execution_count": 24,
     "metadata": {},
     "output_type": "execute_result"
    }
   ],
   "source": [
    "import pandas as pd\n",
    "import numpy as np\n",
    "import functools\n",
    "import operator\n",
    "import json\n",
    "import matplotlib.pyplot as plt\n",
    "from tqdm import tqdm\n",
    "from collections import namedtuple\n",
    "\n",
    "import torch\n",
    "import torch.nn.functional as F\n",
    "from torch import nn\n",
    "from torch.utils.data import Dataset, DataLoader\n",
    "from torch.utils.tensorboard import SummaryWriter\n",
    "\n",
    "from sklearn.metrics import roc_auc_score\n",
    "from sklearn.preprocessing import StandardScaler\n",
    "\n",
    "torch.set_printoptions(precision=2, sci_mode=False)\n",
    "torch.manual_seed(0)"
   ]
  },
  {
   "cell_type": "code",
   "execution_count": 3,
   "id": "3ec6ccb1-bebd-4890-adb6-64417a22ed65",
   "metadata": {
    "tags": []
   },
   "outputs": [
    {
     "name": "stdout",
     "output_type": "stream",
     "text": [
      "cuda\n"
     ]
    }
   ],
   "source": [
    "device = 'cuda' if torch.cuda.is_available() else 'cpu'\n",
    "print(device)"
   ]
  },
  {
   "cell_type": "code",
   "execution_count": null,
   "id": "0edc3aff-b82b-4caf-be81-08e9051d31b3",
   "metadata": {},
   "outputs": [],
   "source": []
  },
  {
   "cell_type": "code",
   "execution_count": 4,
   "id": "2af40eaa-9d12-46b3-8ffd-3115d7134536",
   "metadata": {
    "tags": []
   },
   "outputs": [],
   "source": [
    "import pickle\n",
    "with open(\"data/steam/data.pkl\", \"rb\") as f:\n",
    "    data = pickle.load(f)"
   ]
  },
  {
   "cell_type": "code",
   "execution_count": 5,
   "id": "0924f7d8-7845-40a4-b0e5-0b347ff45457",
   "metadata": {},
   "outputs": [],
   "source": [
    "user_col = 'user_id'\n",
    "item_col = 'app_id'\n",
    "train_set = data['train_set'][[user_col, item_col]].values.T\n",
    "supervision_set = data['supervision_set'][[user_col, item_col]].values.T\n",
    "valid_set = data['valid_set'][[user_col, item_col]].values.T\n",
    "user_attr = data['user_attr']\n",
    "item_attr = data['item_attr']\n",
    "\n",
    "train_set = np.concatenate([train_set, supervision_set], axis=1)"
   ]
  },
  {
   "cell_type": "code",
   "execution_count": null,
   "id": "ec240adc-0d43-4a65-b58c-16f2e5174f33",
   "metadata": {
    "jupyter": {
     "source_hidden": true
    },
    "tags": []
   },
   "outputs": [],
   "source": [
    "# scaler_user = StandardScaler()\n",
    "# user_attr_preprocess = scaler_user.fit_transform(user_attr)\n",
    "\n",
    "# scaler_item = StandardScaler()\n",
    "# item_attr_preprocess = np.copy(item_attr)\n",
    "# item_attr_preprocess[:, 435:] = scaler_item.fit_transform(item_attr[:, 435:])"
   ]
  },
  {
   "cell_type": "code",
   "execution_count": 28,
   "id": "1b5871bb-206d-4aee-bceb-6f3792188435",
   "metadata": {
    "tags": []
   },
   "outputs": [
    {
     "data": {
      "text/plain": [
       "array([1.0, 1.0, 1.0, 1.0, 0.0, 0.0, 0.0, 1.0, 0.0, 0.0, 96.0, 68327.0,\n",
       "       9.99, 9.99, 0.0,\n",
       "       list([130, 311, 1, 228, 322, 72, 16, 317, 139, 24, 320, 344, 36, 222, 22, 155, 20, 297, 108, 282])],\n",
       "      dtype=object)"
      ]
     },
     "execution_count": 28,
     "metadata": {},
     "output_type": "execute_result"
    }
   ],
   "source": [
    "item_attr[10]"
   ]
  },
  {
   "cell_type": "code",
   "execution_count": 29,
   "id": "686299d7-371c-46a0-bf2f-2282b7cfb8b5",
   "metadata": {
    "tags": []
   },
   "outputs": [],
   "source": [
    "scheme = {\n",
    "    \"user_id\": {\n",
    "        \"emb_dim\": 8,\n",
    "        \"num_emb\": user_attr.shape[0],\n",
    "        \"max_len\": 1,\n",
    "        \"type\": 'sparse'\n",
    "    },\n",
    "    \"item_id\": {\n",
    "        \"emb_dim\": 8,\n",
    "        \"num_emb\": item_attr.shape[0],\n",
    "        \"max_len\": 1,\n",
    "        \"type\": 'sparse'\n",
    "    },\n",
    "    \"tags\": {\n",
    "        \"emb_dim\": 8,\n",
    "        \"num_emb\": 425,\n",
    "        \"max_len\": 20,\n",
    "        \"type\": 'varlen'\n",
    "    },\n",
    "    \"OS\": {\n",
    "        \"emb_dim\": 8,\n",
    "        \"num_emb\": 3,\n",
    "        \"max_len\": 3,\n",
    "        \"type\": 'varlen'\n",
    "    },\n",
    "    \"AvgCatRating\": {\n",
    "        \"emb_dim\": 8,\n",
    "        \"num_emb\": 6,\n",
    "        \"max_len\": 1,\n",
    "        \"type\": 'sparse'\n",
    "    }\n",
    "}\n",
    "\n",
    "class SparseFeat(namedtuple('SparseFeat', ['name', 'emb_dim', 'num_emb', \"max_len\", 'index'])):\n",
    "    def __new__(cls, name, emb_dim, num_emb, max_len, index):\n",
    "        return super(SparseFeat, cls).__new__(cls, name, emb_dim, num_emb, max_len, index)\n",
    "    \n",
    "class DenseFeat(namedtuple('DenseFeat', ['name', 'index'])):\n",
    "    def __new__(cls, name, index):\n",
    "        return super(DenseFeat, cls).__new__(cls, name, index)    \n",
    "    \n",
    "# class VarLenSparseFeat(namedtuple('VarLenSparseFeat', ['name', 'emb_dim', 'num_emb', \"max_len\", 'index'])):\n",
    "#     def __new__(cls, name, emb_dim, num_emb, max_len, index):\n",
    "#         return super(VarLenSparseFeat, cls).__new__(cls, name, emb_dim, num_emb, max_len, index)\n",
    "\n",
    "class FeatureVault:\n",
    "    def __init__(self, scheme):\n",
    "        self.features = {'sparse': [], 'dense': []}\n",
    "        \n",
    "        start = 0\n",
    "        for feat_name, feat in scheme.items():\n",
    "            if feat['type'] == 'sparse':\n",
    "                self.features['sparse'].append(SparseFeat(feat_name, feat['emb_dim'], feat['num_emb'], feat['max_len'], (start, start+feat['max_len'])))\n",
    "                start += feat['max_len'],\n",
    "            elif feat['type'] == 'dense':\n",
    "                self.features['dense'].append(DenseFeat(feat_name, (start, start+1)))\n",
    "                start += 1\n",
    "        \n",
    "    def input_len(self):\n",
    "        sparse_len = sum([f.emb_dim for f in self.features['sparse']])\n",
    "        dense_len = len(self.features['dense'])\n",
    "        return sparse_len + dense_len\n",
    "    \n",
    "    def emb_dim(self):\n",
    "        return 8\n",
    "    \n",
    "    def num_emb(self):\n",
    "        return sum([f.num_emb for f in self.features['sparse']])"
   ]
  },
  {
   "cell_type": "code",
   "execution_count": null,
   "id": "2134f765-d98d-47f3-9081-475824c6e263",
   "metadata": {},
   "outputs": [],
   "source": []
  },
  {
   "cell_type": "code",
   "execution_count": null,
   "id": "31739385-daee-4693-ad46-180eb9c775d8",
   "metadata": {
    "tags": []
   },
   "outputs": [],
   "source": [
    "class DeepFMDataset(Dataset):\n",
    "    def __init__(self, edge_index, user_attr, item_attr):\n",
    "        self.edge_index = edge_index\n",
    "        self.user_attr = user_attr\n",
    "        self.item_attr = item_attr\n",
    "        \n",
    "        self.users = edge_index[0]\n",
    "        self.items = edge_index[1]\n",
    "    \n",
    "    def __len__(self):\n",
    "        return self.edge_index.shape[1]\n",
    "    \n",
    "    def __getitem__(self, idx):\n",
    "        u_id = self.users[idx]\n",
    "        i_id = self.items[idx]\n",
    "        \n",
    "        u_attr = self.user_attr[u_id]\n",
    "        i_attr = self.item_attr[i_id]\n",
    "        \n",
    "        sparse_features = self._get_sparse_features(u_id, i_id, u_attr, i_attr)\n",
    "        dense_features = self._get_dense_features(u_attr, i_attr)\n",
    "        \n",
    "        return sparse_features, dense_features\n",
    "    \n",
    "    def _get_sparse_features(self, u_id, i_id, u_attr, i_attr):\n",
    "        return [u_id, i_id, \n",
    "    \n",
    "    def _get_dense_features(self, u_attr, i_attr):\n",
    "        return "
   ]
  },
  {
   "cell_type": "code",
   "execution_count": 21,
   "id": "dca648d8-4f41-4dfb-a0ce-1f8c062430b6",
   "metadata": {
    "tags": []
   },
   "outputs": [
    {
     "ename": "NameError",
     "evalue": "name 'DeepFMDataset' is not defined",
     "output_type": "error",
     "traceback": [
      "\u001b[1;31m---------------------------------------------------------------------------\u001b[0m",
      "\u001b[1;31mNameError\u001b[0m                                 Traceback (most recent call last)",
      "Cell \u001b[1;32mIn[21], line 1\u001b[0m\n\u001b[1;32m----> 1\u001b[0m dataset \u001b[38;5;241m=\u001b[39m \u001b[43mDeepFMDataset\u001b[49m(train_set, user_attr, item_attr)\n",
      "\u001b[1;31mNameError\u001b[0m: name 'DeepFMDataset' is not defined"
     ]
    }
   ],
   "source": [
    "dataset = DeepFMDataset(train_set, user_attr, item_attr)"
   ]
  },
  {
   "cell_type": "code",
   "execution_count": 22,
   "id": "316b388c-4b8e-437e-a316-b0dc27f01c08",
   "metadata": {
    "tags": []
   },
   "outputs": [
    {
     "ename": "NameError",
     "evalue": "name 'dataset' is not defined",
     "output_type": "error",
     "traceback": [
      "\u001b[1;31m---------------------------------------------------------------------------\u001b[0m",
      "\u001b[1;31mNameError\u001b[0m                                 Traceback (most recent call last)",
      "Cell \u001b[1;32mIn[22], line 1\u001b[0m\n\u001b[1;32m----> 1\u001b[0m \u001b[43mdataset\u001b[49m\n",
      "\u001b[1;31mNameError\u001b[0m: name 'dataset' is not defined"
     ]
    }
   ],
   "source": [
    "dataset"
   ]
  },
  {
   "cell_type": "code",
   "execution_count": null,
   "id": "9e89788e-35b0-4b42-b95a-e95d7156c7c8",
   "metadata": {
    "tags": []
   },
   "outputs": [],
   "source": [
    "class MF(nn.Module):\n",
    "    def __init__(self, n_users, n_items, emb_size):\n",
    "        super().__init__()\n",
    "        self.n_users = n_users\n",
    "        self.n_items = n_items\n",
    "        self.u = nn.Embedding(n_users, emb_size)\n",
    "        self.i = nn.Embedding(n_items, emb_size)\n",
    "        \n",
    "    def forward(self, ux, ix):\n",
    "        return torch.sum(self.u(ux) * self.i(ix), dim=1)\n",
    "        #return torch.sum((self.u(ux) * self.i(ix)).squeeze(1), dim=1)"
   ]
  },
  {
   "cell_type": "code",
   "execution_count": null,
   "id": "5b457ccb-6ee1-4871-9a51-7bf998e10929",
   "metadata": {
    "tags": []
   },
   "outputs": [],
   "source": [
    "train_dataset = DeepFMDataset(train_set, user_attr, item_attr_preprocess)"
   ]
  },
  {
   "cell_type": "code",
   "execution_count": null,
   "id": "6897b831-30f5-471a-b558-056d6a65ae1d",
   "metadata": {},
   "outputs": [],
   "source": []
  },
  {
   "cell_type": "code",
   "execution_count": null,
   "id": "3141a2b0-dc80-45c9-9f64-b0dc9b2882f5",
   "metadata": {},
   "outputs": [],
   "source": []
  },
  {
   "cell_type": "code",
   "execution_count": null,
   "id": "0870a85b-b7ac-4eb9-b49b-5b6caedf8fdf",
   "metadata": {
    "tags": []
   },
   "outputs": [],
   "source": [
    "features = FeatureVault(scheme)"
   ]
  },
  {
   "cell_type": "code",
   "execution_count": null,
   "id": "3875eff8-6a4d-42ac-a0b2-93cd1e0a3e7b",
   "metadata": {
    "tags": []
   },
   "outputs": [],
   "source": [
    "features.features"
   ]
  },
  {
   "cell_type": "code",
   "execution_count": null,
   "id": "501f9902-3592-4ce0-b29e-12d4c6102ee4",
   "metadata": {
    "tags": []
   },
   "outputs": [],
   "source": [
    "class CrossProductNet(nn.Module):\n",
    "    def forward(self, emb_x):\n",
    "        cross = emb_x @ emb_x.permute(1, 0)\n",
    "        triangle_lower_cross = torch.tril(cross, diagonal=-1)\n",
    "        return torch.sum(triangle_lower_cross)\n",
    "\n",
    "class MLP(nn.Module):\n",
    "    def __init__(self, input_dim, hidden_dim, dropout=0.1, batch_norm=True):\n",
    "        super(MLP, self).__init__()\n",
    "        \n",
    "        _layers = []\n",
    "        dims = [input_dim] + hidden_dim + [1]\n",
    "        for in_dim, out_dim in zip(dims, dims[1:]):\n",
    "            _layers.append(nn.Linear(in_dim, out_dim))\n",
    "            if batch_norm:\n",
    "                _layers.append(nn.BatchNorm1d(out_dim))\n",
    "            _layers.append(nn.ReLU())\n",
    "            _layers.append(nn.Dropout(p=dropout))\n",
    "\n",
    "        self.layers = nn.ModuleList(_layers)\n",
    "        \n",
    "    def forward(self, emb_x):\n",
    "        return self.layers(emb_x)\n",
    "    \n",
    "# class EmbeddingNet(nn.Module):\n",
    "#     def __init__(self, features):\n",
    "#         super(EmbeddingNet, self).__init__()\n",
    "#         _embeddings = {feat.name: nn.Embedding(feat.emb_values, feat.emb_dim) for feat in features}\n",
    "#         self.features = features\n",
    "#         self.embeddings = nn.ModuleDict(_embeddings)\n",
    "        \n",
    "#     def forward(self, x):\n",
    "#         emb = []\n",
    "#         for name, embed_matrix in self.embeddings.items():\n",
    "#             if isinstance(x[name], list):\n",
    "#                 emb.append(torch.sum(embed_matrix(torch.tensor(x[name])), axis=0))\n",
    "#             else:\n",
    "#                 emb.append(embed_matrix(torch.tensor(x[name])))\n",
    "#         return emb\n",
    "\n",
    "class EmbeddingNet(nn.Module):\n",
    "    def __init__(self, sparse_feat, varlen_feat, emb_dim):\n",
    "        super(EmbeddingNet, self).__init__()\n",
    "        self.sparse_emb = nn.Embedding(sparse_feat, emb_dim)\n",
    "        self.varlen_sparse_emb = nn.Embedding(varlen_feat, emb_dim)\n",
    "        \n",
    "        self.offsets_sparse = np.array((0, *np.cumsum(sparse_feat)[:-1]))\n",
    "        self.offsets_varlen = np.array((0, *np.cumsum(varlen_feat)[:-1]))\n",
    "        \n",
    "    def forward(self, x):\n",
    "        x = x + x.new_tensor(self.offsets).unsqueeze(0)\n",
    "        return self.embedding(x)       \n",
    "    \n",
    "class DeepFM(nn.Module):\n",
    "    def __init__(self, features, hidden_dim):\n",
    "        super(DeepFM, self).__init__()\n",
    "        self.features = features\n",
    "        \n",
    "        sparse_num_emb, varlen_num_emb = self.features.num_emb()\n",
    "        input_dim = self.features.input_len()\n",
    "        emb_dim = self.features.emb_dim()\n",
    "        \n",
    "        self.V = EmbeddingNet(sparse_num_emb, varlen_num_emb, emb_dim)\n",
    "        self.fm = CrossProductNet()\n",
    "        self.dnn = MLP(input_dim, hidden_dim)\n",
    "        \n",
    "    def forward(self, x):\n",
    "        x_sparse, x_varlen, x_dense = filter_input_types(x, self.features)\n",
    "        \n",
    "        x_emb = self.V(x_sparse_emb)\n",
    "        x = self.fm(x_emb) + self.dnn(x_emb)\n",
    "        return x"
   ]
  },
  {
   "cell_type": "code",
   "execution_count": null,
   "id": "f9b60322-6a67-44f3-a842-4108362cdc8d",
   "metadata": {},
   "outputs": [],
   "source": [
    "model = DeepFM(features, hidden_dim=[128,64])"
   ]
  },
  {
   "cell_type": "code",
   "execution_count": null,
   "id": "9bcd6081-ce07-4dae-994b-c089d2c5eaa5",
   "metadata": {
    "tags": []
   },
   "outputs": [],
   "source": [
    "torch.tensor([[1,2,3], [4,5,6], [7,8,9]])[[1,2]]"
   ]
  },
  {
   "cell_type": "code",
   "execution_count": null,
   "id": "c03b9834-c97c-4a32-85f7-e03fd51deddc",
   "metadata": {
    "tags": []
   },
   "outputs": [],
   "source": [
    "model"
   ]
  },
  {
   "cell_type": "code",
   "execution_count": null,
   "id": "57202cec-db0d-47a3-a23b-4cc8851573b0",
   "metadata": {
    "tags": []
   },
   "outputs": [],
   "source": [
    "features.features"
   ]
  },
  {
   "cell_type": "code",
   "execution_count": null,
   "id": "65451b50-2b21-4b72-8954-95c53faf8f27",
   "metadata": {
    "scrolled": true,
    "tags": []
   },
   "outputs": [],
   "source": [
    "train_dataset[9432]"
   ]
  },
  {
   "cell_type": "code",
   "execution_count": null,
   "id": "d0114530-1d6a-4353-8167-2683b2a31d6c",
   "metadata": {
    "tags": []
   },
   "outputs": [],
   "source": [
    "filter_input_types(train_dataset[9432], features)"
   ]
  },
  {
   "cell_type": "code",
   "execution_count": null,
   "id": "431a6d8a-4aec-4366-a39b-7f8fad51e9a1",
   "metadata": {},
   "outputs": [],
   "source": [
    "def filter_input_types(x, features):\n",
    "    feats_tensors = []\n",
    "    for feat_type, feat_list in features.features.items():\n",
    "        lst = []\n",
    "        for feat in feat_list:\n",
    "            lst.append(x[feat.index[0]:feat.index[1]])\n",
    "        feats_tensors.append(torch.cat(lst) if lst else [])\n",
    "    return feats_tensors"
   ]
  },
  {
   "cell_type": "code",
   "execution_count": null,
   "id": "9704dadb-a8d7-4257-abaa-4eeb8479c77e",
   "metadata": {
    "tags": []
   },
   "outputs": [],
   "source": [
    "e = EmbeddingNet([f.num_emb for f in features], 8)"
   ]
  },
  {
   "cell_type": "code",
   "execution_count": null,
   "id": "da8d2037-ff6b-4cea-bfc8-b3524fd6ae50",
   "metadata": {
    "tags": []
   },
   "outputs": [],
   "source": [
    "np.array((0, *np.cumsum([f.num_emb for f in features])[:-1]))"
   ]
  },
  {
   "cell_type": "code",
   "execution_count": null,
   "id": "2937ac4f-e444-44c8-b70b-8c52cfc65fa5",
   "metadata": {
    "tags": []
   },
   "outputs": [],
   "source": [
    "[f.num_emb for f in features]"
   ]
  },
  {
   "cell_type": "code",
   "execution_count": null,
   "id": "8fe8c38a-3050-438d-a96d-f4666c214028",
   "metadata": {
    "tags": []
   },
   "outputs": [],
   "source": [
    "e.offsets"
   ]
  },
  {
   "cell_type": "code",
   "execution_count": null,
   "id": "ccf2499c-ce55-4ec8-9144-37e9dad129ca",
   "metadata": {
    "tags": []
   },
   "outputs": [],
   "source": [
    "torch.arange(20).new_tensor([0, 5, 10]).unsqueeze(0)"
   ]
  },
  {
   "cell_type": "code",
   "execution_count": null,
   "id": "3948e919-3d98-4e28-9f78-8ed8cad9b90d",
   "metadata": {
    "tags": []
   },
   "outputs": [],
   "source": [
    "x_input = {\n",
    "    \"user_id\": 5,\n",
    "    \"item_id\": 20,\n",
    "    \"tags\": [0, 5, 8, 100],\n",
    "    \"OS\": [0, 1],\n",
    "    \"AvgCatRating\": 3 \n",
    "}\n",
    "x_input_tensor = torch.tensor([5, \n",
    "                               20, \n",
    "                               0, 5, 8, 100,\n",
    "                               0, 1,\n",
    "                               3\n",
    "                              ])"
   ]
  },
  {
   "cell_type": "code",
   "execution_count": null,
   "id": "4b952a6b-4128-4cdf-a76c-b59b27a5421f",
   "metadata": {
    "tags": []
   },
   "outputs": [],
   "source": [
    "e(x_input)"
   ]
  },
  {
   "cell_type": "code",
   "execution_count": null,
   "id": "f2608366-6dfa-45bb-bf72-e1c4a4e55138",
   "metadata": {
    "tags": []
   },
   "outputs": [],
   "source": [
    "def approx_negative_sampling(u_id, i_id, n_samples, bs):\n",
    "    ind = torch.arange(bs).repeat(n_samples)\n",
    "    perm =  torch.randperm(ind.shape[0])\n",
    "    random_indices = ind[perm]\n",
    "    i_id_neg = i_id[random_indices]\n",
    "    \n",
    "    u_id = u_id.repeat(n_samples+1)\n",
    "    i_id = torch.cat([i_id, i_id_neg])\n",
    "    y_true = torch.cat([torch.ones(bs).to(device),\n",
    "                       torch.zeros(bs*n_samples).to(device)])\n",
    "    \n",
    "    return u_id, i_id, y_true"
   ]
  },
  {
   "cell_type": "code",
   "execution_count": null,
   "id": "1d8d8d8c-9497-4114-be44-dd32bf945e29",
   "metadata": {
    "tags": []
   },
   "outputs": [],
   "source": [
    "def train(n_epochs, print_loss=500):\n",
    "    model.train()\n",
    "    batch_size = train_loader.batch_size\n",
    "    \n",
    "    for epoch in range(n_epochs):\n",
    "        running_loss = 0.\n",
    "        preds, ground_truths = [], []\n",
    "        batch_print_loss = 0.\n",
    "        for i_batch, batch in enumerate(tqdm(train_loader)):\n",
    "            batch = [i.to(device) for i in batch]\n",
    "            u_id, i_id, u_attr, i_attr = batch\n",
    " \n",
    "            u_id, i_id, y_true = approx_negative_sampling(u_id, i_id, n_samples=2, bs=batch_size)\n",
    "            \n",
    "            y_pred = model(u_id, i_id)\n",
    "            loss = criterion(y_pred, y_true)\n",
    "            optimizer.zero_grad()\n",
    "            loss.backward()\n",
    "            optimizer.step()\n",
    "            \n",
    "            preds.append(y_pred)\n",
    "            ground_truths.append(y_true)\n",
    "            running_loss += loss.item()\n",
    "            \n",
    "            if not ((i_batch+1) % print_loss):\n",
    "                pred = torch.cat(preds, dim=0).detach().sigmoid().cpu().numpy()\n",
    "                ground_truth = torch.cat(ground_truths, dim=0).detach().cpu().numpy()\n",
    "                last_loss = running_loss / print_loss\n",
    "                \n",
    "                train_roc_auc = roc_auc_score(ground_truth, pred)\n",
    "                test_loss, test_roc_auc = test()\n",
    "                \n",
    "                preds, ground_truths = [], []\n",
    "                running_loss = 0.\n",
    "                \n",
    "                print(f\"batch <{i_batch}>\\ntrain_loss: {last_loss} - train_roc_auc: {train_roc_auc}\\ntest_loss: {test_loss} - test_roc_auc: {test_roc_auc}\\n\")\n",
    "        print(f\"Epoch: {epoch}, Loss: {running_loss / len(train_loader):.4f}\")"
   ]
  },
  {
   "cell_type": "code",
   "execution_count": null,
   "id": "4d79f0cd-9f28-498a-b764-cf0fb3117f15",
   "metadata": {
    "tags": []
   },
   "outputs": [],
   "source": [
    "@torch.no_grad()\n",
    "def test():\n",
    "    model.eval()\n",
    "    batch_size = val_loader.batch_size\n",
    "    \n",
    "    running_loss = 0.\n",
    "    preds, ground_truths = [], []\n",
    "\n",
    "    for i_batch, batch in enumerate(tqdm(val_loader)):\n",
    "        batch = [i.to(device) for i in batch]\n",
    "        u_id, i_id, u_attr, i_attr = batch\n",
    "        \n",
    "        u_id, i_id, y_true = approx_negative_sampling(u_id, i_id, n_samples=2, bs=batch_size)\n",
    "\n",
    "        y_pred = model(u_id, i_id)\n",
    "        loss = criterion(y_pred, y_true)\n",
    "        \n",
    "        preds.append(y_pred)\n",
    "        ground_truths.append(y_true)\n",
    "        running_loss += loss.item()\n",
    "        \n",
    "    pred = torch.cat(preds, dim=0).cpu().numpy()\n",
    "    ground_truth = torch.cat(ground_truths, dim=0).cpu().numpy()\n",
    "    \n",
    "    test_loss = running_loss / len(val_loader)\n",
    "    test_score = roc_auc_score(ground_truth, pred)\n",
    "\n",
    "    return test_loss, test_score"
   ]
  },
  {
   "cell_type": "code",
   "execution_count": null,
   "id": "29807538-6259-4fed-819b-acab8341ba21",
   "metadata": {
    "tags": []
   },
   "outputs": [],
   "source": [
    "train_dataset = MFDataset(train_set, data['user_attr'], data['item_attr'])\n",
    "train_loader = DataLoader(train_dataset, batch_size=1024, shuffle=True, drop_last=True)\n",
    "\n",
    "val_dataset = MFDataset(valid_set, data['user_attr'], data['item_attr'])\n",
    "val_loader = DataLoader(val_dataset, batch_size=1024, shuffle=False, drop_last=True)"
   ]
  },
  {
   "cell_type": "code",
   "execution_count": null,
   "id": "ad7e7247-d351-4d12-ad27-2b072f322bf8",
   "metadata": {
    "tags": []
   },
   "outputs": [],
   "source": [
    "n_users, n_items = user_attr.shape[0], item_attr.shape[0]\n",
    "\n",
    "model = MF(n_users, n_items, emb_size=32)\n",
    "model = model.to(device)"
   ]
  },
  {
   "cell_type": "code",
   "execution_count": null,
   "id": "42106db4-3626-44c7-b088-4fa4fd1144c9",
   "metadata": {
    "tags": []
   },
   "outputs": [],
   "source": [
    "criterion = nn.BCEWithLogitsLoss()\n",
    "#optimizer = torch.optim.Adam(params=model.parameters(), lr=1e-3)\n",
    "optimizer = torch.optim.RMSprop(params=model.parameters(), lr=1e-4, momentum=0.9)"
   ]
  },
  {
   "cell_type": "code",
   "execution_count": null,
   "id": "a2f3c283-8dc0-4ea2-bc2f-6cc6ee1e9116",
   "metadata": {
    "scrolled": true,
    "tags": []
   },
   "outputs": [],
   "source": [
    "train(n_epochs=10, print_loss=1000)"
   ]
  },
  {
   "cell_type": "code",
   "execution_count": null,
   "id": "c0f3a58e-b222-4c5c-8aa4-6f3cd8be8b4c",
   "metadata": {
    "tags": []
   },
   "outputs": [],
   "source": [
    "model"
   ]
  },
  {
   "cell_type": "code",
   "execution_count": null,
   "id": "cabdfbbb-1002-4098-81a9-b00b4da58d59",
   "metadata": {
    "tags": []
   },
   "outputs": [],
   "source": [
    "test()"
   ]
  },
  {
   "cell_type": "code",
   "execution_count": null,
   "id": "4cfecea9-ed11-42d9-87e3-c338303fa39d",
   "metadata": {
    "tags": []
   },
   "outputs": [],
   "source": [
    "with torch.no_grad():\n",
    "    batch_size = train_loader.batch_size\n",
    "    batch = next(iter(train_loader))\n",
    "    batch = [i.to(device) for i in batch]\n",
    "    u_id, i_id, u_attr, i_attr = batch\n",
    "    \n",
    "    neg_item_idx = approx_negative_sampling(i_id, bs=batch_size)\n",
    "\n",
    "    u_id = torch.cat([u_id, u_id])\n",
    "    i_id = torch.cat([i_id, neg_item_idx])\n",
    "    y_true = torch.cat([torch.ones(batch_size).to(device),\n",
    "                        torch.zeros(batch_size).to(device)])\n",
    "\n",
    "    y_pred = model(u_id, i_id)\n",
    "    \n",
    "    print(y_pred.sigmoid(), y_true)"
   ]
  },
  {
   "cell_type": "code",
   "execution_count": null,
   "id": "61ca6fe9-55a6-4b7b-9ef6-48c1ef92aa5e",
   "metadata": {
    "tags": []
   },
   "outputs": [],
   "source": [
    "criterion(y_pred, y_true)"
   ]
  },
  {
   "cell_type": "code",
   "execution_count": null,
   "id": "f7372b8f-3328-4d4f-a27d-bee6c00f76cf",
   "metadata": {},
   "outputs": [],
   "source": []
  },
  {
   "cell_type": "code",
   "execution_count": null,
   "id": "10dd7dd4-b196-4540-8eef-843f90ef523c",
   "metadata": {
    "tags": []
   },
   "outputs": [],
   "source": [
    "def save_model(model, path):\n",
    "    torch.save(model.state_dict(), path)\n",
    "    \n",
    "def load_model(path):\n",
    "    model = MF(n_users, n_items, emb_size=32)\n",
    "    model.load_state_dict(torch.load(path))\n",
    "    model = model.to(device)\n",
    "    return model"
   ]
  },
  {
   "cell_type": "code",
   "execution_count": null,
   "id": "b3819672-0ed1-4ab9-bd16-076184652243",
   "metadata": {
    "tags": []
   },
   "outputs": [],
   "source": [
    "#save_model(model, \"models/mf_01.pth\")"
   ]
  },
  {
   "cell_type": "code",
   "execution_count": null,
   "id": "abd189a9-8169-4bdf-b78a-9644f762fb17",
   "metadata": {
    "tags": []
   },
   "outputs": [],
   "source": [
    "model = load_model(\"models/mf_01.pth\")"
   ]
  },
  {
   "cell_type": "code",
   "execution_count": null,
   "id": "ede86748-35de-4d84-a8ba-f85d868184ec",
   "metadata": {},
   "outputs": [],
   "source": [
    "from reco_env import RecoEnv\n",
    "from utils import import_data_for_env\n",
    "import gym"
   ]
  },
  {
   "cell_type": "code",
   "execution_count": null,
   "id": "05327d09-72eb-49c7-b89a-855d078c9bd4",
   "metadata": {
    "tags": []
   },
   "outputs": [],
   "source": [
    "env = gym.make(RecoEnv.id, **import_data_for_env())"
   ]
  },
  {
   "cell_type": "code",
   "execution_count": null,
   "id": "84e172d7-f8dc-47c9-afd4-7e41ffac982f",
   "metadata": {},
   "outputs": [],
   "source": []
  },
  {
   "cell_type": "code",
   "execution_count": null,
   "id": "af5d11e8-775d-4c6b-aa99-898b13d1c969",
   "metadata": {
    "tags": []
   },
   "outputs": [],
   "source": [
    "vc = rec.user_id.value_counts()"
   ]
  },
  {
   "cell_type": "code",
   "execution_count": null,
   "id": "83ceea8a-8ecd-45db-b28f-162cfcfe12f5",
   "metadata": {
    "tags": []
   },
   "outputs": [],
   "source": [
    "vc"
   ]
  },
  {
   "cell_type": "code",
   "execution_count": null,
   "id": "c005e4e0-c465-40ee-b22e-a4e54b14173b",
   "metadata": {
    "tags": []
   },
   "outputs": [],
   "source": [
    "vc[vc >= 3]"
   ]
  },
  {
   "cell_type": "code",
   "execution_count": null,
   "id": "945d749a-43b7-4454-bd1e-b3e543020504",
   "metadata": {
    "tags": []
   },
   "outputs": [],
   "source": [
    "plt.plot(vc)"
   ]
  },
  {
   "cell_type": "code",
   "execution_count": null,
   "id": "c10cb107-3281-40c0-9037-fed34a026384",
   "metadata": {},
   "outputs": [],
   "source": []
  }
 ],
 "metadata": {
  "kernelspec": {
   "display_name": "Python 3 (ipykernel)",
   "language": "python",
   "name": "python3"
  },
  "language_info": {
   "codemirror_mode": {
    "name": "ipython",
    "version": 3
   },
   "file_extension": ".py",
   "mimetype": "text/x-python",
   "name": "python",
   "nbconvert_exporter": "python",
   "pygments_lexer": "ipython3",
   "version": "3.10.9"
  }
 },
 "nbformat": 4,
 "nbformat_minor": 5
}
