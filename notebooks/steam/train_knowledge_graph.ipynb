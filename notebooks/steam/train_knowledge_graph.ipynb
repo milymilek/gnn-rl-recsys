{
 "cells": [
  {
   "cell_type": "code",
   "execution_count": 1,
   "id": "921d9d3a-a470-47c6-8e73-e861a939758a",
   "metadata": {},
   "outputs": [
    {
     "name": "stdout",
     "output_type": "stream",
     "text": [
      "C:\\Users\\Milosz\\thesis-recsys\n"
     ]
    }
   ],
   "source": [
    "%load_ext autoreload\n",
    "%autoreload 2\n",
    "\n",
    "import os\n",
    "os.chdir(\"../../\")\n",
    "print(os.getcwd())"
   ]
  },
  {
   "cell_type": "code",
   "execution_count": 2,
   "id": "2d66140c-761c-44a9-b51b-02e4910076bf",
   "metadata": {},
   "outputs": [
    {
     "data": {
      "text/plain": [
       "<torch._C.Generator at 0x24104af99d0>"
      ]
     },
     "execution_count": 2,
     "metadata": {},
     "output_type": "execute_result"
    }
   ],
   "source": [
    "import pandas as pd\n",
    "import numpy as np\n",
    "import functools\n",
    "import operator\n",
    "import json\n",
    "import matplotlib.pyplot as plt\n",
    "from tqdm.notebook import tqdm\n",
    "import pickle\n",
    "\n",
    "import torch\n",
    "import torch.nn.functional as F\n",
    "from torch import nn\n",
    "from torch.utils.data import Dataset, DataLoader\n",
    "from torch.utils.tensorboard import SummaryWriter\n",
    "import torch_geometric\n",
    "import torch_geometric.transforms as T\n",
    "from torch_geometric.sampler import NegativeSampling\n",
    "from torch_geometric.loader import LinkNeighborLoader, NeighborLoader\n",
    "from torch_geometric.data import HeteroData\n",
    "from torch_geometric.utils import to_scipy_sparse_matrix\n",
    "\n",
    "from sklearn.metrics import roc_auc_score, confusion_matrix, ConfusionMatrixDisplay\n",
    "from sklearn.preprocessing import StandardScaler\n",
    "\n",
    "from models.gnn.sage import GraphSAGE\n",
    "from scripts.train_graph import train_epoch, test\n",
    "\n",
    "torch.set_printoptions(precision=2, sci_mode=False)\n",
    "torch.manual_seed(0)"
   ]
  },
  {
   "cell_type": "code",
   "execution_count": 3,
   "id": "5ec28c4a-ee82-49de-8e88-752971cf9bdb",
   "metadata": {},
   "outputs": [],
   "source": [
    "from ast import literal_eval\n",
    "from time import time"
   ]
  },
  {
   "cell_type": "code",
   "execution_count": 4,
   "id": "f23adbd5-55f9-4035-b712-b8564b86ac5e",
   "metadata": {},
   "outputs": [
    {
     "name": "stdout",
     "output_type": "stream",
     "text": [
      "cuda\n"
     ]
    }
   ],
   "source": [
    "dir_art = 'data/steam'\n",
    "device = 'cuda' if torch.cuda.is_available() else 'cpu'\n",
    "print(device)"
   ]
  },
  {
   "cell_type": "code",
   "execution_count": 5,
   "id": "866b5e33-6758-4d0a-9993-ea6d78211a30",
   "metadata": {},
   "outputs": [],
   "source": [
    "with open(os.path.join(dir_art, 'data.pkl'), \"rb\") as f:\n",
    "    data = pd.read_pickle(f)\n",
    "\n",
    "train_set = data['relations_datastore'].dataframe.train\n",
    "supervision_set = data['relations_datastore'].dataframe.supervision\n",
    "valid_set = data['relations_datastore'].dataframe.valid\n",
    "item_attr = data['items_datastore'].dataframe.df\n",
    "user_attr = data['users_datastore'].dataframe.df\n",
    "\n",
    "train_set = train_set.sort_values(by=['user_id', 'app_id']).reset_index(drop=True)\n",
    "supervision_set = supervision_set.sort_values(by=['user_id', 'app_id']).reset_index(drop=True)\n",
    "valid_set = valid_set.sort_values(by=['user_id', 'app_id']).reset_index(drop=True)\n",
    "\n",
    "train_set['app_id'] = train_set['app_id'] + 1\n",
    "supervision_set['app_id'] =supervision_set['app_id'] + 1\n",
    "valid_set['app_id'] = valid_set['app_id'] + 1\n",
    "\n",
    "train_users = supervision_set['user_id'].unique()\n",
    "valid_users = valid_set['user_id'].unique()"
   ]
  },
  {
   "cell_type": "code",
   "execution_count": 6,
   "id": "a0866d1a-c7b3-4ddf-b6ea-f44f60599c19",
   "metadata": {},
   "outputs": [],
   "source": [
    "RELATIONS = {\"developer\": \"developed\", \"publisher\": \"published\", \"OS\": \"system\", \"tags\": \"tag\"}\n",
    "RELATIONS_MAP = {k: v for v, k in enumerate([\"developed\", \"published\", \"system\", \"tag\"])}\n",
    "ENTITY_MAP = None"
   ]
  },
  {
   "cell_type": "code",
   "execution_count": 7,
   "id": "5508ef3e-9dd5-4501-b91e-b592aad1f453",
   "metadata": {},
   "outputs": [],
   "source": [
    "def read_items_data(path: str, path_additional: str, data: dict):\n",
    "    df_items = pd.read_csv(path)\n",
    "    df_items_additional_info = pd.read_csv(path_additional)[['appid', 'developer', 'publisher']].rename(\n",
    "        columns={\"appid\": \"app_id\"})\n",
    "    df_items[['win', 'mac', 'linux']] = df_items[['win', 'mac', 'linux']].astype(int)\n",
    "    df_items['OS'] = df_items[['win', 'mac', 'linux']].apply(lambda row: [row.index[i] for i, v in enumerate(row) if v],\n",
    "                                                             axis=1)\n",
    "    df_items['tags'] = df_items['tags'].apply(literal_eval)\n",
    "    df_merged = df_items.merge(df_items_additional_info, on=\"app_id\", how=\"left\")[\n",
    "        ['app_id', 'title', 'developer', 'publisher', 'OS', 'tags']]\n",
    "    df_merged['app_id'] = df_merged['app_id'].map(data['relations_datastore'].mapping['app_id'])\n",
    "    df_merged = df_merged.dropna(subset='app_id').sort_values(by='app_id')\n",
    "    df_merged['developer'] = df_merged['developer'].str.split(';')\n",
    "    df_merged['publisher'] = df_merged['publisher'].str.split(';')\n",
    "    return df_merged"
   ]
  },
  {
   "cell_type": "code",
   "execution_count": 8,
   "id": "d59bc90e-81ce-47e0-b568-826a4d6b0261",
   "metadata": {},
   "outputs": [],
   "source": [
    "def create_exploded_df(df: pd.DataFrame):\n",
    "    global ENTITY_MAP\n",
    "    df_exploded = []\n",
    "    for k, v in RELATIONS.items():\n",
    "        df_temp = df[['app_id', k]].explode(k).dropna()\n",
    "        df_temp['relation'] = v\n",
    "        df_temp['tail'] = df_temp[k]\n",
    "        df_temp['head'] = df_temp['app_id']\n",
    "        df_temp = df_temp[['head', 'relation', 'tail']]\n",
    "        df_exploded.append(df_temp)\n",
    "    df_exploded = pd.concat(df_exploded)\n",
    "    df_exploded['head'] = df_exploded['head'] + 1\n",
    "    df_exploded['relation'] = df_exploded['relation'].map(RELATIONS_MAP)\n",
    "    n_entities = df_exploded['head'].max()\n",
    "    ENTITY_MAP = {k: v for v, k in enumerate(df_exploded['tail'].unique(), int(n_entities)+1)}\n",
    "    df_exploded['tail'] = df_exploded['tail'].map(ENTITY_MAP)\n",
    "    return df_exploded.astype(int)"
   ]
  },
  {
   "cell_type": "code",
   "execution_count": 9,
   "id": "4d14b884-5cd4-4954-9306-73b4087b0820",
   "metadata": {},
   "outputs": [],
   "source": [
    "def get_user_item_list(edge_index: pd.DataFrame):\n",
    "    tqdm.pandas()\n",
    "    user_apps = edge_index.groupby(\"user_id\").progress_apply(lambda x: x['app_id'].values).values\n",
    "    return user_apps"
   ]
  },
  {
   "cell_type": "code",
   "execution_count": 10,
   "id": "6ad8081a-02d0-44d4-b4bf-c8510cf99c22",
   "metadata": {},
   "outputs": [],
   "source": [
    "def sample_paths(x, K=0.3):\n",
    "    unique, counts = np.unique(x['tail'].values, return_counts=True)\n",
    "    probabilities = counts / counts.sum()\n",
    "    random_tails = np.random.choice(np.arange(counts.shape[0]), size=min(max(int(counts.shape[0] * K), 1), 3), p=probabilities)\n",
    "    heads = unique[random_tails]\n",
    "    return heads"
   ]
  },
  {
   "cell_type": "code",
   "execution_count": 11,
   "id": "c6c8faae-ddb0-4872-998f-9948a455c1df",
   "metadata": {},
   "outputs": [],
   "source": [
    "def get_ripple_set1(df_exploded, user_apps, users):\n",
    "    if users is None:\n",
    "        users = np.arange(user_apps.shape[0])\n",
    "    \n",
    "    ripple_set1 = []\n",
    "    n_users = len(users)\n",
    "    for u in tqdm(users):\n",
    "        df_ripple_set1 = df_exploded[np.isin(df_exploded.values[:, 0], user_apps[u])] \\\n",
    "            .groupby(\"head\") \\\n",
    "            .apply(lambda x: x.sample(n=min(10, len(x)))).values\n",
    "        ripple_set1.append(df_ripple_set1)\n",
    "        \n",
    "    ripple_index = [i.shape[0] for i in ripple_set1]\n",
    "    ripple_index_1 = np.repeat(users, ripple_index)\n",
    "    ripple_index_2 = np.concatenate([np.arange(i) for i in ripple_index])\n",
    "    multiindex = pd.MultiIndex.from_arrays([ripple_index_1, ripple_index_2], names=['user_id', 'id'])\n",
    "    \n",
    "    df_ripple_set1 = pd.DataFrame(np.concatenate(ripple_set1), index=multiindex, columns=['heads', 'relations', 'tails'])\n",
    "\n",
    "    return df_ripple_set1"
   ]
  },
  {
   "cell_type": "code",
   "execution_count": 12,
   "id": "5293dbd8-4ad7-4dcf-b611-4f5e91f7b833",
   "metadata": {},
   "outputs": [],
   "source": [
    "def get_ripple_set2(df_exploded, df_ripple_set1, users):\n",
    "    if users is None:\n",
    "        users = np.arange(df_ripple_set1.shape[0])\n",
    "    \n",
    "    ripple_set2 = []\n",
    "    n_users = df_ripple_set1.index.get_level_values(0).nunique()\n",
    "    for u in tqdm(users):\n",
    "        dff = df_ripple_set1.loc[u]\n",
    "        heads = dff.groupby('relation').apply(sample_paths).explode().values\n",
    "        df_ripple_set2 = df_exploded[df_exploded['head'].isin(heads)] \\\n",
    "            .groupby('head') \\\n",
    "            .apply(lambda x: x.sample(n=min(10, len(x))))\n",
    "        df_ripple_set2 = df_ripple_set2[~df_ripple_set2['tail'].isin(dff['head'])].values\n",
    "        ripple_set2.append(df_ripple_set2)\n",
    "\n",
    "    ripple_index = [i.shape[0] for i in ripple_set2]\n",
    "    ripple_index_1 = np.repeat(users, ripple_index)\n",
    "    ripple_index_2 = np.concatenate([np.arange(i) for i in ripple_index])\n",
    "    multiindex = pd.MultiIndex.from_arrays([ripple_index_1, ripple_index_2], names=['user_id', 'id'])\n",
    "\n",
    "    df_ripple_set2 = pd.DataFrame(np.concatenate(ripple_set2), index=multiindex, columns=['head', 'relation', 'tail'])\n",
    "\n",
    "    return df_ripple_set2"
   ]
  },
  {
   "cell_type": "code",
   "execution_count": 13,
   "id": "aafeea5a-4259-4cd7-b4e0-8ba921e82b19",
   "metadata": {},
   "outputs": [
    {
     "name": "stdout",
     "output_type": "stream",
     "text": [
      "> Exploded DataFrame created\n"
     ]
    }
   ],
   "source": [
    "df_items = read_items_data(path=\"data/items.csv\", path_additional=\"data/steam.csv\", data=data)\n",
    "df_exploded = create_exploded_df(df_items)\n",
    "df_exploded2 = df_exploded.copy(deep=True)\n",
    "df_exploded2[['head', 'tail']] = df_exploded2[['tail', 'head']].values\n",
    "print(\"> Exploded DataFrame created\")"
   ]
  },
  {
   "cell_type": "code",
   "execution_count": 15,
   "id": "7e93e14d-03af-40cc-9a05-25580806e717",
   "metadata": {},
   "outputs": [
    {
     "data": {
      "text/html": [
       "<div>\n",
       "<style scoped>\n",
       "    .dataframe tbody tr th:only-of-type {\n",
       "        vertical-align: middle;\n",
       "    }\n",
       "\n",
       "    .dataframe tbody tr th {\n",
       "        vertical-align: top;\n",
       "    }\n",
       "\n",
       "    .dataframe thead th {\n",
       "        text-align: right;\n",
       "    }\n",
       "</style>\n",
       "<table border=\"1\" class=\"dataframe\">\n",
       "  <thead>\n",
       "    <tr style=\"text-align: right;\">\n",
       "      <th></th>\n",
       "      <th>head</th>\n",
       "      <th>relation</th>\n",
       "      <th>tail</th>\n",
       "    </tr>\n",
       "  </thead>\n",
       "  <tbody>\n",
       "    <tr>\n",
       "      <th>9695</th>\n",
       "      <td>1</td>\n",
       "      <td>0</td>\n",
       "      <td>1232</td>\n",
       "    </tr>\n",
       "    <tr>\n",
       "      <th>9695</th>\n",
       "      <td>1</td>\n",
       "      <td>0</td>\n",
       "      <td>1233</td>\n",
       "    </tr>\n",
       "    <tr>\n",
       "      <th>9695</th>\n",
       "      <td>1</td>\n",
       "      <td>0</td>\n",
       "      <td>1234</td>\n",
       "    </tr>\n",
       "    <tr>\n",
       "      <th>17005</th>\n",
       "      <td>2</td>\n",
       "      <td>0</td>\n",
       "      <td>1235</td>\n",
       "    </tr>\n",
       "    <tr>\n",
       "      <th>11952</th>\n",
       "      <td>3</td>\n",
       "      <td>0</td>\n",
       "      <td>1236</td>\n",
       "    </tr>\n",
       "    <tr>\n",
       "      <th>...</th>\n",
       "      <td>...</td>\n",
       "      <td>...</td>\n",
       "      <td>...</td>\n",
       "    </tr>\n",
       "    <tr>\n",
       "      <th>5484</th>\n",
       "      <td>1231</td>\n",
       "      <td>3</td>\n",
       "      <td>2326</td>\n",
       "    </tr>\n",
       "    <tr>\n",
       "      <th>5484</th>\n",
       "      <td>1231</td>\n",
       "      <td>3</td>\n",
       "      <td>2231</td>\n",
       "    </tr>\n",
       "    <tr>\n",
       "      <th>5484</th>\n",
       "      <td>1231</td>\n",
       "      <td>3</td>\n",
       "      <td>2240</td>\n",
       "    </tr>\n",
       "    <tr>\n",
       "      <th>5484</th>\n",
       "      <td>1231</td>\n",
       "      <td>3</td>\n",
       "      <td>2267</td>\n",
       "    </tr>\n",
       "    <tr>\n",
       "      <th>5484</th>\n",
       "      <td>1231</td>\n",
       "      <td>3</td>\n",
       "      <td>2234</td>\n",
       "    </tr>\n",
       "  </tbody>\n",
       "</table>\n",
       "<p>25536 rows × 3 columns</p>\n",
       "</div>"
      ],
      "text/plain": [
       "       head  relation  tail\n",
       "9695      1         0  1232\n",
       "9695      1         0  1233\n",
       "9695      1         0  1234\n",
       "17005     2         0  1235\n",
       "11952     3         0  1236\n",
       "...     ...       ...   ...\n",
       "5484   1231         3  2326\n",
       "5484   1231         3  2231\n",
       "5484   1231         3  2240\n",
       "5484   1231         3  2267\n",
       "5484   1231         3  2234\n",
       "\n",
       "[25536 rows x 3 columns]"
      ]
     },
     "execution_count": 15,
     "metadata": {},
     "output_type": "execute_result"
    }
   ],
   "source": [
    "df_exploded"
   ]
  },
  {
   "cell_type": "code",
   "execution_count": 87,
   "id": "be578ded-1909-4546-b5e3-8c8085488bac",
   "metadata": {},
   "outputs": [
    {
     "data": {
      "application/vnd.jupyter.widget-view+json": {
       "model_id": "63faa1e3ed674ee48b609fe916676872",
       "version_major": 2,
       "version_minor": 0
      },
      "text/plain": [
       "  0%|          | 0/3066721 [00:00<?, ?it/s]"
      ]
     },
     "metadata": {},
     "output_type": "display_data"
    },
    {
     "data": {
      "application/vnd.jupyter.widget-view+json": {
       "model_id": "12aa71ea61874298a59feefdc81316d1",
       "version_major": 2,
       "version_minor": 0
      },
      "text/plain": [
       "  0%|          | 0/3066721 [00:00<?, ?it/s]"
      ]
     },
     "metadata": {},
     "output_type": "display_data"
    },
    {
     "name": "stdout",
     "output_type": "stream",
     "text": [
      "> User-Items lists created\n"
     ]
    }
   ],
   "source": [
    "user_item_list_train = get_user_item_list(train_set)\n",
    "user_item_list_valid = get_user_item_list(pd.concat([train_set, supervision_set]))\n",
    "print(\"> User-Items lists created\")"
   ]
  },
  {
   "cell_type": "code",
   "execution_count": 7,
   "id": "6e7afc0d-a4ff-43bd-9d37-d2495140aa7a",
   "metadata": {},
   "outputs": [],
   "source": [
    "with open('data/steam/knowledge_graph.pkl', \"rb\") as f:\n",
    "    knowledge_graph = pd.read_pickle(f)\n",
    "    \n",
    "train_set = knowledge_graph[\"train_set\"]\n",
    "supervision_set = knowledge_graph[\"supervision_set\"]\n",
    "valid_set = knowledge_graph[\"valid_set\"]\n",
    "ripple_sets_train = knowledge_graph['ripple_sets_train']\n",
    "ripple_sets_valid = knowledge_graph['ripple_sets_valid']"
   ]
  },
  {
   "cell_type": "code",
   "execution_count": null,
   "id": "46d5bcbb-b0bc-41a7-9724-72a54d9be050",
   "metadata": {},
   "outputs": [],
   "source": []
  },
  {
   "cell_type": "code",
   "execution_count": null,
   "id": "9f9f8ff0-13ff-4ae5-9cb6-ca4bbb07c2de",
   "metadata": {},
   "outputs": [],
   "source": []
  },
  {
   "cell_type": "code",
   "execution_count": null,
   "id": "2cbf6e06-55b3-4316-a8ae-bc14f0a06bdc",
   "metadata": {},
   "outputs": [],
   "source": []
  },
  {
   "cell_type": "code",
   "execution_count": 111,
   "id": "520a398b-510c-480d-9541-65bc310478f8",
   "metadata": {
    "scrolled": true
   },
   "outputs": [
    {
     "data": {
      "application/vnd.jupyter.widget-view+json": {
       "model_id": "022c7ce72ea144edbe1bb23f4fbac294",
       "version_major": 2,
       "version_minor": 0
      },
      "text/plain": [
       "  0%|          | 0/3066721 [00:00<?, ?it/s]"
      ]
     },
     "metadata": {},
     "output_type": "display_data"
    },
    {
     "name": "stderr",
     "output_type": "stream",
     "text": [
      "\n",
      "KeyboardInterrupt\n",
      "\n"
     ]
    }
   ],
   "source": [
    "ripple_sets_train = []\n",
    "ripple_sets_train.append(get_ripple_set1(df_exploded=df_exploded, user_apps=user_item_list_train, users=train_users))\n",
    "ripple_sets_train.append(get_ripple_set2(df_exploded=df_exploded2, df_ripple_set1=ripple_sets_train[0], users=train_users))\n",
    "\n",
    "ripple_sets_valid = []\n",
    "ripple_sets_valid.append(get_ripple_set1(df_exploded=df_exploded, user_apps=user_item_list_valid, users=valid_users))\n",
    "ripple_sets_valid.append(get_ripple_set2(df_exploded=df_exploded2, df_ripple_set1=ripple_sets_valid[0], users=valid_users))\n",
    "print(\"> Ripple Sets created\")"
   ]
  },
  {
   "cell_type": "code",
   "execution_count": 82,
   "id": "ffa65172-777b-493e-b5a3-2417884d393b",
   "metadata": {},
   "outputs": [],
   "source": [
    "knowledge_graph = {\n",
    "    \"train_set\": train_set,\n",
    "    \"supervision_set\": supervision_set,\n",
    "    \"valid_set\": valid_set,\n",
    "    \"ripple_sets_train\": ripple_sets_train,\n",
    "    \"ripple_sets_valid\": ripple_sets_valid,\n",
    "    \"relations_map\": RELATIONS_MAP,\n",
    "    \"entity_map\": ENTITY_MAP\n",
    "}"
   ]
  },
  {
   "cell_type": "code",
   "execution_count": 83,
   "id": "4698dfc1-1b94-407b-ac8c-375a9fcdb7f8",
   "metadata": {},
   "outputs": [
    {
     "name": "stdout",
     "output_type": "stream",
     "text": [
      "> Knowledge Graph Saved\n"
     ]
    }
   ],
   "source": [
    "# with open(os.path.join(dir_art, \"knowledge_graph.pkl\"), \"wb\") as f:\n",
    "#     pickle.dump(knowledge_graph, f)\n",
    "# print(\"> Knowledge Graph Saved\")"
   ]
  },
  {
   "cell_type": "code",
   "execution_count": 8,
   "id": "2d7bd877-fc31-402c-bbd4-e4a4c28b66d5",
   "metadata": {},
   "outputs": [],
   "source": [
    "from torch.nn.utils.rnn import pad_sequence\n",
    "import torch.nn.functional as F"
   ]
  },
  {
   "cell_type": "code",
   "execution_count": 9,
   "id": "0bbef47b-8ed5-41a7-a1fa-b77e240c2349",
   "metadata": {},
   "outputs": [],
   "source": [
    "def collate_fn(batch):\n",
    "    edge_index, ripple_sets = zip(*batch)\n",
    "    edge_index = torch.tensor(np.array(edge_index))\n",
    "    \n",
    "    rs_pad_tensor = []\n",
    "    for i in range(2):\n",
    "        rs = [torch.tensor(rs[i]) for rs in ripple_sets]\n",
    "        rs_pad_tensor.append(pad_sequence(rs, batch_first=True, padding_value=0))\n",
    "            \n",
    "    return edge_index, rs_pad_tensor\n",
    "\n",
    "class RippleDataset(Dataset):\n",
    "    def __init__(self, edge_index, edge_label, ripple_sets):\n",
    "        super(RippleDataset).__init__()\n",
    "        self.edge_index = edge_index\n",
    "        self.edge_label = edge_label\n",
    "        self.df_ripple_set1 = ripple_sets[0]\n",
    "        self.df_ripple_set2 = ripple_sets[1]\n",
    "\n",
    "        self.n_users = ripple_sets[0].index.get_level_values(0).nunique()\n",
    "\n",
    "    def __len__(self):\n",
    "        return self.n_users\n",
    "\n",
    "    def __getitem__(self, idx):\n",
    "        #ei = self.edge_index.loc[idx].values\n",
    "        el = self.edge_label.loc[idx].values\n",
    "        ripple1 = self.df_ripple_set1.loc[el[0]]\n",
    "        ripple2 = self.df_ripple_set2.loc[el[0]]\n",
    "        \n",
    "        ripple1 = ripple1.sample(n=min(750, ripple1.shape[0])).values\n",
    "        ripple2 = ripple2.sample(n=min(750, ripple2.shape[0])).values\n",
    "\n",
    "        return el, [ripple1, ripple2]"
   ]
  },
  {
   "cell_type": "code",
   "execution_count": 10,
   "id": "6fb13f8d-4599-4c66-8396-4d46972fde67",
   "metadata": {
    "jupyter": {
     "source_hidden": true
    }
   },
   "outputs": [],
   "source": [
    "#vals = [train_dataset[i][1][0].shape for i in tqdm(df_ripple_set1.index.get_level_values(0).unique())]\n",
    "# import matplotlib.pyplot as plt\n",
    "\n",
    "# # Sample data\n",
    "# x = df_ripple_set1.index.get_level_values(0).unique()\n",
    "# y = vals\n",
    "\n",
    "# # Create a line plot\n",
    "# plt.plot(x, y)\n",
    "\n",
    "# # Add labels and title\n",
    "# plt.xlabel('X-axis Label')\n",
    "# plt.ylabel('Y-axis Label')\n",
    "# plt.title('Simple Line Plot')\n",
    "\n",
    "# # Show the plot\n",
    "# plt.show()\n"
   ]
  },
  {
   "cell_type": "code",
   "execution_count": 11,
   "id": "b15c084d-40c9-4413-a8ae-b1f1dd755afa",
   "metadata": {},
   "outputs": [],
   "source": [
    "class RippleNet(nn.Module):\n",
    "    def __init__(self, emb_dim, n_relations, n_entities):\n",
    "        super(RippleNet, self).__init__()\n",
    "        self.relation_emb = nn.Embedding(n_relations, emb_dim * emb_dim, padding_idx=0)\n",
    "        self.entity_emb = nn.Embedding(n_entities, emb_dim, padding_idx=0)\n",
    "\n",
    "        self.emb_dim = emb_dim\n",
    "        self.n_relations = n_relations\n",
    "        self.n_items = n_entities\n",
    "\n",
    "    def forward(self, edge_index, ripple_sets):\n",
    "        item_emb = self.entity_emb(edge_index[:, 1]).unsqueeze(-1)\n",
    "        u = torch.zeros_like(item_emb)\n",
    "        for ripple_set in ripple_sets:\n",
    "            R = self.relation_emb(ripple_set[:, :, 1]).view(ripple_set.shape[0], -1, self.emb_dim, self.emb_dim)\n",
    "            h = self.entity_emb(ripple_set[:, :, 0]).unsqueeze(-1)\n",
    "            Rh = torch.matmul(R, h).squeeze(-1)\n",
    "            vRh = torch.matmul(Rh, item_emb).squeeze(-1)\n",
    "            p = F.softmax(vRh, dim=1).unsqueeze(-1)\n",
    "            t = self.entity_emb(ripple_set[:, :, 0])\n",
    "            u += torch.sum(p * t, axis=1).unsqueeze(-1)\n",
    "\n",
    "        return torch.sum(u * item_emb, axis=1)"
   ]
  },
  {
   "cell_type": "code",
   "execution_count": 12,
   "id": "eb063ef6-583a-427a-85ad-4882c77abf99",
   "metadata": {},
   "outputs": [
    {
     "name": "stdout",
     "output_type": "stream",
     "text": [
      "[1966277 2653187]\n",
      "[]\n"
     ]
    }
   ],
   "source": [
    "train_rs0_users, train_rs1_users = (ripple_sets_train[i].index.get_level_values(0).unique() for i in range(2))\n",
    "valid_rs0_users, valid_rs1_users = (ripple_sets_valid[i].index.get_level_values(0).unique() for i in range(2))\n",
    "\n",
    "print(np.setdiff1d(train_rs0_users, train_rs1_users))\n",
    "print(np.setdiff1d(valid_rs0_users, valid_rs1_users))"
   ]
  },
  {
   "cell_type": "code",
   "execution_count": 13,
   "id": "a30d466a-f7cf-46de-bb89-862647b5d820",
   "metadata": {},
   "outputs": [
    {
     "data": {
      "text/plain": [
       "2563"
      ]
     },
     "execution_count": 13,
     "metadata": {},
     "output_type": "execute_result"
    }
   ],
   "source": [
    "max(knowledge_graph['entity_map'].values())"
   ]
  },
  {
   "cell_type": "code",
   "execution_count": 14,
   "id": "b39b3584-c5de-4aff-81d5-40f6b8a93baa",
   "metadata": {},
   "outputs": [],
   "source": [
    "ripple_sets_train[0] = ripple_sets_train[0].drop([1966277, 2653187])#.loc[1966277]\n",
    "ripple_sets_valid[0] = ripple_sets_valid[0].drop([1966277, 2653187])\n",
    "ripple_sets_valid[1] = ripple_sets_valid[1].drop([1966277, 2653187])\n",
    "supervision_set = supervision_set[~supervision_set['user_id'].isin([1966277, 2653187])].reset_index(drop=True)\n",
    "valid_set = valid_set[~valid_set['user_id'].isin([1966277, 2653187])].reset_index(drop=True)"
   ]
  },
  {
   "cell_type": "code",
   "execution_count": 15,
   "id": "d3e6587b-5338-41a6-9f43-a5a1622ca2e1",
   "metadata": {},
   "outputs": [],
   "source": [
    "train_dataset = RippleDataset(train_set, supervision_set, ripple_sets_train)\n",
    "train_loader = DataLoader(train_dataset, batch_size=1024, shuffle=True, collate_fn=collate_fn, drop_last=True, pin_memory=True, num_workers=2)\n",
    "\n",
    "valid_dataset = RippleDataset(pd.concat([train_set, supervision_set]), valid_set, ripple_sets_valid)\n",
    "valid_loader = DataLoader(valid_dataset, batch_size=1024, shuffle=True, collate_fn=collate_fn, drop_last=True)"
   ]
  },
  {
   "cell_type": "code",
   "execution_count": null,
   "id": "8d8cebac-0d85-4ed6-9364-bae93759f596",
   "metadata": {},
   "outputs": [],
   "source": [
    "if __name__ == \"__main__\":\n",
    "    next(iter(train_loader))"
   ]
  },
  {
   "cell_type": "code",
   "execution_count": null,
   "id": "b284a77c-e662-4c73-be44-37d9f40b3de3",
   "metadata": {},
   "outputs": [],
   "source": [
    "%%timeit -r 2\n",
    "next(iter(train_loader))"
   ]
  },
  {
   "cell_type": "code",
   "execution_count": null,
   "id": "59a9e092-0044-43da-be24-0c1f01be8850",
   "metadata": {},
   "outputs": [],
   "source": []
  },
  {
   "cell_type": "code",
   "execution_count": 69,
   "id": "0219fab5-28dc-4d9a-ac84-eecfb86ff373",
   "metadata": {},
   "outputs": [],
   "source": [
    "def train_epoch(model, criterion, optimizer, train_loader, device):\n",
    "    model.train()\n",
    "\n",
    "    running_loss = 0.\n",
    "    preds, ground_truths = [], []\n",
    "    for i_batch, (edge_index, ripple_sets) in enumerate(tqdm(train_loader)):\n",
    "        neg_sampl = edge_index.clone().repeat(2, 1)\n",
    "        neg_sampl[:, 1] = torch.randint(low=1, high=1232, size=(train_loader.batch_size*2, ))\n",
    "        edge_index = torch.cat([edge_index, neg_sampl]).to(device)\n",
    "        \n",
    "        ripple_sets = [rs.repeat(1+2,1,1).to(device) for rs in ripple_sets]\n",
    "        y_true = torch.cat([\n",
    "            torch.tensor([1.0] * train_loader.batch_size),\n",
    "            torch.tensor([0.0] * (train_loader.batch_size * 2))\n",
    "        ]).unsqueeze(-1).to(device)\n",
    "        \n",
    "        y_pred = model(edge_index, ripple_sets)\n",
    "        loss = criterion(y_pred, y_true)\n",
    "        optimizer.zero_grad()\n",
    "        loss.backward()\n",
    "        optimizer.step()\n",
    "\n",
    "        preds.append(y_pred)\n",
    "        ground_truths.append(y_true)\n",
    "        running_loss += loss.item()\n",
    "\n",
    "    pred = torch.cat(preds, dim=0).detach().sigmoid().cpu().numpy()\n",
    "    ground_truth = torch.cat(ground_truths, dim=0).detach().cpu().numpy()\n",
    "    train_loss = running_loss / len(train_loader)\n",
    "    train_roc_auc = roc_auc_score(ground_truth, pred)\n",
    "\n",
    "    return train_loss, train_roc_auc\n",
    "\n",
    "\n",
    "@torch.no_grad()\n",
    "def test(model, criterion, val_loader, device):\n",
    "    model.eval()\n",
    "\n",
    "    running_loss = 0.\n",
    "    preds, ground_truths = [], []\n",
    "\n",
    "    for i_batch, (edge_index, ripple_sets) in enumerate(tqdm(val_loader)):\n",
    "        neg_sampl = edge_index.clone().repeat(2, 1)\n",
    "        neg_sampl[:, 1] = torch.randint(low=1, high=1232, size=(train_loader.batch_size*2, ))\n",
    "        edge_index = torch.cat([edge_index, neg_sampl]).to(device)\n",
    "        \n",
    "        ripple_sets = [rs.repeat(1+2,1,1).to(device) for rs in ripple_sets]\n",
    "        y_true = torch.cat([\n",
    "            torch.tensor([1.0] * train_loader.batch_size),\n",
    "            torch.tensor([0.0] * (train_loader.batch_size * 2))\n",
    "        ]).unsqueeze(-1).to(device)\n",
    "\n",
    "        y_pred = model(edge_index, ripple_sets)\n",
    "        loss = criterion(y_pred, y_true)\n",
    "\n",
    "        preds.append(y_pred)\n",
    "        ground_truths.append(y_true)\n",
    "        running_loss += loss.item()\n",
    "\n",
    "    pred = torch.cat(preds, dim=0).sigmoid().cpu().numpy()\n",
    "    ground_truth = torch.cat(ground_truths, dim=0).cpu().numpy()\n",
    "\n",
    "    test_loss = running_loss / len(val_loader)\n",
    "    test_roc_auc = roc_auc_score(ground_truth, pred)\n",
    "\n",
    "    return test_loss, test_roc_auc"
   ]
  },
  {
   "cell_type": "code",
   "execution_count": 70,
   "id": "2de9ec75-cc60-41a8-b304-f12ec62e5998",
   "metadata": {},
   "outputs": [],
   "source": [
    "model = RippleNet(emb_dim=16, n_relations=4, n_entities=max(ENTITY_MAP.values())).to(device)\n",
    "criterion = nn.BCEWithLogitsLoss()\n",
    "optimizer = torch.optim.RMSprop(params=model.parameters(), lr=1e-4, momentum=0.9)"
   ]
  },
  {
   "cell_type": "code",
   "execution_count": 71,
   "id": "73a19111-9c03-4993-ab3f-d95c4329ecb0",
   "metadata": {},
   "outputs": [
    {
     "data": {
      "application/vnd.jupyter.widget-view+json": {
       "model_id": "a4650631740046079c6c0846b247f4e7",
       "version_major": 2,
       "version_minor": 0
      },
      "text/plain": [
       "  0%|          | 0/20 [00:00<?, ?it/s]"
      ]
     },
     "metadata": {},
     "output_type": "display_data"
    },
    {
     "data": {
      "application/vnd.jupyter.widget-view+json": {
       "model_id": "d42fc3bdeab44e7b912b55aabe3ebfd1",
       "version_major": 2,
       "version_minor": 0
      },
      "text/plain": [
       "  0%|          | 0/356 [00:00<?, ?it/s]"
      ]
     },
     "metadata": {},
     "output_type": "display_data"
    },
    {
     "data": {
      "application/vnd.jupyter.widget-view+json": {
       "model_id": "a30857fb53a34415a347309fc552ce20",
       "version_major": 2,
       "version_minor": 0
      },
      "text/plain": [
       "  0%|          | 0/282 [00:00<?, ?it/s]"
      ]
     },
     "metadata": {},
     "output_type": "display_data"
    },
    {
     "name": "stdout",
     "output_type": "stream",
     "text": [
      "Epoch <0>\n",
      "train_loss: 1.7840057186196359 - train_roc_auc: 0.5353931910107345\n",
      "test_loss: 1.5635305389444878 - test_roc_auc: 0.5586266506696201\n",
      "\n"
     ]
    },
    {
     "data": {
      "application/vnd.jupyter.widget-view+json": {
       "model_id": "2ce7ba951682441283236e45bb3bc083",
       "version_major": 2,
       "version_minor": 0
      },
      "text/plain": [
       "  0%|          | 0/356 [00:00<?, ?it/s]"
      ]
     },
     "metadata": {},
     "output_type": "display_data"
    },
    {
     "data": {
      "application/vnd.jupyter.widget-view+json": {
       "model_id": "e16bcfb5d5cf49a4a36e1dc195885e3e",
       "version_major": 2,
       "version_minor": 0
      },
      "text/plain": [
       "  0%|          | 0/282 [00:00<?, ?it/s]"
      ]
     },
     "metadata": {},
     "output_type": "display_data"
    },
    {
     "name": "stdout",
     "output_type": "stream",
     "text": [
      "Epoch <1>\n",
      "train_loss: 1.3789446611752672 - train_roc_auc: 0.5810771933665646\n",
      "test_loss: 1.2580251676816467 - test_roc_auc: 0.601430214648815\n",
      "\n"
     ]
    },
    {
     "data": {
      "application/vnd.jupyter.widget-view+json": {
       "model_id": "febf6290db264107a3552158b605eed2",
       "version_major": 2,
       "version_minor": 0
      },
      "text/plain": [
       "  0%|          | 0/356 [00:00<?, ?it/s]"
      ]
     },
     "metadata": {},
     "output_type": "display_data"
    },
    {
     "data": {
      "application/vnd.jupyter.widget-view+json": {
       "model_id": "cfd0382316b441919f2c6c5b65095023",
       "version_major": 2,
       "version_minor": 0
      },
      "text/plain": [
       "  0%|          | 0/282 [00:00<?, ?it/s]"
      ]
     },
     "metadata": {},
     "output_type": "display_data"
    },
    {
     "name": "stdout",
     "output_type": "stream",
     "text": [
      "Epoch <2>\n",
      "train_loss: 1.1174290836527105 - train_roc_auc: 0.6261641845387381\n",
      "test_loss: 1.0353109039736133 - test_roc_auc: 0.6466166950058848\n",
      "\n"
     ]
    },
    {
     "data": {
      "application/vnd.jupyter.widget-view+json": {
       "model_id": "6330bd2aa26c4576aeeb0450bdea9b7b",
       "version_major": 2,
       "version_minor": 0
      },
      "text/plain": [
       "  0%|          | 0/356 [00:00<?, ?it/s]"
      ]
     },
     "metadata": {},
     "output_type": "display_data"
    },
    {
     "data": {
      "application/vnd.jupyter.widget-view+json": {
       "model_id": "3871575e03f84dcdbbb55be8dd3d41da",
       "version_major": 2,
       "version_minor": 0
      },
      "text/plain": [
       "  0%|          | 0/282 [00:00<?, ?it/s]"
      ]
     },
     "metadata": {},
     "output_type": "display_data"
    },
    {
     "name": "stdout",
     "output_type": "stream",
     "text": [
      "Epoch <3>\n",
      "train_loss: 0.9309341026825851 - train_roc_auc: 0.6700285990710603\n",
      "test_loss: 0.8792063659387277 - test_roc_auc: 0.6870114052747195\n",
      "\n"
     ]
    },
    {
     "data": {
      "application/vnd.jupyter.widget-view+json": {
       "model_id": "1d65eb1e6f5849d7b9bf3e3420263f4a",
       "version_major": 2,
       "version_minor": 0
      },
      "text/plain": [
       "  0%|          | 0/356 [00:00<?, ?it/s]"
      ]
     },
     "metadata": {},
     "output_type": "display_data"
    },
    {
     "data": {
      "application/vnd.jupyter.widget-view+json": {
       "model_id": "3a4be7f4d45349d298b3754991bac0ce",
       "version_major": 2,
       "version_minor": 0
      },
      "text/plain": [
       "  0%|          | 0/282 [00:00<?, ?it/s]"
      ]
     },
     "metadata": {},
     "output_type": "display_data"
    },
    {
     "name": "stdout",
     "output_type": "stream",
     "text": [
      "Epoch <4>\n",
      "train_loss: 0.7936314496766316 - train_roc_auc: 0.709599626092895\n",
      "test_loss: 0.7644487238944845 - test_roc_auc: 0.7215143107329388\n",
      "\n"
     ]
    },
    {
     "data": {
      "application/vnd.jupyter.widget-view+json": {
       "model_id": "59c21ec2c38f4d8296ba8a6f6c36fbfc",
       "version_major": 2,
       "version_minor": 0
      },
      "text/plain": [
       "  0%|          | 0/356 [00:00<?, ?it/s]"
      ]
     },
     "metadata": {},
     "output_type": "display_data"
    },
    {
     "data": {
      "application/vnd.jupyter.widget-view+json": {
       "model_id": "ca6bec5744ff45e5b8db6a3cbb2e7104",
       "version_major": 2,
       "version_minor": 0
      },
      "text/plain": [
       "  0%|          | 0/282 [00:00<?, ?it/s]"
      ]
     },
     "metadata": {},
     "output_type": "display_data"
    },
    {
     "name": "stdout",
     "output_type": "stream",
     "text": [
      "Epoch <5>\n",
      "train_loss: 0.6948664760991429 - train_roc_auc: 0.7423466259655724\n",
      "test_loss: 0.677873303070136 - test_roc_auc: 0.7516070281612005\n",
      "\n"
     ]
    },
    {
     "data": {
      "application/vnd.jupyter.widget-view+json": {
       "model_id": "814c5c8ebc6a47cf97ab3d0dbe3ef72c",
       "version_major": 2,
       "version_minor": 0
      },
      "text/plain": [
       "  0%|          | 0/356 [00:00<?, ?it/s]"
      ]
     },
     "metadata": {},
     "output_type": "display_data"
    },
    {
     "data": {
      "application/vnd.jupyter.widget-view+json": {
       "model_id": "ac7be2bcdda1480c95880d7f5f04dd1e",
       "version_major": 2,
       "version_minor": 0
      },
      "text/plain": [
       "  0%|          | 0/282 [00:00<?, ?it/s]"
      ]
     },
     "metadata": {},
     "output_type": "display_data"
    },
    {
     "name": "stdout",
     "output_type": "stream",
     "text": [
      "Epoch <6>\n",
      "train_loss: 0.6216177644019716 - train_roc_auc: 0.7699526596413224\n",
      "test_loss: 0.6179547153466137 - test_roc_auc: 0.7736429890320639\n",
      "\n"
     ]
    },
    {
     "data": {
      "application/vnd.jupyter.widget-view+json": {
       "model_id": "13e634ddb6c4461f84ba2bbe48079b91",
       "version_major": 2,
       "version_minor": 0
      },
      "text/plain": [
       "  0%|          | 0/356 [00:00<?, ?it/s]"
      ]
     },
     "metadata": {},
     "output_type": "display_data"
    },
    {
     "data": {
      "application/vnd.jupyter.widget-view+json": {
       "model_id": "510f2a0b1ea84f049228400e7335629b",
       "version_major": 2,
       "version_minor": 0
      },
      "text/plain": [
       "  0%|          | 0/282 [00:00<?, ?it/s]"
      ]
     },
     "metadata": {},
     "output_type": "display_data"
    },
    {
     "name": "stdout",
     "output_type": "stream",
     "text": [
      "Epoch <7>\n",
      "train_loss: 0.5701959985360671 - train_roc_auc: 0.7920141243946672\n",
      "test_loss: 0.5732923644654294 - test_roc_auc: 0.7923428764328153\n",
      "\n"
     ]
    },
    {
     "data": {
      "application/vnd.jupyter.widget-view+json": {
       "model_id": "da8cda71a31b4e0a9197759f28bb3817",
       "version_major": 2,
       "version_minor": 0
      },
      "text/plain": [
       "  0%|          | 0/356 [00:00<?, ?it/s]"
      ]
     },
     "metadata": {},
     "output_type": "display_data"
    },
    {
     "data": {
      "application/vnd.jupyter.widget-view+json": {
       "model_id": "e38f0ec3b7074fcf89912f3352208a6b",
       "version_major": 2,
       "version_minor": 0
      },
      "text/plain": [
       "  0%|          | 0/282 [00:00<?, ?it/s]"
      ]
     },
     "metadata": {},
     "output_type": "display_data"
    },
    {
     "name": "stdout",
     "output_type": "stream",
     "text": [
      "Epoch <8>\n",
      "train_loss: 0.5323665001419153 - train_roc_auc: 0.809674580325052\n",
      "test_loss: 0.5411522081980469 - test_roc_auc: 0.8070395936621044\n",
      "\n"
     ]
    },
    {
     "data": {
      "application/vnd.jupyter.widget-view+json": {
       "model_id": "1d253074e36446a5a2e6d323e330fb4c",
       "version_major": 2,
       "version_minor": 0
      },
      "text/plain": [
       "  0%|          | 0/356 [00:00<?, ?it/s]"
      ]
     },
     "metadata": {},
     "output_type": "display_data"
    },
    {
     "data": {
      "application/vnd.jupyter.widget-view+json": {
       "model_id": "09070179bab74a9da90eb07a13ae128f",
       "version_major": 2,
       "version_minor": 0
      },
      "text/plain": [
       "  0%|          | 0/282 [00:00<?, ?it/s]"
      ]
     },
     "metadata": {},
     "output_type": "display_data"
    },
    {
     "name": "stdout",
     "output_type": "stream",
     "text": [
      "Epoch <9>\n",
      "train_loss: 0.50560608054145 - train_roc_auc: 0.8234293548416841\n",
      "test_loss: 0.5175669661439057 - test_roc_auc: 0.8187377501299165\n",
      "\n"
     ]
    },
    {
     "data": {
      "application/vnd.jupyter.widget-view+json": {
       "model_id": "5efc65ab3d5b47a682ce02e0ce025f8d",
       "version_major": 2,
       "version_minor": 0
      },
      "text/plain": [
       "  0%|          | 0/356 [00:00<?, ?it/s]"
      ]
     },
     "metadata": {},
     "output_type": "display_data"
    },
    {
     "data": {
      "application/vnd.jupyter.widget-view+json": {
       "model_id": "371c6c066cf84e4e85d17641e86045a0",
       "version_major": 2,
       "version_minor": 0
      },
      "text/plain": [
       "  0%|          | 0/282 [00:00<?, ?it/s]"
      ]
     },
     "metadata": {},
     "output_type": "display_data"
    },
    {
     "name": "stdout",
     "output_type": "stream",
     "text": [
      "Epoch <10>\n",
      "train_loss: 0.4855605529600315 - train_roc_auc: 0.8345403916651275\n",
      "test_loss: 0.5011881678662402 - test_roc_auc: 0.8275190556584802\n",
      "\n"
     ]
    },
    {
     "data": {
      "application/vnd.jupyter.widget-view+json": {
       "model_id": "506d1ee9e1094a76a745f4cef878163e",
       "version_major": 2,
       "version_minor": 0
      },
      "text/plain": [
       "  0%|          | 0/356 [00:00<?, ?it/s]"
      ]
     },
     "metadata": {},
     "output_type": "display_data"
    },
    {
     "name": "stderr",
     "output_type": "stream",
     "text": [
      "\n",
      "KeyboardInterrupt\n",
      "\n"
     ]
    }
   ],
   "source": [
    "for epoch in tqdm(range(20)):\n",
    "    train_loss, train_roc_auc = train_epoch(\n",
    "        model=model,\n",
    "        criterion=criterion,\n",
    "        optimizer=optimizer,\n",
    "        train_loader=train_loader,\n",
    "        device=device\n",
    "    )\n",
    "    test_loss, test_roc_auc = test(\n",
    "        model=model,\n",
    "        criterion=criterion,\n",
    "        val_loader=valid_loader,\n",
    "        device=device\n",
    "    )\n",
    "    print(f\"\"\"Epoch <{epoch}>\\ntrain_loss: {train_loss} - train_roc_auc: {train_roc_auc}\n",
    "test_loss: {test_loss} - test_roc_auc: {test_roc_auc}\\n\"\"\")"
   ]
  },
  {
   "cell_type": "code",
   "execution_count": null,
   "id": "802aa50e-5b01-4bf7-aafd-e1f46c6a4710",
   "metadata": {},
   "outputs": [],
   "source": []
  },
  {
   "cell_type": "code",
   "execution_count": null,
   "id": "f41cc168-e426-485e-bb78-582a9bb4039d",
   "metadata": {},
   "outputs": [],
   "source": [
    "n_entites"
   ]
  },
  {
   "cell_type": "code",
   "execution_count": null,
   "id": "37961c77-9c7b-402d-9d89-850d5354b8a5",
   "metadata": {},
   "outputs": [],
   "source": [
    "df_ripple_set2"
   ]
  },
  {
   "cell_type": "code",
   "execution_count": null,
   "id": "a6282c88-29f7-4c11-8322-88999660cfbb",
   "metadata": {
    "jupyter": {
     "source_hidden": true
    }
   },
   "outputs": [],
   "source": [
    "# knowledge_graph = {}\n",
    "# for name, relation in RELATIONS.items():\n",
    "#     idx = df_merged[['app_id', name]].explode(name).dropna()\n",
    "#     idx[name] = idx[name].map(entity_maps[RELATIONS[name]])\n",
    "#     idx = idx.values.astype(int)\n",
    "#     knowledge_graph[relation] = np.zeros((n_items, (len(sorted(df_merged[name].explode().dropna().unique())))))\n",
    "#     knowledge_graph[relation][idx[:, 0], idx[:, 1]] = 1"
   ]
  },
  {
   "cell_type": "code",
   "execution_count": null,
   "id": "3bdc0893-39a1-47aa-8b14-e1cb5f2b120d",
   "metadata": {
    "jupyter": {
     "source_hidden": true
    }
   },
   "outputs": [],
   "source": [
    "#train_set_1m = train_set[:(train_set.user_id == int(1e6)).values.nonzero()[0][0]]"
   ]
  },
  {
   "cell_type": "code",
   "execution_count": null,
   "id": "4363d9ca-d250-44e1-ade3-fab741f75422",
   "metadata": {
    "jupyter": {
     "source_hidden": true
    }
   },
   "outputs": [],
   "source": [
    "# F.softmax((torch.rand(25, 73, 16) @ torch.rand(25, 16, 1)).squeeze(-1), dim=1).shape\n",
    "\n",
    "# (torch.rand(25, 10, 16, 16) @ torch.rand(25, 10, 16, 1)).shape\n",
    "\n",
    "# torch.tensor([[[0.1, 0.1, 0.1], [0.1, 0.1, 0.1], [0.1, 0.1, 0.1]], [[0.1, 0.1, 0.1], [0.1, 0.1, 0.1], [0.1, 0.1, 0.1]]]).shape\n",
    "\n",
    "# torch.tensor([[1,1,1], [2,2,2]]).unsqueeze(-1).shape\n",
    "\n",
    "# (torch.tensor([[1,1,1], [2,2,2]]).unsqueeze(-1) * torch.tensor([[[0.1, 0.1, 0.1], [0.1, 0.1, 0.1], [0.1, 0.1, 0.1]], [[0.1, 0.1, 0.1], [0.1, 0.1, 0.1], [0.1, 0.1, 0.1]]]))\n",
    "\n",
    "# torch.sum((torch.rand(25, 73, 1) * torch.rand(25, 73, 16)), axis=1).shape"
   ]
  },
  {
   "cell_type": "code",
   "execution_count": null,
   "id": "1fac5fe7-bf1d-4aef-8f4a-f5a746e4eef2",
   "metadata": {
    "jupyter": {
     "source_hidden": true
    }
   },
   "outputs": [],
   "source": [
    "# ripple_set1_dict = {\"head\":[], \"relation\": [], \"tail\": []}\n",
    "# ripple_index = [[], []]\n",
    "# for u in tqdm(range(0, 1000000)):\n",
    "#     apps = train_set[train_set.user_id == u].app_id.values\n",
    "#     user_apps = df_merged[df_merged.app_id.isin(apps)]\n",
    "#     heads_u, relations_u, tails_u = [], [], []\n",
    "#     for key, rel in RELATIONS.items():\n",
    "#         user_apps_relation = user_apps[['app_id', key]].dropna()['app_id'].values.astype(int)\n",
    "#         if not len(user_apps_relation):\n",
    "#             continue\n",
    "#         tails = [i.nonzero()[0] for i in knowledge_graph[RELATIONS[key]][user_apps_relation]]\n",
    "#         offsets = [len(i) for i in tails]\n",
    "        \n",
    "#         heads = list(np.repeat(user_apps_relation, offsets))\n",
    "#         relations = [rel] * len(heads)\n",
    "#         tails = list(np.concatenate(tails))\n",
    "\n",
    "#         heads_u.extend(heads)\n",
    "#         relations_u.extend(relations)\n",
    "#         tails_u.extend(tails)\n",
    "\n",
    "#     ripple_index[0].extend(np.repeat(u, len(heads_u)))\n",
    "#     ripple_index[1].extend(np.arange(len(heads_u)))\n",
    "\n",
    "#     ripple_set1_dict['head'].extend(heads_u)\n",
    "#     ripple_set1_dict['relation'].extend(relations_u)\n",
    "#     ripple_set1_dict['tail'].extend(tails_u)\n",
    "    \n",
    "# df_ripple_set1 = pd.DataFrame(ripple_set1_dict, index=ripple_index)\n",
    "# df_ripple_set1.index = df_ripple_set1.index.set_names(['user_id', 'id'])"
   ]
  }
 ],
 "metadata": {
  "kernelspec": {
   "display_name": "Python 3 (ipykernel)",
   "language": "python",
   "name": "python3"
  },
  "language_info": {
   "codemirror_mode": {
    "name": "ipython",
    "version": 3
   },
   "file_extension": ".py",
   "mimetype": "text/x-python",
   "name": "python",
   "nbconvert_exporter": "python",
   "pygments_lexer": "ipython3",
   "version": "3.10.9"
  }
 },
 "nbformat": 4,
 "nbformat_minor": 5
}
