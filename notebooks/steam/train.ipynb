{
 "cells": [
  {
   "cell_type": "code",
   "execution_count": null,
   "id": "77a88688-5214-4ead-a060-4df9633efd89",
   "metadata": {
    "tags": []
   },
   "outputs": [],
   "source": [
    "%load_ext autoreload\n",
    "%autoreload 2\n",
    "\n",
    "import os\n",
    "os.chdir(\"../../\")\n",
    "print(os.getcwd())"
   ]
  },
  {
   "cell_type": "code",
   "execution_count": null,
   "id": "c10cb107-3281-40c0-9037-fed34a026384",
   "metadata": {},
   "outputs": [],
   "source": [
    "import argparse\n",
    "import pickle\n",
    "import os\n",
    "from tqdm.notebook import tqdm\n",
    "from datetime import datetime\n",
    "from itertools import cycle\n",
    "\n",
    "import numpy as np\n",
    "import pandas as pd\n",
    "from sklearn.metrics import roc_auc_score\n",
    "import torch\n",
    "from torch import nn\n",
    "from torch.utils.data import Dataset, DataLoader\n",
    "from torch.utils.tensorboard import SummaryWriter\n",
    "\n",
    "from dataset.deep import DeepDatasetIterable, FeaturelessDatasetIterable, collate_fn\n",
    "from features.store import FeatureStore\n",
    "from models import DeepFM\n",
    "from utils import write_scalars"
   ]
  },
  {
   "cell_type": "code",
   "execution_count": null,
   "id": "89ac413b-b843-41c5-b314-0467a2b3c91a",
   "metadata": {},
   "outputs": [],
   "source": [
    "from utils import load_model"
   ]
  },
  {
   "cell_type": "code",
   "execution_count": null,
   "id": "ef510a46-d253-442d-9323-48ff45e70b56",
   "metadata": {},
   "outputs": [],
   "source": [
    "torch.set_printoptions(precision=3, sci_mode=False)"
   ]
  },
  {
   "cell_type": "code",
   "execution_count": null,
   "id": "c986d308-7b70-4513-bbbc-d43042935c3d",
   "metadata": {},
   "outputs": [],
   "source": [
    "def train_epoch(model, criterion, optimizer, train_loader, device):\n",
    "    model.train()\n",
    "\n",
    "    running_loss = 0.\n",
    "    preds, ground_truths = [], []\n",
    "    for i_batch, (batch, y_true) in enumerate(tqdm(train_loader)):\n",
    "        batch, y_true = batch.to(device), y_true.to(device)\n",
    "\n",
    "        y_pred = model(batch)\n",
    "        loss = criterion(y_pred, y_true)\n",
    "        optimizer.zero_grad()\n",
    "        loss.backward()\n",
    "        optimizer.step()\n",
    "\n",
    "        preds.append(y_pred)\n",
    "        ground_truths.append(y_true)\n",
    "        running_loss += loss.item()\n",
    "\n",
    "    pred = torch.cat(preds, dim=0).detach().sigmoid().cpu().numpy()\n",
    "    ground_truth = torch.cat(ground_truths, dim=0).detach().cpu().numpy()\n",
    "    train_loss = running_loss / len(train_loader)\n",
    "    train_roc_auc = roc_auc_score(ground_truth, pred)\n",
    "\n",
    "    return train_loss, train_roc_auc\n",
    "\n",
    "@torch.no_grad()\n",
    "def test(model, criterion, val_loader, device):\n",
    "    model.eval()\n",
    "\n",
    "    running_loss = 0.\n",
    "    preds, ground_truths = [], []\n",
    "\n",
    "    for i_batch, (batch, y_true) in enumerate(val_loader):\n",
    "        batch, y_true = batch.to(device), y_true.to(device)\n",
    "\n",
    "        y_pred = model(batch)\n",
    "        loss = criterion(y_pred, y_true)\n",
    "\n",
    "        preds.append(y_pred)\n",
    "        ground_truths.append(y_true)\n",
    "        running_loss += loss.item()\n",
    "\n",
    "    pred = torch.cat(preds, dim=0).sigmoid().cpu().numpy()\n",
    "    ground_truth = torch.cat(ground_truths, dim=0).cpu().numpy()\n",
    "\n",
    "    test_loss = running_loss / len(val_loader)\n",
    "    test_roc_auc = roc_auc_score(ground_truth, pred)\n",
    "\n",
    "    return test_loss, test_roc_auc"
   ]
  },
  {
   "cell_type": "code",
   "execution_count": null,
   "id": "c35547e7-3605-4934-9eb4-9df775226044",
   "metadata": {},
   "outputs": [],
   "source": [
    "dir_art = 'data/steam'\n",
    "device = 'cuda' if torch.cuda.is_available() else 'cpu'\n",
    "n_epochs = 50"
   ]
  },
  {
   "cell_type": "code",
   "execution_count": null,
   "id": "32a4a9e2-11c4-408b-a9ad-eb2354045129",
   "metadata": {},
   "outputs": [],
   "source": [
    "with open(os.path.join(dir_art, 'data.pkl'), \"rb\") as f:\n",
    "    data = pd.read_pickle(f)\n",
    "\n",
    "train_set = data['relations_datastore'].dataframe.train.values\n",
    "supervision_set = data['relations_datastore'].dataframe.supervision.values\n",
    "valid_set = data['relations_datastore'].dataframe.valid.values\n",
    "item_attr = data['items_datastore'].dataframe.df\n",
    "user_attr = data['users_datastore'].dataframe.df\n",
    "scheme_relations = data['relations_datastore'].scheme\n",
    "scheme_items = data['items_datastore'].scheme\n",
    "scheme_users = data['users_datastore'].scheme\n",
    "\n",
    "train_set = np.concatenate((train_set, supervision_set), axis=0)\n",
    "n_users, n_items = user_attr.shape[0], item_attr.shape[0]"
   ]
  },
  {
   "cell_type": "code",
   "execution_count": null,
   "id": "bf701869-5e7b-41e4-b87e-5aeac2ba5a78",
   "metadata": {},
   "outputs": [],
   "source": [
    "feature_store = FeatureStore(scheme_relations, scheme_items, scheme_users, emb_dims={\"sparse\": 16, \"varlen\": 16})"
   ]
  },
  {
   "cell_type": "code",
   "execution_count": null,
   "id": "0d960e56-54ee-4f9b-b2f5-4974348f8220",
   "metadata": {},
   "outputs": [],
   "source": [
    "model = load_model(cls=DeepFM, model_path=\"runs/DeepFM/2023-11-16_20-30-00/model.pth\", model_kwargs = {\n",
    "            \"feature_store\": feature_store,\n",
    "            \"hidden_dim\": [128, 64, 16],\n",
    "            \"device\": device\n",
    "        })"
   ]
  },
  {
   "cell_type": "code",
   "execution_count": null,
   "id": "a34a3366-0dae-44e0-a63e-f8fbd65be91f",
   "metadata": {},
   "outputs": [],
   "source": [
    "model.V.embeddings['user_id'](torch.tensor(1))"
   ]
  },
  {
   "cell_type": "code",
   "execution_count": null,
   "id": "11d1fcd0-6362-4f8f-98da-67d81acb7dd4",
   "metadata": {},
   "outputs": [],
   "source": []
  },
  {
   "cell_type": "code",
   "execution_count": null,
   "id": "2e85beb2-dc01-432a-8ce7-b2ccf811514c",
   "metadata": {},
   "outputs": [],
   "source": [
    "torch.tensor([0],[0]"
   ]
  },
  {
   "cell_type": "code",
   "execution_count": null,
   "id": "e35c58a4-7880-432a-9570-1576a246a4f8",
   "metadata": {},
   "outputs": [],
   "source": [
    "import torch\n",
    "from torch import nn\n",
    "\n",
    "from layers import EmbeddingNet\n",
    "\n",
    "\n",
    "class MF(nn.Module):\n",
    "    def __init__(self, feature_store, device):\n",
    "        super(MF, self).__init__()\n",
    "        self.feature_store = feature_store\n",
    "        self.device = device\n",
    "\n",
    "        self.V = EmbeddingNet(feature_store, device=device)\n",
    "        self.emb_dim = self.V.embeddings['user_id'].weight.shape[1]\n",
    "\n",
    "    def forward(self, x):\n",
    "        x = self.V(x).to(torch.float)\n",
    "        x = torch.sum(x[:, :self.emb_dim] * x[:, self.emb_dim:], axis=1).unsqueeze(1)\n",
    "        return x"
   ]
  },
  {
   "cell_type": "code",
   "execution_count": null,
   "id": "f98325a9-d0f2-4022-ac5d-750e201d03cf",
   "metadata": {},
   "outputs": [],
   "source": [
    "train_dataset = FeaturelessDatasetIterable(train_set, n_users, n_items, user_batch_size=int(1e4), neg_sampl=2)\n",
    "val_dataset = FeaturelessDatasetIterable(valid_set, n_users, n_items, user_batch_size=int(1e4), neg_sampl=2)\n",
    "model = MF(feature_store, device=device).to(device)\n",
    "\n",
    "train_loader = DataLoader(train_dataset, shuffle=True, batch_size=1, collate_fn=collate_fn, drop_last=False)\n",
    "val_loader = DataLoader(val_dataset, shuffle=False, batch_size=1, collate_fn=collate_fn, drop_last=False)\n",
    "\n",
    "criterion = nn.BCEWithLogitsLoss()\n",
    "optimizer = torch.optim.RMSprop(params=model.parameters(), lr=1e-4, momentum=0.9)"
   ]
  },
  {
   "cell_type": "code",
   "execution_count": null,
   "id": "1fbef373-c883-40b7-a7f5-352fb157d05b",
   "metadata": {
    "scrolled": true
   },
   "outputs": [],
   "source": [
    "print(f\"> Training model[{model.__class__.__name__}] on device[{device}] begins...\")\n",
    "for epoch in tqdm(range(n_epochs)):\n",
    "    train_loss, train_roc_auc = train_epoch(\n",
    "        model=model,\n",
    "        criterion=criterion,\n",
    "        optimizer=optimizer,\n",
    "        train_loader=train_loader,\n",
    "        device=device\n",
    "    )\n",
    "    test_loss, test_roc_auc = test(\n",
    "        model=model,\n",
    "        criterion=criterion,\n",
    "        val_loader=val_loader,\n",
    "        device=device\n",
    "    )\n",
    "    print(f\"\"\"Epoch <{epoch}>\\ntrain_loss: {train_loss} - train_roc_auc: {train_roc_auc}\n",
    "test_loss: {test_loss} - test_roc_auc: {test_roc_auc}\\n\"\"\")"
   ]
  },
  {
   "cell_type": "code",
   "execution_count": null,
   "id": "16bc5af4-d345-4b52-91cd-92af6f05d8b4",
   "metadata": {},
   "outputs": [],
   "source": [
    "torch.save(model.state_dict(), f\"runs/MF/2023-11-16_22-00-00/model.pth\")"
   ]
  },
  {
   "cell_type": "code",
   "execution_count": null,
   "id": "26711646-ccb5-4e44-96cc-a1690ec96be1",
   "metadata": {},
   "outputs": [],
   "source": []
  }
 ],
 "metadata": {
  "kernelspec": {
   "display_name": "Python 3 (ipykernel)",
   "language": "python",
   "name": "python3"
  },
  "language_info": {
   "codemirror_mode": {
    "name": "ipython",
    "version": 3
   },
   "file_extension": ".py",
   "mimetype": "text/x-python",
   "name": "python",
   "nbconvert_exporter": "python",
   "pygments_lexer": "ipython3",
   "version": "3.10.9"
  }
 },
 "nbformat": 4,
 "nbformat_minor": 5
}