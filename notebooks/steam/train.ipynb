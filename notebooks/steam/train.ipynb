{
 "cells": [
  {
   "cell_type": "code",
   "execution_count": 1,
   "id": "77a88688-5214-4ead-a060-4df9633efd89",
   "metadata": {
    "tags": []
   },
   "outputs": [
    {
     "name": "stdout",
     "output_type": "stream",
     "text": [
      "C:\\Users\\Milosz\\thesis-recsys\n"
     ]
    }
   ],
   "source": [
    "%load_ext autoreload\n",
    "%autoreload 2\n",
    "\n",
    "import os\n",
    "os.chdir(\"../../\")\n",
    "print(os.getcwd())"
   ]
  },
  {
   "cell_type": "code",
   "execution_count": 2,
   "id": "b41f0f27-4278-4c12-845c-2655b9edcad1",
   "metadata": {
    "tags": []
   },
   "outputs": [
    {
     "data": {
      "text/plain": [
       "<torch._C.Generator at 0x1721e2777d0>"
      ]
     },
     "execution_count": 2,
     "metadata": {},
     "output_type": "execute_result"
    }
   ],
   "source": [
    "import pandas as pd\n",
    "import numpy as np\n",
    "import functools\n",
    "import operator\n",
    "import json\n",
    "import matplotlib.pyplot as plt\n",
    "from tqdm import tqdm\n",
    "from collections import namedtuple\n",
    "import pickle\n",
    "\n",
    "import torch\n",
    "import torch.nn.functional as F\n",
    "from torch import nn\n",
    "from torch.utils.data import Dataset, DataLoader\n",
    "from torch.nn.utils.rnn import pad_sequence\n",
    "from torch.nn.functional import pad\n",
    "from torch.utils.tensorboard import SummaryWriter\n",
    "\n",
    "from sklearn.metrics import roc_auc_score\n",
    "from sklearn.preprocessing import StandardScaler\n",
    "\n",
    "from models import NCF, DeepFM\n",
    "from features.store import FeatureStore\n",
    "from dataset.deep import DeepFMDataset, collate_fn_eval\n",
    "from scripts.eval import load_model\n",
    "\n",
    "torch.set_printoptions(precision=2, sci_mode=False)\n",
    "torch.manual_seed(0)"
   ]
  },
  {
   "cell_type": "code",
   "execution_count": 3,
   "id": "3ec6ccb1-bebd-4890-adb6-64417a22ed65",
   "metadata": {
    "scrolled": true,
    "tags": []
   },
   "outputs": [
    {
     "name": "stdout",
     "output_type": "stream",
     "text": [
      "cuda\n"
     ]
    }
   ],
   "source": [
    "device = 'cuda' if torch.cuda.is_available() else 'cpu'\n",
    "print(device)"
   ]
  },
  {
   "cell_type": "code",
   "execution_count": 4,
   "id": "cf768f90-117a-419a-a451-68c0f3a52bbc",
   "metadata": {},
   "outputs": [],
   "source": [
    "dir_art = \"data/steam\"\n",
    "\n",
    "with open(os.path.join(dir_art, 'data.pkl'), \"rb\") as f:\n",
    "    data = pd.read_pickle(f)\n",
    "\n",
    "with open(os.path.join(dir_art, 'matrix.pkl'), \"rb\") as f:\n",
    "    matrix = pd.read_pickle(f)\n",
    "\n",
    "item_attr = data['items_datastore'].dataframe.df\n",
    "user_attr = data['users_datastore'].dataframe.df\n",
    "scheme_relations = data['relations_datastore'].scheme\n",
    "scheme_items = data['items_datastore'].scheme\n",
    "scheme_users = data['users_datastore'].scheme\n",
    "\n",
    "train_csr = matrix['train_csr']\n",
    "valid_csr = matrix['valid_csr']"
   ]
  },
  {
   "cell_type": "code",
   "execution_count": 5,
   "id": "200e443d-b97b-45e8-9655-c2e86c95e1c7",
   "metadata": {},
   "outputs": [],
   "source": [
    "feature_store = FeatureStore(scheme_relations, scheme_items, scheme_users, emb_dims={\"sparse\": 4, \"varlen\": 4})"
   ]
  },
  {
   "cell_type": "code",
   "execution_count": 7,
   "id": "e2b51a3b-c3d8-46ef-8d91-2656251f5ca1",
   "metadata": {
    "tags": []
   },
   "outputs": [],
   "source": [
    "model_path = \"runs/DeepFM/2023-11-11_17-00-00/model.pth\"\n",
    "model = load_model(\n",
    "    model_path=model_path,\n",
    "    model_kwargs={\n",
    "        \"feature_store\": feature_store,\n",
    "        \"hidden_dim\": [128, 64]\n",
    "    },\n",
    "    device=device\n",
    ")\n",
    "criterion = nn.BCEWithLogitsLoss()\n",
    "optimizer = torch.optim.RMSprop(params=model.parameters(), lr=1e-4, momentum=0.9)"
   ]
  },
  {
   "cell_type": "code",
   "execution_count": 8,
   "id": "7b89a8ba-80fd-4610-9aef-95bdd8e1b56e",
   "metadata": {},
   "outputs": [],
   "source": [
    "relevance_mask = np.asarray((valid_csr.sum(axis=1) != 0)).ravel()"
   ]
  },
  {
   "cell_type": "code",
   "execution_count": 9,
   "id": "696e4768-9d1e-40fd-a5d5-6fe04805587a",
   "metadata": {},
   "outputs": [
    {
     "data": {
      "text/plain": [
       "(289163,)"
      ]
     },
     "execution_count": 9,
     "metadata": {},
     "output_type": "execute_result"
    }
   ],
   "source": [
    "relevance_mask.nonzero()[0].shape"
   ]
  },
  {
   "cell_type": "code",
   "execution_count": 10,
   "id": "c285b447-0129-465e-b9b5-0204a8e10949",
   "metadata": {},
   "outputs": [],
   "source": [
    "user_idx = np.repeat(relevance_mask.nonzero()[0], 1231)\n",
    "item_idx = torch.arange(1231).repeat(289163, 1).flatten().numpy()"
   ]
  },
  {
   "cell_type": "code",
   "execution_count": 13,
   "id": "899447e9-fae5-4ef9-ac9f-734d538ff7a7",
   "metadata": {},
   "outputs": [],
   "source": [
    "eval_edge_index = np.stack([user_idx, item_idx], axis=1)"
   ]
  },
  {
   "cell_type": "code",
   "execution_count": 14,
   "id": "977e86b1-bce4-4a49-8c54-53526971e736",
   "metadata": {},
   "outputs": [
    {
     "name": "stderr",
     "output_type": "stream",
     "text": [
      "C:\\Users\\Milosz\\thesis-recsys\\src\\features\\features.py:20: UserWarning: Creating a tensor from a list of numpy.ndarrays is extremely slow. Please consider converting the list to a single numpy.ndarray with numpy.array() before converting to a tensor. (Triggered internally at ..\\torch\\csrc\\utils\\tensor_new.cpp:248.)\n",
      "  return torch.tensor([x.iloc[self.pad_index[0]:self.pad_index[1]].values])\n"
     ]
    }
   ],
   "source": [
    "eval_dataset = DeepFMDataset(feature_store, eval_edge_index, user_attr, item_attr, neg_sampl=0)\n",
    "eval_loader = DataLoader(eval_dataset, shuffle=False, batch_size=1231, collate_fn=collate_fn_eval, drop_last=False)"
   ]
  },
  {
   "cell_type": "code",
   "execution_count": 33,
   "id": "6e832332-4e02-4f7f-b361-481ecda3264a",
   "metadata": {},
   "outputs": [],
   "source": [
    "@torch.no_grad()\n",
    "def recommend_k_deep(model, dataloader, k=10):\n",
    "    model.eval()\n",
    "    preds = []\n",
    "    for batch in tqdm(dataloader):\n",
    "        batch = batch.to(device)\n",
    "        y_pred = model(batch)\n",
    "        preds.append(y_pred)\n",
    "    pred = torch.cat(preds, dim=0).sigmoid().cpu().numpy()\n",
    "\n",
    "    return pred"
   ]
  },
  {
   "cell_type": "code",
   "execution_count": 34,
   "id": "6fa4fb11-f2a9-4a4a-b3f7-090db0555af4",
   "metadata": {},
   "outputs": [
    {
     "name": "stderr",
     "output_type": "stream",
     "text": [
      "  0%|                                                                                                                                                                                                                             | 82/289163 [00:14<13:57:53,  5.75it/s]\n",
      "\n",
      "KeyboardInterrupt\n",
      "\n"
     ]
    }
   ],
   "source": [
    "prob = recommend_k_deep(model, eval_loader)"
   ]
  },
  {
   "cell_type": "code",
   "execution_count": 32,
   "id": "4efcb5e8-8ff0-45c7-aef9-9bca1918e2f9",
   "metadata": {},
   "outputs": [
    {
     "data": {
      "text/plain": [
       "array([[8.85459721e-01, 1.16887107e-01, 1.44646898e-01, ...,\n",
       "        9.99862514e-03, 1.66352867e-04, 1.00000000e+00],\n",
       "       [8.46526504e-01, 1.15282051e-01, 1.03380837e-01, ...,\n",
       "        2.31476966e-02, 2.48803030e-04, 8.98127019e-01],\n",
       "       [8.48828077e-01, 9.29745659e-02, 1.08394414e-01, ...,\n",
       "        1.93886645e-02, 2.97176302e-04, 1.00000000e+00]], dtype=float32)"
      ]
     },
     "execution_count": 32,
     "metadata": {},
     "output_type": "execute_result"
    }
   ],
   "source": [
    "prob.reshape((3, -1))"
   ]
  },
  {
   "cell_type": "code",
   "execution_count": null,
   "id": "0e51eec6-160e-429d-872c-f05a93e71389",
   "metadata": {
    "tags": []
   },
   "outputs": [],
   "source": [
    "# for user_batch in tqdm(user_batches):\n",
    "#     X = torch.cat([user_batch.repeat(1231, 1).t().reshape(-1, 1), item_tensor], dim=1)\n",
    "#     prob = evaluate(model, X)\n",
    "#     prob = prob.view(1000, -1)\n",
    "#     prob = remove_past_interactions(prob, user_batch)\n",
    "#     recommended_batches.append(prob.topk(10, 1)[1])\n",
    "    \n",
    "# recommendations = torch.cat(recommended_batches, 0)"
   ]
  },
  {
   "cell_type": "code",
   "execution_count": null,
   "id": "ec82d00f-a49b-416c-9644-ae9cb9170328",
   "metadata": {},
   "outputs": [],
   "source": []
  },
  {
   "cell_type": "code",
   "execution_count": null,
   "id": "ede86748-35de-4d84-a8ba-f85d868184ec",
   "metadata": {},
   "outputs": [],
   "source": [
    "from reco_env import RecoEnv\n",
    "from utils import import_data_for_env\n",
    "import gym"
   ]
  },
  {
   "cell_type": "code",
   "execution_count": null,
   "id": "05327d09-72eb-49c7-b89a-855d078c9bd4",
   "metadata": {
    "tags": []
   },
   "outputs": [],
   "source": [
    "env = gym.make(RecoEnv.id, **import_data_for_env())"
   ]
  },
  {
   "cell_type": "code",
   "execution_count": null,
   "id": "84e172d7-f8dc-47c9-afd4-7e41ffac982f",
   "metadata": {},
   "outputs": [],
   "source": []
  },
  {
   "cell_type": "code",
   "execution_count": null,
   "id": "af5d11e8-775d-4c6b-aa99-898b13d1c969",
   "metadata": {
    "tags": []
   },
   "outputs": [],
   "source": [
    "vc = rec.user_id.value_counts()"
   ]
  },
  {
   "cell_type": "code",
   "execution_count": null,
   "id": "83ceea8a-8ecd-45db-b28f-162cfcfe12f5",
   "metadata": {
    "tags": []
   },
   "outputs": [],
   "source": [
    "vc"
   ]
  },
  {
   "cell_type": "code",
   "execution_count": null,
   "id": "c005e4e0-c465-40ee-b22e-a4e54b14173b",
   "metadata": {
    "tags": []
   },
   "outputs": [],
   "source": [
    "vc[vc >= 3]"
   ]
  },
  {
   "cell_type": "code",
   "execution_count": null,
   "id": "945d749a-43b7-4454-bd1e-b3e543020504",
   "metadata": {
    "tags": []
   },
   "outputs": [],
   "source": [
    "plt.plot(vc)"
   ]
  },
  {
   "cell_type": "code",
   "execution_count": null,
   "id": "c10cb107-3281-40c0-9037-fed34a026384",
   "metadata": {},
   "outputs": [],
   "source": []
  }
 ],
 "metadata": {
  "kernelspec": {
   "display_name": "Python 3 (ipykernel)",
   "language": "python",
   "name": "python3"
  },
  "language_info": {
   "codemirror_mode": {
    "name": "ipython",
    "version": 3
   },
   "file_extension": ".py",
   "mimetype": "text/x-python",
   "name": "python",
   "nbconvert_exporter": "python",
   "pygments_lexer": "ipython3",
   "version": "3.10.9"
  }
 },
 "nbformat": 4,
 "nbformat_minor": 5
}
